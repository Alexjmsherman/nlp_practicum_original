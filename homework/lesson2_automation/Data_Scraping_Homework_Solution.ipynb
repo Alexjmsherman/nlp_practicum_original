{
 "cells": [
  {
   "cell_type": "markdown",
   "metadata": {},
   "source": [
    "## Data Scraping Homework Answers\n",
    "\n",
    "#### Goal: Identify and download annual reports from http://www.annualreports.com\n",
    "\n",
    "##### Author: Alex Sherman | alsherman@deloitte.com"
   ]
  },
  {
   "cell_type": "code",
   "execution_count": 14,
   "metadata": {
    "collapsed": true
   },
   "outputs": [],
   "source": [
    "import configparser\n",
    "import os\n",
    "import time\n",
    "import requests\n",
    "from bs4 import BeautifulSoup\n",
    "from IPython.core.display import display, HTML\n",
    "from urllib import robotparser"
   ]
  },
  {
   "cell_type": "markdown",
   "metadata": {},
   "source": [
    "### 0. Use configparser to get the following variables\n",
    "\n",
    "##### IMPORTANT: Make sure to update the config.ini. In the automation section, you need to add your username to the OUTPUT_DIR_PATH"
   ]
  },
  {
   "cell_type": "code",
   "execution_count": 3,
   "metadata": {},
   "outputs": [
    {
     "ename": "KeyError",
     "evalue": "'AUTOMATION'",
     "output_type": "error",
     "traceback": [
      "\u001b[0;31m---------------------------------------------------------------------------\u001b[0m",
      "\u001b[0;31mKeyError\u001b[0m                                  Traceback (most recent call last)",
      "\u001b[0;32m<ipython-input-3-a39ecdabdb01>\u001b[0m in \u001b[0;36m<module>\u001b[0;34m()\u001b[0m\n\u001b[1;32m      2\u001b[0m \u001b[0mconfig\u001b[0m\u001b[0;34m.\u001b[0m\u001b[0mread\u001b[0m\u001b[0;34m(\u001b[0m\u001b[0;34m'../../config.ini'\u001b[0m\u001b[0;34m)\u001b[0m\u001b[0;34m\u001b[0m\u001b[0m\n\u001b[1;32m      3\u001b[0m \u001b[0;34m\u001b[0m\u001b[0m\n\u001b[0;32m----> 4\u001b[0;31m \u001b[0mOUTPUT_DIR_PATH\u001b[0m\u001b[0;34m=\u001b[0m\u001b[0mconfig\u001b[0m\u001b[0;34m[\u001b[0m\u001b[0;34m'AUTOMATION'\u001b[0m\u001b[0;34m]\u001b[0m\u001b[0;34m[\u001b[0m\u001b[0;34m'OUTPUT_DIR_PATH'\u001b[0m\u001b[0;34m]\u001b[0m\u001b[0;34m\u001b[0m\u001b[0m\n\u001b[0m\u001b[1;32m      5\u001b[0m \u001b[0mBASE_URL\u001b[0m\u001b[0;34m=\u001b[0m\u001b[0mconfig\u001b[0m\u001b[0;34m[\u001b[0m\u001b[0;34m'AUTOMATION'\u001b[0m\u001b[0;34m]\u001b[0m\u001b[0;34m[\u001b[0m\u001b[0;34m'BASE_URL'\u001b[0m\u001b[0;34m]\u001b[0m\u001b[0;34m\u001b[0m\u001b[0m\n\u001b[1;32m      6\u001b[0m \u001b[0mCOMPANY\u001b[0m\u001b[0;34m=\u001b[0m\u001b[0mconfig\u001b[0m\u001b[0;34m[\u001b[0m\u001b[0;34m'AUTOMATION'\u001b[0m\u001b[0;34m]\u001b[0m\u001b[0;34m[\u001b[0m\u001b[0;34m'COMPANY'\u001b[0m\u001b[0;34m]\u001b[0m\u001b[0;34m\u001b[0m\u001b[0m\n",
      "\u001b[0;32m~/anaconda3/envs/mlguild/lib/python3.5/configparser.py\u001b[0m in \u001b[0;36m__getitem__\u001b[0;34m(self, key)\u001b[0m\n\u001b[1;32m    954\u001b[0m     \u001b[0;32mdef\u001b[0m \u001b[0m__getitem__\u001b[0m\u001b[0;34m(\u001b[0m\u001b[0mself\u001b[0m\u001b[0;34m,\u001b[0m \u001b[0mkey\u001b[0m\u001b[0;34m)\u001b[0m\u001b[0;34m:\u001b[0m\u001b[0;34m\u001b[0m\u001b[0m\n\u001b[1;32m    955\u001b[0m         \u001b[0;32mif\u001b[0m \u001b[0mkey\u001b[0m \u001b[0;34m!=\u001b[0m \u001b[0mself\u001b[0m\u001b[0;34m.\u001b[0m\u001b[0mdefault_section\u001b[0m \u001b[0;32mand\u001b[0m \u001b[0;32mnot\u001b[0m \u001b[0mself\u001b[0m\u001b[0;34m.\u001b[0m\u001b[0mhas_section\u001b[0m\u001b[0;34m(\u001b[0m\u001b[0mkey\u001b[0m\u001b[0;34m)\u001b[0m\u001b[0;34m:\u001b[0m\u001b[0;34m\u001b[0m\u001b[0m\n\u001b[0;32m--> 956\u001b[0;31m             \u001b[0;32mraise\u001b[0m \u001b[0mKeyError\u001b[0m\u001b[0;34m(\u001b[0m\u001b[0mkey\u001b[0m\u001b[0;34m)\u001b[0m\u001b[0;34m\u001b[0m\u001b[0m\n\u001b[0m\u001b[1;32m    957\u001b[0m         \u001b[0;32mreturn\u001b[0m \u001b[0mself\u001b[0m\u001b[0;34m.\u001b[0m\u001b[0m_proxies\u001b[0m\u001b[0;34m[\u001b[0m\u001b[0mkey\u001b[0m\u001b[0;34m]\u001b[0m\u001b[0;34m\u001b[0m\u001b[0m\n\u001b[1;32m    958\u001b[0m \u001b[0;34m\u001b[0m\u001b[0m\n",
      "\u001b[0;31mKeyError\u001b[0m: 'AUTOMATION'"
     ]
    }
   ],
   "source": [
    "config = configparser.ConfigParser()\n",
    "config.read('../../config.ini')\n",
    "\n",
    "OUTPUT_DIR_PATH=config['AUTOMATION']['OUTPUT_DIR_PATH']\n",
    "BASE_URL=config['AUTOMATION']['BASE_URL']\n",
    "COMPANY=config['AUTOMATION']['COMPANY']"
   ]
  },
  {
   "cell_type": "code",
   "execution_count": 16,
   "metadata": {},
   "outputs": [
    {
     "data": {
      "text/plain": [
       "'http://www.annualreports.com/Company/oracle-corporation'"
      ]
     },
     "execution_count": 16,
     "metadata": {},
     "output_type": "execute_result"
    }
   ],
   "source": [
    "# create a string with the url to the webpage with the selected companies annual reports\n",
    "# use python string formatting .format() to combine the base_url with the company\n",
    "\n",
    "company_url = r'{}/Company/{}'.format(BASE_URL, COMPANY)\n",
    "company_url"
   ]
  },
  {
   "cell_type": "markdown",
   "metadata": {},
   "source": [
    "### 1. Check the robots.txt to confirm access\n",
    "\n",
    "Before writing any code check the http://www.annualreports.com/robots.txt to ascertain any data collection restrictions\n",
    "\n",
    "User-agent: * applies to us."
   ]
  },
  {
   "cell_type": "code",
   "execution_count": 44,
   "metadata": {},
   "outputs": [
    {
     "data": {
      "text/html": [
       "<iframe src=http://www.annualreports.com/robots.txt  width=500 height=250></iframe>"
      ],
      "text/plain": [
       "<IPython.core.display.HTML object>"
      ]
     },
     "execution_count": 44,
     "metadata": {},
     "output_type": "execute_result"
    }
   ],
   "source": [
    "requests_url = 'http://www.annualreports.com/robots.txt '\n",
    "iframe = '<iframe src={} width=500 height=250></iframe>'.format(requests_url)\n",
    "HTML(iframe)"
   ]
  },
  {
   "cell_type": "code",
   "execution_count": 45,
   "metadata": {},
   "outputs": [
    {
     "data": {
      "text/plain": [
       "True"
      ]
     },
     "execution_count": 45,
     "metadata": {},
     "output_type": "execute_result"
    }
   ],
   "source": [
    "rp = robotparser.RobotFileParser()\n",
    "rp.set_url(\"http://www.annualreports.com/robots.txt\")\n",
    "rp.read()\n",
    "rp.can_fetch(\"*\", company_url)"
   ]
  },
  {
   "cell_type": "markdown",
   "metadata": {},
   "source": [
    "### 2. Collect all of the urls for the numerous annual reports\n"
   ]
  },
  {
   "cell_type": "code",
   "execution_count": 46,
   "metadata": {},
   "outputs": [
    {
     "data": {
      "text/html": [
       "<iframe src=http://www.annualreports.com/Company/oracle-corporation width=950 height=300></iframe>"
      ],
      "text/plain": [
       "<IPython.core.display.HTML object>"
      ]
     },
     "execution_count": 46,
     "metadata": {},
     "output_type": "execute_result"
    }
   ],
   "source": [
    "# view the source data website\n",
    "iframe = '<iframe src={} width=950 height=300></iframe>'.format(company_url)\n",
    "HTML(iframe)"
   ]
  },
  {
   "cell_type": "code",
   "execution_count": 47,
   "metadata": {},
   "outputs": [
    {
     "data": {
      "text/plain": [
       "<Response [200]>"
      ]
     },
     "execution_count": 47,
     "metadata": {},
     "output_type": "execute_result"
    }
   ],
   "source": [
    "# request the html from the company_url\n",
    "r = requests.get(company_url)\n",
    "r"
   ]
  },
  {
   "cell_type": "code",
   "execution_count": 48,
   "metadata": {
    "collapsed": true
   },
   "outputs": [],
   "source": [
    "# convert the text from the request into a BeautifulSoup instance\n",
    "b = BeautifulSoup(r.text, 'lxml')"
   ]
  },
  {
   "cell_type": "code",
   "execution_count": 49,
   "metadata": {},
   "outputs": [
    {
     "data": {
      "text/plain": [
       "[<ul class=\"links \">\n",
       " <li><a href=\"/Click/24624\" onclick=\"window.open('/Click/24624', '_blank'); return false;\" target=\"_blank\"><span>PDF</span> <span class=\"icon-download\"></span></a></li>\n",
       " <li><a href=\"/Click/123\" onclick=\"window.open('/Click/123', '_blank'); return false;\" target=\"_blank\"><span>Form 10K</span> <span class=\"report-type-label\">(HTML)</span> <span class=\"icon-download\"></span></a></li></ul>,\n",
       " <ul class=\"links\">\n",
       " <li>2015 Annual Report</li>\n",
       " <li><a href=\"/HostedData/AnnualReportArchive/o/NYSE_ORCL_2015.pdf\" target=\"_blank\" title=\"View 2015 Annual Report PDF\">PDF <span class=\"icon-download\"></span></a></li>\n",
       " </ul>,\n",
       " <ul class=\"links\">\n",
       " <li>2014 Annual Report</li>\n",
       " <li><a href=\"/HostedData/AnnualReportArchive/o/NYSE_ORCL_2014.pdf\" target=\"_blank\" title=\"View 2014 Annual Report PDF\">PDF <span class=\"icon-download\"></span></a></li>\n",
       " </ul>,\n",
       " <ul class=\"links\">\n",
       " <li>2013 Annual Report</li>\n",
       " <li><a href=\"/HostedData/AnnualReportArchive/o/NYSE_ORCL_2013.pdf\" target=\"_blank\" title=\"View 2013 Annual Report PDF\">PDF <span class=\"icon-download\"></span></a></li>\n",
       " </ul>,\n",
       " <ul class=\"links\">\n",
       " <li>2012 Annual Report</li>\n",
       " <li><a href=\"/HostedData/AnnualReportArchive/o/NYSE_ORCL_2012.pdf\" target=\"_blank\" title=\"View 2012 Annual Report PDF\">PDF <span class=\"icon-download\"></span></a></li>\n",
       " </ul>,\n",
       " <ul class=\"links\">\n",
       " <li>2011 Annual Report</li>\n",
       " <li><a href=\"/HostedData/AnnualReportArchive/o/NYSE_ORCL_2011.pdf\" target=\"_blank\" title=\"View 2011 Annual Report PDF\">PDF <span class=\"icon-download\"></span></a></li>\n",
       " </ul>,\n",
       " <ul class=\"links\">\n",
       " <li>2010 Annual Report</li>\n",
       " <li><a href=\"/HostedData/AnnualReportArchive/o/NYSE_ORCL_2010.pdf\" target=\"_blank\" title=\"View 2010 Annual Report PDF\">PDF <span class=\"icon-download\"></span></a></li>\n",
       " </ul>,\n",
       " <ul class=\"links\">\n",
       " <li>2009 Annual Report</li>\n",
       " <li><a href=\"/HostedData/AnnualReportArchive/o/NYSE_ORCL_2009.pdf\" target=\"_blank\" title=\"View 2009 Annual Report PDF\">PDF <span class=\"icon-download\"></span></a></li>\n",
       " </ul>,\n",
       " <ul class=\"links\">\n",
       " <li>2008 Annual Report</li>\n",
       " <li><a href=\"/HostedData/AnnualReportArchive/o/NYSE_ORCL_2008.pdf\" target=\"_blank\" title=\"View 2008 Annual Report PDF\">PDF <span class=\"icon-download\"></span></a></li>\n",
       " </ul>,\n",
       " <ul class=\"links\">\n",
       " <li>2007 Annual Report</li>\n",
       " <li><a href=\"/HostedData/AnnualReportArchive/o/NYSE_ORCL_2007.pdf\" target=\"_blank\" title=\"View 2007 Annual Report PDF\">PDF <span class=\"icon-download\"></span></a></li>\n",
       " </ul>,\n",
       " <ul class=\"links\">\n",
       " <li>2006 Annual Report</li>\n",
       " <li><a href=\"/HostedData/AnnualReportArchive/o/NYSE_ORCL_2006.pdf\" target=\"_blank\" title=\"View 2006 Annual Report PDF\">PDF <span class=\"icon-download\"></span></a></li>\n",
       " </ul>,\n",
       " <ul class=\"links\">\n",
       " <li>2005 Annual Report</li>\n",
       " <li><a href=\"/HostedData/AnnualReportArchive/o/NYSE_ORCL_2005.pdf\" target=\"_blank\" title=\"View 2005 Annual Report PDF\">PDF <span class=\"icon-download\"></span></a></li>\n",
       " </ul>,\n",
       " <ul class=\"links\">\n",
       " <li>2004 Annual Report</li>\n",
       " <li><a href=\"/HostedData/AnnualReportArchive/o/NYSE_ORCL_2004.pdf\" target=\"_blank\" title=\"View 2004 Annual Report PDF\">PDF <span class=\"icon-download\"></span></a></li>\n",
       " </ul>,\n",
       " <ul class=\"links\">\n",
       " <li>2003 Annual Report</li>\n",
       " <li><a href=\"/HostedData/AnnualReportArchive/o/NYSE_ORCL_2003.pdf\" target=\"_blank\" title=\"View 2003 Annual Report PDF\">PDF <span class=\"icon-download\"></span></a></li>\n",
       " </ul>,\n",
       " <ul class=\"links\">\n",
       " <li>2002 Annual Report</li>\n",
       " <li><a href=\"/HostedData/AnnualReportArchive/o/NYSE_ORCL_2002.pdf\" target=\"_blank\" title=\"View 2002 Annual Report PDF\">PDF <span class=\"icon-download\"></span></a></li>\n",
       " </ul>,\n",
       " <ul class=\"links\">\n",
       " <li>2001 Annual Report</li>\n",
       " <li><a href=\"/HostedData/AnnualReportArchive/o/NYSE_ORCL_2001.pdf\" target=\"_blank\" title=\"View 2001 Annual Report PDF\">PDF <span class=\"icon-download\"></span></a></li>\n",
       " </ul>,\n",
       " <ul class=\"links\">\n",
       " <li>2000 Annual Report</li>\n",
       " <li><a href=\"/HostedData/AnnualReportArchive/o/NYSE_ORCL_2000.pdf\" target=\"_blank\" title=\"View 2000 Annual Report PDF\">PDF <span class=\"icon-download\"></span></a></li>\n",
       " </ul>,\n",
       " <ul class=\"links\">\n",
       " <li>1999 Annual Report</li>\n",
       " <li><a href=\"/HostedData/AnnualReportArchive/o/NYSE_ORCL_1999.pdf\" target=\"_blank\" title=\"View 1999 Annual Report PDF\">PDF <span class=\"icon-download\"></span></a></li>\n",
       " </ul>,\n",
       " <ul class=\"links\">\n",
       " <li>1998 Annual Report</li>\n",
       " <li><a href=\"/HostedData/AnnualReportArchive/o/NYSE_ORCL_1998.pdf\" target=\"_blank\" title=\"View 1998 Annual Report PDF\">PDF <span class=\"icon-download\"></span></a></li>\n",
       " </ul>,\n",
       " <ul class=\"links\">\n",
       " <li>1997 Annual Report</li>\n",
       " <li><a href=\"/HostedData/AnnualReportArchive/o/NYSE_ORCL_1997.pdf\" target=\"_blank\" title=\"View 1997 Annual Report PDF\">PDF <span class=\"icon-download\"></span></a></li>\n",
       " </ul>,\n",
       " <ul class=\"links\">\n",
       " <li>1996 Annual Report</li>\n",
       " <li><a href=\"/HostedData/AnnualReportArchive/o/NYSE_ORCL_1996.pdf\" target=\"_blank\" title=\"View 1996 Annual Report PDF\">PDF <span class=\"icon-download\"></span></a></li>\n",
       " </ul>,\n",
       " <ul class=\"links\">\n",
       " <li>1995 Annual Report</li>\n",
       " <li><a href=\"/HostedData/AnnualReportArchive/o/NYSE_ORCL_1995.pdf\" target=\"_blank\" title=\"View 1995 Annual Report PDF\">PDF <span class=\"icon-download\"></span></a></li>\n",
       " </ul>,\n",
       " <ul class=\"links\">\n",
       " <li>1994 Annual Report</li>\n",
       " <li><a href=\"/HostedData/AnnualReportArchive/o/NYSE_ORCL_1994.pdf\" target=\"_blank\" title=\"View 1994 Annual Report PDF\">PDF <span class=\"icon-download\"></span></a></li>\n",
       " </ul>]"
      ]
     },
     "execution_count": 49,
     "metadata": {},
     "output_type": "execute_result"
    }
   ],
   "source": [
    "# find all of the links to the pdfs - <a href=\"example_url.pdf\">\n",
    "# look for any tags that contains all of the links\n",
    "# just collect the html, we will extract the links in the next exercise\n",
    "\n",
    "annual_reports = b.find_all('ul', attrs={'class':'links'})\n",
    "annual_reports"
   ]
  },
  {
   "cell_type": "code",
   "execution_count": 50,
   "metadata": {},
   "outputs": [
    {
     "data": {
      "text/plain": [
       "['http://www.annualreports.com/Click/24624',\n",
       " 'http://www.annualreports.com/HostedData/AnnualReportArchive/o/NYSE_ORCL_2015.pdf',\n",
       " 'http://www.annualreports.com/HostedData/AnnualReportArchive/o/NYSE_ORCL_2014.pdf',\n",
       " 'http://www.annualreports.com/HostedData/AnnualReportArchive/o/NYSE_ORCL_2013.pdf',\n",
       " 'http://www.annualreports.com/HostedData/AnnualReportArchive/o/NYSE_ORCL_2012.pdf']"
      ]
     },
     "execution_count": 50,
     "metadata": {},
     "output_type": "execute_result"
    }
   ],
   "source": [
    "# create an empty list to store the urls\n",
    "urls = []\n",
    "\n",
    "# iterate through the annual_reports\n",
    "for report in annual_reports:\n",
    "    # find the report url ending\n",
    "    report_name = report.find('a')['href']\n",
    "    # combine the base_url with the report name to create the full url\n",
    "    # consider using the string method: join\n",
    "    report_url = ''.join([BASE_URL, report_name])\n",
    "    # append each report_url to the urls list \n",
    "    urls.append(report_url)\n",
    "\n",
    "# view the first 5 results\n",
    "urls[0:5]"
   ]
  },
  {
   "cell_type": "markdown",
   "metadata": {},
   "source": [
    "### 3. Create a mapping a file paths with the filename and filepath (to store each file locally)\n",
    "Store all files in a folder on your desktop called ml_guild/raw_data/[company_name]\n",
    "\n",
    "NOTE: replace [company_name] with the selected companies name\n"
   ]
  },
  {
   "cell_type": "code",
   "execution_count": 51,
   "metadata": {},
   "outputs": [
    {
     "data": {
      "text/plain": [
       "{'http://www.annualreports.com/Click/24624': '/Users/alex/Desktop/ml_guild/ml_guild/raw_data/oracle-corporation_annual_report_2016.pdf',\n",
       " 'http://www.annualreports.com/HostedData/AnnualReportArchive/o/NYSE_ORCL_1994.pdf': '/Users/alex/Desktop/ml_guild/ml_guild/raw_data/oracle-corporation_annual_report_1994.pdf',\n",
       " 'http://www.annualreports.com/HostedData/AnnualReportArchive/o/NYSE_ORCL_1995.pdf': '/Users/alex/Desktop/ml_guild/ml_guild/raw_data/oracle-corporation_annual_report_1995.pdf',\n",
       " 'http://www.annualreports.com/HostedData/AnnualReportArchive/o/NYSE_ORCL_1996.pdf': '/Users/alex/Desktop/ml_guild/ml_guild/raw_data/oracle-corporation_annual_report_1996.pdf',\n",
       " 'http://www.annualreports.com/HostedData/AnnualReportArchive/o/NYSE_ORCL_1997.pdf': '/Users/alex/Desktop/ml_guild/ml_guild/raw_data/oracle-corporation_annual_report_1997.pdf',\n",
       " 'http://www.annualreports.com/HostedData/AnnualReportArchive/o/NYSE_ORCL_1998.pdf': '/Users/alex/Desktop/ml_guild/ml_guild/raw_data/oracle-corporation_annual_report_1998.pdf',\n",
       " 'http://www.annualreports.com/HostedData/AnnualReportArchive/o/NYSE_ORCL_1999.pdf': '/Users/alex/Desktop/ml_guild/ml_guild/raw_data/oracle-corporation_annual_report_1999.pdf',\n",
       " 'http://www.annualreports.com/HostedData/AnnualReportArchive/o/NYSE_ORCL_2000.pdf': '/Users/alex/Desktop/ml_guild/ml_guild/raw_data/oracle-corporation_annual_report_2000.pdf',\n",
       " 'http://www.annualreports.com/HostedData/AnnualReportArchive/o/NYSE_ORCL_2001.pdf': '/Users/alex/Desktop/ml_guild/ml_guild/raw_data/oracle-corporation_annual_report_2001.pdf',\n",
       " 'http://www.annualreports.com/HostedData/AnnualReportArchive/o/NYSE_ORCL_2002.pdf': '/Users/alex/Desktop/ml_guild/ml_guild/raw_data/oracle-corporation_annual_report_2002.pdf',\n",
       " 'http://www.annualreports.com/HostedData/AnnualReportArchive/o/NYSE_ORCL_2003.pdf': '/Users/alex/Desktop/ml_guild/ml_guild/raw_data/oracle-corporation_annual_report_2003.pdf',\n",
       " 'http://www.annualreports.com/HostedData/AnnualReportArchive/o/NYSE_ORCL_2004.pdf': '/Users/alex/Desktop/ml_guild/ml_guild/raw_data/oracle-corporation_annual_report_2004.pdf',\n",
       " 'http://www.annualreports.com/HostedData/AnnualReportArchive/o/NYSE_ORCL_2005.pdf': '/Users/alex/Desktop/ml_guild/ml_guild/raw_data/oracle-corporation_annual_report_2005.pdf',\n",
       " 'http://www.annualreports.com/HostedData/AnnualReportArchive/o/NYSE_ORCL_2006.pdf': '/Users/alex/Desktop/ml_guild/ml_guild/raw_data/oracle-corporation_annual_report_2006.pdf',\n",
       " 'http://www.annualreports.com/HostedData/AnnualReportArchive/o/NYSE_ORCL_2007.pdf': '/Users/alex/Desktop/ml_guild/ml_guild/raw_data/oracle-corporation_annual_report_2007.pdf',\n",
       " 'http://www.annualreports.com/HostedData/AnnualReportArchive/o/NYSE_ORCL_2008.pdf': '/Users/alex/Desktop/ml_guild/ml_guild/raw_data/oracle-corporation_annual_report_2008.pdf',\n",
       " 'http://www.annualreports.com/HostedData/AnnualReportArchive/o/NYSE_ORCL_2009.pdf': '/Users/alex/Desktop/ml_guild/ml_guild/raw_data/oracle-corporation_annual_report_2009.pdf',\n",
       " 'http://www.annualreports.com/HostedData/AnnualReportArchive/o/NYSE_ORCL_2010.pdf': '/Users/alex/Desktop/ml_guild/ml_guild/raw_data/oracle-corporation_annual_report_2010.pdf',\n",
       " 'http://www.annualreports.com/HostedData/AnnualReportArchive/o/NYSE_ORCL_2011.pdf': '/Users/alex/Desktop/ml_guild/ml_guild/raw_data/oracle-corporation_annual_report_2011.pdf',\n",
       " 'http://www.annualreports.com/HostedData/AnnualReportArchive/o/NYSE_ORCL_2012.pdf': '/Users/alex/Desktop/ml_guild/ml_guild/raw_data/oracle-corporation_annual_report_2012.pdf',\n",
       " 'http://www.annualreports.com/HostedData/AnnualReportArchive/o/NYSE_ORCL_2013.pdf': '/Users/alex/Desktop/ml_guild/ml_guild/raw_data/oracle-corporation_annual_report_2013.pdf',\n",
       " 'http://www.annualreports.com/HostedData/AnnualReportArchive/o/NYSE_ORCL_2014.pdf': '/Users/alex/Desktop/ml_guild/ml_guild/raw_data/oracle-corporation_annual_report_2014.pdf',\n",
       " 'http://www.annualreports.com/HostedData/AnnualReportArchive/o/NYSE_ORCL_2015.pdf': '/Users/alex/Desktop/ml_guild/ml_guild/raw_data/oracle-corporation_annual_report_2015.pdf'}"
      ]
     },
     "execution_count": 51,
     "metadata": {},
     "output_type": "execute_result"
    }
   ],
   "source": [
    "# create an empty dict to store file paths\n",
    "# name is output_paths\n",
    "output_paths = {}\n",
    "\n",
    "# iterate through the urls\n",
    "# consider using enumerate to get the index of the url in the list\n",
    "for ind, url in enumerate(urls):\n",
    "\n",
    "    # parse the year from the annual report report_name\n",
    "    # split and slice the url to extract the year\n",
    "    year = url.split('_')[-1].split('.')[0]\n",
    "\n",
    "    # The first annual report on a page is stored in different html\n",
    "    # and does not have the year in the report name\n",
    "    # e.g. ('Click/[#]') instead of ('NYSE_ORCL_2015.pdf')\n",
    "    # add a condition to identify the url with index 0 and\n",
    "    # add one to the year of the next annual report to get the correct year\n",
    "    # you will need to convert a string to an int for the addition\n",
    "    if ind == 0:\n",
    "        previous_year = urls[1].split('_')[-1].split('.')[0] \n",
    "        year = str(int(previous_year) + 1)\n",
    "\n",
    "    # create a file name \n",
    "    # use the naming scheme companyname_annual_report_year\n",
    "    # use .format() to replace the companyname and year for each report\n",
    "    filename = '{}_annual_report_{}.pdf'.format(COMPANY, year)\n",
    "    \n",
    "    # create a local filepath to identify how to name a file\n",
    "    # and where to store it locally\n",
    "    filepath = os.path.join(OUTPUT_DIR_PATH, filename)\n",
    "    \n",
    "    # add each url to the output_paths dict\n",
    "    output_paths[url] = filepath\n",
    "\n",
    "output_paths"
   ]
  },
  {
   "cell_type": "markdown",
   "metadata": {},
   "source": [
    "### 4. Download all of the annual reports"
   ]
  },
  {
   "cell_type": "code",
   "execution_count": null,
   "metadata": {},
   "outputs": [],
   "source": [
    "# iterate through the urls\n",
    "for url in urls:\n",
    "    \n",
    "    # required delay, stated in the robots.txt\n",
    "    time.sleep(5)  # pause for five seconds\n",
    "\n",
    "    # download the pdf with requests\n",
    "    r = requests.get(url)\n",
    "\n",
    "    # get the path of where to download the pdf locally\n",
    "    # use the url to get the filepath from the output_paths dict\n",
    "    filepath = output_paths[url]\n",
    "    \n",
    "    # write the pdf to the filepath \n",
    "    # 'wb' stands for write binary\n",
    "    with open(filepath, 'wb') as f:\n",
    "        f.write(r.content)"
   ]
  }
 ],
 "metadata": {
  "kernelspec": {
   "display_name": "Python 3",
   "language": "python",
   "name": "python3"
  },
  "language_info": {
   "codemirror_mode": {
    "name": "ipython",
    "version": 3
   },
   "file_extension": ".py",
   "mimetype": "text/x-python",
   "name": "python",
   "nbconvert_exporter": "python",
   "pygments_lexer": "ipython3",
   "version": "3.5.4"
  }
 },
 "nbformat": 4,
 "nbformat_minor": 2
}
