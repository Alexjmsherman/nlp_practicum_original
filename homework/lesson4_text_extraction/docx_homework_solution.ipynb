{
 "cells": [
  {
   "cell_type": "markdown",
   "metadata": {},
   "source": [
    "# DOCX Homework Solution\n",
    "#### Author: Alex Sherman (alsherman@deloitte.com)\n",
    "\n",
    "In this homework, we will use python-docx to extract and structure the text from a Microsoft Word document.\n",
    "\n",
    "The overall objective (part 3) is to structure the document into sections. As there is no perfect method to define or identify document sections, we will create our own simple hueristics. These include looking if a paragraph contains 'HEADING' styles, uses ALL CAPS, or applied other style like bold or underlined text.\n",
    "\n",
    "In part one and two, we will create and test two helper functions (doesnt_have_text and is_section_header) to help us identify which paragraphs contain useful text and/or are section headers in part 3."
   ]
  },
  {
   "cell_type": "code",
   "execution_count": 33,
   "metadata": {},
   "outputs": [
    {
     "name": "stdout",
     "output_type": "stream",
     "text": [
      "C:\\Users\\alsherman\\Desktop\\PycharmProjects\\firm_initiatives\\ml_guild\\raw_data\\southwest-airlines-co\\southwest-airlines-co_annual_report_2016.docx\n"
     ]
    }
   ],
   "source": [
    "# read the raw data paths from the config.ini file\n",
    "# confirm that the printed DOCX_PATH is the correct location of the data\n",
    "import os\n",
    "import configparser\n",
    "\n",
    "config = configparser.ConfigParser()\n",
    "config.read('../../config.ini')\n",
    "RAW_DATA = config['USER']['RAW_DATA']\n",
    "DOC_PATH = config['DOCX']['DOC_PATH']\n",
    "\n",
    "DOCX_PATH = os.path.join(RAW_DATA, DOC_PATH)\n",
    "\n",
    "print(DOCX_PATH)"
   ]
  },
  {
   "cell_type": "code",
   "execution_count": 34,
   "metadata": {
    "collapsed": true
   },
   "outputs": [],
   "source": [
    "# read the document into docx\n",
    "import docx\n",
    "doc = docx.Document(DOCX_PATH)\n",
    "\n",
    "# create an object with all paragraphs\n",
    "paragraphs = doc.paragraphs"
   ]
  },
  {
   "cell_type": "markdown",
   "metadata": {},
   "source": [
    "### PART 1: Check if a paragraph contains text\n",
    "\n",
    "Many of the paragraphs in a document are empty strings, not containing useful text. We will want to skip (continue) these paragraphs when structing the document into sections.\n",
    "\n",
    "We will look for two conditions:\n",
    "1. paragraph text is empty\n",
    "2. paragraph text does not contain any letters (e.g. a phone number or ' ____ ')"
   ]
  },
  {
   "cell_type": "code",
   "execution_count": 35,
   "metadata": {
    "collapsed": true
   },
   "outputs": [],
   "source": [
    "def doesnt_have_text(text, contains_alpha=True):\n",
    "    \"\"\" ignore paragraphs that do not contain any text\n",
    "\n",
    "    :param text: text to check for characters\n",
    "    :param alpha only: if True, only keep paragraph that have letters \n",
    "    :return: bool (True) if the paragraph is empty\n",
    "    \"\"\"\n",
    "    \n",
    "    # condition one - check for empty strings\n",
    "    empty_string = text.strip() == ''\n",
    "\n",
    "    # condition two (make this optional by adding a check if alpha_only)\n",
    "    # ignores phone numbers and string of non-text characters (e.g. '___')\n",
    "    # consider using the string method .isalpha()\n",
    "    has_letters = True\n",
    "    if contains_alpha:\n",
    "        has_letters = any(char.isalpha() for char in text)\n",
    "\n",
    "    # if either condition is met, return True (i.e. doesn't have text)\n",
    "    # else return False\n",
    "    if empty_string or not has_letters:\n",
    "        return True\n",
    "    return False"
   ]
  },
  {
   "cell_type": "code",
   "execution_count": 47,
   "metadata": {},
   "outputs": [
    {
     "name": "stdout",
     "output_type": "stream",
     "text": [
      "YOUR ANSWER: False\n",
      "CORRECT ANSWER: False\n",
      "SECTION TEXT: SOUTHWEST AIRLINES CO.\n",
      "\n",
      "YOUR ANSWER: False\n",
      "CORRECT ANSWER: False\n",
      "SECTION TEXT: Another significant long-term effort scheduled for 2017 is the completion of a new five-gate international terminal at the Ft Lauderdale-Hollywood International Airport (FLL), slated for June 2017. Coincident with the opening is the launch of new international service at FLL by Southwest Airlines. Currently, we serve just The Bahamas and Cuba from FLL, but plan to add service to Belize, Jamaica, and Mexico along with our newest destination, Grand Cayman. This is a much-anticipated and much-needed enhancement to our FLL franchise.\n",
      "\n",
      "YOUR ANSWER: False\n",
      "CORRECT ANSWER: False\n",
      "SECTION TEXT: This is now the 23rd consecutive year that Southwest has been named to Fortune’s list of World’s Most Admired Companies, coming in at #8. We’re proud of that.\n",
      "\n",
      "YOUR ANSWER: True\n",
      "CORRECT ANSWER: True\n",
      "SECTION TEXT: \n",
      "\n",
      "YOUR ANSWER: True\n",
      "CORRECT ANSWER: True\n",
      "SECTION TEXT: \n",
      "\n",
      "YOUR ANSWER: True\n",
      "CORRECT ANSWER: True\n",
      "SECTION TEXT: \n",
      "\n"
     ]
    }
   ],
   "source": [
    "# run this function to check your answers\n",
    "\n",
    "def check_doesnt_have_text(section_nums, answer):\n",
    "    for section_num in section_nums:\n",
    "        print('YOUR ANSWER: {}'.format(doesnt_have_text(paragraphs[section_num].text)))\n",
    "        print('CORRECT ANSWER: {}'.format(answer))\n",
    "        print('SECTION TEXT: {}'.format(paragraphs[section_num].text))\n",
    "        print()    \n",
    "        \n",
    "check_doesnt_have_text(section_nums=[2, 29, 33], answer='False')\n",
    "check_doesnt_have_text(section_nums=[8, 17, 28], answer='True')"
   ]
  },
  {
   "cell_type": "markdown",
   "metadata": {},
   "source": [
    "### PART 2: Check if a paragraph is a section header\n",
    "\n",
    "Each paragraph that contains text will either start a new section (is a section header) or will be added to the text of a section. To make this determination, we will use the function is_section_header to test if the paragraph text meets any of the criteria we set to define a section header.\n",
    "\n",
    "There are many criteria we could create to define a section header. Moreso, it is not worth the effort to perfectly define each section header as that is difficult if not impossible due to inconsistencies in the ways that different documents are structured. As an example, some documents use a Table of Contents, giving sections a 'HEADING' style, other times the document owner just CAPITALIZES or bolds the text of each section.\n",
    "\n",
    "We will check for the four folowing criteria:\n",
    "1. Heading style applied to the paragraph text\n",
    "2. All text is capitalized\n",
    "3. All text is bold\n",
    "4. All text is underlined"
   ]
  },
  {
   "cell_type": "code",
   "execution_count": 50,
   "metadata": {
    "collapsed": true
   },
   "outputs": [],
   "source": [
    "def is_section_header(p, use_headings=True, use_capitalization=True, use_bold=True, use_underline=True):\n",
    "    \"\"\" determine if a paragraph is a section header\n",
    "\n",
    "    :param p: paragraph\n",
    "    :param use_headings: uses a header formatting (e.g. table of contents)\n",
    "    :param use_capitalization: capitalization of every letter often indicates section header\n",
    "    :param use_bold: all words in a sentence are bold\n",
    "    :param use_underline: all words in a sentence are underlined\n",
    "    :return section_header: boolean, True if paragraph is section header\n",
    "\n",
    "    NOTE: there is not an exact method to determine a section header\n",
    "    due to inconsistencies in the way documents are created.\n",
    "    This function uses heuristics (e.g. all CAPS) to determine sections\n",
    "    \"\"\"\n",
    "\n",
    "    # section_header starts as False and is switched to True\n",
    "    # if it meets a section condition\n",
    "    section_header = False\n",
    "\n",
    "    # check if Header formatting is applied to the paragraph style\n",
    "    # make sure to use upper case as 'HEADING' is always uppercase\n",
    "    # NOTE: this is common for sections listed in a table of contents\n",
    "    if use_headings:\n",
    "        if 'HEADING' in p.style.name.upper():\n",
    "            section_header = True\n",
    "\n",
    "    # check if every letter in a paragraph is capitalized\n",
    "    if use_capitalization:\n",
    "        if p.text.isupper():\n",
    "            section_header = True\n",
    "\n",
    "    # check for bold and/or underlines conditions\n",
    "    bold_runs = []\n",
    "    underline_runs = []\n",
    "\n",
    "    # iterate through all the runs in a paragraph to check for bold/underlined style\n",
    "    for run in p.runs:\n",
    "        # ignore (use continue) runs that do not contain text\n",
    "        # NOTE: the last run is often an empty string\n",
    "        if run.text.strip() == '':\n",
    "            continue\n",
    "        if use_bold:\n",
    "            # add if the text is bold to the bold_runs list\n",
    "            bold_runs.append(run.bold)\n",
    "        if use_underline:\n",
    "            # add if the text is underlined to the underline_runs list\n",
    "            underline_runs.append(run.underline)\n",
    "\n",
    "    # all() tests if every item in a list is True\n",
    "    # if all items are True the all() returns True\n",
    "    # thus if all items are bold or all are underlined, \n",
    "    # then section_header is set to True\n",
    "    bold_cond = all(bold_runs) and bold_runs != list()\n",
    "    underline_cond = all(underline_runs) and underline_runs != list()\n",
    "    if bold_cond or underline_cond:\n",
    "        section_header = True\n",
    "\n",
    "    return section_header"
   ]
  },
  {
   "cell_type": "code",
   "execution_count": 55,
   "metadata": {},
   "outputs": [
    {
     "name": "stdout",
     "output_type": "stream",
     "text": [
      "YOUR ANSWER: True\n",
      "CORRECT ANSWER: True\n",
      "SECTION: Company Overview\n",
      "\n",
      "YOUR ANSWER: True\n",
      "CORRECT ANSWER: True\n",
      "SECTION: Environmental Regulation\n",
      "\n",
      "YOUR ANSWER: True\n",
      "CORRECT ANSWER: True\n",
      "SECTION: Employees\n",
      "\n",
      "YOUR ANSWER: False\n",
      "CORRECT ANSWER: False\n",
      "SECTION: Another significant long-term effort scheduled for 2017 is the completion of a new five-gate international terminal at the Ft Lauderdale-Hollywood International Airport (FLL), slated for June 2017. Coincident with the opening is the launch of new international service at FLL by Southwest Airlines. Currently, we serve just The Bahamas and Cuba from FLL, but plan to add service to Belize, Jamaica, and Mexico along with our newest destination, Grand Cayman. This is a much-anticipated and much-needed enhancement to our FLL franchise.\n",
      "\n",
      "YOUR ANSWER: False\n",
      "CORRECT ANSWER: False\n",
      "SECTION: Common Stock ($1.00 par value)\tNew York Stock Exchange\n",
      "\n",
      "YOUR ANSWER: False\n",
      "CORRECT ANSWER: False\n",
      "SECTION: operations at a limited number of central hub cities and serves most other destinations in the system by providing one-stop or connecting service through a hub. By not concentrating operations through one or more central transfer points, Southwest’s point-to-point route structure has allowed for more direct nonstop routing than hub-and-spoke service. Approximately 76 percent of the Company’s Customers flew nonstop during 2016, and, as of December 31, 2016, Southwest served 657 nonstop city pairs.\n",
      "\n"
     ]
    }
   ],
   "source": [
    "# run this function to check your answers\n",
    "\n",
    "def check_section_header_answers(section_nums, answer):\n",
    "    for section_num in section_nums:\n",
    "        print('YOUR ANSWER: {}'.format(is_section_header(paragraphs[section_num])))\n",
    "        print('CORRECT ANSWER: {}'.format(answer))\n",
    "        print('SECTION: {}'.format(paragraphs[section_num].text))\n",
    "        print()    \n",
    "        \n",
    "check_section_header_answers(section_nums=[124,351,441], answer='True')\n",
    "check_section_header_answers(section_nums=[29,101,145], answer='False')"
   ]
  },
  {
   "cell_type": "markdown",
   "metadata": {},
   "source": [
    "### PART 3: Extract and structure sections\n",
    "\n",
    "In the below exercise, we will create a dictionary named sections that will store all of the extracted sections from the document text.\n",
    "\n",
    "To populate the dict, we will stream through the text using the doesnt_have_text function to confirm retain only useful text and the is_section_header function to identify the start of each new section."
   ]
  },
  {
   "cell_type": "code",
   "execution_count": 56,
   "metadata": {
    "collapsed": true
   },
   "outputs": [],
   "source": [
    "def set_sections(paragraphs):\n",
    "    \"\"\" Iterate through every paragraph in a document and group them into sections.\n",
    "    \n",
    "    Sections are determined by Microsoft Word style formatting and other\n",
    "    optional heuristic parameters (listed below).\n",
    "    \"\"\"\n",
    "\n",
    "    # store all sections in a dict with the section name as\n",
    "    # the key and the section text as the value\n",
    "    sections = {}\n",
    "\n",
    "    # set a name for the first section  to group all the text \n",
    "    # in case the documents has no sections and create an empty\n",
    "    # list to start collecting section text\n",
    "    section_name = 'FIRST SECTION'\n",
    "    section_text = []\n",
    "\n",
    "    # iterate through every paragraph \n",
    "    # if there is text, determine if the text should start a new\n",
    "    # section_name or if the text should be added to section_text\n",
    "    for p in paragraphs:\n",
    "\n",
    "        # docx stores many paragraph which are not informative\n",
    "        # (e.g. line breaks) ignore these - go to next paragraph\n",
    "        if doesnt_have_text(p.text):\n",
    "            continue\n",
    "\n",
    "        if is_section_header(p, use_headings=True, use_capitalization=True, use_bold=True, use_underline=True):\n",
    "            # a new section_name has been found, so combine\n",
    "            # all the section text and add it to the sections dict\n",
    "            text = ' '.join(section_text).strip()\n",
    "\n",
    "            # if section_text is empty that means >1 section name \n",
    "            # was found in a row (e.g. section name spans multiple lines)\n",
    "            # these section_names should be combined\n",
    "            if doesnt_have_text(text):\n",
    "                section_name = ' '.join([section_name, p.text.upper().strip()])\n",
    "            else:                    \n",
    "                # add completed section to sections dict\n",
    "                sections[section_name] = text\n",
    "                # reset name and text for next section\n",
    "                section_name = p.text.upper().strip()\n",
    "                section_text = []\n",
    "        else:\n",
    "            # keep adding text to section_text until\n",
    "            # a new section starts\n",
    "            section_text.append(p.text)\n",
    "\n",
    "\n",
    "    # add the text from the final section to sections dict\n",
    "    text = ' '.join(section_text).strip()\n",
    "    if not doesnt_have_text(text):\n",
    "        sections[section_name] = text\n",
    "\n",
    "    return sections"
   ]
  },
  {
   "cell_type": "code",
   "execution_count": 57,
   "metadata": {
    "collapsed": true
   },
   "outputs": [],
   "source": [
    "# Run set sections to store the identified sections\n",
    "sections = set_sections(paragraphs)"
   ]
  },
  {
   "cell_type": "code",
   "execution_count": 58,
   "metadata": {},
   "outputs": [
    {
     "data": {
      "text/plain": [
       "dict_keys(['FIRST SECTION SOUTHWEST AIRLINES CO. 2016 ANNUAL REPORT TO SHAREHOLDERS', 'UNITED STATES SECURITIES AND EXCHANGE COMMISSION WASHINGTON, D.C. 20549 FORM 10-K', 'SOUTHWEST AIRLINES CO.', 'TEXAS\\t74-1563240', 'SECURITIES REGISTERED PURSUANT TO SECTION 12(B) OF THE ACT: TITLE OF EACH CLASS\\tNAME OF EACH EXCHANGE ON WHICH REGISTERED', 'SECURITIES REGISTERED PURSUANT TO SECTION 12(G) OF THE ACT: NONE', 'DOCUMENTS INCORPORATED BY REFERENCE', 'TABLE OF CONTENTS PART I ITEM 1.\\tBUSINESS COMPANY OVERVIEW', 'INDUSTRY', 'COMPANY OPERATIONS ROUTE STRUCTURE GENERAL', 'INTERNATIONAL SERVICE', 'COST STRUCTURE', 'COST AVERAGE COST PER PERCENTAGE OF OPERATING', 'YEAR ENDED DECEMBER 31,', 'FARE STRUCTURE GENERAL', 'ANCILLARY SERVICES', 'RAPID REWARDS FREQUENT FLYER PROGRAM', 'SOUTHWEST.COM', 'MARKETING', 'TECHNOLOGY INITIATIVES', 'REGULATION', 'ECONOMIC AND OPERATIONAL REGULATION CONSUMER PROTECTION REGULATION BY THE U.S. DEPARTMENT OF TRANSPORTATION', 'AVIATION TAXES AND FEES', 'OPERATIONAL, SAFETY, AND HEALTH REGULATION', 'SECURITY REGULATION', 'ENVIRONMENTAL REGULATION', 'INTERNATIONAL REGULATION', 'INSURANCE', 'COMPETITION', 'PRICING AND COST STRUCTURE', 'ROUTES, FREQUENT FLYER PROGRAMS, AND SCHEDULES', 'CUSTOMER SERVICE, COMFORT, AND AMENITIES', 'OTHER FORMS OF COMPETITION', 'SEASONALITY', 'EMPLOYEES', 'ADDITIONAL INFORMATION ABOUT THE COMPANY', 'DISCLOSURE REGARDING FORWARD-LOOKING INFORMATION', 'ITEM 1A.        RISK FACTORS THE AIRLINE INDUSTRY IS PARTICULARLY SENSITIVE TO CHANGES IN ECONOMIC CONDITIONS; IN THE EVENT OF UNFAVORABLE ECONOMIC CONDITIONS OR ECONOMIC UNCERTAINTY, THE COMPANY’S RESULTS OF OPERATIONS COULD BE NEGATIVELY AFFECTED, WHICH COULD REQUIRE THE COMPANY TO ADJUST ITS BUSINESS STRATEGIES.', 'THE COMPANY’S BUSINESS CAN BE SIGNIFICANTLY IMPACTED BY HIGH AND/OR VOLATILE FUEL PRICES, AND THE COMPANY’S OPERATIONS ARE SUBJECT TO DISRUPTION IN THE EVENT OF ANY DELAYED SUPPLY OF FUEL; THEREFORE, THE COMPANY’S STRATEGIC PLANS AND FUTURE PROFITABILITY ARE LIKELY TO BE IMPACTED BY THE COMPANY’S ABILITY TO EFFECTIVELY ADDRESS FUEL PRICE INCREASES AND FUEL PRICE VOLATILITY AND AVAILABILITY.', 'THE COMPANY’S LOW-COST STRUCTURE HAS HISTORICALLY BEEN ONE OF ITS PRIMARY COMPETITIVE ADVANTAGES, AND MANY FACTORS HAVE AFFECTED AND COULD CONTINUE TO AFFECT THE COMPANY’S ABILITY TO CONTROL ITS COSTS.', 'THE COMPANY IS INCREASINGLY DEPENDENT ON TECHNOLOGY TO OPERATE ITS BUSINESS AND CONTINUES TO IMPLEMENT SUBSTANTIAL CHANGES TO ITS INFORMATION SYSTEMS; ANY FAILURE, DISRUPTION, OR BREACH IN THE COMPANY’S INFORMATION SYSTEMS COULD MATERIALLY ADVERSELY AFFECT ITS OPERATIONS.', 'THE COMPANY’S BUSINESS IS LABOR INTENSIVE; THEREFORE, THE COMPANY WOULD BE ADVERSELY AFFECTED IF IT WERE UNABLE TO MAINTAIN SATISFACTORY RELATIONS WITH ITS EMPLOYEES OR ITS EMPLOYEES’ REPRESENTATIVES.', 'THE COMPANY IS CURRENTLY DEPENDENT ON SINGLE AIRCRAFT AND ENGINE SUPPLIERS, AS WELL AS SINGLE SUPPLIERS OF CERTAIN OTHER PARTS; THEREFORE, THE COMPANY WOULD BE MATERIALLY ADVERSELY AFFECTED  IF IT WERE UNABLE TO OBTAIN ADDITIONAL EQUIPMENT OR SUPPORT FROM ANY OF THESE SUPPLIERS OR IN THE EVENT OF A MECHANICAL OR REGULATORY ISSUE ASSOCIATED WITH THEIR EQUIPMENT.', 'ANY FAILURE OF THE COMPANY TO MAINTAIN THE SECURITY OF CERTAIN CUSTOMER-RELATED INFORMATION COULD RESULT IN DAMAGE TO THE COMPANY’S REPUTATION AND COULD BE COSTLY TO REMEDIATE.', 'THE COMPANY’S RESULTS OF OPERATIONS COULD BE ADVERSELY IMPACTED IF IT IS UNABLE TO GROW OR TO EFFECTIVELY EXECUTE ITS STRATEGIC PLANS.', 'THE AIRLINE INDUSTRY HAS FACED ON-GOING SECURITY CONCERNS AND RELATED COST BURDENS; FURTHER THREATENED OR ACTUAL TERRORIST ATTACKS, OR OTHER HOSTILITIES, COULD SIGNIFICANTLY HARM THE AIRLINE INDUSTRY AND THE COMPANY’S OPERATIONS.', 'AIRPORT CAPACITY CONSTRAINTS AND AIR TRAFFIC CONTROL INEFFICIENCIES HAVE LIMITED AND COULD  CONTINUE TO LIMIT THE COMPANY’S GROWTH; CHANGES IN OR ADDITIONAL GOVERNMENTAL REGULATION  COULD INCREASE THE COMPANY’S OPERATING COSTS OR OTHERWISE LIMIT THE COMPANY’S ABILITY TO CONDUCT BUSINESS.', 'THE AIRLINE INDUSTRY IS AFFECTED BY MANY CONDITIONS THAT ARE BEYOND ITS CONTROL, WHICH CAN IMPACT THE COMPANY’S BUSINESS STRATEGIES AND RESULTS OF OPERATIONS.', 'THE AIRLINE INDUSTRY IS INTENSELY COMPETITIVE.', 'THE COMPANY’S FUTURE RESULTS WILL SUFFER IF IT DOES NOT EFFECTIVELY MANAGE ITS EXPANDED INTERNATIONAL OPERATIONS.', 'THE COMPANY IS CURRENTLY SUBJECT TO PENDING LITIGATION, AND IF JUDGMENT WERE TO BE RENDERED AGAINST THE COMPANY IN THE LITIGATION, SUCH JUDGMENT COULD ADVERSELY AFFECT THE COMPANY’S OPERATING RESULTS.', 'ITEM 1B.\\tUNRESOLVED STAFF COMMENTS', 'ITEM 2.\\tPROPERTIES AIRCRAFT', 'AVERAGE AGE NUMBER OF NUMBER NUMBER', 'THE BOEING COMPANY FIRM ORDERS OPTIONS FIRM ORDERS FIRM ORDERS OPTIONS ADDITIONAL -700S\\tTOTAL', 'GROUND FACILITIES AND SERVICES', 'ITEM 3.        LEGAL PROCEEDINGS', 'ITEM 4.        MINE SAFETY DISCLOSURES', 'EXECUTIVE OFFICERS OF THE REGISTRANT', 'PART II ITEM 5.\\tMARKET FOR REGISTRANT’S COMMON EQUITY, RELATED STOCKHOLDER MATTERS, AND ISSUER PURCHASES OF EQUITY SECURITIES', 'STOCK PERFORMANCE GRAPH', 'COMPARISON OF FIVE YEAR CUMULATIVE TOTAL RETURN AMONG SOUTHWEST AIRLINES CO., S&P 500 INDEX, AND NYSE ARCA AIRLINE INDEX', 'ISSUER REPURCHASES', '(A)\\t(B)\\t(C)\\t(D) PERIOD TOTAL NUMBER OF SHARES PURCHASED AVERAGE PRICE PAID PER SHARE TOTAL NUMBER OF SHARES PURCHASED AS PART OF PUBLICLY ANNOUNCED PLANS OR PROGRAMS MAXIMUM DOLLAR VALUE OF SHARES THAT MAY YET BE PURCHASED UNDER THE PLANS OR PROGRAMS', 'ITEM 6.      SELECTED FINANCIAL DATA', 'ITEM 7.\\tMANAGEMENT’S DISCUSSION AND ANALYSIS OF FINANCIAL CONDITION AND RESULTS OF OPERATIONS YEAR IN REVIEW', 'YEAR ENDED DECEMBER 31, PERCENT', 'COMPANY OVERVIEW', '2016 COMPARED WITH 2015 OPERATING REVENUES', 'OPERATING EXPENSES', 'MAXIMUM PERCENT OF ESTIMATED FUEL CONSUMPTION COVERED BY FUEL DERIVATIVE CONTRACTS AT VARYING WEST TEXAS INTERMEDIATE/BRENT CRUDE OIL,', 'FAIR VALUE (LIABILITY) OF FUEL DERIVATIVE CONTRACTS AMOUNT OF GAINS (LOSSES) DEFERRED IN AOCI AT DECEMBER 31,', 'AVERAGE BRENT CRUDE OIL ESTIMATED ECONOMIC JET FUEL PRICE PER GALLON, INCLUDING TAXES', 'OTHER', '2015 COMPARED WITH 2014 OPERATING REVENUES', 'YEAR ENDED DECEMBER 31,\\tPER ASM\\tPERCENT', 'RECONCILIATION OF REPORTED AMOUNTS TO NON-GAAP FINANCIAL MEASURES (UNAUDITED) (IN MILLIONS, EXCEPT PER SHARE AND PER ASM AMOUNTS) YEAR ENDED DECEMBER 31,\\tPERCENT YEAR ENDED DECEMBER 31,\\tPERCENT', 'RETURN ON INVESTED CAPITAL (ROIC) (IN MILLIONS) (UNAUDITED)', 'NOTE REGARDING USE OF NON-GAAP FINANCIAL MEASURES', 'LIQUIDITY AND CAPITAL RESOURCES', 'OFF-BALANCE SHEET ARRANGEMENTS, CONTRACTUAL OBLIGATIONS, AND CONTINGENT LIABILITIES AND COMMITMENTS', 'OBLIGATIONS BY PERIOD (IN MILLIONS)', 'AIRPORT PROJECTS', 'DALLAS LOVE FIELD', 'FORT LAUDERDALE-HOLLYWOOD INTERNATIONAL AIRPORT', 'HOUSTON WILLIAM P. HOBBY AIRPORT', 'LOS ANGELES INTERNATIONAL AIRPORT', 'CRITICAL ACCOUNTING POLICIES AND ESTIMATES', 'REVENUE RECOGNITION', 'ACCOUNTING FOR LONG-LIVED ASSETS', 'FINANCIAL DERIVATIVE INSTRUMENTS', 'FAIR VALUE MEASUREMENTS', 'FREQUENT FLYER ACCOUNTING', 'GOODWILL AND OTHER INTANGIBLE ASSETS', 'ITEM 7A.\\tQUANTITATIVE AND QUALITATIVE DISCLOSURES ABOUT MARKET RISK', 'HEDGING', 'FINANCIAL MARKET RISK', 'PRINCIPAL AMOUNT EFFECTIVE FINAL', 'ITEM 8.\\tFINANCIAL STATEMENTS AND SUPPLEMENTARY DATA', 'SOUTHWEST AIRLINES CO. CONSOLIDATED STATEMENT OF INCOME', 'SOUTHWEST AIRLINES CO. CONSOLIDATED STATEMENT OF COMPREHENSIVE INCOME', 'SOUTHWEST AIRLINES CO. CONSOLIDATED STATEMENT OF STOCKHOLDERS’ EQUITY', 'YEAR ENDED DECEMBER 31, 2016, 2015, AND 2014', 'SOUTHWEST AIRLINES CO. CONSOLIDATED STATEMENT OF CASH FLOWS', 'CASH FLOWS FROM OPERATING ACTIVITIES: YEAR ENDED DECEMBER 31, 2016\\t2015\\t2014', 'SOUTHWEST AIRLINES CO. NOTES TO CONSOLIDATED FINANCIAL STATEMENTS SUMMARY OF SIGNIFICANT ACCOUNTING POLICIES BASIS OF PRESENTATION', 'CASH AND CASH EQUIVALENTS', 'SHORT-TERM AND NONCURRENT INVESTMENTS', 'ACCOUNTS AND OTHER RECEIVABLES', 'INVENTORIES', 'PROPERTY AND EQUIPMENT', 'AIRCRAFT AND ENGINE MAINTENANCE', 'GOODWILL AND INTANGIBLE ASSETS', 'YEAR ENDED DECEMBER 31, 2016  YEAR ENDED DECEMBER 31, 2015 WEIGHTED- (IN MILLIONS) AVERAGE USEFUL LIFE (IN YEARS) GROSS CARRYING AMOUNT ACCUMULATED AMORTIZATION GROSS CARRYING AMOUNT ACCUMULATED AMORTIZATION', 'FREQUENT FLYER PROGRAM', 'ADVERTISING', 'SHARE-BASED EMPLOYEE COMPENSATION', 'SOFTWARE CAPITALIZATION', 'INCOME TAXES', 'CONCENTRATION RISK', 'NEW ACCOUNTING PRONOUNCEMENTS AND ACCOUNTING CHANGES', 'NET INCOME PER SHARE', 'COMMITMENTS AND CONTINGENCIES COMMITMENTS', 'CONTINGENCIES', 'OTHER OPERATING EXPENSES', 'AIRTRAN LONG-TERM DEBT', 'OTHER COMPANY LONG-TERM DEBT', 'LEASES', 'CAPITAL\\tOPERATING LFMP OPERATING (IN MILLIONS) LEASES\\tLEASES (B)       SUBLEASES FACILITY LEASE* LEASES, NET', 'COMMON STOCK', 'STOCK PLANS SHARE-BASED COMPENSATION', 'RESTRICTED STOCK UNITS AND STOCK GRANTS', 'ALL RESTRICTED STOCK UNITS WTD. AVERAGE FAIR VALUE', 'EMPLOYEE STOCK PURCHASE PLAN', 'TAXES', 'FINANCIAL DERIVATIVE INSTRUMENTS FUEL CONTRACTS', 'ASSET DERIVATIVES\\tLIABILITY DERIVATIVES (IN MILLIONS) BALANCE SHEET LOCATION FAIR VALUE AT     12/31/2016 FAIR VALUE AT     12/31/2015 FAIR VALUE AT     12/31/2016 FAIR VALUE AT     12/31/2015 DERIVATIVES DESIGNATED AS HEDGES*', '(IN MILLIONS) BALANCE SHEET LOCATION DECEMBER 31, DECEMBER 31,', 'OFFSETTING OF DERIVATIVE ASSETS', 'DECEMBER 31, 2016\\tDECEMBER 31, 2015 DESCRIPTION', 'BALANCE SHEET LOCATION', 'GROSS AMOUNTS OF RECOGNIZED ASSETS GROSS AMOUNTS OFFSET IN THE BALANCE SHEET NET AMOUNTS OF ASSETS PRESENTED IN THE BALANCE SHEET GROSS AMOUNTS OF RECOGNIZED ASSETS GROSS AMOUNTS OFFSET IN THE BALANCE SHEET NET AMOUNTS OF ASSETS PRESENTED IN THE BALANCE SHEET', 'GROSS AMOUNTS OF RECOGNIZED LIABILITIES GROSS AMOUNTS OFFSET IN THE BALANCE SHEET NET AMOUNTS OF LIABILITIES PRESENTED IN THE BALANCE SHEET GROSS AMOUNTS OF RECOGNIZED LIABILITIES GROSS AMOUNTS OFFSET IN THE BALANCE SHEET NET AMOUNTS OF LIABILITIES PRESENTED IN THE BALANCE SHEET', 'DERIVATIVES IN CASH FLOW HEDGING RELATIONSHIPS (GAIN) LOSS RECOGNIZED IN AOCI ON DERIVATIVES (EFFECTIVE PORTION) YEAR ENDED DECEMBER 31, (GAIN) LOSS RECLASSIFIED FROM AOCI INTO INCOME (EFFECTIVE PORTION)(A) YEAR ENDED DECEMBER 31, (GAIN) LOSS RECOGNIZED IN INCOME ON DERIVATIVES (INEFFECTIVE PORTION)(B) YEAR ENDED DECEMBER 31, (IN MILLIONS)\\t2016\\t2015\\t2016\\t2015\\t2016\\t2015', 'DERIVATIVES NOT IN CASH FLOW HEDGING RELATIONSHIPS (GAIN) LOSS RECOGNIZED IN INCOME ON DERIVATIVES YEAR ENDED DECEMBER 31, LOCATION OF (GAIN) LOSS RECOGNIZED IN INCOME', 'INTEREST RATE SWAPS', 'CREDIT RISK AND COLLATERAL', 'COUNTERPARTY (CP)', 'INVESTMENT GRADE, FAIR VALUE OF FUEL DERIVATIVE LEVEL AT WHICH: IF CREDIT RATING IS NON-INVESTMENT GRADE, FAIR VALUE OF FUEL DERIVATIVE LEVEL AT WHICH:', 'FAIR VALUE MEASUREMENTS AT REPORTING DATE USING: DESCRIPTION\\tDECEMBER 31, 2016 QUOTED PRICES IN ACTIVE MARKETS FOR IDENTICAL ASSETS (LEVEL 1) SIGNIFICANT OTHER OBSERVABLE INPUTS (LEVEL 2) SIGNIFICANT UNOBSERVABLE INPUTS (LEVEL 3)', 'FAIR VALUE MEASUREMENTS AT REPORTING DATE USING: QUOTED PRICES IN ACTIVE MARKETS SIGNIFICANT OTHER OBSERVABLE SIGNIFICANT UNOBSERVABLE DESCRIPTION DECEMBER 31, FOR IDENTICAL ASSETS (LEVEL 1) INPUTS (LEVEL 2) INPUTS (LEVEL 3)', 'FAIR VALUE MEASUREMENTS USING SIGNIFICANT UNOBSERVABLE INPUTS (LEVEL 3)', 'FUEL DERIVATIVES OTHER SECURITIES\\tTOTAL', 'QUANTITATIVE INFORMATION ABOUT LEVEL 3 FAIR VALUE MEASUREMENTS VALUATION TECHNIQUE\\tUNOBSERVABLE INPUT\\tPERIOD (BY YEAR)\\tRANGE', '(IN MILLIONS)\\tCARRYING VALUE ESTIMATED FAIR VALUE FAIR VALUE LEVEL HIERARCHY ACCUMULATED OTHER COMPREHENSIVE INCOME (LOSS)', '(IN MILLIONS) FUEL DERIVATIVES INTEREST RATE DERIVATIVES DEFINED BENEFIT PLAN ITEMS\\tOTHER DEFERRED TAX IMPACT ACCUMULATED OTHER COMPREHENSIVE INCOME (LOSS)', '(IN  MILLIONS) AOCI COMPONENTS', 'YEAR ENDED DECEMBER 31, 2016 AMOUNTS RECLASSIFIED FROM AOCI AFFECTED LINE ITEM IN THE CONSOLIDATED STATEMENT OF COMPREHENSIVE INCOME', 'EMPLOYEE RETIREMENT PLANS DEFINED CONTRIBUTION PLANS', 'POSTRETIREMENT BENEFIT PLANS', 'REPORT OF INDEPENDENT REGISTERED PUBLIC ACCOUNTING FIRM THE BOARD OF DIRECTORS AND SHAREHOLDERS SOUTHWEST AIRLINES CO.', 'QUARTERLY FINANCIAL DATA (UNAUDITED) THREE MONTHS ENDED MARCH 31\\tJUNE 30\\tSEPT. 30\\tDEC. 31', 'ITEM 9.\\tCHANGES IN AND DISAGREEMENTS WITH ACCOUNTANTS ON ACCOUNTING AND FINANCIAL DISCLOSURE', 'ITEM 9A.       CONTROLS AND PROCEDURES', 'ITEM 9B.\\tOTHER INFORMATION', 'PART III ITEM 10.\\tDIRECTORS, EXECUTIVE OFFICERS, AND CORPORATE GOVERNANCE DIRECTORS AND EXECUTIVE OFFICERS', 'SECTION 16(A) COMPLIANCE', 'CORPORATE GOVERNANCE', 'ITEM 11.\\tEXECUTIVE COMPENSATION', 'ITEM 12.\\tSECURITY OWNERSHIP OF CERTAIN BENEFICIAL OWNERS AND MANAGEMENT AND RELATED STOCKHOLDER MATTERS', 'SECURITIES AUTHORIZED FOR ISSUANCE UNDER EQUITY COMPENSATION PLANS', 'EQUITY COMPENSATION PLAN INFORMATION', 'ITEM 13.        CERTAIN RELATIONSHIPS AND RELATED TRANSACTIONS, AND DIRECTOR INDEPENDENCE', 'ITEM 14.        PRINCIPAL ACCOUNTING FEES AND SERVICES', 'PART IV ITEM 15.\\tEXHIBITS AND FINANCIAL STATEMENT SCHEDULES', 'SIGNATURES', 'SIGNATURE\\tTITLE /S/\\tGARY C. KELLY GARY C. KELLY /S/\\tTAMMY ROMO TAMMY ROMO /S/\\tRON RICKS RON RICKS /S/\\tDAVID W. BIEGLER DAVID W. BIEGLER /S/\\tJ. VERONICA BIGGINS J. VERONICA BIGGINS /S/\\tDOUGLAS H. BROOKS DOUGLAS H. BROOKS /S/\\tWILLIAM H. CUNNINGHAM WILLIAM H. CUNNINGHAM /S/\\tJOHN G. DENISON JOHN G. DENISON /S/\\tTHOMAS W. GILLIGAN THOMAS W. GILLIGAN /S/\\tGRACE D. LIEBLEIN GRACE D. LIEBLEIN /S/\\tNANCY B. LOEFFLER NANCY B. LOEFFLER /S/\\tJOHN T. MONTFORD JOHN T. MONTFORD', 'BOARD OF DIRECTORS DAVID W. BIEGLER', 'J. VERONICA BIGGINS', 'DOUGLAS H. BROOKS', 'WILLIAM H. CUNNINGHAM, PHD (PRESIDING DIRECTOR)', 'JOHN G. DENISON', 'THOMAS W. GILLIGAN, PHD', 'GARY C. KELLY', 'GRACE D. LIEBLEIN', 'NANCY B. LOEFFLER', 'JOHN T. MONTFORD, JD', 'RON RICKS', 'HONORARY DESIGNATIONS HERBERT D. KELLEHER', 'CORPORATE INFORMATION SOUTHWEST AIRLINES CO. GENERAL OFFICES', 'FINANCIAL INFORMATION', 'ANNUAL MEETING', 'STOCK EXCHANGE LISTING', 'TRANSFER AGENT AND REGISTRAR', 'INDEPENDENT REGISTERED PUBLIC ACCOUNTING FIRM', '2016 SOUTHWEST AIRLINES ONE REPORT', 'CAUTIONARY STATEMENT REGARDING FORWARD-LOOKING STATEMENTS'])"
      ]
     },
     "execution_count": 58,
     "metadata": {},
     "output_type": "execute_result"
    }
   ],
   "source": [
    "# Optional - View the identified sections\n",
    "sections.keys()"
   ]
  },
  {
   "cell_type": "markdown",
   "metadata": {},
   "source": [
    "### Run this code to check your answers\n",
    "\n",
    "5 of the below 10 sections in the section_headers list are correct. \n",
    "\n",
    "If the set_sections function identifies all five of the correct answers, then the below code will print out each of the five correct sections and the check_answer function in the next cell will print 'Correct Answer'\n",
    "\n",
    "Good Luck!"
   ]
  },
  {
   "cell_type": "code",
   "execution_count": 84,
   "metadata": {},
   "outputs": [
    {
     "name": "stdout",
     "output_type": "stream",
     "text": [
      "SECTION IDENTIFIED: TECHNOLOGY INITIATIVES\n",
      "SECTION IDENTIFIED: REGULATION\n",
      "SECTION IDENTIFIED: FINANCIAL INFORMATION\n",
      "SECTION IDENTIFIED: STOCK EXCHANGE LISTING\n",
      "SECTION IDENTIFIED: AVIATION TAXES AND FEES\n"
     ]
    }
   ],
   "source": [
    "import hashlib\n",
    "\n",
    "section_headers = [\n",
    "      'TECHNOLOGY INITIATIVES'\n",
    "    , 'LITIGATION'\n",
    "    , 'REGULATION'\n",
    "    , 'FINANCIAL INFORMATION'\n",
    "    , 'SEASONALITY AND CYCLICALITY'\n",
    "    , 'COMPETITORS'\n",
    "    , 'REVENUE RECOGNITION FOR MULTIPLE-ELEMENT ARRANGEMENTS—CLOUD SAAS, PAAS AND IAAS OFFERINGS'\n",
    "    , 'STOCK EXCHANGE LISTING'    \n",
    "    , 'AVIATION TAXES AND FEES'\n",
    "    , 'LEGAL CONTINGENCIES'\n",
    "]\n",
    "\n",
    "# identify which of the above 10 sections were identified in the set_sections function\n",
    "# 5 of the 10 should be identified in the correct answer\n",
    "section_answers = []\n",
    "for section in section_headers:\n",
    "    if section in sections.keys():\n",
    "        print('SECTION IDENTIFIED: {}'.format(section))\n",
    "        section_answers.append(section)"
   ]
  },
  {
   "cell_type": "code",
   "execution_count": 85,
   "metadata": {},
   "outputs": [
    {
     "data": {
      "text/plain": [
       "'Correct Answer'"
      ]
     },
     "execution_count": 85,
     "metadata": {},
     "output_type": "execute_result"
    }
   ],
   "source": [
    "def check_answer(section_answers):\n",
    "    \"\"\" check if all of the identified sections are correct \"\"\"\n",
    "    # hash of all 5 correct answers\n",
    "    answers = [\n",
    "          '48084e86a5eb365bd3c15ace77221466fa14eb37a8da46e31c42eb520d7b9182'\n",
    "        , 'c18ba027322b631ffc9dfeedac967f907f7cf9aba45e57c32a0aa1f798973558'\n",
    "        , '03c2ff1e7ca7cd3d007c1996bdb4a855163cf5f2e452999293b614368104eab4'\n",
    "        , '9bfd9c221f652597c1fa3f58735e93cd5c40cee8020bffdc07443d6c742db105'\n",
    "        , '7c3eccefc570963b93e8a11e723f73d1b35e48b68268883169945686a577edaf'\n",
    "    ]\n",
    "        \n",
    "    # check if each provided section is a correct section_header\n",
    "    checked_answer = []\n",
    "    for section in section_answers:\n",
    "        if hashlib.sha256(section.encode()).hexdigest() not in answers:\n",
    "            checked_answer.append(False)\n",
    "        else:\n",
    "            checked_answer.append(True)\n",
    "    \n",
    "    # check that 5 distinct sections were provided \n",
    "    num_distinct_sections = len(set(section_answers))\n",
    "    if num_distinct_sections != 5:\n",
    "        print('INCORRECT ANSWER - ONLY {} OF 5 SECTIONS WERE IDENTIFIED'.format(num_distinct_sections))\n",
    "    \n",
    "    # check if all answers were correct\n",
    "    if all(checked_answer) and len(checked_answer) > 0:\n",
    "        return 'Correct Answer'\n",
    "    return 'Incorrect Answer - {} of the 5 identified sections were incorrect'.format(sum(checked_answer))\n",
    "\n",
    "# check if all identified sections are correct\n",
    "check_answer(section_answers)"
   ]
  }
 ],
 "metadata": {
  "kernelspec": {
   "display_name": "Python [default]",
   "language": "python",
   "name": "python3"
  },
  "language_info": {
   "codemirror_mode": {
    "name": "ipython",
    "version": 3
   },
   "file_extension": ".py",
   "mimetype": "text/x-python",
   "name": "python",
   "nbconvert_exporter": "python",
   "pygments_lexer": "ipython3",
   "version": "3.6.3"
  }
 },
 "nbformat": 4,
 "nbformat_minor": 2
}
