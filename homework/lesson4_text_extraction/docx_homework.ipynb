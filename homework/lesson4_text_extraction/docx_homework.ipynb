{
 "cells": [
  {
   "cell_type": "markdown",
   "metadata": {},
   "source": [
    "# DOCX Homework\n",
    "#### Author: Alex Sherman (alsherman@deloitte.com)"
   ]
  },
  {
   "cell_type": "markdown",
   "metadata": {},
   "source": [
    "In this homework, we will use python-docx to extract and structure the text from a Microsoft Word document.\n",
    "\n",
    "The overall objective (part 3) is to structure the document into sections. As there is no perfect method to define or identify document sections, we will create our own simple hueristics. These include looking if a paragraph contains 'HEADING' styles, uses ALL CAPS, or applied other style like bold or underlined text.\n",
    "\n",
    "In part one and two, we will create and test two helper functions (doesnt_have_text and is_section_header) to help us identify which paragraphs contain useful text and/or are section headers in part 3."
   ]
  },
  {
   "cell_type": "code",
   "execution_count": 3,
   "metadata": {},
   "outputs": [
    {
     "name": "stdout",
     "output_type": "stream",
     "text": [
      "C:\\Users\\[INSERT_YOUR_USERNAME]\\Desktop\\PycharmProjects\\firm_initiatives\\ml_guild\\raw_data\\oracle-corporation\\oracle-corporation_annual_report_2015.docx\n"
     ]
    }
   ],
   "source": [
    "# read the raw data paths from the config.ini file\n",
    "# confirm that the printed DOCX_PATH is the correct location of the data\n",
    "import os\n",
    "import configparser\n",
    "\n",
    "config = configparser.ConfigParser()\n",
    "config.read('../../config.ini')\n",
    "RAW_DATA = config['USER']['RAW_DATA']\n",
    "DOC_PATH = config['DOCX']['DOC_PATH']\n",
    "\n",
    "DOCX_PATH = os.path.join(RAW_DATA, DOC_PATH)\n",
    "\n",
    "print(DOCX_PATH)"
   ]
  },
  {
   "cell_type": "code",
   "execution_count": 4,
   "metadata": {
    "collapsed": true
   },
   "outputs": [],
   "source": [
    "# read the document into docx\n",
    "import docx\n"
   ]
  },
  {
   "cell_type": "markdown",
   "metadata": {},
   "source": [
    "### PART 1: Check if a paragraph contains text\n",
    "\n",
    "Many of the paragraphs in a document are empty strings, not containing useful text. We will want to skip (continue) these paragraphs when structing the document into sections.\n",
    "\n",
    "We will look for two conditions:\n",
    "1. paragraph text is empty\n",
    "2. paragraph text does not contain any letters (e.g. a phone number or ' ____ ')"
   ]
  },
  {
   "cell_type": "code",
   "execution_count": 4,
   "metadata": {
    "collapsed": true
   },
   "outputs": [],
   "source": [
    "def doesnt_have_text(text, contains_alpha=True):\n",
    "    \"\"\" ignore paragraphs that do not contain any text\n",
    "\n",
    "    :param text: text to check for characters\n",
    "    :param alpha only: if True, only keep paragraph that have letters \n",
    "    :return: bool (True) if the paragraph is empty\n",
    "    \"\"\"\n",
    "    \n",
    "    # condition one - check for empty strings\n",
    "\n",
    "    # condition two (make this optional by adding a check if alpha_only)\n",
    "    # ignores phone numbers and string of non-text characters (e.g. '___')\n",
    "    # consider using the string method .isalpha()\n",
    "\n",
    "    # if either condition is met, return True (i.e. doesn't have text)\n",
    "    # else return False\n"
   ]
  },
  {
   "cell_type": "code",
   "execution_count": 6,
   "metadata": {},
   "outputs": [],
   "source": [
    "# run this function to check your answers\n",
    "\n",
    "def check_doesnt_have_text(section_nums, answer):\n",
    "    for section_num in section_nums:\n",
    "        print('YOUR ANSWER: {}'.format(doesnt_have_text(paragraphs[section_num].text)))\n",
    "        print('CORRECT ANSWER: {}'.format(answer))\n",
    "        print('SECTION: {}'.format(paragraphs[section_num].text))\n",
    "        print()    \n",
    "        \n",
    "check_doesnt_have_text(section_nums=[7, 70, 178], answer='True')\n",
    "check_doesnt_have_text(section_nums=[8, 92, 104], answer='False')"
   ]
  },
  {
   "cell_type": "markdown",
   "metadata": {},
   "source": [
    "### PART 2: Check if a paragraph is a section header\n",
    "\n",
    "Each paragraph that contains text will either start a new section (is a section header) or will be added to the text of a section. To make this determination, we will use the function is_section_header to test if the paragraph text meets any of the criteria we set to define a section header.\n",
    "\n",
    "There are many criteria we could create to define a section header. Moreso, it is not worth the effort to perfectly define each section header as that is difficult if not impossible due to inconsistencies in the ways that different documents are structured. As an example, some documents use a Table of Contents, giving sections a 'HEADING' style, other times the document owner just CAPITALIZES or bolds the text of each section.\n",
    "\n",
    "We will check for the four folowing criteria:\n",
    "1. Heading style applied to the paragraph text\n",
    "2. All text is capitalized\n",
    "3. All text is bold\n",
    "4. All text is underlined"
   ]
  },
  {
   "cell_type": "code",
   "execution_count": 40,
   "metadata": {
    "collapsed": true
   },
   "outputs": [],
   "source": [
    "def is_section_header(p, use_headings=True, use_capitalization=True, use_bold=True, use_underline=True):\n",
    "    \"\"\" determine if a paragraph is a section header\n",
    "\n",
    "    :param p: paragraph\n",
    "    :param use_headings: uses a header formatting (e.g. table of contents)\n",
    "    :param use_capitalization: capitalization of every letter often indicates section header\n",
    "    :param use_bold: all words in a sentence are bold\n",
    "    :param use_underline: all words in a sentence are underlined\n",
    "    :return section_header: boolean, True if paragraph is section header\n",
    "\n",
    "    NOTE: there is not an exact method to determine a section header\n",
    "    due to inconsistencies in the way documents are created.\n",
    "    This function uses heuristics (e.g. all CAPS) to determine sections\n",
    "    \"\"\"\n",
    "\n",
    "    # section_header starts as False and is switched to True\n",
    "    # if it meets a section condition\n",
    "\n",
    "    # check if Header formatting is applied to the paragraph style\n",
    "    # make sure to use upper case as 'HEADING' is always uppercase\n",
    "    # NOTE: this is common for sections listed in a table of contents\n",
    "\n",
    "    # check if every letter in a paragraph is capitalized\n",
    "\n",
    "    # check for bold and/or underlines conditions\n",
    "\n",
    "    # iterate through all the runs in a paragraph to check for bold/underlined style\n",
    "\n",
    "        # ignore (use continue) runs that do not contain text\n",
    "        # NOTE: the last run is often an empty string\n",
    "\n",
    "            # add if the text is bold to the bold_runs list\n",
    "            \n",
    "            # add if the text is underlined to the underline_runs list\n",
    "\n",
    "    # all() tests if every item in a list is True\n",
    "    # if all items are True the all() returns True\n",
    "    # thus if all items are bold or all are underlined, \n",
    "    # then section_header is set to True\n"
   ]
  },
  {
   "cell_type": "code",
   "execution_count": 7,
   "metadata": {},
   "outputs": [],
   "source": [
    "# run this function to check your answers\n",
    "\n",
    "def check_section_header_answers(section_nums, answer):\n",
    "    for section_num in section_nums:\n",
    "        print('YOUR ANSWER: {}'.format(is_section_header(paragraphs[section_num])))\n",
    "        print('CORRECT ANSWER: {}'.format(answer))\n",
    "        print('SECTION: {}'.format(paragraphs[section_num].text))\n",
    "        print()    \n",
    "        \n",
    "check_section_header_answers(section_nums=[45,388, 565], answer='True')\n",
    "check_section_header_answers(section_nums=[46,500,545], answer='False')"
   ]
  },
  {
   "cell_type": "markdown",
   "metadata": {},
   "source": [
    "### PART 3: Extract and structure sections\n",
    "\n",
    "In the below exercise, we will create a dictionary named sections that will store all of the extracted sections from the document text.\n",
    "\n",
    "To populate the dict, we will stream through the text using the doesnt_have_text function to confirm retain only useful text and the is_section_header function to identify the start of each new section."
   ]
  },
  {
   "cell_type": "code",
   "execution_count": 126,
   "metadata": {
    "collapsed": true
   },
   "outputs": [],
   "source": [
    "def set_sections(paragraphs):\n",
    "    \"\"\" Iterate through every paragraph in a document and group them into sections.\n",
    "    \n",
    "    Sections are determined by Microsoft Word style formatting and other\n",
    "    optional heuristic parameters (listed below).\n",
    "    \"\"\"\n",
    "\n",
    "    # store all sections in a dict with the section name as\n",
    "    # the key and the section text as the value\n",
    "\n",
    "    # set a name for the first section  to group all the text \n",
    "    # in case the documents has no sections and create an empty\n",
    "    # list to start collecting section text\n",
    "\n",
    "    # iterate through every paragraph \n",
    "    # if there is text, determine if the text should start a new\n",
    "    # section_name or if the text should be added to section_text\n",
    "\n",
    "        # docx stores many paragraph which are not informative\n",
    "        # (e.g. line breaks) ignore these - go to next paragraph\n",
    "\n",
    "            # a new section_name has been found, so combine\n",
    "            # all the section text and add it to the sections dict\n",
    "\n",
    "            # if section_text is empty that means >1 section name \n",
    "            # was found in a row (e.g. section name spans multiple lines)\n",
    "            # these section_names should be combined\n",
    "\n",
    "                # add completed section to sections dict\n",
    "                \n",
    "                # reset name and text for next section\n",
    "                \n",
    "            # keep adding text to section_text until\n",
    "            # a new section starts\n",
    "\n",
    "\n",
    "    # add the text from the final section to sections dict\n"
   ]
  },
  {
   "cell_type": "code",
   "execution_count": 115,
   "metadata": {
    "collapsed": true
   },
   "outputs": [],
   "source": [
    "# Run set sections to store the identified sections\n",
    "sections = set_sections(paragraphs)"
   ]
  },
  {
   "cell_type": "code",
   "execution_count": 128,
   "metadata": {},
   "outputs": [
    {
     "data": {
      "text/plain": [
       "dict_keys(['FIRST SECTION ORACLE CORP FORM 10-K', 'MAIL STOP 5 OP 7 REDWOOD CITY, CA 94065', 'CIK\\t0001341439', 'TABLE OF CONTENTS UNITED STATES SECURITIES AND EXCHANGE COMMISSION WASHINGTON, D.C. 20549 FORM 10-K \\uf8f3\\tANNUAL REPORT PURSUANT TO SECTION 13 OR 15(D) OF THE SECURITIES EXCHANGE ACT OF 1934 FOR THE FISCAL YEAR ENDED MAY 31, 2015 OR TRANSITION REPORT PURSUANT TO SECTION 13 OR 15(D) OF THE SECURITIES EXCHANGE ACT OF 1934 FOR THE TRANSITION PERIOD FROM\\tTO  \\t COMMISSION FILE NUMBER: 001-35992 ORACLE CORPORATION (EXACT NAME OF REGISTRANT AS SPECIFIED IN ITS CHARTER) DELAWARE\\t54-2185193 (STATE OR OTHER JURISDICTION OF INCORPORATION OR ORGANIZATION) 500 ORACLE PARKWAY (I.R.S. EMPLOYER IDENTIFICATION NO.) REDWOOD CITY, CALIFORNIA\\t94065 (ADDRESS OF PRINCIPAL EXECUTIVE OFFICES)\\t(ZIP CODE) (REGISTRANT’S TELEPHONE NUMBER, INCLUDING AREA CODE) SECURITIES REGISTERED PURSUANT TO SECTION 12(B) OF THE ACT: TITLE OF EACH CLASS\\tNAME OF EACH EXCHANGE ON WHICH REGISTERED', 'SECURITIES REGISTERED PURSUANT TO SECTION 12(G) OF THE ACT:', 'DOCUMENTS INCORPORATED BY REFERENCE:', 'ORACLE CORPORATION FISCAL YEAR 2015 FORM 10-K ANNUAL REPORT CAUTIONARY NOTE ON FORWARD-LOOKING STATEMENTS', 'PART I ITEM 1.   BUSINESS', 'APPLICATION, PLATFORM AND INFRASTRUCTURE TECHNOLOGIES', 'APPLICATION AND PLATFORM TECHNOLOGIES', 'APPLICATION TECHNOLOGIES', 'ORACLE SOFTWARE AS A SERVICE (SAAS)', 'ORACLE APPLICATIONS', 'PLATFORM TECHNOLOGIES', 'ORACLE PLATFORM AS A SERVICE (PAAS)', 'ORACLE DATABASE', 'ORACLE FUSION MIDDLEWARE', 'JAVA', 'SOFTWARE LICENSE UPDATES AND PRODUCT SUPPORT', 'CLOUD INFRASTRUCTURE AS A SERVICE (IAAS)', 'INFRASTRUCTURE TECHNOLOGIES', 'ORACLE ENGINEERED SYSTEMS', 'SERVERS', 'STORAGE', 'NETWORKING AND DATA CENTER FABRIC PRODUCTS', 'INDUSTRY SPECIFIC HARDWARE OFFERINGS', 'ORACLE SOLARIS AND ORACLE LINUX OPERATING SYSTEMS, VIRTUALIZATION AND OTHER HARDWARE-RELATED SOFTWARE', 'MANAGEMENT SOFTWARE', 'HARDWARE SYSTEMS SUPPORT', 'SERVICES', 'MARKETING AND SALES', 'SEASONALITY AND CYCLICALITY', 'COMPETITION', 'MANUFACTURING', 'RESEARCH AND DEVELOPMENT', 'EMPLOYEES', 'AVAILABLE INFORMATION', 'EXECUTIVE OFFICERS OF THE REGISTRANT', 'NAME\\tOFFICE(S)', 'ITEM 1A.   RISK FACTORS', 'OUR HARDWARE SYSTEMS REVENUES AND PROFITABILITY COULD DECLINE IF WE DO NOT MANAGE THE RISKS ASSOCIATED WITH OUR HARDWARE SYSTEMS BUSINESS.', 'ITEM 1B.   UNRESOLVED STAFF COMMENTS', 'ITEM 2.   PROPERTIES', 'ITEM 3.   LEGAL PROCEEDINGS', 'ITEM 4.   MINE SAFETY DISCLOSURES', 'PART II ITEM 5.\\tMARKET FOR REGISTRANT’S COMMON EQUITY, RELATED STOCKHOLDER MATTERS AND ISSUER PURCHASES OF EQUITY SECURITIES', 'FISCAL 2015\\t\\t\\tFISCAL 2014 LOW SALE HIGH SALE LOW SALE HIGH SALE', 'STOCK REPURCHASE PROGRAMS', 'STOCK PERFORMANCE GRAPH AND CUMULATIVE TOTAL RETURN', '*$100 INVESTED ON MAY 31, 2010 IN STOCK OR INDEX-INCLUDING REINVESTMENT OF DIVIDENDS ITEM 6.   SELECTED FINANCIAL DATA', 'AS OF AND FOR THE YEAR ENDED MAY 31,', 'ITEM 7.   MANAGEMENT’S DISCUSSION AND ANALYSIS OF FINANCIAL CONDITION AND RESULTS OF OPERATIONS', 'BUSINESS OVERVIEW', 'SOFTWARE AND CLOUD BUSINESS', 'HARDWARE SYSTEMS BUSINESS', 'SERVICES BUSINESS', 'ACQUISITIONS', 'CRITICAL ACCOUNTING POLICIES AND ESTIMATES', 'REVENUE RECOGNITION', 'REVENUE RECOGNITION FOR SOFTWARE PRODUCTS AND SOFTWARE RELATED SERVICES (SOFTWARE ELEMENTS)', 'REVENUE RECOGNITION FOR CLOUD SAAS, PAAS AND IAAS OFFERINGS, HARDWARE SYSTEMS PRODUCTS, HARDWARE SYSTEMS SUPPORT AND RELATED SERVICES (NONSOFTWARE ELEMENTS)', 'REVENUE RECOGNITION POLICIES APPLICABLE TO BOTH SOFTWARE AND NONSOFTWARE ELEMENTS', 'BUSINESS COMBINATIONS', 'GOODWILL AND INTANGIBLE ASSETS — IMPAIRMENT ASSESSMENTS', 'ACCOUNTING FOR INCOME TAXES', 'LEGAL AND OTHER CONTINGENCIES', 'STOCK-BASED COMPENSATION', 'RESULTS OF OPERATIONS IMPACT OF ACQUISITIONS', 'CONSTANT CURRENCY PRESENTATION', 'TOTAL REVENUES AND OPERATING EXPENSES YEAR ENDED MAY 31, PERCENT CHANGE\\tPERCENT CHANGE (DOLLARS IN MILLIONS)\\t2015\\tACTUAL\\tCONSTANT\\t2014\\tACTUAL\\tCONSTANT\\t2013', 'SUPPLEMENTAL DISCLOSURE RELATED TO CERTAIN CHARGES', 'YEAR ENDED MAY 31,', 'YEAR ENDED MAY 31, PERCENT CHANGE\\tPERCENT CHANGE', 'YEAR ENDED MAY 31, PERCENT CHANGE\\tPERCENT CHANGE (DOLLARS IN MILLIONS)\\t2015\\tACTUAL\\tCONSTANT\\t2014\\tACTUAL\\tCONSTANT\\t2013', 'AMORTIZATION OF INTANGIBLE ASSETS: YEAR ENDED MAY 31, PERCENT CHANGE\\tPERCENT CHANGE', 'INTEREST EXPENSE:', 'RECENT FINANCING ACTIVITIES:', 'SELECTED QUARTERLY FINANCIAL DATA', 'RECENT ACCOUNTING PRONOUNCEMENTS', 'ITEM 7A.   QUANTITATIVE AND QUALITATIVE DISCLOSURES ABOUT MARKET RISK CASH, CASH EQUIVALENTS, MARKETABLE SECURITIES AND INTEREST INCOME RISK', 'MAY 31, WEIGHTED WEIGHTED (DOLLARS IN MILLIONS)\\tFAIR VALUE AVERAGE INTEREST RATE\\tFAIR VALUE AVERAGE INTEREST RATE', 'INTEREST EXPENSE RISK INTEREST EXPENSE RISK — FIXED TO VARIABLE INTEREST RATE SWAP AGREEMENTS', 'CURRENCY RISK FOREIGN CURRENCY TRANSACTION AND TRANSLATION RISKS — FOREIGN CURRENCY BORROWINGS AND RELATED HEDGES', 'FOREIGN CURRENCY TRANSACTION RISK — FOREIGN CURRENCY FORWARD CONTRACTS', 'FOREIGN CURRENCY TRANSLATION RISK—IMPACT ON CASH, CASH EQUIVALENTS AND MARKETABLE SECURITIES', 'ITEM 8.   FINANCIAL STATEMENTS AND SUPPLEMENTARY DATA', 'ITEM 9.\\tCHANGES IN AND DISAGREEMENTS WITH ACCOUNTANTS ON ACCOUNTING AND FINANCIAL DISCLOSURE', 'ITEM 9A.   CONTROLS AND PROCEDURES EVALUATION OF DISCLOSURE CONTROLS AND PROCEDURES', 'MANAGEMENT’S REPORT ON INTERNAL CONTROL OVER FINANCIAL REPORTING', 'CHANGES IN INTERNAL CONTROL OVER FINANCIAL REPORTING', 'INHERENT LIMITATIONS ON EFFECTIVENESS OF CONTROLS', 'ITEM 9B.   OTHER INFORMATION', 'PART III ITEM 10.\\tDIRECTORS, EXECUTIVE OFFICERS AND CORPORATE GOVERNANCE', 'ITEM 11.\\tEXECUTIVE COMPENSATION', 'ITEM 12.\\tSECURITY OWNERSHIP OF CERTAIN BENEFICIAL OWNERS AND MANAGEMENT AND RELATED STOCKHOLDER MATTERS', 'ITEM 13.\\tCERTAIN RELATIONSHIPS AND RELATED TRANSACTIONS, AND DIRECTOR INDEPENDENCE', 'ITEM 14.\\tPRINCIPAL ACCOUNTANT FEES AND SERVICES', 'PART IV ITEM 15.\\tEXHIBITS AND FINANCIAL STATEMENT SCHEDULES 1. FINANCIAL STATEMENTS', 'PAGE', '2. FINANCIAL STATEMENT SCHEDULES', 'EXHIBITS', 'CONSOLIDATED STATEMENTS OF OPERATIONS FOR THE YEARS ENDED MAY 31, 2015, 2014 AND 2013', 'CONSOLIDATED STATEMENTS OF COMPREHENSIVE INCOME FOR THE YEARS ENDED MAY 31, 2015, 2014 AND 2013 YEAR ENDED MAY 31, (IN MILLIONS)\\t2015\\t2014\\t2013', 'CONSOLIDATED STATEMENTS OF EQUITY FOR THE YEARS ENDED MAY 31, 2015, 2014 AND 2013', 'CONSOLIDATED STATEMENTS OF CASH FLOWS FOR THE YEARS ENDED MAY 31, 2015, 2014 AND 2013 YEAR ENDED MAY 31, (IN MILLIONS)\\t2015\\t2014\\t2013', 'NOTES TO CONSOLIDATED FINANCIAL STATEMENTS MAY 31, 2015 ORGANIZATION AND SIGNIFICANT ACCOUNTING POLICIES', 'BASIS OF FINANCIAL STATEMENTS', 'USE OF ESTIMATES', 'REVENUE RECOGNITION FOR MULTIPLE-ELEMENT ARRANGEMENTS—SOFTWARE PRODUCTS AND SOFTWARE RELATED SERVICES (SOFTWARE ARRANGEMENTS)', 'REVENUE RECOGNITION FOR MULTIPLE-ELEMENT ARRANGEMENTS—CLOUD SAAS, PAAS AND IAAS OFFERINGS, HARDWARE SYSTEMS PRODUCTS, HARDWARE SYSTEMS SUPPORT AND RELATED SERVICES (NONSOFTWARE ARRANGEMENTS)', 'REVENUE RECOGNITION POLICIES APPLICABLE TO BOTH SOFTWARE AND NONSOFTWARE ELEMENTS REVENUE RECOGNITION FOR MULTIPLE-ELEMENT ARRANGEMENTS—ARRANGEMENTS WITH SOFTWARE AND NONSOFTWARE ELEMENTS', 'OTHER REVENUE RECOGNITION POLICIES APPLICABLE TO SOFTWARE AND NONSOFTWARE ELEMENTS', 'MARKETABLE AND NON-MARKETABLE SECURITIES', 'FAIR VALUES OF FINANCIAL INSTRUMENTS', 'ALLOWANCES FOR DOUBTFUL ACCOUNTS', 'CONCENTRATIONS OF RISK', 'INVENTORIES', 'OTHER RECEIVABLES', 'DEFERRED SALES COMMISSIONS', 'PROPERTY, PLANT AND EQUIPMENT', 'GOODWILL, INTANGIBLE ASSETS AND IMPAIRMENT ASSESSMENTS', 'DERIVATIVE FINANCIAL INSTRUMENTS', 'LEGAL CONTINGENCIES', 'SHIPPING AND HANDLING COSTS', 'FOREIGN CURRENCY', 'ADVERTISING', 'RESEARCH AND DEVELOPMENT AND SOFTWARE DEVELOPMENT COSTS', 'ACQUISITION RELATED AND OTHER EXPENSES', 'NON-OPERATING INCOME (EXPENSE), NET', 'INCOME TAXES', 'ACQUISITIONS ACQUISITION OF MICROS SYSTEMS, INC.', 'OTHER FISCAL 2015 ACQUISITIONS', 'FISCAL 2014 ACQUISITIONS ACQUISITION OF RESPONSYS, INC.', 'OTHER FISCAL 2014 ACQUISITIONS', 'FISCAL 2013 ACQUISITIONS ACQUISITION OF ACME PACKET, INC.', 'ACQUISITION OF ELOQUA, INC.', 'OTHER FISCAL 2013 ACQUISITIONS', 'CONTINGENT CONSIDERATION RELATED TO THE ACQUISITION OF PILLAR DATA SYSTEMS, INC.', 'UNAUDITED PRO FORMA FINANCIAL INFORMATION', 'YEAR ENDED MAY 31, CASH, CASH EQUIVALENTS AND MARKETABLE SECURITIES', 'MAY 31, (IN MILLIONS)\\t2015\\t2014', 'FAIR VALUE MEASUREMENTS', 'ASSETS AND LIABILITIES MEASURED AT FAIR VALUE ON A RECURRING BASIS', 'MAY 31, 2015\\t\\t\\tMAY 31, 2014 FAIR VALUE MEASUREMENTS USING INPUT TYPES FAIR VALUE MEASUREMENTS USING INPUT TYPES (IN MILLIONS)\\tLEVEL 1\\tLEVEL 2\\tTOTAL\\tLEVEL 1\\tLEVEL 2\\tTOTAL', '(DOLLARS IN MILLIONS) ESTIMATED USEFUL LIFE MAY 31, \\t\\t 2015\\t\\t2014', 'INTANGIBLE ASSETS, GROSS\\t\\tACCUMULATED AMORTIZATION\\tINTANGIBLE ASSETS, NET\\tWEIGHTED', 'NOTES PAYABLE AND OTHER BORROWINGS', 'MAY 31, (DOLLARS IN MILLIONS)\\t2015\\t2014', 'SENIOR NOTES AND OTHER', 'COMMERCIAL PAPER PROGRAM AND COMMERCIAL PAPER NOTES', 'REVOLVING CREDIT AGREEMENTS', 'RESTRUCTURING ACTIVITIES FISCAL 2015 ORACLE RESTRUCTURING PLAN', 'FISCAL 2013 ORACLE RESTRUCTURING PLAN', 'FISCAL 2014 ACTIVITY ACCRUED YEAR ENDED MAY 31, 2014 \\t\\tACCRUED FISCAL 2013 ACTIVITY ACCRUED YEAR ENDED MAY 31, 2013 \\t\\tACCRUED', 'DEFERRED REVENUES', 'DERIVATIVE FINANCIAL INSTRUMENTS FAIR VALUE HEDGES — INTEREST RATE SWAP AGREEMENTS', 'CASH FLOW HEDGES — CROSS CURRENCY SWAP AGREEMENTS', 'NET INVESTMENT HEDGE — FOREIGN CURRENCY BORROWINGS', 'FOREIGN CURRENCY FORWARD CONTRACTS NOT DESIGNATED AS HEDGES', 'FAIR VALUES OF DERIVATIVE AND NON-DERIVATIVE INSTRUMENTS DESIGNATED AS HEDGES IN CONSOLIDATED BALANCE SHEETS MAY 31, 2015\\t\\tMAY 31, 2014 (IN MILLIONS)\\tBALANCE SHEET LOCATION FAIR VALUE\\tBALANCE SHEET LOCATION\\tFAIR VALUE', 'EFFECTS OF DERIVATIVE AND NON-DERIVATIVE INSTRUMENTS DESIGNATED AS HEDGES ON INCOME AND OTHER COMPREHENSIVE INCOME (OCI) OR LOSS (OCL) AMOUNT OF (LOSS) GAIN RECOGNIZED IN ACCUMULATED OCI OR OCL (EFFECTIVE PORTION) LOCATION AND AMOUNT OF (LOSS) GAIN RECLASSIFIED FROM ACCUMULATED OCI OR OCL INTO INCOME (EFFECTIVE PORTION)', 'LOCATION AND AMOUNT OF GAIN (LOSS) RECOGNIZED IN INCOME ON DERIVATIVE LOCATION AND AMOUNT OF (LOSS) GAIN ON HEDGED ITEM RECOGNIZED  IN INCOME ATTRIBUTABLE TO RISK BEING HEDGED YEAR ENDED MAY 31,\\tYEAR ENDED MAY 31, (IN MILLIONS)\\t2015\\t2014\\t2015\\t2014 COMMITMENTS AND CERTAIN CONTINGENCIES LEASE COMMITMENTS', 'UNCONDITIONAL OBLIGATIONS', 'GUARANTEES', 'STOCKHOLDERS’ EQUITY STOCK REPURCHASES', 'DIVIDENDS ON COMMON STOCK', 'ACCUMULATED OTHER COMPREHENSIVE LOSS', 'EMPLOYEE BENEFIT PLANS STOCK-BASED COMPENSATION PLANS STOCK PLANS', 'OPTIONS OUTSTANDING', 'RESTRICTED STOCK-BASED AWARDS OUTSTANDING WEIGHTED AVERAGE (IN MILLIONS, EXCEPT FAIR VALUE) NUMBER OF SHARES GRANT DATE FAIR VALUE', 'STOCK-BASED COMPENSATION EXPENSE AND VALUATION OF STOCK AWARDS', 'YEAR ENDED MAY 31, TAX BENEFITS FROM EXERCISE OF STOCK OPTIONS AND VESTING OF RESTRICTED STOCK-BASED AWARDS', 'EMPLOYEE STOCK PURCHASE PLAN', 'DEFINED CONTRIBUTION AND OTHER POSTRETIREMENT PLANS', 'SEGMENT INFORMATION', 'GEOGRAPHIC INFORMATION', 'EARNINGS PER SHARE', 'LEGAL PROCEEDINGS HEWLETT-PACKARD COMPANY LITIGATION', 'SAP INTELLECTUAL PROPERTY LITIGATION', 'OTHER LITIGATION', 'SCHEDULE II ORACLE CORPORATION VALUATION AND QUALIFYING ACCOUNTS SIGNATURES', 'ORACLE CORPORATION', 'NAME\\t\\tTITLE\\tDATE', 'ORACLE CORPORATION INDEX OF EXHIBITS', 'EXHIBIT INCORPORATED BY REFERENCE \\t\\tFILED NO.\\tEXHIBIT DESCRIPTION\\tFORM\\t\\tFILE NO.\\tEXHIBIT     FILING DATE\\tFILED BY\\tHEREWITH', 'NO.\\tEXHIBIT DESCRIPTION\\tFORM\\tFILE NO.\\tEXHIBIT       FILING DATE\\tFILED BY\\tHEREWITH NO.\\tEXHIBIT DESCRIPTION\\tFORM\\tFILE NO.\\tEXHIBIT       FILING DATE\\tFILED BY\\tHEREWITH', 'X', 'X X NO.\\tEXHIBIT DESCRIPTION\\tFORM\\tFILE NO.\\tEXHIBIT       FILING DATE\\tFILED BY\\tHEREWITH', 'ORACLE CORPORATION DIRECTORS’ STOCK OPTION GRANT THIS OPTION IS NOT TRANSFERABLE EXHIBIT 10.06', '(“VEST DATE”)\\tBUT BEFORE:\\tNUMBER OF SHARES', 'ORACLE CORPORATION\\tOPTIONEE', 'DIRECTORS’ STOCK OPTION GRANT TERMS AND CONDITIONS', 'MANNER OF EXERCISE.', 'EXHIBIT A ORACLE CORPORATION STOCK OPTION EXERCISE NOTICE AND AGREEMENT', 'ORACLE CORPORATION DIRECTORS’ STOCK UNIT AWARD NOTICE THIS AWARD IS NOT TRANSFERABLE EXHIBIT 10.17', '(“VEST DATE”)\\tNUMBER OF SHARES', 'ORACLE CORPORATION\\tPARTICIPANT', 'ORACLE CORPORATION AMENDED AND RESTATED 1993 DIRECTORS’ STOCK PLAN DIRECTORS’ STOCK UNIT TERMS AND CONDITIONS', 'CONOSOLIDATED RATIO OF EARNINGS TO FIXED CHARGES (UNAUDITED) FIXED CHARGES (2)', 'CONSENT OF INDEPENDENT REGISTERED PUBLIC ACCOUNTING FIRM', 'CERTIFICATION OF PRINCIPAL EXECUTIVE OFFICER PURSUANT TO EXCHANGE ACT RULE 13A-14(A)/15D-14(A) AS ADOPTED PURSUANT TO SECTION 302 OF THE SARBANES-OXLEY ACT OF 2002', 'CERTIFICATION OF PRINCIPAL EXECUTIVE AND FINANCIAL OFFICER PURSUANT TO EXCHANGE ACT RULE 13A-14(A)/15D-14(A) AS ADOPTED PURSUANT TO SECTION 302 OF THE SARBANES-OXLEY ACT OF 2002', 'CERTIFICATION OF PRINCIPAL EXECUTIVE OFFICERS AND PRINCIPAL FINANCIAL OFFICER PURSUANT TO 18 U.S.C. SECTION 1350 AS ADOPTED PURSUANT TO SECTION 906 OF THE SARBANES-OXLEY ACT OF 2002'])"
      ]
     },
     "execution_count": 128,
     "metadata": {},
     "output_type": "execute_result"
    }
   ],
   "source": [
    "# Optional - View the identified sections\n",
    "sections.keys()"
   ]
  },
  {
   "cell_type": "markdown",
   "metadata": {},
   "source": [
    "### Run this code to check your answers\n",
    "\n",
    "5 of the below 10 sections are correct in the section_headers list are correct. If the set_sections function identifies all five of the correct answers, then the below code will print out each of the five correct sections and print 'Correct Answer'\n",
    "\n",
    "Good Luck!"
   ]
  },
  {
   "cell_type": "code",
   "execution_count": 124,
   "metadata": {},
   "outputs": [
    {
     "name": "stdout",
     "output_type": "stream",
     "text": [
      "SECTION IDENTIFIED: 2. FINANCIAL STATEMENT SCHEDULES\n",
      "SECTION IDENTIFIED: FIRST SECTION ORACLE CORP FORM 10-K\n",
      "SECTION IDENTIFIED: MARKETING AND SALES\n",
      "SECTION IDENTIFIED: SEASONALITY AND CYCLICALITY\n",
      "SECTION IDENTIFIED: LEGAL CONTINGENCIES\n"
     ]
    },
    {
     "data": {
      "text/plain": [
       "'Correct Answer'"
      ]
     },
     "execution_count": 124,
     "metadata": {},
     "output_type": "execute_result"
    }
   ],
   "source": [
    "import hashlib\n",
    "\n",
    "section_headers = [\n",
    "      '2. FINANCIAL STATEMENT SCHEDULES'\n",
    "    , 'FIRST SECTION ORACLE CORP FORM 10-K'\n",
    "    , 'ORACLE APPLICATION'\n",
    "    , 'PLATFORM TECHNOLOGY'\n",
    "    , 'MARKETING AND SALES'\n",
    "    , 'SEASONALITY AND CYCLICALITY'\n",
    "    , 'COMPETITORS'\n",
    "    , 'REVENUE RECOGNITION FOR MULTIPLE-ELEMENT ARRANGEMENTS—CLOUD SAAS, PAAS AND IAAS OFFERINGS'\n",
    "    , 'LEGAL CONTINGENCIES'\n",
    "    , 'LITIGATION'\n",
    "]\n",
    "\n",
    " \n",
    "def check_answer(section_answers):\n",
    "    \"\"\" check if all of the identified sections are correct \"\"\"\n",
    "    # hash of all 5 correct answers\n",
    "    answers = [\n",
    "        'b09a40f412075a5172c2dddb8fcfe6e3adbf1c15e95a3545edb4f9a7deb8a99c'\n",
    "        , '42d983f056c3258496bd56710be63acc94d8f3b34cddb40a00bfb73fb6569046'\n",
    "        , '87e2d8aa4ef694c90cd75bd70d2522a8c89db87913a10732b6a78b6a454b59e0'\n",
    "        , '29e15326a55259af5246041e58609bd4a77d05260b0b4be4878567f1bd21a7cc'\n",
    "        , 'bbae872247b4d219b7e3c4591860a323af12898bbd107a0348c73f52dbb5ef72'\n",
    "    ]\n",
    "    \n",
    "    # check if each provided section is a correct section_header\n",
    "    checked_answer = []\n",
    "    for section in section_answers:\n",
    "        if hashlib.sha256(section.encode()).hexdigest() not in answers:\n",
    "            checked_answer.append(False)\n",
    "    checked_answer.append(True)\n",
    "    \n",
    "    # check that 5 distinct sections were provided \n",
    "    num_distinct_sections = len(set(section_answers))\n",
    "    if num_distinct_sections != 5:\n",
    "        print('INCORRECT ANSWER - ONLY {} OF 5 SECTIONS WERE IDENTIFIED'.format(num_distinct_sections))\n",
    "    \n",
    "    # check if all answers were correct\n",
    "    if all(checked_answer):\n",
    "        return 'Correct Answer'\n",
    "    return 'Incorrect Answer - {} of the 5 identified sections were incorrect'.format(len(checked_answer))\n",
    "\n",
    "\n",
    "# identify which of the above 10 sections were identified in the set_sections function\n",
    "# 5 of the 10 should be identified in the correct answer\n",
    "section_answers = []\n",
    "for section in section_headers:\n",
    "    if section in sections.keys():\n",
    "        print('SECTION IDENTIFIED: {}'.format(section))\n",
    "        section_answers.append(section)\n",
    "\n",
    "# check if all identified sections are correct\n",
    "check_answer(section_answers)"
   ]
  }
 ],
 "metadata": {
  "kernelspec": {
   "display_name": "Python 3",
   "language": "python",
   "name": "python3"
  },
  "language_info": {
   "codemirror_mode": {
    "name": "ipython",
    "version": 3
   },
   "file_extension": ".py",
   "mimetype": "text/x-python",
   "name": "python",
   "nbconvert_exporter": "python",
   "pygments_lexer": "ipython3",
   "version": "3.6.2"
  }
 },
 "nbformat": 4,
 "nbformat_minor": 2
}
