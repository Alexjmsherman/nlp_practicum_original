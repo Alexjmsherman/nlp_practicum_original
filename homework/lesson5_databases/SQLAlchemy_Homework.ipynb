{
 "cells": [
  {
   "cell_type": "markdown",
   "metadata": {},
   "source": [
    "# SQLAlchemy Homework"
   ]
  },
  {
   "cell_type": "markdown",
   "metadata": {},
   "source": [
    "#### Create a Documents table with the following information"
   ]
  },
  {
   "cell_type": "code",
   "execution_count": null,
   "metadata": {
    "collapsed": true
   },
   "outputs": [],
   "source": [
    "# provide a class name for the database table\n",
    "class Documents(Base):\n",
    "\n",
    "    # provide a name used in SQL to query the table\n",
    "    __tablename__ = 'DOCUMENTS'\n",
    "\n",
    "    # provide column names and data types\n",
    "    # for each field in the database\n",
    "    # additional paramater are available for the columns\n",
    "    # and data types\n",
    "    document_id = Column(Integer(), primary_key=True)\n",
    "    path = Column(Text())\n",
    "    filename = Column(Text())\n",
    "    document_text = Column(Text())\n",
    "    table_text = Column(Text())\n",
    "    last_modified_by = Column(Text())\n",
    "    author = Column(Text())\n",
    "    created = Column(Text())\n",
    "    last_printed = Column(Text())\n",
    "    revision = Column(Text())\n",
    "    num_tables = Column(Text())"
   ]
  },
  {
   "cell_type": "markdown",
   "metadata": {},
   "source": [
    "#### Create a Sections table with the following information"
   ]
  },
  {
   "cell_type": "code",
   "execution_count": null,
   "metadata": {
    "collapsed": true
   },
   "outputs": [],
   "source": [
    "class Sections(Base):\n",
    "    __tablename__ = 'SECTIONS'\n",
    "\n",
    "    section_id = Column(Integer(), primary_key=True)\n",
    "    filename = Column(Text())\n",
    "    section_name = Column(Text())\n",
    "    section_text = Column(Text())"
   ]
  },
  {
   "cell_type": "code",
   "execution_count": 1,
   "metadata": {
    "collapsed": true
   },
   "outputs": [],
   "source": [
    "### Create Database"
   ]
  },
  {
   "cell_type": "code",
   "execution_count": null,
   "metadata": {
    "collapsed": true
   },
   "outputs": [],
   "source": [
    "from sqlalchemy import Column, Text, Integer\n",
    "from sqlalchemy.ext.declarative import declarative_base\n",
    "from sqlalchemy import create_engine\n",
    "from sqlalchemy.orm import sessionmaker\n",
    "\n",
    "\n",
    "DB_PATH = r'sqlite:///C:\\Users\\alsherman\\PycharmProjects\\annual_report\\database\\test.db'\n",
    "\n",
    "# inherit the functionality to create a database\n",
    "base = declarative_base()\n",
    "\n",
    "# define a table for our database\n",
    "class AnnualReport(base):\n",
    "    __tablename__ = 'Annual_Report'\n",
    "    annual_report_id = Column(Integer, primary_key=True)\n",
    "    company = Column(Text())\n",
    "    report_name = Column(Text())\n",
    "    report_year = Column(Integer())\n",
    "    section_name = Column(Text())\n",
    "    section_text = Column(Text())\n",
    "    section_type = Column(Text())\n",
    "\n",
    "\n",
    "# instantiate the database connection\n",
    "engine = create_engine(DB_PATH)\n",
    "\n",
    "# create the tables in the database\n",
    "base.metadata.create_all(engine)"
   ]
  },
  {
   "cell_type": "code",
   "execution_count": null,
   "metadata": {
    "collapsed": true
   },
   "outputs": [],
   "source": [
    "### Populate the tables"
   ]
  },
  {
   "cell_type": "code",
   "execution_count": null,
   "metadata": {
    "collapsed": true
   },
   "outputs": [],
   "source": [
    "from sqlalchemy import create_engine\n",
    "from sqlalchemy.orm import sessionmaker\n",
    "import pandas as pd\n",
    "\n",
    "DB_PATH = r'sqlite:///C:\\Users\\alsherman\\PycharmProjects\\annual_report\\database\\test.db'\n",
    "\n",
    "\n",
    "# create object to query database\n",
    "engine = create_engine(DB_PATH)\n",
    "Session = sessionmaker(bind=engine)\n",
    "session = Session()\n",
    "\n",
    "data = [['company1','annual_report1','2017'],['company2','annual_report2','2017']]\n",
    "\n",
    "for row in data:\n",
    "    annual_report = AnnualReport(\n",
    "        company=row[0]\n",
    "        , report_name=row[1]\n",
    "        , report_year=row[2]\n",
    "    )\n",
    "    session.add(annual_report)\n",
    "\n",
    "# commit (save) all annual reports to the database\n",
    "session.commit()\n",
    "\n",
    "# query database to check if data was added\n",
    "result = session.query(AnnualReport).all()\n",
    "for row in result:\n",
    "    print(row.report_name)\n",
    "    print(row.report_year)\n",
    "\n",
    "df = pd.read_sql('SELECT * FROM Annual_Report' , engine)"
   ]
  }
 ],
 "metadata": {
  "kernelspec": {
   "display_name": "Python [default]",
   "language": "python",
   "name": "python3"
  },
  "language_info": {
   "codemirror_mode": {
    "name": "ipython",
    "version": 3
   },
   "file_extension": ".py",
   "mimetype": "text/x-python",
   "name": "python",
   "nbconvert_exporter": "python",
   "pygments_lexer": "ipython3",
   "version": "3.6.3"
  }
 },
 "nbformat": 4,
 "nbformat_minor": 2
}
