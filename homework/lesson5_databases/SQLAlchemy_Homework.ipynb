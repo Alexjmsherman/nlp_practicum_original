{
 "cells": [
  {
   "cell_type": "markdown",
   "metadata": {},
   "source": [
    "# SQLAlchemy Homework"
   ]
  },
  {
   "cell_type": "markdown",
   "metadata": {},
   "source": [
    "#### Create a Documents table with the following information"
   ]
  },
  {
   "cell_type": "code",
   "execution_count": null,
   "metadata": {
    "collapsed": true
   },
   "outputs": [],
   "source": [
    "# provide a class name for the database table\n",
    "class Documents(Base):\n",
    "\n",
    "    # provide a name used in SQL to query the table\n",
    "    __tablename__ = 'DOCUMENTS'\n",
    "\n",
    "    # provide column names and data types\n",
    "    # for each field in the database\n",
    "    # additional paramater are available for the columns\n",
    "    # and data types\n",
    "    document_id = Column(Integer(), primary_key=True)\n",
    "    path = Column(Text())\n",
    "    filename = Column(Text())\n",
    "    document_text = Column(Text())\n",
    "    table_text = Column(Text())\n",
    "    last_modified_by = Column(Text())\n",
    "    author = Column(Text())\n",
    "    created = Column(Text())\n",
    "    last_printed = Column(Text())\n",
    "    revision = Column(Text())\n",
    "    num_tables = Column(Text())\n",
    "    \n"
   ]
  },
  {
   "cell_type": "markdown",
   "metadata": {},
   "source": [
    "#### Create a Sections table with the following information"
   ]
  },
  {
   "cell_type": "code",
   "execution_count": null,
   "metadata": {
    "collapsed": true
   },
   "outputs": [],
   "source": [
    "class Sections(Base):\n",
    "    __tablename__ = 'SECTIONS'\n",
    "\n",
    "    section_id = Column(Integer(), primary_key=True)\n",
    "    filename = Column(Text())\n",
    "    section_name = Column(Text())\n",
    "    section_text = Column(Text())"
   ]
  }
 ],
 "metadata": {
  "kernelspec": {
   "display_name": "Python 3",
   "language": "python",
   "name": "python3"
  },
  "language_info": {
   "codemirror_mode": {
    "name": "ipython",
    "version": 3
   },
   "file_extension": ".py",
   "mimetype": "text/x-python",
   "name": "python",
   "nbconvert_exporter": "python",
   "pygments_lexer": "ipython3",
   "version": "3.6.2"
  }
 },
 "nbformat": 4,
 "nbformat_minor": 2
}
