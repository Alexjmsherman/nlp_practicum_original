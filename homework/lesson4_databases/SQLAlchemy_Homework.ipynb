{
 "cells": [
  {
   "cell_type": "markdown",
   "metadata": {},
   "source": [
    "# SQLAlchemy Homework"
   ]
  },
  {
   "cell_type": "code",
   "execution_count": 1,
   "metadata": {
    "collapsed": true
   },
   "outputs": [],
   "source": [
    "from sqlalchemy import Column, Text, Integer\n",
    "from sqlalchemy.ext.declarative import declarative_base\n",
    "from sqlalchemy import create_engine\n",
    "from sqlalchemy.orm import sessionmaker\n",
    "import pandas as pd"
   ]
  },
  {
   "cell_type": "code",
   "execution_count": 2,
   "metadata": {
    "collapsed": true
   },
   "outputs": [],
   "source": [
    "from configparser import ConfigParser, ExtendedInterpolation\n",
    "\n",
    "config = ConfigParser(interpolation=ExtendedInterpolation())\n",
    "config.read('../../config.ini')\n",
    "HW_DB_PATH = config['DATABASES']['HW_DB_PATH']"
   ]
  },
  {
   "cell_type": "code",
   "execution_count": 3,
   "metadata": {
    "collapsed": true
   },
   "outputs": [],
   "source": [
    "# createa a declarative base\n",
    "# to inherit the functionality to create a database\n"
   ]
  },
  {
   "cell_type": "markdown",
   "metadata": {},
   "source": [
    "#### Create a Documents table with the following information:\n",
    "\n",
    "- TABLENAME = 'DOCUMENTS'\n",
    "- document_id (Integer, primary_key)\n",
    "- path = (Text)\n",
    "- filename (Text)\n",
    "- document_text = (Text)\n",
    "- table_text = (Text)\n",
    "- last_modified_by = (Text)\n",
    "- author = (Text)\n",
    "- created = (Text)\n",
    "- revision = (Text)\n",
    "- num_tables = (Text)"
   ]
  },
  {
   "cell_type": "code",
   "execution_count": 4,
   "metadata": {
    "collapsed": true
   },
   "outputs": [],
   "source": [
    "# provide a class name for the database table\n",
    "class Documents(Base):\n",
    "\n",
    "    # provide a name used in SQL to query the table\n",
    "\n",
    "    # provide column names and data types\n",
    "    # for each field in the database\n",
    "    # additional paramater are available for the columns\n",
    "    # and data types\n",
    "\n",
    "    "
   ]
  },
  {
   "cell_type": "markdown",
   "metadata": {},
   "source": [
    "#### Create a Sections table with the following information:\n",
    "\n",
    "- TABLENAME = 'SECTIONS'\n",
    "- section_id = (Integer, primary_key)\n",
    "- filename = (Text)\n",
    "- section_name = (Text)\n",
    "- section_text = (Text)"
   ]
  },
  {
   "cell_type": "code",
   "execution_count": 5,
   "metadata": {
    "collapsed": true
   },
   "outputs": [],
   "source": [
    "class Sections(Base):\n",
    "    \n",
    "    # provide a name used in SQL to query the table\n",
    "\n",
    "    # provide column names and data types \n",
    "    # for each field in the database\n",
    "\n"
   ]
  },
  {
   "cell_type": "markdown",
   "metadata": {
    "collapsed": true
   },
   "source": [
    "##### Create Database"
   ]
  },
  {
   "cell_type": "code",
   "execution_count": 6,
   "metadata": {
    "collapsed": true
   },
   "outputs": [],
   "source": [
    "# instantiate the database connection\n",
    "\n",
    "# create the tables in the database\n"
   ]
  },
  {
   "cell_type": "markdown",
   "metadata": {},
   "source": [
    "##### create a engine and session object to query database"
   ]
  },
  {
   "cell_type": "code",
   "execution_count": 7,
   "metadata": {
    "collapsed": true
   },
   "outputs": [],
   "source": []
  },
  {
   "cell_type": "markdown",
   "metadata": {
    "collapsed": true
   },
   "source": [
    "### Populate the Documents table"
   ]
  },
  {
   "cell_type": "markdown",
   "metadata": {},
   "source": [
    "##### Documents"
   ]
  },
  {
   "cell_type": "code",
   "execution_count": 18,
   "metadata": {
    "collapsed": true
   },
   "outputs": [],
   "source": [
    "# create two document examples to load the homework database\n",
    "\n",
    "doc1 = {\n",
    "      'completed_path':'path1'\n",
    "    , 'filename':'filename1'\n",
    "    , 'document_text':'document_text1'\n",
    "    , 'table_text':'table_text1'\n",
    "    , 'author':'author1'\n",
    "    , 'last_modified_by':'last_modified_by1'\n",
    "    , 'created':'created1'\n",
    "    , 'revision':'revision1'\n",
    "    , 'num_tables':'num_tables1'\n",
    "}\n",
    "\n",
    "doc2 = {\n",
    "      'completed_path':'path2'\n",
    "    , 'filename':'filename2'\n",
    "    , 'document_text':'document_text2'\n",
    "    , 'table_text':'table_text2'\n",
    "    , 'author':'author2'\n",
    "    , 'last_modified_by':'last_modified_by2'\n",
    "    , 'created':'created2'\n",
    "    , 'revision':'revision2'\n",
    "    , 'num_tables':'num_tables2'\n",
    "}\n",
    "\n",
    "documents = [doc1, doc2]"
   ]
  },
  {
   "cell_type": "code",
   "execution_count": 19,
   "metadata": {
    "collapsed": true
   },
   "outputs": [],
   "source": [
    "# add records to the documents table\n",
    "\n",
    "for document in documents:\n",
    "    # populate the Documents record with data from the document examples\n",
    "    doc = Documents(\n",
    "        # TODO\n",
    "    )\n",
    "    # add the document to the session\n",
    "    session.add(doc)\n",
    "\n",
    "# commit (save) all annual reports to the database\n",
    "session.commit()"
   ]
  },
  {
   "cell_type": "code",
   "execution_count": 20,
   "metadata": {},
   "outputs": [
    {
     "data": {
      "text/html": [
       "<div>\n",
       "<style>\n",
       "    .dataframe thead tr:only-child th {\n",
       "        text-align: right;\n",
       "    }\n",
       "\n",
       "    .dataframe thead th {\n",
       "        text-align: left;\n",
       "    }\n",
       "\n",
       "    .dataframe tbody tr th {\n",
       "        vertical-align: top;\n",
       "    }\n",
       "</style>\n",
       "<table border=\"1\" class=\"dataframe\">\n",
       "  <thead>\n",
       "    <tr style=\"text-align: right;\">\n",
       "      <th></th>\n",
       "      <th>document_id</th>\n",
       "      <th>path</th>\n",
       "      <th>filename</th>\n",
       "      <th>document_text</th>\n",
       "      <th>table_text</th>\n",
       "      <th>last_modified_by</th>\n",
       "      <th>author</th>\n",
       "      <th>created</th>\n",
       "      <th>last_printed</th>\n",
       "      <th>revision</th>\n",
       "      <th>num_tables</th>\n",
       "    </tr>\n",
       "  </thead>\n",
       "  <tbody>\n",
       "    <tr>\n",
       "      <th>0</th>\n",
       "      <td>1</td>\n",
       "      <td>path1</td>\n",
       "      <td>filename1</td>\n",
       "      <td>document_text1</td>\n",
       "      <td>table_text1</td>\n",
       "      <td>last_modified_by1</td>\n",
       "      <td>author1</td>\n",
       "      <td>created1</td>\n",
       "      <td>None</td>\n",
       "      <td>revision1</td>\n",
       "      <td>num_tables1</td>\n",
       "    </tr>\n",
       "    <tr>\n",
       "      <th>1</th>\n",
       "      <td>2</td>\n",
       "      <td>path2</td>\n",
       "      <td>filename2</td>\n",
       "      <td>document_text2</td>\n",
       "      <td>table_text2</td>\n",
       "      <td>last_modified_by2</td>\n",
       "      <td>author2</td>\n",
       "      <td>created2</td>\n",
       "      <td>None</td>\n",
       "      <td>revision2</td>\n",
       "      <td>num_tables2</td>\n",
       "    </tr>\n",
       "  </tbody>\n",
       "</table>\n",
       "</div>"
      ],
      "text/plain": [
       "   document_id   path   filename   document_text   table_text  \\\n",
       "0            1  path1  filename1  document_text1  table_text1   \n",
       "1            2  path2  filename2  document_text2  table_text2   \n",
       "\n",
       "    last_modified_by   author   created last_printed   revision   num_tables  \n",
       "0  last_modified_by1  author1  created1         None  revision1  num_tables1  \n",
       "1  last_modified_by2  author2  created2         None  revision2  num_tables2  "
      ]
     },
     "execution_count": 20,
     "metadata": {},
     "output_type": "execute_result"
    }
   ],
   "source": [
    "# query database to check if data was added\n",
    "pd.read_sql('SELECT * FROM Documents' , engine)"
   ]
  },
  {
   "cell_type": "code",
   "execution_count": 24,
   "metadata": {
    "collapsed": true
   },
   "outputs": [],
   "source": [
    "# Optional - Delete data from the Documents table \n",
    "# This may be useful while testing the homework\n",
    "\n",
    "### UNCOMMENT TO DELETE DOCUMENTS FROM DATABASE\n",
    "# session.execute(\"DELETE FROM Documents\")\n",
    "# session.commit()"
   ]
  },
  {
   "cell_type": "markdown",
   "metadata": {},
   "source": [
    "##### Sections"
   ]
  },
  {
   "cell_type": "code",
   "execution_count": 28,
   "metadata": {
    "collapsed": true
   },
   "outputs": [],
   "source": [
    "# create two section examples to load the homework database\n",
    "sections = {\n",
    "      'section_name1':'section_text1'\n",
    "    , 'section_name2':'section_text2'\n",
    "    , 'section_name3':'section_text3'\n",
    "    , 'section_name4':'section_text4'\n",
    "    , 'section_name5':'section_text5'\n",
    "}"
   ]
  },
  {
   "cell_type": "code",
   "execution_count": 29,
   "metadata": {},
   "outputs": [],
   "source": [
    "# insert each document section\n",
    "#   NOTE: use sections.items to access the key, value pairs\n",
    "#   from the sections dictionary\n",
    "#   Example: https://www.tutorialspoint.com/python/dictionary_items.htm\n",
    "\n",
    "# iterate through the sections dictionary\n",
    "\n",
    "    # create a sections object\n",
    "    section = \n",
    "\n",
    "    \n",
    "    # add the section to the session\n",
    "    session.add(section)\n",
    "\n",
    "# commit the session to save all sections to the database\n",
    "session.commit()"
   ]
  },
  {
   "cell_type": "code",
   "execution_count": 32,
   "metadata": {},
   "outputs": [
    {
     "data": {
      "text/html": [
       "<div>\n",
       "<style>\n",
       "    .dataframe thead tr:only-child th {\n",
       "        text-align: right;\n",
       "    }\n",
       "\n",
       "    .dataframe thead th {\n",
       "        text-align: left;\n",
       "    }\n",
       "\n",
       "    .dataframe tbody tr th {\n",
       "        vertical-align: top;\n",
       "    }\n",
       "</style>\n",
       "<table border=\"1\" class=\"dataframe\">\n",
       "  <thead>\n",
       "    <tr style=\"text-align: right;\">\n",
       "      <th></th>\n",
       "      <th>section_id</th>\n",
       "      <th>filename</th>\n",
       "      <th>section_name</th>\n",
       "      <th>section_text</th>\n",
       "    </tr>\n",
       "  </thead>\n",
       "  <tbody>\n",
       "  </tbody>\n",
       "</table>\n",
       "</div>"
      ],
      "text/plain": [
       "Empty DataFrame\n",
       "Columns: [section_id, filename, section_name, section_text]\n",
       "Index: []"
      ]
     },
     "execution_count": 32,
     "metadata": {},
     "output_type": "execute_result"
    }
   ],
   "source": [
    "# query database to check if data was added\n",
    "pd.read_sql('SELECT * FROM Sections' , engine)"
   ]
  },
  {
   "cell_type": "code",
   "execution_count": 31,
   "metadata": {
    "collapsed": true
   },
   "outputs": [],
   "source": [
    "# Optional - Delete data from the Sections table \n",
    "# This may be useful while testing the homework\n",
    "\n",
    "### UNCOMMENT TO DELETE SECTIONS FROM DATABASE\n",
    "# session.execute(\"DELETE FROM Sections\")\n",
    "# session.commit()"
   ]
  }
 ],
 "metadata": {
  "kernelspec": {
   "display_name": "Python 3",
   "language": "python",
   "name": "python3"
  },
  "language_info": {
   "codemirror_mode": {
    "name": "ipython",
    "version": 3
   },
   "file_extension": ".py",
   "mimetype": "text/x-python",
   "name": "python",
   "nbconvert_exporter": "python",
   "pygments_lexer": "ipython3",
   "version": "3.6.3"
  }
 },
 "nbformat": 4,
 "nbformat_minor": 2
}
