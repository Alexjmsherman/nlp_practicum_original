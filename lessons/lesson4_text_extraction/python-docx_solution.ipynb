{
 "cells": [
  {
   "cell_type": "code",
   "execution_count": null,
   "metadata": {
    "collapsed": true
   },
   "outputs": [],
   "source": [
    "TODO:\n",
    "complete final exercise at bottom of notebook"
   ]
  },
  {
   "cell_type": "markdown",
   "metadata": {},
   "source": [
    "# python-docx\n",
    "\n",
    "#### python-docx is a Python library for creating and updating Microsoft Word (.docx) files."
   ]
  },
  {
   "cell_type": "code",
   "execution_count": 313,
   "metadata": {
    "scrolled": true
   },
   "outputs": [
    {
     "data": {
      "text/html": [
       "<iframe src=https://python-docx.readthedocs.io/en/latest/ width=1100 height=300></iframe>"
      ],
      "text/plain": [
       "<IPython.core.display.HTML object>"
      ]
     },
     "execution_count": 313,
     "metadata": {},
     "output_type": "execute_result"
    }
   ],
   "source": [
    "from IPython.core.display import display, HTML\n",
    "\n",
    "sqlalchemy_url = 'https://python-docx.readthedocs.io/en/latest/'\n",
    "iframe = '<iframe src={} width=1100 height=300></iframe>'.format(sqlalchemy_url)\n",
    "HTML(iframe)"
   ]
  },
  {
   "cell_type": "code",
   "execution_count": 326,
   "metadata": {
    "collapsed": true
   },
   "outputs": [],
   "source": [
    "import os\n",
    "import configparser\n",
    "\n",
    "config = configparser.ConfigParser()\n",
    "config.read('config.ini')\n",
    "RAW_DATA = config['USER']['RAW_DATA']\n",
    "DOC_PATH = config['DOCX']['DOC_PATH']\n",
    "XML_PATH = config['DOCX']['XML_PATH']\n",
    "\n",
    "DOCX_PATH = os.path.join(RAW_DATA, DOC_PATH)\n",
    "XML_PATH = os.path.join(RAW_DATA, XML_PATH)"
   ]
  },
  {
   "cell_type": "code",
   "execution_count": 328,
   "metadata": {
    "collapsed": true
   },
   "outputs": [],
   "source": [
    "# the Document method reads the text, style, and formatting\n",
    "# of a word .docx document\n",
    "\n",
    "import docx\n",
    "doc = docx.Document(DOCX_PATH)"
   ]
  },
  {
   "cell_type": "markdown",
   "metadata": {},
   "source": [
    "### Paragraphs\n",
    "\n",
    "Word paragraphs contain the text of the document. However, the table text, headers, footers, are not included in paragraphs."
   ]
  },
  {
   "cell_type": "code",
   "execution_count": 290,
   "metadata": {
    "collapsed": true
   },
   "outputs": [],
   "source": [
    "# get all paragraphs \n",
    "paragraphs = doc.paragraphs"
   ]
  },
  {
   "cell_type": "code",
   "execution_count": 291,
   "metadata": {},
   "outputs": [
    {
     "data": {
      "text/plain": [
       "2675"
      ]
     },
     "execution_count": 291,
     "metadata": {},
     "output_type": "execute_result"
    }
   ],
   "source": [
    "# count all paragraphs in the document\n",
    "len(paragraphs)"
   ]
  },
  {
   "cell_type": "code",
   "execution_count": 292,
   "metadata": {
    "collapsed": true
   },
   "outputs": [],
   "source": [
    "# only include with text (ignore empty strings)\n",
    "paragraphs = [p for p in paragraphs if p.text.strip() != '']"
   ]
  },
  {
   "cell_type": "markdown",
   "metadata": {},
   "source": [
    "### Style"
   ]
  },
  {
   "cell_type": "code",
   "execution_count": 127,
   "metadata": {},
   "outputs": [
    {
     "data": {
      "text/plain": [
       "'ORACLE CORP'"
      ]
     },
     "execution_count": 127,
     "metadata": {},
     "output_type": "execute_result"
    }
   ],
   "source": [
    "# view the text in the first paragraph\n",
    "paragraphs[0].text"
   ]
  },
  {
   "cell_type": "code",
   "execution_count": 276,
   "metadata": {},
   "outputs": [
    {
     "data": {
      "text/plain": [
       "'Normal'"
      ]
     },
     "execution_count": 276,
     "metadata": {},
     "output_type": "execute_result"
    }
   ],
   "source": [
    "# get the paragraph style\n",
    "paragraphs[0].style.name"
   ]
  },
  {
   "cell_type": "code",
   "execution_count": 330,
   "metadata": {},
   "outputs": [
    {
     "data": {
      "text/plain": [
       "False"
      ]
     },
     "execution_count": 330,
     "metadata": {},
     "output_type": "execute_result"
    }
   ],
   "source": [
    "# Identify if paragraph text has 'HEADING' style\n",
    "# HEADING is always uppercase \n",
    "\n",
    "'HEADING' in paragraphs[0].style.name"
   ]
  },
  {
   "cell_type": "markdown",
   "metadata": {},
   "source": [
    "### Runs\n",
    "\n",
    "Each paragraph may contain one or more runs. A run denotes the style attached to the text in a paragraph. Every time the style change (e.g. from bold to normal text) a new run is added."
   ]
  },
  {
   "cell_type": "code",
   "execution_count": 210,
   "metadata": {},
   "outputs": [
    {
     "data": {
      "text/plain": [
       "[<docx.text.run.Run at 0x1580291d668>,\n",
       " <docx.text.run.Run at 0x1580291d908>,\n",
       " <docx.text.run.Run at 0x1580291d860>,\n",
       " <docx.text.run.Run at 0x1580291d828>]"
      ]
     },
     "execution_count": 210,
     "metadata": {},
     "output_type": "execute_result"
    }
   ],
   "source": [
    "runs = paragraphs[0].runs\n",
    "runs"
   ]
  },
  {
   "cell_type": "code",
   "execution_count": 255,
   "metadata": {},
   "outputs": [
    {
     "data": {
      "text/plain": [
       "'ORACLE'"
      ]
     },
     "execution_count": 255,
     "metadata": {},
     "output_type": "execute_result"
    }
   ],
   "source": [
    "# each run contains a portion of text from the paragraph\n",
    "run = runs[0]\n",
    "run.text"
   ]
  },
  {
   "cell_type": "markdown",
   "metadata": {},
   "source": [
    "### Run style\n",
    "\n",
    "- Each run contains style information such as bold, italic, or underline. \n",
    "- The style information will be True, False, or None\n",
    "- A value of None indicates the run has no directly-applied style value and so will inherit the value of its containing paragraph."
   ]
  },
  {
   "cell_type": "code",
   "execution_count": 256,
   "metadata": {},
   "outputs": [
    {
     "name": "stdout",
     "output_type": "stream",
     "text": [
      "True\n"
     ]
    }
   ],
   "source": [
    "print(run.bold)"
   ]
  },
  {
   "cell_type": "code",
   "execution_count": 257,
   "metadata": {},
   "outputs": [
    {
     "name": "stdout",
     "output_type": "stream",
     "text": [
      "None\n"
     ]
    }
   ],
   "source": [
    "print(run.italic)"
   ]
  },
  {
   "cell_type": "code",
   "execution_count": 258,
   "metadata": {},
   "outputs": [
    {
     "name": "stdout",
     "output_type": "stream",
     "text": [
      "None\n"
     ]
    }
   ],
   "source": [
    "print(run.underline)"
   ]
  },
  {
   "cell_type": "code",
   "execution_count": 259,
   "metadata": {},
   "outputs": [
    {
     "data": {
      "text/plain": [
       "28.0"
      ]
     },
     "execution_count": 259,
     "metadata": {},
     "output_type": "execute_result"
    }
   ],
   "source": [
    "# font size\n",
    "run.font.size.pt"
   ]
  },
  {
   "cell_type": "code",
   "execution_count": 236,
   "metadata": {
    "collapsed": true
   },
   "outputs": [],
   "source": [
    "# View all the runs in the paragraph"
   ]
  },
  {
   "cell_type": "code",
   "execution_count": 237,
   "metadata": {},
   "outputs": [
    {
     "data": {
      "text/plain": [
       "['ORACLE', ' ', 'CORP', '']"
      ]
     },
     "execution_count": 237,
     "metadata": {},
     "output_type": "execute_result"
    }
   ],
   "source": [
    "[run.text for run in runs]"
   ]
  },
  {
   "cell_type": "code",
   "execution_count": 238,
   "metadata": {},
   "outputs": [
    {
     "data": {
      "text/plain": [
       "[True, True, True, None]"
      ]
     },
     "execution_count": 238,
     "metadata": {},
     "output_type": "execute_result"
    }
   ],
   "source": [
    "# View all the run stlye \n",
    "[run.bold for run in runs]"
   ]
  },
  {
   "cell_type": "markdown",
   "metadata": {},
   "source": [
    "## Exercise"
   ]
  },
  {
   "cell_type": "markdown",
   "metadata": {},
   "source": [
    "#### Find all the bold runs\n",
    "\n",
    "- Iterate through all the runs in all the paragraphs to identify any run with a bold style applied.\n",
    "- Store all the bold text in a list named bold_text\n",
    "- Do not include empty strings (e.g. '') \n",
    "- Replace all tabs with a space\n",
    "- Strip the text\n",
    "- print the first 10 items in bold_text"
   ]
  },
  {
   "cell_type": "code",
   "execution_count": 277,
   "metadata": {},
   "outputs": [
    {
     "data": {
      "text/plain": [
       "['ORACLE',\n",
       " 'CORP',\n",
       " 'FORM',\n",
       " '10-K',\n",
       " 'UNITED',\n",
       " 'STATES',\n",
       " 'SECURITIES',\n",
       " 'AND',\n",
       " 'EXCHANGE COMMISSION',\n",
       " 'FORM']"
      ]
     },
     "execution_count": 277,
     "metadata": {},
     "output_type": "execute_result"
    }
   ],
   "source": [
    "bold_text = []\n",
    "for paragraph in paragraphs:\n",
    "    for run in paragraph.runs:\n",
    "        if run.bold and run.text.strip() != '':\n",
    "            text = run.text.replace('\\t',' ').strip()\n",
    "            bold_text.append(text)\n",
    "\n",
    "bold_text[0:10]"
   ]
  },
  {
   "cell_type": "markdown",
   "metadata": {},
   "source": [
    "### Create a function to determine if all runs in a paragraph are bold\n",
    "\n",
    "- Name the function is_bold\n",
    "- Return True if all runs (with text) in a paragraph are bold\n",
    "- Test the function by adding all the bold paragraphs to a list named bold_paragraphs\n",
    "- Print the first 10 paragraphs in bold_paragraphs"
   ]
  },
  {
   "cell_type": "code",
   "execution_count": 279,
   "metadata": {
    "collapsed": true
   },
   "outputs": [],
   "source": [
    "# create the function is_bold\n",
    "def is_bold(paragraph):   \n",
    "    runs_are_bold = [run.bold for run in paragraph.runs if run.text != '']\n",
    "\n",
    "    if runs_are_bold != [] and all(runs_are_bold):\n",
    "        return True\n",
    "    return False"
   ]
  },
  {
   "cell_type": "code",
   "execution_count": 280,
   "metadata": {},
   "outputs": [
    {
     "data": {
      "text/plain": [
       "['ORACLE CORP',\n",
       " 'FORM 10-K',\n",
       " 'UNITED STATES',\n",
       " 'SECURITIES AND EXCHANGE COMMISSION',\n",
       " 'FORM 10-K',\n",
       " 'TRANSITION REPORT PURSUANT TO SECTION 13 OR 15(d) OF THE SECURITIES EXCHANGE ACT OF 1934',\n",
       " 'For the transition period from\\tto  \\t Commission file number: 001-35992',\n",
       " 'Oracle Corporation',\n",
       " '(Exact name of registrant as specified in its charter)',\n",
       " '(State or other jurisdiction of incorporation or organization)']"
      ]
     },
     "execution_count": 280,
     "metadata": {},
     "output_type": "execute_result"
    }
   ],
   "source": [
    "# test the is_bold function\n",
    "bold_paragraphs = []\n",
    "for paragraph in paragraphs:\n",
    "    if is_bold(paragraph):\n",
    "        bold_paragraphs.append(paragraph.text)\n",
    "\n",
    "bold_paragraphs[0:10]"
   ]
  },
  {
   "cell_type": "markdown",
   "metadata": {},
   "source": [
    "### Tables"
   ]
  },
  {
   "cell_type": "code",
   "execution_count": 113,
   "metadata": {
    "collapsed": true
   },
   "outputs": [],
   "source": [
    "# identify all document tables\n",
    "tables = doc.tables"
   ]
  },
  {
   "cell_type": "code",
   "execution_count": 101,
   "metadata": {},
   "outputs": [
    {
     "data": {
      "text/plain": [
       "74"
      ]
     },
     "execution_count": 101,
     "metadata": {},
     "output_type": "execute_result"
    }
   ],
   "source": [
    "# count the document tables\n",
    "len(tables)"
   ]
  },
  {
   "cell_type": "code",
   "execution_count": 281,
   "metadata": {},
   "outputs": [
    {
     "data": {
      "text/plain": [
       "['TABLE OF CONTENTS',\n",
       " 'Page',\n",
       " 'PART I.',\n",
       " 'Item 1.',\n",
       " 'Business',\n",
       " '3',\n",
       " 'Item 1A.',\n",
       " 'Risk Factors',\n",
       " '19',\n",
       " 'Item 1B.']"
      ]
     },
     "execution_count": 281,
     "metadata": {},
     "output_type": "execute_result"
    }
   ],
   "source": [
    "table_cells = [cell.text.strip() \n",
    "               for cell in table._cells if cell.text != '']\n",
    "\n",
    "table_cells[0:10]"
   ]
  },
  {
   "cell_type": "markdown",
   "metadata": {},
   "source": [
    "### Core Properties"
   ]
  },
  {
   "cell_type": "code",
   "execution_count": 302,
   "metadata": {},
   "outputs": [
    {
     "data": {
      "text/plain": [
       "'ORACLE CORP'"
      ]
     },
     "execution_count": 302,
     "metadata": {},
     "output_type": "execute_result"
    }
   ],
   "source": [
    "doc.core_properties.title"
   ]
  },
  {
   "cell_type": "code",
   "execution_count": 301,
   "metadata": {},
   "outputs": [
    {
     "data": {
      "text/plain": [
       "'FORM 10-K (Annual Report) Filed 06/25/15 for the Period Ending 05/31/15'"
      ]
     },
     "execution_count": 301,
     "metadata": {},
     "output_type": "execute_result"
    }
   ],
   "source": [
    "doc.core_properties.subject"
   ]
  },
  {
   "cell_type": "code",
   "execution_count": 298,
   "metadata": {},
   "outputs": [
    {
     "data": {
      "text/plain": [
       "'EDGAR Online, Inc.'"
      ]
     },
     "execution_count": 298,
     "metadata": {},
     "output_type": "execute_result"
    }
   ],
   "source": [
    "doc.core_properties.author"
   ]
  },
  {
   "cell_type": "code",
   "execution_count": 308,
   "metadata": {},
   "outputs": [
    {
     "data": {
      "text/plain": [
       "datetime.datetime(2017, 10, 9, 1, 40, 51)"
      ]
     },
     "execution_count": 308,
     "metadata": {},
     "output_type": "execute_result"
    }
   ],
   "source": [
    "doc.core_properties.created"
   ]
  },
  {
   "cell_type": "code",
   "execution_count": 305,
   "metadata": {},
   "outputs": [
    {
     "data": {
      "text/plain": [
       "0"
      ]
     },
     "execution_count": 305,
     "metadata": {},
     "output_type": "execute_result"
    }
   ],
   "source": [
    "doc.core_properties.revision"
   ]
  },
  {
   "cell_type": "markdown",
   "metadata": {},
   "source": [
    "## Explore docx xml\n",
    "Every word document is a zip of xml files. To test this, change the extension of any word file from .docx to .xml. \n",
    "\n",
    "Inside each zip, a directory named word contains document.xml. This file contains all of the xml for the word document.\n",
    "\n",
    "To open the zip we use the package zipfile"
   ]
  },
  {
   "cell_type": "code",
   "execution_count": 329,
   "metadata": {
    "collapsed": true
   },
   "outputs": [],
   "source": [
    "import zipfile\n",
    "\n",
    "zip = zipfile.ZipFile(XML_PATH, 'r')\n",
    "xml_content = zip.read('word/document.xml')"
   ]
  },
  {
   "cell_type": "markdown",
   "metadata": {},
   "source": [
    "### zipfile\n",
    "\n",
    "ZipFile - The class for reading and writing ZIP files\n",
    "read - Returns the bytes content from a zipfile"
   ]
  },
  {
   "cell_type": "code",
   "execution_count": 314,
   "metadata": {},
   "outputs": [
    {
     "data": {
      "text/html": [
       "<iframe src=https://docs.python.org/2/library/zipfile.html#zipfile-objects width=1100 height=300></iframe>"
      ],
      "text/plain": [
       "<IPython.core.display.HTML object>"
      ]
     },
     "execution_count": 314,
     "metadata": {},
     "output_type": "execute_result"
    }
   ],
   "source": [
    "from IPython.core.display import display, HTML\n",
    "\n",
    "sqlalchemy_url = 'https://docs.python.org/2/library/zipfile.html#zipfile-objects'\n",
    "iframe = '<iframe src={} width=1100 height=300></iframe>'.format(sqlalchemy_url)\n",
    "HTML(iframe)"
   ]
  },
  {
   "cell_type": "code",
   "execution_count": 204,
   "metadata": {
    "collapsed": true
   },
   "outputs": [],
   "source": [
    "from bs4 import BeautifulSoup\n",
    "\n",
    "b = BeautifulSoup(xml_content, 'lxml')"
   ]
  },
  {
   "cell_type": "code",
   "execution_count": 209,
   "metadata": {},
   "outputs": [
    {
     "name": "stdout",
     "output_type": "stream",
     "text": [
      "<w:p w:rsidp=\"00A96863\" w:rsidr=\"007F6AD8\" w:rsidrdefault=\"00A96863\"><w:ppr><w:pstyle w:val=\"Heading1\"></w:pstyle></w:ppr><w:r><w:t>Section Header</w:t></w:r></w:p>\n",
      "\n",
      "<w:p w:rsidr=\"00A96863\" w:rsidrdefault=\"00A96863\"><w:r><w:t>Text in the section</w:t></w:r><w:bookmarkstart w:id=\"0\" w:name=\"_GoBack\"></w:bookmarkstart><w:bookmarkend w:id=\"0\"></w:bookmarkend></w:p>\n",
      "\n",
      "<w:sectpr w:rsidr=\"00A96863\"><w:pgsz w:h=\"15840\" w:w=\"12240\"></w:pgsz><w:pgmar w:bottom=\"1440\" w:footer=\"720\" w:gutter=\"0\" w:header=\"720\" w:left=\"1440\" w:right=\"1440\" w:top=\"1440\"></w:pgmar><w:cols w:space=\"720\"></w:cols><w:docgrid w:linepitch=\"360\"></w:docgrid></w:sectpr>\n",
      "\n"
     ]
    }
   ],
   "source": [
    "# view the xml from a short document with one heading and one sentence\n",
    "for word in b.find('w:body'):\n",
    "    print(word)\n",
    "    print()"
   ]
  },
  {
   "cell_type": "markdown",
   "metadata": {},
   "source": [
    "### docx XML tag definitions\n",
    "- < w:body > - contains the document paragraphs\n",
    "- < w:p > - Document paragraph\n",
    "- < w:pstyle > Document Style (e.g. Header 1)\n",
    "- < w:t > text in a paragraph or run\n",
    "- < w:bookmarkstart > defines a bookmark, such as a link in a table of contents\n",
    "- < w:r > - Document runs. Every time the style in a paragraph changes, for instance a bold or underline term, a new run is added. Each paragraph may contain multiple runs.\n"
   ]
  },
  {
   "cell_type": "markdown",
   "metadata": {},
   "source": [
    "### Exercise\n",
    "\n",
    "Identify which documents in the provided zip (INSERT_ZIP_NAME) talk about SOME_REGULATION."
   ]
  },
  {
   "cell_type": "code",
   "execution_count": null,
   "metadata": {
    "collapsed": true
   },
   "outputs": [],
   "source": []
  }
 ],
 "metadata": {
  "kernelspec": {
   "display_name": "Python 3",
   "language": "python",
   "name": "python3"
  },
  "language_info": {
   "codemirror_mode": {
    "name": "ipython",
    "version": 3
   },
   "file_extension": ".py",
   "mimetype": "text/x-python",
   "name": "python",
   "nbconvert_exporter": "python",
   "pygments_lexer": "ipython3",
   "version": "3.6.2"
  }
 },
 "nbformat": 4,
 "nbformat_minor": 2
}
