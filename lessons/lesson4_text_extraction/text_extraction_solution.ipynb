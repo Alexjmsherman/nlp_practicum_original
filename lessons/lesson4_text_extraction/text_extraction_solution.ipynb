{
 "cells": [
  {
   "cell_type": "markdown",
   "metadata": {},
   "source": [
    "## Text Extraction Solution\n",
    "\n",
    "##### Author: Alex Sherman | alsherman@deloitte.com"
   ]
  },
  {
   "cell_type": "code",
   "execution_count": 1,
   "metadata": {
    "collapsed": true
   },
   "outputs": [],
   "source": [
    "import os\n",
    "from IPython.core.display import display, HTML\n",
    "from configparser import ConfigParser, ExtendedInterpolation\n",
    "\n",
    "config = ConfigParser(interpolation=ExtendedInterpolation())\n",
    "config.read('../../config.ini')\n",
    "\n",
    "DOCX_PATH = config['DOCX']['DOCX_PATH']\n",
    "XML_PATH = config['DOCX']['XML_PATH']\n",
    "EXAMPLE_ZIP = config['DOCX']['EXAMPLE_ZIP']"
   ]
  },
  {
   "cell_type": "markdown",
   "metadata": {},
   "source": [
    "### python-docx\n",
    "\n",
    "python-docx is a Python library for creating, updating, and extracting text from Microsoft Word (.docx) files."
   ]
  },
  {
   "cell_type": "code",
   "execution_count": 2,
   "metadata": {
    "scrolled": true
   },
   "outputs": [
    {
     "data": {
      "text/html": [
       "<iframe src=https://python-docx.readthedocs.io/en/latest/ width=1100 height=300></iframe>"
      ],
      "text/plain": [
       "<IPython.core.display.HTML object>"
      ]
     },
     "execution_count": 2,
     "metadata": {},
     "output_type": "execute_result"
    }
   ],
   "source": [
    "sqlalchemy_url = 'https://python-docx.readthedocs.io/en/latest/'\n",
    "iframe = '<iframe src={} width=1100 height=300></iframe>'.format(sqlalchemy_url)\n",
    "HTML(iframe)"
   ]
  },
  {
   "cell_type": "code",
   "execution_count": 3,
   "metadata": {
    "collapsed": true
   },
   "outputs": [],
   "source": [
    "# the Document method reads the text, style, and formatting\n",
    "# of a word .docx document\n",
    "\n",
    "import docx\n",
    "doc = docx.Document(DOCX_PATH)"
   ]
  },
  {
   "cell_type": "markdown",
   "metadata": {},
   "source": [
    "### Paragraphs\n",
    "\n",
    "Word paragraphs contain the text of the document. However, the table text, headers, footers, are not included in paragraphs."
   ]
  },
  {
   "cell_type": "code",
   "execution_count": 4,
   "metadata": {
    "collapsed": true
   },
   "outputs": [],
   "source": [
    "# get all paragraphs \n",
    "paragraphs = doc.paragraphs"
   ]
  },
  {
   "cell_type": "code",
   "execution_count": 5,
   "metadata": {},
   "outputs": [
    {
     "data": {
      "text/plain": [
       "2579"
      ]
     },
     "execution_count": 5,
     "metadata": {},
     "output_type": "execute_result"
    }
   ],
   "source": [
    "# count all paragraphs in the document\n",
    "len(paragraphs)"
   ]
  },
  {
   "cell_type": "code",
   "execution_count": 6,
   "metadata": {
    "collapsed": true
   },
   "outputs": [],
   "source": [
    "# only include with text (ignore empty strings)\n",
    "paragraphs = [p for p in paragraphs if p.text.strip() != '']"
   ]
  },
  {
   "cell_type": "markdown",
   "metadata": {},
   "source": [
    "### Style"
   ]
  },
  {
   "cell_type": "code",
   "execution_count": 7,
   "metadata": {},
   "outputs": [
    {
     "data": {
      "text/plain": [
       "'SOUTHWEST AIRLINES CO.'"
      ]
     },
     "execution_count": 7,
     "metadata": {},
     "output_type": "execute_result"
    }
   ],
   "source": [
    "# view the text in the first paragraph\n",
    "paragraphs[0].text"
   ]
  },
  {
   "cell_type": "code",
   "execution_count": 8,
   "metadata": {},
   "outputs": [
    {
     "data": {
      "text/plain": [
       "'Normal'"
      ]
     },
     "execution_count": 8,
     "metadata": {},
     "output_type": "execute_result"
    }
   ],
   "source": [
    "# get the paragraph style\n",
    "paragraphs[0].style.name"
   ]
  },
  {
   "cell_type": "code",
   "execution_count": 9,
   "metadata": {},
   "outputs": [
    {
     "data": {
      "text/plain": [
       "False"
      ]
     },
     "execution_count": 9,
     "metadata": {},
     "output_type": "execute_result"
    }
   ],
   "source": [
    "# Identify if paragraph text has 'HEADING' style\n",
    "# HEADING is always uppercase \n",
    "\n",
    "'HEADING' in paragraphs[0].style.name"
   ]
  },
  {
   "cell_type": "markdown",
   "metadata": {},
   "source": [
    "### Runs\n",
    "\n",
    "Each paragraph may contain one or more runs. A run denotes the style attached to the text in a paragraph. Every time the style change (e.g. from bold to normal text) a new run is added."
   ]
  },
  {
   "cell_type": "code",
   "execution_count": 10,
   "metadata": {},
   "outputs": [
    {
     "data": {
      "text/plain": [
       "[<docx.text.run.Run at 0x2ce67908588>,\n",
       " <docx.text.run.Run at 0x2ce679086a0>,\n",
       " <docx.text.run.Run at 0x2ce679084a8>]"
      ]
     },
     "execution_count": 10,
     "metadata": {},
     "output_type": "execute_result"
    }
   ],
   "source": [
    "runs = paragraphs[0].runs\n",
    "runs"
   ]
  },
  {
   "cell_type": "code",
   "execution_count": 11,
   "metadata": {},
   "outputs": [
    {
     "data": {
      "text/plain": [
       "['', '', 'SOUTHWEST AIRLINES CO.']"
      ]
     },
     "execution_count": 11,
     "metadata": {},
     "output_type": "execute_result"
    }
   ],
   "source": [
    "# View all the runs in the paragraph\n",
    "[run.text for run in runs]"
   ]
  },
  {
   "cell_type": "code",
   "execution_count": 12,
   "metadata": {},
   "outputs": [
    {
     "data": {
      "text/plain": [
       "'SOUTHWEST AIRLINES CO.'"
      ]
     },
     "execution_count": 12,
     "metadata": {},
     "output_type": "execute_result"
    }
   ],
   "source": [
    "# each run contains a portion of text from the paragraph\n",
    "run = runs[2]\n",
    "run.text"
   ]
  },
  {
   "cell_type": "markdown",
   "metadata": {},
   "source": [
    "### Run style\n",
    "\n",
    "- Each run contains style information such as bold, italic, or underline. \n",
    "- The style information will be True, False, or None\n",
    "- A value of None indicates the run has no directly-applied style value and so will inherit the value of its containing paragraph."
   ]
  },
  {
   "cell_type": "code",
   "execution_count": 13,
   "metadata": {},
   "outputs": [
    {
     "data": {
      "text/plain": [
       "12.0"
      ]
     },
     "execution_count": 13,
     "metadata": {},
     "output_type": "execute_result"
    }
   ],
   "source": [
    "# font size\n",
    "run.font.size.pt"
   ]
  },
  {
   "cell_type": "code",
   "execution_count": 14,
   "metadata": {},
   "outputs": [
    {
     "name": "stdout",
     "output_type": "stream",
     "text": [
      "None\n"
     ]
    }
   ],
   "source": [
    "print(run.italic)"
   ]
  },
  {
   "cell_type": "code",
   "execution_count": 15,
   "metadata": {},
   "outputs": [
    {
     "name": "stdout",
     "output_type": "stream",
     "text": [
      "None\n"
     ]
    }
   ],
   "source": [
    "print(run.underline)"
   ]
  },
  {
   "cell_type": "code",
   "execution_count": 16,
   "metadata": {},
   "outputs": [
    {
     "name": "stdout",
     "output_type": "stream",
     "text": [
      "True\n"
     ]
    }
   ],
   "source": [
    "print(run.bold)"
   ]
  },
  {
   "cell_type": "code",
   "execution_count": 17,
   "metadata": {},
   "outputs": [
    {
     "data": {
      "text/plain": [
       "[None, None, True]"
      ]
     },
     "execution_count": 17,
     "metadata": {},
     "output_type": "execute_result"
    }
   ],
   "source": [
    "# View all the run stlye \n",
    "[run.bold for run in runs]"
   ]
  },
  {
   "cell_type": "markdown",
   "metadata": {},
   "source": [
    "## Exercise"
   ]
  },
  {
   "cell_type": "markdown",
   "metadata": {},
   "source": [
    "#### Find all the bold runs\n",
    "\n",
    "- Iterate through all the runs in all the paragraphs to identify any run with a bold style applied.\n",
    "- Store all the bold text in a list named bold_text\n",
    "- Do not include empty strings (e.g. '') \n",
    "- print the first 10 items in bold_text"
   ]
  },
  {
   "cell_type": "code",
   "execution_count": 20,
   "metadata": {},
   "outputs": [
    {
     "data": {
      "text/plain": [
       "['SOUTHWEST AIRLINES CO.',\n",
       " '2016 ANNUAL REPORT TO SHAREHOLDERS',\n",
       " 'SECURITIES AND EXCHANGE COMMISSION',\n",
       " 'Washington, D.C. 20549',\n",
       " 'FORM 10-K',\n",
       " 'ANNUAL',\n",
       " 'REPORT',\n",
       " 'PURSUANT',\n",
       " 'TO',\n",
       " 'SECTION']"
      ]
     },
     "execution_count": 20,
     "metadata": {},
     "output_type": "execute_result"
    }
   ],
   "source": [
    "bold_text = []\n",
    "for paragraph in paragraphs:\n",
    "    for run in paragraph.runs:\n",
    "        if run.bold and run.text.strip() != '':\n",
    "            text = run.text\n",
    "            bold_text.append(text)\n",
    "\n",
    "bold_text[0:10]"
   ]
  },
  {
   "cell_type": "markdown",
   "metadata": {},
   "source": [
    "### Create a function to determine if all runs in a paragraph are bold\n",
    "\n",
    "- Name the function is_bold\n",
    "- Return True if all runs (with text) in a paragraph are bold\n",
    "- Test the function by adding all the bold paragraphs to a list named bold_paragraphs\n",
    "- Print the first 10 paragraphs in bold_paragraphs"
   ]
  },
  {
   "cell_type": "code",
   "execution_count": 21,
   "metadata": {
    "collapsed": true
   },
   "outputs": [],
   "source": [
    "# create the function is_bold\n",
    "def is_bold(paragraph):   \n",
    "    runs_are_bold = [run.bold for run in paragraph.runs if run.text != '']\n",
    "\n",
    "    if runs_are_bold != [] and all(runs_are_bold):\n",
    "        return True\n",
    "    return False"
   ]
  },
  {
   "cell_type": "code",
   "execution_count": 22,
   "metadata": {},
   "outputs": [
    {
     "data": {
      "text/plain": [
       "['SOUTHWEST AIRLINES CO.',\n",
       " '2016 ANNUAL REPORT TO SHAREHOLDERS',\n",
       " 'SECURITIES AND EXCHANGE COMMISSION',\n",
       " 'Washington, D.C. 20549',\n",
       " 'FORM 10-K',\n",
       " 'Southwest Airlines Co.',\n",
       " 'Securities registered pursuant to Section 12(b) of the Act:',\n",
       " 'Title of Each Class\\tName of Each Exchange on Which Registered',\n",
       " 'Securities registered pursuant to Section 12(g) of the Act: None',\n",
       " 'DOCUMENTS INCORPORATED BY REFERENCE']"
      ]
     },
     "execution_count": 22,
     "metadata": {},
     "output_type": "execute_result"
    }
   ],
   "source": [
    "# test the is_bold function\n",
    "bold_paragraphs = []\n",
    "for paragraph in paragraphs:\n",
    "    if is_bold(paragraph):\n",
    "        bold_paragraphs.append(paragraph.text)\n",
    "\n",
    "bold_paragraphs[0:10]"
   ]
  },
  {
   "cell_type": "markdown",
   "metadata": {},
   "source": [
    "### Tables"
   ]
  },
  {
   "cell_type": "code",
   "execution_count": 25,
   "metadata": {
    "collapsed": true
   },
   "outputs": [],
   "source": [
    "# identify all document tables\n",
    "tables = doc.tables"
   ]
  },
  {
   "cell_type": "code",
   "execution_count": 26,
   "metadata": {},
   "outputs": [
    {
     "data": {
      "text/plain": [
       "['PART I',\n",
       " 'Item 1.',\n",
       " 'Business',\n",
       " '1',\n",
       " 'Item 1A.',\n",
       " 'Risk Factors',\n",
       " '22',\n",
       " 'Item 1B.',\n",
       " 'Unresolved Staff Comments',\n",
       " '30']"
      ]
     },
     "execution_count": 26,
     "metadata": {},
     "output_type": "execute_result"
    }
   ],
   "source": [
    "table_cells = [cell.text for table in tables for cell in table._cells if cell.text != '']\n",
    "\n",
    "table_cells[0:10]"
   ]
  },
  {
   "cell_type": "markdown",
   "metadata": {},
   "source": [
    "### Core Properties"
   ]
  },
  {
   "cell_type": "code",
   "execution_count": 27,
   "metadata": {},
   "outputs": [
    {
     "data": {
      "text/plain": [
       "'Southwest Airlines Co. 2016 Annual Report'"
      ]
     },
     "execution_count": 27,
     "metadata": {},
     "output_type": "execute_result"
    }
   ],
   "source": [
    "doc.core_properties.title"
   ]
  },
  {
   "cell_type": "code",
   "execution_count": 28,
   "metadata": {},
   "outputs": [
    {
     "data": {
      "text/plain": [
       "''"
      ]
     },
     "execution_count": 28,
     "metadata": {},
     "output_type": "execute_result"
    }
   ],
   "source": [
    "doc.core_properties.subject"
   ]
  },
  {
   "cell_type": "code",
   "execution_count": 29,
   "metadata": {},
   "outputs": [
    {
     "data": {
      "text/plain": [
       "''"
      ]
     },
     "execution_count": 29,
     "metadata": {},
     "output_type": "execute_result"
    }
   ],
   "source": [
    "doc.core_properties.author"
   ]
  },
  {
   "cell_type": "code",
   "execution_count": 30,
   "metadata": {},
   "outputs": [
    {
     "data": {
      "text/plain": [
       "datetime.datetime(2018, 1, 3, 22, 53, 10)"
      ]
     },
     "execution_count": 30,
     "metadata": {},
     "output_type": "execute_result"
    }
   ],
   "source": [
    "doc.core_properties.created"
   ]
  },
  {
   "cell_type": "code",
   "execution_count": 31,
   "metadata": {},
   "outputs": [
    {
     "data": {
      "text/plain": [
       "0"
      ]
     },
     "execution_count": 31,
     "metadata": {},
     "output_type": "execute_result"
    }
   ],
   "source": [
    "doc.core_properties.revision"
   ]
  },
  {
   "cell_type": "markdown",
   "metadata": {},
   "source": [
    "## Explore docx xml\n",
    "Every word document is a zip of xml files. To test this, change the extension of any word file from .docx to .xml. \n",
    "\n",
    "Inside each zip, a directory named word contains document.xml. This file contains all of the xml for the word document.\n",
    "\n",
    "To open the zip we use the package zipfile"
   ]
  },
  {
   "cell_type": "code",
   "execution_count": 34,
   "metadata": {},
   "outputs": [
    {
     "data": {
      "text/plain": [
       "'C:\\\\Users\\\\alsherman\\\\Desktop\\\\PycharmProjects\\\\firm_initiatives\\\\ml_guild\\\\raw_data\\\\docx_example.zip'"
      ]
     },
     "execution_count": 34,
     "metadata": {},
     "output_type": "execute_result"
    }
   ],
   "source": [
    "XML_PATH"
   ]
  },
  {
   "cell_type": "code",
   "execution_count": 32,
   "metadata": {
    "collapsed": true
   },
   "outputs": [],
   "source": [
    "import zipfile\n",
    "\n",
    "zip = zipfile.ZipFile(XML_PATH, 'r')"
   ]
  },
  {
   "cell_type": "code",
   "execution_count": 33,
   "metadata": {},
   "outputs": [
    {
     "name": "stdout",
     "output_type": "stream",
     "text": [
      "[Content_Types].xml\n",
      "_rels/.rels\n",
      "word/_rels/document.xml.rels\n",
      "word/document.xml\n",
      "word/theme/theme1.xml\n",
      "word/settings.xml\n",
      "word/fontTable.xml\n",
      "word/webSettings.xml\n",
      "docProps/app.xml\n",
      "docProps/core.xml\n",
      "word/styles.xml\n"
     ]
    }
   ],
   "source": [
    "for f in zip.filelist:\n",
    "    print(f.filename)"
   ]
  },
  {
   "cell_type": "code",
   "execution_count": 35,
   "metadata": {
    "collapsed": true
   },
   "outputs": [],
   "source": [
    "xml_content = zip.read('word/document.xml')"
   ]
  },
  {
   "cell_type": "markdown",
   "metadata": {},
   "source": [
    "### zipfile\n",
    "\n",
    "ZipFile - The class for reading and writing ZIP files\n",
    "read - Returns the bytes content from a zipfile"
   ]
  },
  {
   "cell_type": "code",
   "execution_count": 36,
   "metadata": {},
   "outputs": [
    {
     "data": {
      "text/html": [
       "<iframe src=https://docs.python.org/2/library/zipfile.html#zipfile-objects width=1100 height=300></iframe>"
      ],
      "text/plain": [
       "<IPython.core.display.HTML object>"
      ]
     },
     "execution_count": 36,
     "metadata": {},
     "output_type": "execute_result"
    }
   ],
   "source": [
    "sqlalchemy_url = 'https://docs.python.org/2/library/zipfile.html#zipfile-objects'\n",
    "iframe = '<iframe src={} width=1100 height=300></iframe>'.format(sqlalchemy_url)\n",
    "HTML(iframe)"
   ]
  },
  {
   "cell_type": "code",
   "execution_count": 37,
   "metadata": {
    "collapsed": true
   },
   "outputs": [],
   "source": [
    "from bs4 import BeautifulSoup\n",
    "\n",
    "b = BeautifulSoup(xml_content, 'lxml')"
   ]
  },
  {
   "cell_type": "code",
   "execution_count": 38,
   "metadata": {},
   "outputs": [
    {
     "name": "stdout",
     "output_type": "stream",
     "text": [
      "<w:p w:rsidp=\"00A96863\" w:rsidr=\"007F6AD8\" w:rsidrdefault=\"00A96863\"><w:ppr><w:pstyle w:val=\"Heading1\"></w:pstyle></w:ppr><w:r><w:t>Section Header</w:t></w:r></w:p>\n",
      "\n",
      "<w:p w:rsidr=\"00A96863\" w:rsidrdefault=\"00A96863\"><w:r><w:t>Text in the section</w:t></w:r><w:bookmarkstart w:id=\"0\" w:name=\"_GoBack\"></w:bookmarkstart><w:bookmarkend w:id=\"0\"></w:bookmarkend></w:p>\n",
      "\n",
      "<w:sectpr w:rsidr=\"00A96863\"><w:pgsz w:h=\"15840\" w:w=\"12240\"></w:pgsz><w:pgmar w:bottom=\"1440\" w:footer=\"720\" w:gutter=\"0\" w:header=\"720\" w:left=\"1440\" w:right=\"1440\" w:top=\"1440\"></w:pgmar><w:cols w:space=\"720\"></w:cols><w:docgrid w:linepitch=\"360\"></w:docgrid></w:sectpr>\n",
      "\n"
     ]
    }
   ],
   "source": [
    "# view the xml from a short document with one heading and one sentence\n",
    "for word in b.find('w:body'):\n",
    "    print(word)\n",
    "    print()"
   ]
  },
  {
   "cell_type": "markdown",
   "metadata": {},
   "source": [
    "### docx XML tag definitions\n",
    "- < w:body > - contains the document paragraphs\n",
    "- < w:p > - Document paragraph\n",
    "- < w:pstyle > Document Style (e.g. Header 1)\n",
    "- < w:t > text in a paragraph or run\n",
    "- < w:bookmarkstart > defines a bookmark, such as a link in a table of contents\n",
    "- < w:r > - Document runs. Every time the style in a paragraph changes, for instance a bold or underline term, a new run is added. Each paragraph may contain multiple runs.\n"
   ]
  },
  {
   "cell_type": "markdown",
   "metadata": {},
   "source": [
    "### Exercise\n",
    "\n",
    "In this exercise, we will search through several Oracle annual reports to find selected text throughout all the documents without needing to extract the files from the zip manually. "
   ]
  },
  {
   "cell_type": "code",
   "execution_count": 46,
   "metadata": {},
   "outputs": [
    {
     "data": {
      "text/plain": [
       "'C:\\\\Users\\\\alsherman\\\\Desktop\\\\PycharmProjects\\\\firm_initiatives\\\\ml_guild\\\\raw_data\\\\oracle-corporation.zip'"
      ]
     },
     "execution_count": 46,
     "metadata": {},
     "output_type": "execute_result"
    }
   ],
   "source": [
    "EXAMPLE_ZIP"
   ]
  },
  {
   "cell_type": "code",
   "execution_count": 39,
   "metadata": {
    "collapsed": true
   },
   "outputs": [],
   "source": [
    "# use zipfile to read the example_zip\n",
    "zip = zipfile.ZipFile(EXAMPLE_ZIP, 'r')"
   ]
  },
  {
   "cell_type": "code",
   "execution_count": 41,
   "metadata": {},
   "outputs": [
    {
     "data": {
      "text/plain": [
       "3"
      ]
     },
     "execution_count": 41,
     "metadata": {},
     "output_type": "execute_result"
    }
   ],
   "source": [
    "# How many documents are in the provided zip?\n",
    "len(zip.filelist)"
   ]
  },
  {
   "cell_type": "code",
   "execution_count": 47,
   "metadata": {},
   "outputs": [
    {
     "data": {
      "text/plain": [
       "['oracle-corporation_annual_report_1994.docx',\n",
       " 'oracle-corporation_annual_report_1995.docx',\n",
       " 'oracle-corporation_annual_report_1996.docx']"
      ]
     },
     "execution_count": 47,
     "metadata": {},
     "output_type": "execute_result"
    }
   ],
   "source": [
    "# view the filenames\n",
    "[f.filename for f in zip.filelist]"
   ]
  },
  {
   "cell_type": "code",
   "execution_count": 48,
   "metadata": {},
   "outputs": [
    {
     "name": "stdout",
     "output_type": "stream",
     "text": [
      "Effective June 1, 1992, the Company adopted Statement of Financial Accounting Standards No. 109, \"Accounting for Income Taxes,\" which requires recognition of deferred tax liabilities and assets for the expected future tax consequences of events that have been included in the financial statements or tax returns. Under this statement, deferred tax liabilities and assets are determined based on the difference between the financial statement and tax bases of assets and liabilities, using enacted tax rates in effect for the year in which the differences are expected to reverse.\n",
      "\n",
      "Effective June 1, 1992, the Company adopted Statement of Financial Accounting Standards No. 109, \"Accounting for Income Taxes, \" (SFAS\n",
      "\n",
      "Effective June 1, 1992, the Company adopted Statement of Financial Accounting Standards No. 109, \"Accounting for Income Taxes.\" The comparative income tax data provided in this footnote for the year ended May 31, 1992 is presented under the provisions of APB 11.\n",
      "\n",
      "Effective June 1, 1992, the Company adopted Statement of Financial Accounting Standards No. 109, \"Accounting for Income Taxes,\" which requires recognition of deferred tax liabilities and assets for the expected future tax consequences of events that have been included in the financial statements or tax returns. Under this statement, deferred tax liabilities and assets are determined based on the difference between the financial statement and tax bases of assets and liabilities, using enacted tax rates in effect for the year in which the differences are expected to reverse.\n",
      "\n",
      "Effective June 1, 1992, the Company adopted Statement of Financial Accounting Standards No. 109, \"Accounting for Income Taxes,\" (\"SFAS 109\") which requires recognition of deferred tax liabilities and assets for the expected future tax consequences of events that have been included in the financial statements or tax returns. Under this statement, deferred tax liabilities and assets are determined based on the difference between the financial statement and tax bases of assets and liabilities, using enacted tax rates in effect for the year in which the differences are expected to reverse. The cumulative effect of adopting SFAS 109 as of June 1, 1992 was not material.\n",
      "\n"
     ]
    }
   ],
   "source": [
    "# Find the five paragraphs scattered in all the documents in the zip\n",
    "# that speak about 'Financial Accounting Standards No. 109'\n",
    "\n",
    "# iterate through the filelist\n",
    "for f in zip.filelist:\n",
    "    # use zip.extract to open the file\n",
    "    doc_file = zip.extract(f)\n",
    "    # open the document with docx\n",
    "    doc = docx.Document(doc_file)\n",
    "    # iterate through the paragraphs in the document\n",
    "    for p in doc.paragraphs:\n",
    "        # check which paragraphs contain 'Financial Accounting Standards No. 109'\n",
    "        if 'Financial Accounting Standards No. 109' in p.text:\n",
    "            # print the paragraphs that meet the condition\n",
    "            print(p.text)\n",
    "            print()"
   ]
  }
 ],
 "metadata": {
  "kernelspec": {
   "display_name": "Python 3",
   "language": "python",
   "name": "python3"
  },
  "language_info": {
   "codemirror_mode": {
    "name": "ipython",
    "version": 3
   },
   "file_extension": ".py",
   "mimetype": "text/x-python",
   "name": "python",
   "nbconvert_exporter": "python",
   "pygments_lexer": "ipython3",
   "version": "3.6.3"
  }
 },
 "nbformat": 4,
 "nbformat_minor": 2
}
