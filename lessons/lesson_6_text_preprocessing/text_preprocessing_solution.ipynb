{
 "cells": [
  {
   "cell_type": "markdown",
   "metadata": {},
   "source": [
    "# Text Preprocessing\n",
    "\n",
    "##### Author: Alex Sherman | alsherman@deloitte.com"
   ]
  },
  {
   "cell_type": "markdown",
   "metadata": {},
   "source": [
    "#### Agenga\n",
    "\n",
    "1. SpaCy\n",
    "2. Text Tokenization, Tagging, Parsing, NER\n",
    "3. Text Rule-based matching\n",
    "4. Text Pipelines\n",
    "5. Advanced SpaCy Examples"
   ]
  },
  {
   "cell_type": "code",
   "execution_count": 2,
   "metadata": {},
   "outputs": [],
   "source": [
    "import os\n",
    "from IPython.core.display import display, HTML\n",
    "from configparser import ConfigParser, ExtendedInterpolation\n",
    "\n",
    "config = ConfigParser(interpolation=ExtendedInterpolation())\n",
    "config.read('../../config.ini')\n",
    "DB_PATH = config['DATABASES']['PROJECT_DB_PATH']"
   ]
  },
  {
   "cell_type": "code",
   "execution_count": 3,
   "metadata": {},
   "outputs": [
    {
     "data": {
      "text/plain": [
       "'sqlite:///C:\\\\Users\\\\alsherman\\\\Desktop\\\\PycharmProjects\\\\firm_initiatives\\\\ml_guild\\\\raw_data\\\\databases\\\\annual_report.db'"
      ]
     },
     "execution_count": 3,
     "metadata": {},
     "output_type": "execute_result"
    }
   ],
   "source": [
    "# confirm DB_PATH is in the correct db directory, otherwise the rest of the code will not work\n",
    "DB_PATH"
   ]
  },
  {
   "cell_type": "code",
   "execution_count": 4,
   "metadata": {},
   "outputs": [
    {
     "data": {
      "text/html": [
       "<div>\n",
       "<style scoped>\n",
       "    .dataframe tbody tr th:only-of-type {\n",
       "        vertical-align: middle;\n",
       "    }\n",
       "\n",
       "    .dataframe tbody tr th {\n",
       "        vertical-align: top;\n",
       "    }\n",
       "\n",
       "    .dataframe thead th {\n",
       "        text-align: right;\n",
       "    }\n",
       "</style>\n",
       "<table border=\"1\" class=\"dataframe\">\n",
       "  <thead>\n",
       "    <tr style=\"text-align: right;\">\n",
       "      <th></th>\n",
       "      <th>name</th>\n",
       "    </tr>\n",
       "  </thead>\n",
       "  <tbody>\n",
       "    <tr>\n",
       "      <th>0</th>\n",
       "      <td>DOCUMENTS</td>\n",
       "    </tr>\n",
       "    <tr>\n",
       "      <th>1</th>\n",
       "      <td>SECTIONS</td>\n",
       "    </tr>\n",
       "  </tbody>\n",
       "</table>\n",
       "</div>"
      ],
      "text/plain": [
       "        name\n",
       "0  DOCUMENTS\n",
       "1   SECTIONS"
      ]
     },
     "execution_count": 4,
     "metadata": {},
     "output_type": "execute_result"
    }
   ],
   "source": [
    "# check for the names of the tables in the database\n",
    "import pandas as pd\n",
    "from sqlalchemy import create_engine\n",
    "\n",
    "engine = create_engine(DB_PATH)\n",
    "pd.read_sql(\"SELECT name FROM sqlite_master WHERE type='table'\", con=engine)"
   ]
  },
  {
   "cell_type": "code",
   "execution_count": 5,
   "metadata": {},
   "outputs": [
    {
     "data": {
      "text/html": [
       "<div>\n",
       "<style scoped>\n",
       "    .dataframe tbody tr th:only-of-type {\n",
       "        vertical-align: middle;\n",
       "    }\n",
       "\n",
       "    .dataframe tbody tr th {\n",
       "        vertical-align: top;\n",
       "    }\n",
       "\n",
       "    .dataframe thead th {\n",
       "        text-align: right;\n",
       "    }\n",
       "</style>\n",
       "<table border=\"1\" class=\"dataframe\">\n",
       "  <thead>\n",
       "    <tr style=\"text-align: right;\">\n",
       "      <th></th>\n",
       "      <th>document_id</th>\n",
       "      <th>path</th>\n",
       "      <th>filename</th>\n",
       "      <th>year</th>\n",
       "      <th>document_text</th>\n",
       "      <th>table_text</th>\n",
       "      <th>author</th>\n",
       "      <th>last_modified_by</th>\n",
       "      <th>created</th>\n",
       "      <th>revision</th>\n",
       "      <th>num_tables</th>\n",
       "    </tr>\n",
       "  </thead>\n",
       "  <tbody>\n",
       "    <tr>\n",
       "      <th>0</th>\n",
       "      <td>1</td>\n",
       "      <td>C:\\Users\\alsherman\\Desktop\\PycharmProjects\\fir...</td>\n",
       "      <td>southwest-airlines-co_annual_report_1994.docx</td>\n",
       "      <td>1994</td>\n",
       "      <td>© 1994 Southwest Airlines Co. This annual repo...</td>\n",
       "      <td>1994 1993 Percent Change Operating revenues $...</td>\n",
       "      <td></td>\n",
       "      <td></td>\n",
       "      <td>2018-01-03 22:40:27</td>\n",
       "      <td>0</td>\n",
       "      <td>24</td>\n",
       "    </tr>\n",
       "    <tr>\n",
       "      <th>1</th>\n",
       "      <td>2</td>\n",
       "      <td>C:\\Users\\alsherman\\Desktop\\PycharmProjects\\fir...</td>\n",
       "      <td>southwest-airlines-co_annual_report_1995.docx</td>\n",
       "      <td>1995</td>\n",
       "      <td>Southwest Airlines Co. 1995 Annual Report OUR ...</td>\n",
       "      <td>1995 1994 Percent Change Percent Change Opera...</td>\n",
       "      <td>43945</td>\n",
       "      <td></td>\n",
       "      <td>2018-01-03 22:40:43</td>\n",
       "      <td>0</td>\n",
       "      <td>32</td>\n",
       "    </tr>\n",
       "    <tr>\n",
       "      <th>2</th>\n",
       "      <td>3</td>\n",
       "      <td>C:\\Users\\alsherman\\Desktop\\PycharmProjects\\fir...</td>\n",
       "      <td>southwest-airlines-co_annual_report_1996.docx</td>\n",
       "      <td>1996</td>\n",
       "      <td>Consolidated Highlights\\t2 Introduction\\t3 Let...</td>\n",
       "      <td>CONSOLIDATED HIGHLIGHTS    (DOLLARS IN THOUSAN...</td>\n",
       "      <td>23133</td>\n",
       "      <td></td>\n",
       "      <td>2018-01-03 22:40:58</td>\n",
       "      <td>0</td>\n",
       "      <td>24</td>\n",
       "    </tr>\n",
       "  </tbody>\n",
       "</table>\n",
       "</div>"
      ],
      "text/plain": [
       "   document_id                                               path  \\\n",
       "0            1  C:\\Users\\alsherman\\Desktop\\PycharmProjects\\fir...   \n",
       "1            2  C:\\Users\\alsherman\\Desktop\\PycharmProjects\\fir...   \n",
       "2            3  C:\\Users\\alsherman\\Desktop\\PycharmProjects\\fir...   \n",
       "\n",
       "                                        filename  year  \\\n",
       "0  southwest-airlines-co_annual_report_1994.docx  1994   \n",
       "1  southwest-airlines-co_annual_report_1995.docx  1995   \n",
       "2  southwest-airlines-co_annual_report_1996.docx  1996   \n",
       "\n",
       "                                       document_text  \\\n",
       "0  © 1994 Southwest Airlines Co. This annual repo...   \n",
       "1  Southwest Airlines Co. 1995 Annual Report OUR ...   \n",
       "2  Consolidated Highlights\\t2 Introduction\\t3 Let...   \n",
       "\n",
       "                                          table_text author last_modified_by  \\\n",
       "0   1994 1993 Percent Change Operating revenues $...                           \n",
       "1   1995 1994 Percent Change Percent Change Opera...  43945                    \n",
       "2  CONSOLIDATED HIGHLIGHTS    (DOLLARS IN THOUSAN...  23133                    \n",
       "\n",
       "               created  revision  num_tables  \n",
       "0  2018-01-03 22:40:27         0          24  \n",
       "1  2018-01-03 22:40:43         0          32  \n",
       "2  2018-01-03 22:40:58         0          24  "
      ]
     },
     "execution_count": 5,
     "metadata": {},
     "output_type": "execute_result"
    }
   ],
   "source": [
    "# read the oracle 10k documents \n",
    "doc_df = pd.read_sql(\"SELECT * FROM Documents\", con=engine)\n",
    "doc_df.head(3)"
   ]
  },
  {
   "cell_type": "code",
   "execution_count": 6,
   "metadata": {},
   "outputs": [
    {
     "data": {
      "text/html": [
       "<div>\n",
       "<style scoped>\n",
       "    .dataframe tbody tr th:only-of-type {\n",
       "        vertical-align: middle;\n",
       "    }\n",
       "\n",
       "    .dataframe tbody tr th {\n",
       "        vertical-align: top;\n",
       "    }\n",
       "\n",
       "    .dataframe thead th {\n",
       "        text-align: right;\n",
       "    }\n",
       "</style>\n",
       "<table border=\"1\" class=\"dataframe\">\n",
       "  <thead>\n",
       "    <tr style=\"text-align: right;\">\n",
       "      <th></th>\n",
       "      <th>section_id</th>\n",
       "      <th>filename</th>\n",
       "      <th>section_name</th>\n",
       "      <th>section_text</th>\n",
       "      <th>criteria</th>\n",
       "      <th>section_length</th>\n",
       "    </tr>\n",
       "  </thead>\n",
       "  <tbody>\n",
       "    <tr>\n",
       "      <th>0</th>\n",
       "      <td>1</td>\n",
       "      <td>southwest-airlines-co_annual_report_1994.docx</td>\n",
       "      <td>FIRST SECTION</td>\n",
       "      <td>© 1994 Southwest Airlines Co. This annual repo...</td>\n",
       "      <td>&lt;function heading at 0x000001D4AA492EA0&gt;</td>\n",
       "      <td>83</td>\n",
       "    </tr>\n",
       "    <tr>\n",
       "      <th>1</th>\n",
       "      <td>2</td>\n",
       "      <td>southwest-airlines-co_annual_report_1994.docx</td>\n",
       "      <td>TABLE OF CONTENTS CONSOLIDATED HIGHLIGHTS</td>\n",
       "      <td>(Dollars in thousands except per share amounts...</td>\n",
       "      <td>&lt;function heading at 0x000001D4AA492EA0&gt;</td>\n",
       "      <td>113</td>\n",
       "    </tr>\n",
       "    <tr>\n",
       "      <th>2</th>\n",
       "      <td>3</td>\n",
       "      <td>southwest-airlines-co_annual_report_1994.docx</td>\n",
       "      <td>NET INCOME NET INCOME PER SHARE LOW FARES</td>\n",
       "      <td>Southwest Airlines was built, from the ground ...</td>\n",
       "      <td>&lt;function heading at 0x000001D4AA492EA0&gt;</td>\n",
       "      <td>1553</td>\n",
       "    </tr>\n",
       "  </tbody>\n",
       "</table>\n",
       "</div>"
      ],
      "text/plain": [
       "   section_id                                       filename  \\\n",
       "0           1  southwest-airlines-co_annual_report_1994.docx   \n",
       "1           2  southwest-airlines-co_annual_report_1994.docx   \n",
       "2           3  southwest-airlines-co_annual_report_1994.docx   \n",
       "\n",
       "                                section_name  \\\n",
       "0                              FIRST SECTION   \n",
       "1  TABLE OF CONTENTS CONSOLIDATED HIGHLIGHTS   \n",
       "2  NET INCOME NET INCOME PER SHARE LOW FARES   \n",
       "\n",
       "                                        section_text  \\\n",
       "0  © 1994 Southwest Airlines Co. This annual repo...   \n",
       "1  (Dollars in thousands except per share amounts...   \n",
       "2  Southwest Airlines was built, from the ground ...   \n",
       "\n",
       "                                   criteria  section_length  \n",
       "0  <function heading at 0x000001D4AA492EA0>              83  \n",
       "1  <function heading at 0x000001D4AA492EA0>             113  \n",
       "2  <function heading at 0x000001D4AA492EA0>            1553  "
      ]
     },
     "execution_count": 6,
     "metadata": {},
     "output_type": "execute_result"
    }
   ],
   "source": [
    "# read the oracle 10k sections\n",
    "df = pd.read_sql(\"SELECT * FROM Sections \", con=engine)\n",
    "df.head(3)"
   ]
  },
  {
   "cell_type": "markdown",
   "metadata": {},
   "source": [
    "### Exercise\n",
    "\n",
    "1. Create a dataframe named fees_df that stores the section_name of each section that includes the word fee\n",
    "2. Print the count of matched sections\n",
    "3. Printfirst five matched sections"
   ]
  },
  {
   "cell_type": "code",
   "execution_count": 10,
   "metadata": {},
   "outputs": [
    {
     "name": "stdout",
     "output_type": "stream",
     "text": [
      "Sections with the term fee: 178\n",
      "\n",
      "DEPARTMENT OF TRANSPORTATION RANKINGS FOR 1994 SPIRIT\n",
      "\n",
      "RESULTS OF OPERATIONS\n",
      "\n",
      "ACQUISITION\n",
      "\n",
      "ACCRUED LIABILITIES (IN THOUSANDS) LONG-TERM DEBT (IN THOUSANDS)\n",
      "\n",
      "SECRET NUMBER 1 STICK TO WHAT YOU’RE GOOD AT.\n",
      "\n"
     ]
    }
   ],
   "source": [
    "# create fees_df\n",
    "fees_df = df[df.section_text.str.contains('fee')].section_name\n",
    "\n",
    "# print the count of matches\n",
    "print('Sections with the term fee: {}\\n'.format(len(fees_df)))\n",
    "\n",
    "# view the first five section names\n",
    "for section in fees_df[0:5]:\n",
    "    print(section)\n",
    "    print()"
   ]
  },
  {
   "cell_type": "code",
   "execution_count": 11,
   "metadata": {},
   "outputs": [
    {
     "data": {
      "text/plain": [
       "'A complaint alleging violations of federal antitrust laws and seeking certification as a class action was filed against Delta Air Lines, Inc. and AirTran in the United States District Court for the Northern District of Georgia in Atlanta on May 22, 2009. The complaint alleged, among other things, that AirTran attempted to monopolize air travel in violation of Section 2 of the Sherman Act, and conspired with Delta in imposing $15-per-bag fees for the first item of checked luggage in violation of Section 1 of the Sherman Act. The initial complaint sought treble damages on behalf of a putative class of persons or entities in the United States who directly paid Delta and/or AirTran such fees on domestic flights beginning December 5, 2008. After the filing of the May 2009 complaint, various other nearly identical complaints also seeking certification as class actions were filed in federal district courts in Atlanta, Georgia; Orlando, Florida; and Las Vegas, Nevada. All of the cases were consolidated before  a single federal district court judge in Atlanta. A Consolidated Amended Complaint was filed in the consolidated action on February 1, 2010, which broadened the allegations to add claims that Delta and AirTran conspired to reduce capacity on competitive routes and to raise prices in violation of Section 1 of the Sherman Act. In addition to treble damages for the amount of first baggage fees paid to  AirTran and to Delta, the Consolidated Amended Complaint seeks injunctive relief against a broad range of alleged anticompetitive activities, as well as attorneys’ fees. On August 2, 2010, the Court dismissed plaintiffs’ claims that AirTran and Delta had violated Section 2 of the Sherman Act; the Court let stand the claims of a conspiracy with respect to the imposition of a first bag fee and the airlines’ capacity and pricing decisions. On June 30, 2010, the plaintiffs filed a motion to certify a class, which AirTran and Delta have opposed. The parties have submitted briefs on class certification, and the parties have filed motions to exclude the class certification opinions of each other’s expert. The parties engaged in extensive discovery, and discovery has now closed. On June 18, 2012, the parties filed a Stipulation and Order that plaintiffs have abandoned their claim that AirTran and Delta conspired to reduce capacity. On August 31, 2012, AirTran and Delta moved for summary judgment on all of plaintiffs’ remaining claims, but discovery disputes between plaintiffs and Delta delayed further briefing on summary judgment. On August 5, 2015, the Court entered an order granting class certification, which was vacated on August 17, 2015, to permit further briefing on class certification and AirTran’s motion to exclude plaintiffs’ expert. Thereafter, the parties filed motions to exclude the opinions of the other parties’ experts. On January 8, 2016, the parties completed briefing on defendants’ motions for summary judgment, plaintiffs’ motion for class certification, and the motions to exclude the opinions  of experts, and those motions have been submitted to the Court for decision. AirTran denies all allegations of wrongdoing, including those in the Consolidated Amended Complaint, and intends to defend vigorously any and all such allegations. Also, on June 30, 2015, the U.S. Department of Justice (“DOJ”) issued a Civil Investigative Demand (“CID”) to the Company. The CID seeks information and documents about the Company’s capacity from January 2010 to the present including public statements and communications with third parties about capacity. In June 2015, the Company also received a letter from the Connecticut Attorney General requesting information about capacity; and on August 21, 2015, the Attorney General of the State of Ohio issued an investigative demand seeking information and documents about the Company’s capacity from December 2013 to the present. The Company is cooperating fully with the DOJ CID and these two state inquiries. Further, on July 1, 2015, a complaint was filed in the United States District Court for the Southern District of New York on behalf of putative classes of consumers alleging collusion among the Company, American Airlines, Delta Air Lines, and United Airlines to limit capacity and maintain higher fares in violation of Section 1 of the Sherman Act. Since then, a number of similar class action complaints have been filed in the United States District Courts for the Central District of California,  the Northern District of California, the District of Columbia, the Middle District of Florida, the Southern District of Florida, the Northern District of Georgia, the Northern District of Illinois, the Southern District of Indiana, the Eastern District of Louisiana, the District of Minnesota, the District of New Jersey, the Eastern District of New York, the Southern District of New York, the Middle District of North Carolina, the District of Oklahoma, the Eastern District of Pennsylvania, the Northern District of Texas, the District of Vermont, and the Eastern District of Wisconsin. The complaints seek treble damages for periods that vary among the complaints, costs, attorneys’ fees, and injunctive relief. On October 13, 2015, the Judicial Panel on  Multi-District  Litigation  centralized  the  cases  to  the  United States District Court in the District of Columbia. The Court has not yet entered a scheduling order establishing a date for defendants to respond to the complaints. The Company intends to vigorously defend these civil cases. In addition, on July 8, 2015, the Company was named as a defendant in putative class action filed in British Columbia, Canada alleging that the Company, Air Canada, American Airlines, Delta Air  Lines and United Airlines colluded to restrict capacity and maintain higher fares for Canadian citizens traveling in the United States and for travel between the United States and Canada. Similar lawsuits were filed in Ontario, Quebec and Saskatchewan. The time for the Company to respond to the complaints has not yet expired. The Company intends to vigorously defend these civil cases in Canada. The Company is from time to time subject to various legal proceedings and claims arising in the ordinary course of business, including, but not limited to, examinations by the Internal Revenue Service. The Company’s management does not expect that the outcome in any of its currently ongoing legal proceedings or the outcome of any proposed adjustments presented to date by the Internal Revenue Service, individually or collectively, will have a material adverse effect on the Company’s financial condition, results of operations, or cash flow.'"
      ]
     },
     "execution_count": 11,
     "metadata": {},
     "output_type": "execute_result"
    }
   ],
   "source": [
    "# example text\n",
    "text = df.section_text[2461]\n",
    "text"
   ]
  },
  {
   "cell_type": "markdown",
   "metadata": {},
   "source": [
    "### SpaCy\n",
    "\n",
    "\"SpaCy is a free, open-source library for advanced Natural Language Processing (NLP) in Python.\n",
    "\n",
    "If you're working with a lot of text, you'll eventually want to know more about it. For example, what's it about? What do the words mean in context? Who is doing what to whom? What companies and products are mentioned? Which texts are similar to each other?\n",
    "\n",
    "SpaCy is designed specifically for production use and helps you build applications that process and \"understand\" large volumes of text. It can be used to build information extraction or natural language understanding systems, or to pre-process text for deep learning.\n",
    "\n",
    "SpaCy is not research software. It's built on the latest research, but it's designed to get things done. This leads to fairly different design decisions than NLTK or CoreNLP, which were created as platforms for teaching and research. The main difference is that SpaCy is integrated and opinionated. SpaCy tries to avoid asking the user to choose between multiple algorithms that deliver equivalent functionality. Keeping the menu small lets SpaCy deliver generally better performance and developer experience.\"\n",
    "\n",
    "#### Installation:\n",
    "- Windows: Download Microsoft Visual C++: http://landinghub.visualstudio.com/visual-cpp-build-tools\n",
    "- conda install -c conda-forge spacy\n",
    "- python -m spacy download en\n",
    "\n",
    "##### if you run into an error try the following:\n",
    "- python -m spacy link en_core_web_sm en\n",
    "- SOURCE: https://github.com/explosion/spaCy/issues/950\n",
    "\n",
    "##### Optional to install a convolutional neural network model:\n",
    "- python -m spacy download en_core_web_lg\n",
    "\n",
    "##### Optional - install on an AWS EC2 instance\n",
    "Instance: Amazon Linux 2 LTS Candidate 2 AMI (HVM), SSD Volume Type\n",
    "#!/bin/bash\n",
    "\n",
    "sudo yum update -y\n",
    "\n",
    "sudo yum groupinstall 'Development Tools' -y\n",
    "\n",
    "sudo easy_install pip\n",
    "\n",
    "sudo yum install python-devel -y\n",
    "\n",
    "sudo pip install spacy\n",
    "\n",
    "sudo python -m spacy download en_core_web_lg\n",
    "\n",
    "### SpaCy Features \n",
    "\n",
    "NAME |\tDESCRIPTION |\n",
    ":----- |:------|\n",
    "Tokenization|Segmenting text into words, punctuations marks etc.|\n",
    "Part-of-speech (POS) Tagging|Assigning word types to tokens, like verb or noun.|\n",
    "Dependency Parsing|\tAssigning syntactic dependency labels, describing the relations between individual tokens, like subject or object.|\n",
    "Lemmatization|\tAssigning the base forms of words. For example, the lemma of \"was\" is \"be\", and the lemma of \"rats\" is \"rat\".|\n",
    "Sentence Boundary Detection (SBD)|\tFinding and segmenting individual sentences.|\n",
    "Named Entity Recognition (NER)|\tLabelling named \"real-world\" objects, like persons, companies or locations.|\n",
    "Similarity|\tComparing words, text spans and documents and how similar they are to each other.|\n",
    "Text Classification|\tAssigning categories or labels to a whole document, or parts of a document.|\n",
    "Rule-based Matching|\tFinding sequences of tokens based on their texts and linguistic annotations, similar to regular expressions.|\n",
    "Training|\tUpdating and improving a statistical model's predictions.|\n",
    "Serialization|\tSaving objects to files or byte strings.|\n",
    "\n",
    "SOURCE: https://spacy.io/usage/spacy-101"
   ]
  },
  {
   "cell_type": "code",
   "execution_count": 12,
   "metadata": {},
   "outputs": [
    {
     "data": {
      "text/plain": [
       "'C:\\\\Users\\\\alsherman\\\\AppData\\\\Local\\\\Continuum\\\\anaconda3\\\\envs\\\\guild\\\\python.exe'"
      ]
     },
     "execution_count": 12,
     "metadata": {},
     "output_type": "execute_result"
    }
   ],
   "source": [
    "# confirm which conda environment you are using - make sure it is one with SpaCy installed\n",
    "import sys\n",
    "sys.executable\n",
    "\n",
    "# if you have difficulty importing spacy try the following in git bash\n",
    "# conda install ipykernel --name Python3"
   ]
  },
  {
   "cell_type": "code",
   "execution_count": 13,
   "metadata": {},
   "outputs": [],
   "source": [
    "import spacy\n",
    "from spacy import displacy"
   ]
  },
  {
   "cell_type": "code",
   "execution_count": 33,
   "metadata": {},
   "outputs": [
    {
     "name": "stdout",
     "output_type": "stream",
     "text": [
      "Wall time: 49.5 s\n"
     ]
    }
   ],
   "source": [
    "%%time\n",
    "\n",
    "# read in a simple (small) English language model\n",
    "nlp = spacy.load('en')\n",
    "\n",
    "# another approach:\n",
    "# import en_core_web_sm\n",
    "# nlp = en_core_web_sm.load()"
   ]
  },
  {
   "cell_type": "code",
   "execution_count": 14,
   "metadata": {},
   "outputs": [
    {
     "name": "stdout",
     "output_type": "stream",
     "text": [
      "Wall time: 1min 41s\n"
     ]
    }
   ],
   "source": [
    "%%time \n",
    "\n",
    "# read in a (large) convolutional neural network model\n",
    "# this will only work after the CNN model is downloaded (~800MB)\n",
    "# e.g. python -m spacy download en_core_web_lg\n",
    "nlp = spacy.load('en_core_web_lg') "
   ]
  },
  {
   "cell_type": "code",
   "execution_count": 15,
   "metadata": {},
   "outputs": [],
   "source": [
    "# instantiate the document text\n",
    "doc = nlp(text)"
   ]
  },
  {
   "cell_type": "code",
   "execution_count": 16,
   "metadata": {},
   "outputs": [
    {
     "data": {
      "text/plain": [
       "A complaint alleging violations of federal antitrust laws and seeking certification as a class action was filed against Delta Air Lines, Inc. and AirTran in the United States District Court for the Northern District of Georgia in Atlanta on May 22, 2009. The complaint alleged, among other things, that AirTran attempted to monopolize air travel in violation of Section 2 of the Sherman Act, and conspired with Delta in imposing $15-per-bag fees for the first item of checked luggage in violation of Section 1 of the Sherman Act. The initial complaint sought treble damages on behalf of a putative class of persons or entities in the United States who directly paid Delta and/or AirTran such fees on domestic flights beginning December 5, 2008. After the filing of the May 2009 complaint, various other nearly identical complaints also seeking certification as class actions were filed in federal district courts in Atlanta, Georgia; Orlando, Florida; and Las Vegas, Nevada. All of the cases were consolidated before  a single federal district court judge in Atlanta. A Consolidated Amended Complaint was filed in the consolidated action on February 1, 2010, which broadened the allegations to add claims that Delta and AirTran conspired to reduce capacity on competitive routes and to raise prices in violation of Section 1 of the Sherman Act. In addition to treble damages for the amount of first baggage fees paid to  AirTran and to Delta, the Consolidated Amended Complaint seeks injunctive relief against a broad range of alleged anticompetitive activities, as well as attorneys’ fees. On August 2, 2010, the Court dismissed plaintiffs’ claims that AirTran and Delta had violated Section 2 of the Sherman Act; the Court let stand the claims of a conspiracy with respect to the imposition of a first bag fee and the airlines’ capacity and pricing decisions. On June 30, 2010, the plaintiffs filed a motion to certify a class, which AirTran and Delta have opposed. The parties have submitted briefs on class certification, and the parties have filed motions to exclude the class certification opinions of each other’s expert. The parties engaged in extensive discovery, and discovery has now closed. On June 18, 2012, the parties filed a Stipulation and Order that plaintiffs have abandoned their claim that AirTran and Delta conspired to reduce capacity. On August 31, 2012, AirTran and Delta moved for summary judgment on all of plaintiffs’ remaining claims, but discovery disputes between plaintiffs and Delta delayed further briefing on summary judgment. On August 5, 2015, the Court entered an order granting class certification, which was vacated on August 17, 2015, to permit further briefing on class certification and AirTran’s motion to exclude plaintiffs’ expert. Thereafter, the parties filed motions to exclude the opinions of the other parties’ experts. On January 8, 2016, the parties completed briefing on defendants’ motions for summary judgment, plaintiffs’ motion for class certification, and the motions to exclude the opinions  of experts, and those motions have been submitted to the Court for decision. AirTran denies all allegations of wrongdoing, including those in the Consolidated Amended Complaint, and intends to defend vigorously any and all such allegations. Also, on June 30, 2015, the U.S. Department of Justice (“DOJ”) issued a Civil Investigative Demand (“CID”) to the Company. The CID seeks information and documents about the Company’s capacity from January 2010 to the present including public statements and communications with third parties about capacity. In June 2015, the Company also received a letter from the Connecticut Attorney General requesting information about capacity; and on August 21, 2015, the Attorney General of the State of Ohio issued an investigative demand seeking information and documents about the Company’s capacity from December 2013 to the present. The Company is cooperating fully with the DOJ CID and these two state inquiries. Further, on July 1, 2015, a complaint was filed in the United States District Court for the Southern District of New York on behalf of putative classes of consumers alleging collusion among the Company, American Airlines, Delta Air Lines, and United Airlines to limit capacity and maintain higher fares in violation of Section 1 of the Sherman Act. Since then, a number of similar class action complaints have been filed in the United States District Courts for the Central District of California,  the Northern District of California, the District of Columbia, the Middle District of Florida, the Southern District of Florida, the Northern District of Georgia, the Northern District of Illinois, the Southern District of Indiana, the Eastern District of Louisiana, the District of Minnesota, the District of New Jersey, the Eastern District of New York, the Southern District of New York, the Middle District of North Carolina, the District of Oklahoma, the Eastern District of Pennsylvania, the Northern District of Texas, the District of Vermont, and the Eastern District of Wisconsin. The complaints seek treble damages for periods that vary among the complaints, costs, attorneys’ fees, and injunctive relief. On October 13, 2015, the Judicial Panel on  Multi-District  Litigation  centralized  the  cases  to  the  United States District Court in the District of Columbia. The Court has not yet entered a scheduling order establishing a date for defendants to respond to the complaints. The Company intends to vigorously defend these civil cases. In addition, on July 8, 2015, the Company was named as a defendant in putative class action filed in British Columbia, Canada alleging that the Company, Air Canada, American Airlines, Delta Air  Lines and United Airlines colluded to restrict capacity and maintain higher fares for Canadian citizens traveling in the United States and for travel between the United States and Canada. Similar lawsuits were filed in Ontario, Quebec and Saskatchewan. The time for the Company to respond to the complaints has not yet expired. The Company intends to vigorously defend these civil cases in Canada. The Company is from time to time subject to various legal proceedings and claims arising in the ordinary course of business, including, but not limited to, examinations by the Internal Revenue Service. The Company’s management does not expect that the outcome in any of its currently ongoing legal proceedings or the outcome of any proposed adjustments presented to date by the Internal Revenue Service, individually or collectively, will have a material adverse effect on the Company’s financial condition, results of operations, or cash flow."
      ]
     },
     "execution_count": 16,
     "metadata": {},
     "output_type": "execute_result"
    }
   ],
   "source": [
    "# view the text from the SpaCy object\n",
    "doc"
   ]
  },
  {
   "cell_type": "code",
   "execution_count": 17,
   "metadata": {},
   "outputs": [
    {
     "name": "stdout",
     "output_type": "stream",
     "text": [
      "['_', '__bytes__', '__class__', '__delattr__', '__dir__', '__doc__', '__eq__', '__format__', '__ge__', '__getattribute__', '__getitem__', '__gt__', '__hash__', '__init__', '__iter__', '__le__', '__len__', '__lt__', '__ne__', '__new__', '__pyx_vtable__', '__reduce__', '__reduce_ex__', '__repr__', '__setattr__', '__setstate__', '__sizeof__', '__str__', '__subclasshook__', '__unicode__', '_py_tokens', '_realloc', '_vector', '_vector_norm', 'cats', 'char_span', 'count_by', 'doc', 'ents', 'extend_tensor', 'from_array', 'from_bytes', 'from_disk', 'get_extension', 'get_lca_matrix', 'has_extension', 'has_vector', 'is_parsed', 'is_tagged', 'mem', 'merge', 'noun_chunks', 'noun_chunks_iterator', 'print_tree', 'sentiment', 'sents', 'set_extension', 'similarity', 'tensor', 'text', 'text_with_ws', 'to_array', 'to_bytes', 'to_disk', 'user_data', 'user_hooks', 'user_span_hooks', 'user_token_hooks', 'vector', 'vector_norm', 'vocab']\n"
     ]
    }
   ],
   "source": [
    "# which the SpaCy document methods and attributes\n",
    "print(dir(doc))"
   ]
  },
  {
   "cell_type": "markdown",
   "metadata": {},
   "source": [
    "### NLP Pipeline\n",
    "\n",
    "When you read the text into Spacy, e.g. doc = nlp(text), you are applying a pipeline of nlp processes to the text.\n",
    "by default SpaCy applies a tagger, parser, and ner, but you can choose to add, replace, or remove these steps.\n",
    "Note: Removing unnecessary steps for a given nlp can lead to substantial descreses in processing time."
   ]
  },
  {
   "cell_type": "code",
   "execution_count": 13,
   "metadata": {},
   "outputs": [
    {
     "data": {
      "text/html": [
       "<iframe src=https://spacy.io/assets/img/pipeline.svg width=1000 height=200></iframe>"
      ],
      "text/plain": [
       "<IPython.core.display.HTML object>"
      ]
     },
     "execution_count": 13,
     "metadata": {},
     "output_type": "execute_result"
    }
   ],
   "source": [
    "# SpaCy pipeline\n",
    "spacy_url = 'https://spacy.io/assets/img/pipeline.svg'\n",
    "iframe = '<iframe src={} width=1000 height=200></iframe>'.format(spacy_url)\n",
    "HTML(iframe)"
   ]
  },
  {
   "cell_type": "markdown",
   "metadata": {},
   "source": [
    "### Tokenization\n",
    "\n",
    "spaCy first tokenizes the text, i.e. segments it into words, punctuation and so on. This is done by applying rules specific to each language. For example, punctuation at the end of a sentence should be split off – whereas \"U.K.\" should remain one token. "
   ]
  },
  {
   "cell_type": "code",
   "execution_count": 41,
   "metadata": {
    "scrolled": true
   },
   "outputs": [
    {
     "data": {
      "text/html": [
       "<iframe src=https://spacy.io/assets/img/tokenization.svg width=650 height=400></iframe>"
      ],
      "text/plain": [
       "<IPython.core.display.HTML object>"
      ]
     },
     "execution_count": 41,
     "metadata": {},
     "output_type": "execute_result"
    }
   ],
   "source": [
    "tokenization_url = 'https://spacy.io/assets/img/tokenization.svg'\n",
    "iframe = '<iframe src={} width=650 height=400></iframe>'.format(tokenization_url)\n",
    "HTML(iframe)"
   ]
  },
  {
   "cell_type": "markdown",
   "metadata": {},
   "source": [
    "### Part-of-speech (POS) Tagging\n",
    "\n",
    "After tokenization, spaCy can parse and tag a given Doc. This is where the statistical model comes in, which enables spaCy to make a prediction of which tag or label most likely applies in this context. A model consists of binary data and is produced by showing a system enough examples for it to make predictions that generalize across the language – for example, a word following \"the\" in English is most likely a noun.\n",
    "\n",
    "Annotation | Description\n",
    ":----- |:------|\n",
    "Text |The original word text|\n",
    "Lemma |The base form of the word.|\n",
    "POS |The simple part-of-speech tag.|\n",
    "Tag |The detailed part-of-speech tag.|\n",
    "Dep |Syntactic dependency, i.e. the relation between tokens.|\n",
    "Shape |The word shape – capitalisation, punctuation, digits.|\n",
    "Is Alpha |Is the token an alpha character?|\n",
    "Is Stop |Is the token part of a stop list, i.e. the most common words of the language?|"
   ]
  },
  {
   "cell_type": "code",
   "execution_count": 18,
   "metadata": {},
   "outputs": [
    {
     "name": "stdout",
     "output_type": "stream",
     "text": [
      "Example stop words: ['than', 'call', 'have', 'part', 'they', 'amongst', 'does', 'she', 'six', 'thence']\n"
     ]
    }
   ],
   "source": [
    "# import a list of stop words from SpaCy\n",
    "from spacy.lang.en.stop_words import STOP_WORDS\n",
    "\n",
    "print('Example stop words: {}'.format(list(STOP_WORDS)[0:10]))"
   ]
  },
  {
   "cell_type": "code",
   "execution_count": 19,
   "metadata": {},
   "outputs": [],
   "source": [
    "# search for word in the SpaCy vocabulary and\n",
    "# change the is_stop attribute to True (default is False)\n",
    "\n",
    "for word in STOP_WORDS:\n",
    "    nlp.vocab[word].is_stop = True"
   ]
  },
  {
   "cell_type": "code",
   "execution_count": 52,
   "metadata": {},
   "outputs": [
    {
     "name": "stdout",
     "output_type": "stream",
     "text": [
      "TEXT            | LEMMA_          | POS_     | TAG_     | DEP_        | SHAPE_   | IS_ALPHA | IS_STOP  | \n",
      "A               | a               | DET      | DT       | det         | X        |        1 |        0 |\n",
      "complaint       | complaint       | NOUN     | NN       | ROOT        | xxxx     |        1 |        0 |\n",
      "alleging        | allege          | VERB     | VBG      | acl         | xxxx     |        1 |        0 |\n",
      "violations      | violation       | NOUN     | NNS      | dobj        | xxxx     |        1 |        0 |\n",
      "of              | of              | ADP      | IN       | prep        | xx       |        1 |        1 |\n",
      "federal         | federal         | ADJ      | JJ       | amod        | xxxx     |        1 |        0 |\n",
      "antitrust       | antitrust       | ADJ      | JJ       | amod        | xxxx     |        1 |        0 |\n",
      "laws            | law             | NOUN     | NNS      | pobj        | xxxx     |        1 |        0 |\n",
      "and             | and             | CCONJ    | CC       | cc          | xxx      |        1 |        1 |\n",
      "seeking         | seek            | VERB     | VBG      | conj        | xxxx     |        1 |        0 |\n",
      "certification   | certification   | NOUN     | NN       | dobj        | xxxx     |        1 |        0 |\n",
      "as              | as              | ADP      | IN       | mark        | xx       |        1 |        1 |\n",
      "a               | a               | DET      | DT       | det         | x        |        1 |        1 |\n",
      "class           | class           | NOUN     | NN       | compound    | xxxx     |        1 |        0 |\n",
      "action          | action          | NOUN     | NN       | nsubjpass   | xxxx     |        1 |        0 |\n",
      "was             | be              | VERB     | VBD      | auxpass     | xxx      |        1 |        1 |\n",
      "filed           | file            | VERB     | VBN      | advcl       | xxxx     |        1 |        0 |\n",
      "against         | against         | ADP      | IN       | prep        | xxxx     |        1 |        1 |\n",
      "Delta           | delta           | PROPN    | NNP      | compound    | Xxxxx    |        1 |        0 |\n",
      "Air             | air             | PROPN    | NNP      | compound    | Xxx      |        1 |        0 |\n"
     ]
    }
   ],
   "source": [
    "# print column headers\n",
    "print('{:15} | {:15} | {:8} | {:8} | {:11} | {:8} | {:8} | {:8} | '.format(\n",
    "    'TEXT','LEMMA_','POS_','TAG_','DEP_','SHAPE_','IS_ALPHA','IS_STOP'))\n",
    "\n",
    "# print various SpaCy POS attributes\n",
    "for token in doc[0:20]:\n",
    "    print('{:15} | {:15} | {:8} | {:8} | {:11} | {:8} | {:8} | {:8} |'.format(\n",
    "          token.text, token.lemma_, token.pos_, token.tag_, token.dep_\n",
    "        , token.shape_, token.is_alpha, token.is_stop))"
   ]
  },
  {
   "cell_type": "markdown",
   "metadata": {},
   "source": [
    "### Text Dependency Parsing\n",
    "\n",
    "spaCy features a fast and accurate syntactic dependency parser, and has a rich API for navigating the tree. The parser also powers the sentence boundary detection, and lets you iterate over base noun phrases, or \"chunks\". You can check whether a Doc  object has been parsed with the doc.is_parsed attribute, which returns a boolean value. If this attribute is False, the default sentence iterator will raise an exception."
   ]
  },
  {
   "cell_type": "code",
   "execution_count": 57,
   "metadata": {},
   "outputs": [
    {
     "data": {
      "text/plain": [
       "True"
      ]
     },
     "execution_count": 57,
     "metadata": {},
     "output_type": "execute_result"
    }
   ],
   "source": [
    "# check is document has been parsed (dependency parsing)\n",
    "doc.is_parsed"
   ]
  },
  {
   "cell_type": "code",
   "execution_count": 56,
   "metadata": {},
   "outputs": [
    {
     "name": "stdout",
     "output_type": "stream",
     "text": [
      "TEXT            | DEP        | HEAD TEXT  | HEAD POS   | CHILDREN                            | LEFTS                    \n",
      "A               | det        | complaint  | NOUN       | []                                  | []                       \n",
      "complaint       | ROOT       | complaint  | NOUN       | [A, alleging, .]                    | ['A']                    \n",
      "alleging        | acl        | complaint  | NOUN       | [violations, and, seeking]          | []                       \n",
      "violations      | dobj       | alleging   | VERB       | [of]                                | []                       \n",
      "of              | prep       | violations | NOUN       | [laws]                              | []                       \n",
      "federal         | amod       | laws       | NOUN       | []                                  | []                       \n",
      "antitrust       | amod       | laws       | NOUN       | []                                  | []                       \n",
      "laws            | pobj       | of         | ADP        | [federal, antitrust]                | ['federal', 'antitrust'] \n",
      "and             | cc         | alleging   | VERB       | []                                  | []                       \n",
      "seeking         | conj       | alleging   | VERB       | [certification, filed]              | []                       \n",
      "certification   | dobj       | seeking    | VERB       | []                                  | []                       \n",
      "as              | mark       | filed      | VERB       | []                                  | []                       \n",
      "a               | det        | action     | NOUN       | []                                  | []                       \n",
      "class           | compound   | action     | NOUN       | []                                  | []                       \n",
      "action          | nsubjpass  | filed      | VERB       | [a, class]                          | ['a', 'class']           \n",
      "was             | auxpass    | filed      | VERB       | []                                  | []                       \n",
      "filed           | advcl      | seeking    | VERB       | [as, action, was, against, in, on]  | ['as', 'action', 'was']  \n",
      "against         | prep       | filed      | VERB       | [Lines]                             | []                       \n",
      "Delta           | compound   | Lines      | PROPN      | []                                  | []                       \n",
      "Air             | compound   | Lines      | PROPN      | []                                  | []                       \n"
     ]
    }
   ],
   "source": [
    "print('{:15} | {:10} | {:10} | {:10} | {:35} | {:25}'.format(\n",
    "    'TEXT','DEP','HEAD TEXT','HEAD POS','CHILDREN','LEFTS'))\n",
    "\n",
    "for token in doc[0:20]:\n",
    "    print('{:15} | {:10} | {:10} | {:10} | {:35} | {:25}'.format(\n",
    "        token.text, token.dep_, token.head.text, token.head.pos_,\n",
    "        str([child for child in token.children]),str([t.text for t in token.lefts])))"
   ]
  },
  {
   "cell_type": "markdown",
   "metadata": {},
   "source": [
    "#### NOUN CHUNCKS:\n",
    "\n",
    "| **TERM** | Definition |\n",
    "|:---|:---:|\n",
    "| **Text** | The original noun chunk text |\n",
    "| **Root text** | The original text of the word connecting the noun chunk to the rest of the parse |\n",
    "| **Root dependency** | Dependency relation connecting the root to its head |\n",
    "| **Root head text** | The text of the root token's head |"
   ]
  },
  {
   "cell_type": "code",
   "execution_count": 69,
   "metadata": {},
   "outputs": [
    {
     "name": "stdout",
     "output_type": "stream",
     "text": [
      "ROOT_TEXT       | ROOT       | DEPENDENCY | TEXT                                    \n",
      "complaint       | ROOT       | complaint  | A complaint                             \n",
      "violations      | dobj       | alleging   | violations                              \n",
      "laws            | pobj       | of         | federal antitrust laws                  \n",
      "certification   | dobj       | seeking    | certification                           \n",
      "action          | nsubjpass  | filed      | a class action                          \n",
      "Lines           | pobj       | against    | Delta Air Lines                         \n",
      "Inc.            | conj       | Lines      | Inc.                                    \n",
      "AirTran         | conj       | Inc.       | AirTran                                 \n",
      "Court           | pobj       | in         | the United States District Court        \n",
      "District        | pobj       | for        | the Northern District                   \n",
      "Georgia         | pobj       | of         | Georgia                                 \n",
      "Atlanta         | pobj       | in         | Atlanta                                 \n",
      "May             | pobj       | on         | May                                     \n",
      "complaint       | nsubj      | alleged    | The complaint                           \n",
      "things          | pobj       | among      | other things                            \n",
      "AirTran         | nsubj      | attempted  | AirTran                                 \n",
      "travel          | dobj       | monopolize | air travel                              \n",
      "violation       | pobj       | in         | violation                               \n",
      "Section         | pobj       | of         | Section                                 \n",
      "Act             | pobj       | of         | the Sherman Act                         \n"
     ]
    }
   ],
   "source": [
    "print('{:15} | {:10} | {:10} | {:40}'.format('ROOT_TEXT','ROOT','DEPENDENCY','TEXT'))\n",
    "\n",
    "for chunk in list(doc.noun_chunks)[0:20]:\n",
    "    print('{:15} | {:10} | {:10} | {:40}'.format(\n",
    "        chunk.root.text, chunk.root.dep_, chunk.root.head.text, chunk.text))"
   ]
  },
  {
   "cell_type": "code",
   "execution_count": 71,
   "metadata": {},
   "outputs": [],
   "source": [
    "# dependency visualization\n",
    "# after you run this code, open another browser and go to http://localhost:5000\n",
    "# when you are done (before you run the next cell in the notebook) stop this cell\n",
    "displacy.serve(docs=doc, style='dep')\n",
    "\n",
    "# Another option: show visualization in Jupyter Notebook\n",
    "#displacy.render(docs=doc, style='dep', jupyter=True)"
   ]
  },
  {
   "cell_type": "markdown",
   "metadata": {},
   "source": [
    "### Named Entity Recognition (NER)\n",
    "\n",
    "A named entity is a \"real-world object\" that's assigned a name – for example, a person, a country, a product, or a book title. spaCy can recognise various types of named entities in a document, by asking the model for a prediction. "
   ]
  },
  {
   "cell_type": "code",
   "execution_count": 20,
   "metadata": {},
   "outputs": [
    {
     "name": "stdout",
     "output_type": "stream",
     "text": [
      "LABEL      | ENTITY         \n",
      "ORG        | Delta Air Lines                                   \n",
      "ORG        | AirTran                                           \n",
      "GPE        | the United States District Court                  \n",
      "LOC        | the Northern District                             \n",
      "GPE        | Georgia                                           \n",
      "GPE        | Atlanta                                           \n",
      "DATE       | May 22, 2009                                      \n",
      "ORG        | AirTran                                           \n",
      "LAW        | Section 2                                         \n",
      "LAW        | the Sherman Act                                   \n",
      "ORG        | Delta                                             \n",
      "ORDINAL    | first                                             \n",
      "LAW        | Section 1                                         \n",
      "LAW        | the Sherman Act                                   \n",
      "GPE        | the United States                                 \n",
      "ORG        | Delta                                             \n",
      "ORG        | AirTran                                           \n",
      "DATE       | December 5, 2008                                  \n",
      "DATE       | May 2009                                          \n",
      "GPE        | Atlanta                                           \n"
     ]
    }
   ],
   "source": [
    "print('{:10} | {:15}'.format('LABEL','ENTITY'))\n",
    "\n",
    "for ent in doc.ents[0:20]:\n",
    "    print('{:10} | {:50}'.format(ent.label_, ent.text))"
   ]
  },
  {
   "cell_type": "code",
   "execution_count": 21,
   "metadata": {},
   "outputs": [
    {
     "name": "stdout",
     "output_type": "stream",
     "text": [
      "['_', '__class__', '__delattr__', '__dir__', '__doc__', '__eq__', '__format__', '__ge__', '__getattribute__', '__getitem__', '__gt__', '__hash__', '__init__', '__iter__', '__le__', '__len__', '__lt__', '__ne__', '__new__', '__pyx_vtable__', '__reduce__', '__reduce_ex__', '__repr__', '__setattr__', '__setstate__', '__sizeof__', '__str__', '__subclasshook__', '_recalculate_indices', '_vector', '_vector_norm', 'as_doc', 'doc', 'end', 'end_char', 'ent_id', 'ent_id_', 'get_extension', 'get_lca_matrix', 'has_extension', 'has_vector', 'label', 'label_', 'lefts', 'lemma_', 'lower_', 'merge', 'n_lefts', 'n_rights', 'noun_chunks', 'orth_', 'rights', 'root', 'sent', 'sentiment', 'set_extension', 'similarity', 'start', 'start_char', 'string', 'subtree', 'text', 'text_with_ws', 'to_array', 'upper_', 'vector', 'vector_norm']\n"
     ]
    }
   ],
   "source": [
    "# ent methods and attributes\n",
    "print(dir(ent))"
   ]
  },
  {
   "cell_type": "code",
   "execution_count": 22,
   "metadata": {},
   "outputs": [
    {
     "name": "stdout",
     "output_type": "stream",
     "text": [
      "\n",
      "    Serving on port 5000...\n",
      "    Using the 'ent' visualizer\n",
      "\n",
      "\n",
      "    Shutting down server on port 5000.\n",
      "\n"
     ]
    }
   ],
   "source": [
    "# entity visualization\n",
    "# after you run this code, open another browser and go to http://localhost:5000\n",
    "# when you are done (before you run the next cell in the notebook) stop this cell \n",
    "\n",
    "displacy.serve(doc, style='ent')"
   ]
  },
  {
   "cell_type": "markdown",
   "metadata": {},
   "source": [
    "### Exercise\n",
    "1. print all the distinct entities tagged with 'LAW'\n",
    "2. print all the distinct entities tagged with 'ORG'\n",
    "3. print all the distinct entities tagged with 'GPE'"
   ]
  },
  {
   "cell_type": "code",
   "execution_count": 22,
   "metadata": {},
   "outputs": [
    {
     "name": "stdout",
     "output_type": "stream",
     "text": [
      "{'the Sherman Act', 'Section 1', 'Section 2 of the Sherman Act', 'Section 2', 'Stipulation and Order'}\n"
     ]
    }
   ],
   "source": [
    "# print all the distinct entities tagged as a law\n",
    "print(set(ent.text for ent in doc.ents if 'LAW' in ent.label_))"
   ]
  },
  {
   "cell_type": "code",
   "execution_count": 23,
   "metadata": {},
   "outputs": [
    {
     "name": "stdout",
     "output_type": "stream",
     "text": [
      "{'the Judicial Panel', 'a Civil Investigative Demand', 'CID', 'the Internal Revenue Service', 'the U.S. Department of Justice', 'United States District Court', 'Court', 'DOJ', 'the State of Ohio', 'Consolidated Amended Complaint', 'AirTran', 'the Consolidated Amended Complaint', 'American Airlines', 'Delta Air Lines', 'plaintiffs’', 'United Airlines', 'Delta Air  Lines', 'the Company, Air Canada', 'Delta', 'Company'}\n"
     ]
    }
   ],
   "source": [
    "# print all the distinct entities tagged as an organization\n",
    "print(set(ent.text for ent in doc.ents if 'ORG' in ent.label_))"
   ]
  },
  {
   "cell_type": "code",
   "execution_count": 24,
   "metadata": {},
   "outputs": [
    {
     "name": "stdout",
     "output_type": "stream",
     "text": [
      "{'Canada', 'California', 'Wisconsin', 'Atlanta', 'Nevada', 'Ontario', 'New York', 'Las Vegas', 'the District of Oklahoma', 'the United States District Courts', 'Saskatchewan', 'Georgia', 'the United States District Court', 'the District of New Jersey', 'Quebec', 'Pennsylvania', 'the District of Vermont', 'Orlando', 'Multi-District  ', 'Illinois', 'Indiana', 'Texas', 'Florida', 'North Carolina', 'Louisiana', 'British Columbia', 'the District of Minnesota', 'the District of Columbia', 'the United States', 'Connecticut'}\n"
     ]
    }
   ],
   "source": [
    "# print all the distinct entities tagged as a geopolitical entity\n",
    "print(set(ent.text for ent in doc.ents if 'GPE' in ent.label_))"
   ]
  },
  {
   "cell_type": "markdown",
   "metadata": {},
   "source": [
    "##### Collections - DefaultDict\n",
    "\n",
    "Usually, a Python dictionary throws a KeyError if you try to get an item with a key that is not currently in the dictionary. The defaultdict in contrast will simply create any items that you try to access (provided of course they do not exist yet). To create such a \"default\" item, it calls the function object that you pass in the constructor (more precisely, it's an arbitrary \"callable\" object, which includes function and type objects). For the first example, default items are created using int(), which will return the integer object 0. For the second example, default items are created using list(), which returns a new empty list object."
   ]
  },
  {
   "cell_type": "code",
   "execution_count": 26,
   "metadata": {},
   "outputs": [],
   "source": [
    "from collections import defaultdict"
   ]
  },
  {
   "cell_type": "code",
   "execution_count": 27,
   "metadata": {},
   "outputs": [],
   "source": [
    "sentence = ['The','airline','baggage','fees','and','food','fees','are','outrageous']"
   ]
  },
  {
   "cell_type": "code",
   "execution_count": 28,
   "metadata": {},
   "outputs": [
    {
     "ename": "KeyError",
     "evalue": "'The'",
     "output_type": "error",
     "traceback": [
      "\u001b[1;31m---------------------------------------------------------------------------\u001b[0m",
      "\u001b[1;31mKeyError\u001b[0m                                  Traceback (most recent call last)",
      "\u001b[1;32m<ipython-input-28-1bd25484247e>\u001b[0m in \u001b[0;36m<module>\u001b[1;34m()\u001b[0m\n\u001b[0;32m      4\u001b[0m \u001b[0md\u001b[0m \u001b[1;33m=\u001b[0m \u001b[1;33m{\u001b[0m\u001b[1;33m}\u001b[0m\u001b[1;33m\u001b[0m\u001b[0m\n\u001b[0;32m      5\u001b[0m \u001b[1;32mfor\u001b[0m \u001b[0mword\u001b[0m \u001b[1;32min\u001b[0m \u001b[0msentence\u001b[0m\u001b[1;33m:\u001b[0m\u001b[1;33m\u001b[0m\u001b[0m\n\u001b[1;32m----> 6\u001b[1;33m     \u001b[0md\u001b[0m\u001b[1;33m[\u001b[0m\u001b[0mword\u001b[0m\u001b[1;33m]\u001b[0m \u001b[1;33m+=\u001b[0m \u001b[1;36m1\u001b[0m  \u001b[1;31m# cannot add if the key does not exist\u001b[0m\u001b[1;33m\u001b[0m\u001b[0m\n\u001b[0m\u001b[0;32m      7\u001b[0m \u001b[1;33m\u001b[0m\u001b[0m\n\u001b[0;32m      8\u001b[0m \u001b[0mprint\u001b[0m\u001b[1;33m(\u001b[0m\u001b[0md\u001b[0m\u001b[1;33m)\u001b[0m\u001b[1;33m\u001b[0m\u001b[0m\n",
      "\u001b[1;31mKeyError\u001b[0m: 'The'"
     ]
    }
   ],
   "source": [
    "# WRONG APPROACH - KeyError!\n",
    "\n",
    "# try to create a word count dict with new keys\n",
    "d = {}\n",
    "for word in sentence:\n",
    "    d[word] += 1  # cannot add if the key does not exist\n",
    "\n",
    "print(d)"
   ]
  },
  {
   "cell_type": "code",
   "execution_count": 29,
   "metadata": {},
   "outputs": [
    {
     "name": "stdout",
     "output_type": "stream",
     "text": [
      "defaultdict(<class 'int'>, {'baggage': 1, 'are': 1, 'and': 1, 'fees': 2, 'food': 1, 'outrageous': 1, 'The': 1, 'airline': 1})\n"
     ]
    }
   ],
   "source": [
    "d = defaultdict(int)  # define the type of data the dict stores\n",
    "for word in sentence:\n",
    "    d[word] += 1  # can add to unassigned keys\n",
    "\n",
    "print(d)"
   ]
  },
  {
   "cell_type": "markdown",
   "metadata": {},
   "source": [
    "##### Collections - Counter\n",
    "\n",
    "A Counter is a dict subclass for counting hashable objects. It is an unordered collection where elements are stored as dictionary keys and their counts are stored as dictionary values. Counts are allowed to be any integer value including zero or negative counts. The Counter class is similar to bags or multisets in other languages.\n",
    "\n",
    "SOURCE: https://docs.python.org/2/library/collections.html#collections.Counter"
   ]
  },
  {
   "cell_type": "code",
   "execution_count": 39,
   "metadata": {},
   "outputs": [],
   "source": [
    "from collections import Counter"
   ]
  },
  {
   "cell_type": "code",
   "execution_count": 37,
   "metadata": {},
   "outputs": [
    {
     "name": "stdout",
     "output_type": "stream",
     "text": [
      "Counter({'Canada': 3, 'the United States': 3, 'Atlanta': 3, 'Florida': 3, 'New York': 3, 'Georgia': 3, 'the United States District Court': 2, 'the District of Columbia': 2, 'California': 2, 'the District of Oklahoma': 1, 'Louisiana': 1, 'the District of Minnesota': 1, 'Connecticut': 1, 'Quebec': 1, 'Multi-District  ': 1, 'the District of Vermont': 1, 'the District of New Jersey': 1, 'Ontario': 1, 'Las Vegas': 1, 'Pennsylvania': 1, 'Indiana': 1, 'Wisconsin': 1, 'British Columbia': 1, 'Saskatchewan': 1, 'Nevada': 1, 'Texas': 1, 'the United States District Courts': 1, 'Orlando': 1, 'Illinois': 1, 'North Carolina': 1})\n"
     ]
    }
   ],
   "source": [
    "# count the number of times each GPE appears\n",
    "print(Counter(ent.text for ent in doc.ents if 'GPE' in ent.label_))"
   ]
  },
  {
   "cell_type": "markdown",
   "metadata": {},
   "source": [
    "##### Iterrtools - combinations\n",
    "\n",
    "\"The itertools module standardizes a core set of fast, memory efficient tools that are useful by themselves or in combination. Together, they form an “iterator algebra” making it possible to construct specialized tools succinctly and efficiently in pure Python.\n",
    "\n",
    "**Combinations**\n",
    "- Return r length subsequences of elements from the input iterable.\n",
    "- Combinations are emitted in lexicographic sort order. So, if the input iterable is sorted, the combination tuples will be produced in sorted order.\n",
    "- Elements are treated as unique based on their position, not on their value. So if the input elements are unique, there will be no repeat values in each combination.\n",
    "\n",
    "SOURCE: https://docs.python.org/3.4/library/itertools.html"
   ]
  },
  {
   "cell_type": "code",
   "execution_count": 31,
   "metadata": {},
   "outputs": [],
   "source": [
    "from itertools import combinations"
   ]
  },
  {
   "cell_type": "code",
   "execution_count": 34,
   "metadata": {},
   "outputs": [],
   "source": [
    "airlines = ['Southwest','American','Delta','United']\n",
    "for combo in combinations(airlines, 2):\n",
    "    print(combo)"
   ]
  },
  {
   "cell_type": "markdown",
   "metadata": {},
   "source": [
    "##### Sorted\n",
    "\n",
    "sorted(iterable, key=None, reverse=False)\n",
    "\n",
    "- Return a new sorted list from the items in iterable.\n",
    "- Has two optional arguments which must be specified as keyword arguments.\n",
    "- key specifies a function of one argument that is used to extract a comparison key from each list element: key=str.lower. The default value is None (compare the elements directly).\n",
    "- reverse is a boolean value. If set to True, then the list elements are sorted as if each comparison were reversed.\n",
    "\n",
    "SOURCE: https://docs.python.org/3/library/functions.html#sorted"
   ]
  },
  {
   "cell_type": "code",
   "execution_count": 62,
   "metadata": {},
   "outputs": [],
   "source": [
    "airlines =[('airlines2',3),('airlines3',2),('airlines1',1)]"
   ]
  },
  {
   "cell_type": "code",
   "execution_count": 63,
   "metadata": {},
   "outputs": [
    {
     "data": {
      "text/plain": [
       "[('airlines1', 1), ('airlines2', 3), ('airlines3', 2)]"
      ]
     },
     "execution_count": 63,
     "metadata": {},
     "output_type": "execute_result"
    }
   ],
   "source": [
    "sorted(airlines)"
   ]
  },
  {
   "cell_type": "code",
   "execution_count": 64,
   "metadata": {},
   "outputs": [
    {
     "data": {
      "text/plain": [
       "[('airlines1', 1), ('airlines3', 2), ('airlines2', 3)]"
      ]
     },
     "execution_count": 64,
     "metadata": {},
     "output_type": "execute_result"
    }
   ],
   "source": [
    "sorted(airlines, key=lambda x:x[1])"
   ]
  },
  {
   "cell_type": "code",
   "execution_count": 65,
   "metadata": {},
   "outputs": [
    {
     "data": {
      "text/plain": [
       "[('airlines2', 3), ('airlines3', 2), ('airlines1', 1)]"
      ]
     },
     "execution_count": 65,
     "metadata": {},
     "output_type": "execute_result"
    }
   ],
   "source": [
    "sorted(airlines, key=lambda x:x[1], reverse=True)"
   ]
  },
  {
   "cell_type": "code",
   "execution_count": 61,
   "metadata": {},
   "outputs": [
    {
     "data": {
      "text/plain": [
       "[('airlines1', 3), ('airlines2', 2), ('airlines3', 1)]"
      ]
     },
     "execution_count": 61,
     "metadata": {},
     "output_type": "execute_result"
    }
   ],
   "source": [
    "# sort based on the last character of the first term\n",
    "sorted(airlines, key=lambda x:x[0][-1])"
   ]
  },
  {
   "cell_type": "markdown",
   "metadata": {},
   "source": [
    "### Exercise\n",
    "1. Count how many time each individual entity appears\n",
    "2. Create a mapping that keeps track of every combination of two entities that appear in the same sentence\n",
    "3. Count how many times each entity combo appears\n",
    "4. Print the entity combos (using sorted) in descending order"
   ]
  },
  {
   "cell_type": "code",
   "execution_count": 47,
   "metadata": {},
   "outputs": [],
   "source": [
    "# dict to store all combinations of airlines that appear together \n",
    "entity_relations = defaultdict(int)\n",
    "\n",
    "# list to sort and count how often each entity appears \n",
    "counter_entities = []\n",
    "\n",
    "for sent in doc.sents:\n",
    "    # extract entities for each sentence\n",
    "    sent = nlp(sent.text)\n",
    "\n",
    "    # store all entities tagged as an organization\n",
    "    entities = [ent.text for ent in sent.ents if 'ORG' in ent.label_]\n",
    "\n",
    "    # add the entities from the current sentence to counter_entities\n",
    "    counter_entities += entities\n",
    "    \n",
    "    # create combinations and increment the count in entity_relations each time combo appears\n",
    "    for combo in combinations(set(entities), 2):\n",
    "        entity_relations[combo] += 1"
   ]
  },
  {
   "cell_type": "code",
   "execution_count": 50,
   "metadata": {},
   "outputs": [
    {
     "name": "stdout",
     "output_type": "stream",
     "text": [
      "Counter({'AirTran': 11, 'Delta': 9, 'Company': 7, 'Court': 5, 'CID': 3, 'United Airlines': 2, 'American Airlines': 2, 'Delta Air Lines': 2, 'the Internal Revenue Service': 2, 'the U.S. Department of Justice': 1, 'United States District Court': 1, 'DOJ': 1, 'Judicial Panel': 1, 'the Consolidated Amended Complaint': 1, 'the State of Ohio': 1, 'Consolidated Amended Complaint': 1, 'Company’s': 1, 'the Company, Air Canada': 1, 'a Civil Investigative Demand': 1, 'Delta Air  Lines': 1, 'plaintiffs’': 1})\n"
     ]
    }
   ],
   "source": [
    "print(Counter(counter_entities))"
   ]
  },
  {
   "cell_type": "code",
   "execution_count": 56,
   "metadata": {},
   "outputs": [
    {
     "data": {
      "text/plain": [
       "[(('AirTran', 'Delta'), 8),\n",
       " (('United Airlines', 'Company'), 2),\n",
       " (('Court', 'AirTran'), 2),\n",
       " (('American Airlines', 'United Airlines'), 2),\n",
       " (('American Airlines', 'Company'), 2),\n",
       " (('AirTran', 'the Consolidated Amended Complaint'), 1),\n",
       " (('the Company, Air Canada', 'Company'), 1),\n",
       " (('the State of Ohio', 'Company'), 1),\n",
       " (('CID', 'Company'), 1),\n",
       " (('CID', 'DOJ'), 1),\n",
       " (('Delta Air Lines', 'Company'), 1),\n",
       " (('a Civil Investigative Demand', 'the U.S. Department of Justice'), 1),\n",
       " (('Company’s', 'the Internal Revenue Service'), 1),\n",
       " (('the Company, Air Canada', 'Delta Air  Lines'), 1),\n",
       " (('CID', 'a Civil Investigative Demand'), 1),\n",
       " (('AirTran', 'Consolidated Amended Complaint'), 1),\n",
       " (('United Airlines', 'Delta Air Lines'), 1),\n",
       " (('CID', 'the U.S. Department of Justice'), 1),\n",
       " (('Company’s', 'Company'), 1),\n",
       " (('Court', 'Delta'), 1),\n",
       " (('AirTran', 'plaintiffs’'), 1),\n",
       " (('Delta', 'plaintiffs’'), 1),\n",
       " (('Company', 'the Internal Revenue Service'), 1),\n",
       " (('United Airlines', 'Delta Air  Lines'), 1),\n",
       " (('the Company, Air Canada', 'American Airlines'), 1),\n",
       " (('Delta Air  Lines', 'Company'), 1),\n",
       " (('AirTran', 'Delta Air Lines'), 1),\n",
       " (('Delta', 'Consolidated Amended Complaint'), 1),\n",
       " (('American Airlines', 'Delta Air  Lines'), 1),\n",
       " (('the Company, Air Canada', 'United Airlines'), 1),\n",
       " (('American Airlines', 'Delta Air Lines'), 1)]"
      ]
     },
     "execution_count": 56,
     "metadata": {},
     "output_type": "execute_result"
    }
   ],
   "source": [
    "# view the entity pairs in descending order\n",
    "sorted(entity_relations.items(), key=lambda x: x[1], reverse=True)"
   ]
  },
  {
   "cell_type": "code",
   "execution_count": 106,
   "metadata": {},
   "outputs": [
    {
     "data": {
      "text/plain": [
       "306"
      ]
     },
     "execution_count": 106,
     "metadata": {},
     "output_type": "execute_result"
    }
   ],
   "source": [
    "texts = df[df.section_text.str.contains('Southwest Airlines')].section_text\n",
    "len(texts)"
   ]
  },
  {
   "cell_type": "code",
   "execution_count": 107,
   "metadata": {},
   "outputs": [
    {
     "name": "stdout",
     "output_type": "stream",
     "text": [
      "Wall time: 24min 9s\n"
     ]
    }
   ],
   "source": [
    "%%time\n",
    "\n",
    "all_ents = []\n",
    "\n",
    "for doc in nlp.pipe(texts, batch_size=100, disable=['tagger','ner']):\n",
    "    # split the document into sentences\n",
    "    sentences = [sentence.text for sentence in doc.sents]\n",
    "    for sent in nlp.pipe(sentences, batch_size=10, disable=['parser','tagger']):\n",
    "        # store all entities tagged as an organization\n",
    "        entities = list(set(ent.text for ent in sent.ents if 'ORG' in ent.label_))\n",
    "        # skip sentence that do not have at least 2 entities to connect \n",
    "        if len(entities) < 2:\n",
    "            continue\n",
    "        # store all entities to use later to filter relevant entities\n",
    "        for e in entities:\n",
    "            all_ents.append(e)\n",
    "        # create mapping with all combonitions of entity pairs in the sentence\n",
    "        for combo in combinations(entities, 2):\n",
    "            entity_relations[combo] += 1\n",
    "    \n",
    "set(all_ents)"
   ]
  },
  {
   "cell_type": "code",
   "execution_count": 108,
   "metadata": {},
   "outputs": [
    {
     "data": {
      "image/png": "[encoded data removed]",
      "text/plain": [
       "<matplotlib.figure.Figure at 0x22602a6af98>"
      ]
     },
     "metadata": {},
     "output_type": "display_data"
    }
   ],
   "source": [
    "import matplotlib.pyplot as plt\n",
    "import networkx as nx\n",
    "\n",
    "G = nx.Graph()\n",
    "\n",
    "for entities, value in entity_relations.items():\n",
    "    entity1 = entities[0]\n",
    "    entity2 = entities[1]\n",
    "    \n",
    "    G.add_edge(entity1, entity2, weight=value)\n",
    "\n",
    "# positions for all nodes\n",
    "pos = nx.spring_layout(G, k=5)\n",
    "\n",
    "# nodes\n",
    "nx.draw_networkx_nodes(G, pos, node_size=10)\n",
    "\n",
    "# edges\n",
    "for (u, v, d) in G.edges(data=True):\n",
    "    nx.draw_networkx_edges(G, pos, edgelist=[(u,v)], width=d['weight'], alpha=.2)\n",
    "\n",
    "# labels\n",
    "nx.draw_networkx_labels(G, pos, font_size=10,  font_family='sans-serif')\n",
    "\n",
    "plt.axis('off')\n",
    "plt.show()"
   ]
  },
  {
   "cell_type": "markdown",
   "metadata": {
    "collapsed": true
   },
   "source": [
    "### Identify Relevant Text (Rule-based Matching)\n",
    "\n",
    "Finding sequences of tokens based on their texts and linguistic annotations, similar to regular expressions. We will use this to filter and extract relevant text."
   ]
  },
  {
   "cell_type": "code",
   "execution_count": 67,
   "metadata": {},
   "outputs": [
    {
     "data": {
      "text/html": [
       "<iframe src=https://spacy.io/usage/linguistic-features#rule-based-matching width=1000 height=700></iframe>"
      ],
      "text/plain": [
       "<IPython.core.display.HTML object>"
      ]
     },
     "execution_count": 67,
     "metadata": {},
     "output_type": "execute_result"
    }
   ],
   "source": [
    "rule_basesd_matching_url = 'https://spacy.io/usage/linguistic-features#rule-based-matching'\n",
    "iframe = '<iframe src={} width=1000 height=700></iframe>'.format(rule_basesd_matching_url)\n",
    "HTML(iframe)"
   ]
  },
  {
   "cell_type": "code",
   "execution_count": 68,
   "metadata": {},
   "outputs": [],
   "source": [
    "# The Matcher identifies text from rules we specify\n",
    "from spacy.matcher import Matcher"
   ]
  },
  {
   "cell_type": "code",
   "execution_count": 75,
   "metadata": {},
   "outputs": [],
   "source": [
    "# create a function to specify what to do with the matching text\n",
    "\n",
    "def collect_sents(matcher, doc, i, matches):\n",
    "    \"\"\"  collect and transform matching text\n",
    "\n",
    "    :param matcher: Matcher object\n",
    "    :param doc: is the full document to search for text patterns\n",
    "    :param i: is the index of the text matches\n",
    "    :param matches: matches found in the text\n",
    "    \"\"\"\n",
    "    \n",
    "    match_id, start, end = matches[i]  # indices of matched term\n",
    "    span = doc[start:end]              # extract matched term\n",
    "    \n",
    "    print('span: {} | start_ind:{:5} | end_ind:{:5} | id:{}'.format(\n",
    "        span, start, end, match_id))"
   ]
  },
  {
   "cell_type": "code",
   "execution_count": 76,
   "metadata": {},
   "outputs": [
    {
     "name": "stdout",
     "output_type": "stream",
     "text": [
      "span: fees | start_ind:   80 | end_ind:   81 | id:7125196598045271428\n",
      "span: fees | start_ind:  125 | end_ind:  126 | id:7125196598045271428\n",
      "span: fees | start_ind:  252 | end_ind:  253 | id:7125196598045271428\n",
      "span: fees | start_ind:  281 | end_ind:  282 | id:7125196598045271428\n",
      "span: fees | start_ind:  933 | end_ind:  934 | id:7125196598045271428\n"
     ]
    },
    {
     "data": {
      "text/plain": [
       "[(7125196598045271428, 80, 81),\n",
       " (7125196598045271428, 125, 126),\n",
       " (7125196598045271428, 252, 253),\n",
       " (7125196598045271428, 281, 282),\n",
       " (7125196598045271428, 933, 934)]"
      ]
     },
     "execution_count": 76,
     "metadata": {},
     "output_type": "execute_result"
    }
   ],
   "source": [
    "# set a pattern of text to collect\n",
    "# find all mentions of the word fees \n",
    "pattern = [{'LOWER':'fees'}] # LOWER coverts words to lowercase before matching\n",
    "\n",
    "# instantiate matcher\n",
    "matcher = Matcher(nlp.vocab)\n",
    "\n",
    "# add pattern to the matcher (one matcher can look for many unique patterns)\n",
    "# provice a pattern name, function to apply to matches, pattern to identify\n",
    "matcher.add('fee', collect_sents, pattern)\n",
    "\n",
    "# pass the doc to the matcher to run the collect_sents function\n",
    "matcher(doc)"
   ]
  },
  {
   "cell_type": "code",
   "execution_count": 78,
   "metadata": {},
   "outputs": [
    {
     "name": "stdout",
     "output_type": "stream",
     "text": [
      "SPAN: bag fees\n",
      "SENT: The complaint alleged, among other things, that AirTran attempted to monopolize air travel in violation of Section 2 of the Sherman Act, and conspired with Delta in imposing $15-per-bag fees for the first item of checked luggage in violation of Section 1 of the Sherman Act.\n",
      "\n",
      "SPAN: baggage fees\n",
      "SENT: In addition to treble damages for the amount of first baggage fees paid to  AirTran and to Delta, the Consolidated Amended Complaint seeks injunctive relief against a broad range of alleged anticompetitive activities, as well as attorneys’ fees.\n",
      "\n",
      "SPAN: attorneys’ fees\n",
      "SENT: In addition to treble damages for the amount of first baggage fees paid to  AirTran and to Delta, the Consolidated Amended Complaint seeks injunctive relief against a broad range of alleged anticompetitive activities, as well as attorneys’ fees.\n",
      "\n",
      "SPAN: attorneys’ fees\n",
      "SENT: The complaints seek treble damages for periods that vary among the complaints, costs, attorneys’ fees, and injunctive relief.\n",
      "\n"
     ]
    },
    {
     "data": {
      "text/plain": [
       "[(7125196598045271428, 79, 81),\n",
       " (7125196598045271428, 251, 253),\n",
       " (7125196598045271428, 280, 282),\n",
       " (7125196598045271428, 932, 934)]"
      ]
     },
     "execution_count": 78,
     "metadata": {},
     "output_type": "execute_result"
    }
   ],
   "source": [
    "# change the function to print the sentence of the matched term (span)\n",
    "\n",
    "def collect_sents(matcher, doc, i, matches):\n",
    "    match_id, start, end = matches[i]\n",
    "    span = doc[start:end]\n",
    "    print('SPAN: {}'.format(span))\n",
    "\n",
    "    # span.sent provides the sentence that contains the span\n",
    "    print('SENT: {}'.format(span.sent))\n",
    "    print()\n",
    "\n",
    "\n",
    "# update the pattern to look for any noun preceeding the term 'fees'\n",
    "pattern = [{'POS': 'NOUN', 'OP': '+'},{'LOWER':'fees'}]\n",
    "matcher = Matcher(nlp.vocab)  # reinstantiate the matcher to remove previous patterns\n",
    "matcher.add('fee', collect_sents, pattern)\n",
    "matcher(doc)"
   ]
  },
  {
   "cell_type": "code",
   "execution_count": 79,
   "metadata": {},
   "outputs": [
    {
     "data": {
      "text/plain": [
       "[(7125196598045271428, 79, 81),\n",
       " (7125196598045271428, 251, 253),\n",
       " (7125196598045271428, 280, 282),\n",
       " (7125196598045271428, 932, 934)]"
      ]
     },
     "execution_count": 79,
     "metadata": {},
     "output_type": "execute_result"
    }
   ],
   "source": [
    "# change the function to collect sentences\n",
    "\n",
    "def collect_sents(matcher, doc, i, matches):\n",
    "    match_id, start, end = matches[i]\n",
    "    span = doc[start:end]\n",
    "        \n",
    "    # update matched data collections\n",
    "    matched_sents.append(span.sent)\n",
    "\n",
    "\n",
    "matched_sents = []  # container for sentences\n",
    "pattern = [{'POS': 'NOUN', 'OP': '+'},{'LOWER':'fees'}]\n",
    "matcher = Matcher(nlp.vocab)\n",
    "matcher.add('fee', collect_sents, pattern)\n",
    "matcher(doc)"
   ]
  },
  {
   "cell_type": "code",
   "execution_count": 80,
   "metadata": {},
   "outputs": [
    {
     "data": {
      "text/plain": [
       "{The complaint alleged, among other things, that AirTran attempted to monopolize air travel in violation of Section 2 of the Sherman Act, and conspired with Delta in imposing $15-per-bag fees for the first item of checked luggage in violation of Section 1 of the Sherman Act.,\n",
       " In addition to treble damages for the amount of first baggage fees paid to  AirTran and to Delta, the Consolidated Amended Complaint seeks injunctive relief against a broad range of alleged anticompetitive activities, as well as attorneys’ fees.,\n",
       " The complaints seek treble damages for periods that vary among the complaints, costs, attorneys’ fees, and injunctive relief.}"
      ]
     },
     "execution_count": 80,
     "metadata": {},
     "output_type": "execute_result"
    }
   ],
   "source": [
    "# review matches\n",
    "set(matched_sents)"
   ]
  },
  {
   "cell_type": "code",
   "execution_count": 93,
   "metadata": {},
   "outputs": [
    {
     "data": {
      "text/plain": [
       "defaultdict(int, {'fees': 1})"
      ]
     },
     "execution_count": 93,
     "metadata": {},
     "output_type": "execute_result"
    }
   ],
   "source": [
    "# change the function to count matches using defaultdict\n",
    "\n",
    "def collect_sents(matcher, doc, i, matches):\n",
    "    match_id, start, end = matches[i]\n",
    "    span = doc[start:end]\n",
    "    \n",
    "    # update matched data collections\n",
    "    ent_count[span.text] += 1  # defaultdict keys must use span.text not span!\n",
    "\n",
    "\n",
    "ent_count = defaultdict(int)\n",
    "pattern = [{'LOWER':'fees'}]\n",
    "matcher = Matcher(nlp.vocab)\n",
    "matcher.add('fees', collect_sents, pattern)\n",
    "matcher(doc)\n",
    "\n",
    "ent_count"
   ]
  },
  {
   "cell_type": "code",
   "execution_count": 94,
   "metadata": {},
   "outputs": [
    {
     "data": {
      "text/plain": [
       "defaultdict(int, {'Landing fees': 1})"
      ]
     },
     "execution_count": 94,
     "metadata": {},
     "output_type": "execute_result"
    }
   ],
   "source": [
    "# update the pattern to look for a noun describing the fee\n",
    "\n",
    "ent_count = defaultdict(int)\n",
    "pattern = [{'POS': 'NOUN', 'OP': '+'},{'LOWER':'fees'}]\n",
    "matcher = Matcher(nlp.vocab)\n",
    "matcher.add('fees', collect_sents, pattern)\n",
    "matcher(doc)\n",
    "\n",
    "ent_count"
   ]
  },
  {
   "cell_type": "markdown",
   "metadata": {},
   "source": [
    "# Pipeline\n",
    "\n",
    "If you have a sequence of documents to process, you should use the Language.pipe()  method. The method takes an iterator of texts, and accumulates an internal buffer, which it works on in parallel. It then yields the documents in order, one-by-one.\n",
    "\n",
    "- batch_size: number of docs to process per thread\n",
    "- n_threads: number threads to use (-1 is the default that let's SpaCy decide)\n",
    "- disable: Names of pipeline components to disable to speed up text processing."
   ]
  },
  {
   "cell_type": "code",
   "execution_count": 86,
   "metadata": {},
   "outputs": [],
   "source": [
    "from spacy.pipeline import Pipe"
   ]
  },
  {
   "cell_type": "code",
   "execution_count": 91,
   "metadata": {},
   "outputs": [],
   "source": [
    "# get multiple sections with the term fees\n",
    "# use SpaCy to determine what type of fees\n",
    "\n",
    "texts = df[df['section_text'].str.contains('fees')]['section_text'].values[0:5]"
   ]
  },
  {
   "cell_type": "code",
   "execution_count": 92,
   "metadata": {},
   "outputs": [
    {
     "name": "stdout",
     "output_type": "stream",
     "text": [
      "defaultdict(<class 'int'>, {'Landing fees': 2})\n",
      "Wall time: 39.4 s\n"
     ]
    }
   ],
   "source": [
    "%%time\n",
    "\n",
    "ent_count = defaultdict(int) # reset defaultdict\n",
    "\n",
    "for doc in nlp.pipe(texts): # ['parser','tagger','ner']\n",
    "    matcher(doc) # match on your text\n",
    "\n",
    "print(ent_count)"
   ]
  },
  {
   "cell_type": "markdown",
   "metadata": {},
   "source": [
    "### SpaCy - Tips for faster processing\n",
    "\n",
    "You can substantially speed up the time it takes SpaCy to read a document by disabling components of the NLP that are not necessary for a given task.\n",
    "\n",
    "- Disable options: **parser, tagger, ner**"
   ]
  },
  {
   "cell_type": "code",
   "execution_count": 95,
   "metadata": {},
   "outputs": [
    {
     "name": "stdout",
     "output_type": "stream",
     "text": [
      "defaultdict(<class 'int'>, {'Landing fees': 2})\n",
      "Wall time: 9.94 s\n"
     ]
    }
   ],
   "source": [
    "%%time\n",
    "\n",
    "# reset defaultdict\n",
    "ent_count = defaultdict(int)\n",
    "\n",
    "# disable the parser and ner, as we only use POS tagging in this example\n",
    "# processing occurs ~5x faster\n",
    "for doc in nlp.pipe(texts, batch_size=100, disable=['parser','ner']):  \n",
    "    matcher(doc) # match on your text\n",
    "\n",
    "print(ent_count)"
   ]
  },
  {
   "cell_type": "code",
   "execution_count": 96,
   "metadata": {},
   "outputs": [
    {
     "name": "stdout",
     "output_type": "stream",
     "text": [
      "defaultdict(<class 'int'>, {})\n",
      "Wall time: 659 ms\n"
     ]
    }
   ],
   "source": [
    "%%time\n",
    "\n",
    "ent_count = defaultdict(int) # reset defaultdict\n",
    "\n",
    "# disable the parser and ner, as we only use POS tagging in this example\n",
    "# processing occurs ~75x faster, but doesn't work as the tagger is needed for the matcher\n",
    "for doc in nlp.pipe(texts, batch_size=100, disable=['parser','tagger','ner']):\n",
    "    matcher(doc) # match on your text\n",
    "\n",
    "print(ent_count)"
   ]
  },
  {
   "cell_type": "markdown",
   "metadata": {},
   "source": [
    "### Analyze the different risk types by year"
   ]
  },
  {
   "cell_type": "code",
   "execution_count": 97,
   "metadata": {},
   "outputs": [
    {
     "data": {
      "text/plain": [
       "147"
      ]
     },
     "execution_count": 97,
     "metadata": {},
     "output_type": "execute_result"
    }
   ],
   "source": [
    "# get multiple sections with the term fees\n",
    "texts = df[df['section_text'].str.contains('fees')][['filename','section_text']].values\n",
    "len(texts)"
   ]
  },
  {
   "cell_type": "code",
   "execution_count": 98,
   "metadata": {},
   "outputs": [],
   "source": [
    "# These fee types were extracted using the below code. \n",
    "# For the purpose of the lesson, instead of running it twice I have pulled them out\n",
    "# and grouped similar fees\n",
    "\n",
    "fee_types = {\n",
    "    'Landing fees':'landing'\n",
    "  , 'agriculture inspection fees':'agriculture'\n",
    "  , 'attorneys fees':'attorneys'\n",
    "  , 'attorneys’ fees':'attorneys'\n",
    "  , 'bag fees':'bag'\n",
    "  , 'baggage fees':'bag'\n",
    "  , 'card fees':'card'\n",
    "  , 'card interchange fees':'card'\n",
    "  , 'card processing fees':'card'\n",
    "  , 'change fees':'change'\n",
    "  , 'credit card fees':'card'\n",
    "  , 'credit card interchange fees':'card'\n",
    "  , 'credit card processing fees':'card'\n",
    "  , 'customs fees':'customs'\n",
    "  , 'enplanement fees':'enplanement'\n",
    "  , 'experts’ fees':'experts'\n",
    "  , 'inspection fees':'inspection'\n",
    "  , 'interchange fees':'interchange'\n",
    "  , 'l1nding fees':'landing'\n",
    "  , 'landing fees':'landing'\n",
    "  , 'passenger fees':'passenger'\n",
    "  , 'printing fees':'printing'\n",
    "  , 'processing fees':'processing'\n",
    "  , 'refund passenger fees':'refund'\n",
    "  , 'security fees':'security'\n",
    "  , 'service fees':'service'\n",
    "  , 'user fees':'user'}"
   ]
  },
  {
   "cell_type": "code",
   "execution_count": 101,
   "metadata": {},
   "outputs": [
    {
     "name": "stdout",
     "output_type": "stream",
     "text": [
      "user\n",
      "return this if the key is not in the dict\n"
     ]
    }
   ],
   "source": [
    "# dict get\n",
    "# returns value if key is in dict, otherwise returns a value of your choice\n",
    "print(fee_types.get('user fees', 'return this if the key is not in the dict'))\n",
    "print(fee_types.get('not a value', 'return this if the key is not in the dict'))"
   ]
  },
  {
   "cell_type": "code",
   "execution_count": 102,
   "metadata": {},
   "outputs": [],
   "source": [
    "# create simple matcher function and pattern\n",
    "\n",
    "def collect_sents(matcher, doc, i, matches):\n",
    "    match_id, start, end = matches[i]\n",
    "    span = doc[start:end]\n",
    "\n",
    "    # replace the fee type\n",
    "    fee = fee_types.get(span.text, span.text)\n",
    "    ent_count[fee] += 1\n",
    "    \n",
    "pattern = [{'POS': 'NOUN', 'OP': '+'},{'LOWER':'fees'}]\n",
    "matcher = Matcher(nlp.vocab)\n",
    "matcher.add('risk', collect_sents, pattern)"
   ]
  },
  {
   "cell_type": "code",
   "execution_count": 103,
   "metadata": {},
   "outputs": [
    {
     "name": "stdout",
     "output_type": "stream",
     "text": [
      "Wall time: 3min 55s\n"
     ]
    }
   ],
   "source": [
    "%%time\n",
    "\n",
    "years = defaultdict(dict)\n",
    "for year, text in texts:\n",
    "    ent_count = defaultdict(int)               # reset ent_count for each year\n",
    "    doc = nlp(text, disable=['parser','ner'])  # disable unnessecary components\n",
    "    matcher(doc)                               # match on your text\n",
    "    \n",
    "    for key, val in ent_count.items():\n",
    "        years[year][key] = val"
   ]
  },
  {
   "cell_type": "code",
   "execution_count": 61,
   "metadata": {},
   "outputs": [
    {
     "data": {
      "text/plain": [
       "<matplotlib.axes._subplots.AxesSubplot at 0x1d56d2056a0>"
      ]
     },
     "execution_count": 61,
     "metadata": {},
     "output_type": "execute_result"
    },
    {
     "data": {
      "image/png": "[encoded data removed]",
      "text/plain": [
       "<matplotlib.figure.Figure at 0x1d5626f7fd0>"
      ]
     },
     "metadata": {},
     "output_type": "display_data"
    }
   ],
   "source": [
    "# view the fees by year|\n",
    "%matplotlib inline\n",
    "import seaborn as sns\n",
    "\n",
    "sns.heatmap(pd.DataFrame(years).T.fillna(0))"
   ]
  },
  {
   "cell_type": "markdown",
   "metadata": {},
   "source": [
    "### Exercise review risks by year"
   ]
  },
  {
   "cell_type": "code",
   "execution_count": null,
   "metadata": {
    "collapsed": true
   },
   "outputs": [],
   "source": []
  },
  {
   "cell_type": "markdown",
   "metadata": {},
   "source": [
    "## Advanced SpaCy (Bonus Material)"
   ]
  },
  {
   "cell_type": "markdown",
   "metadata": {},
   "source": [
    "##### Text Matching: Avoid Multiple Term Matches\n",
    "\n",
    "When using rule-based matching, SpaCy may match the same term multiple times if it is part of different n-term pairs with one term contained in another. For instance, 'integration services' in 'system integration services.'\n",
    "\n",
    "To avoid matching these terms multiple times, we can add to the collect_sents function to check if each term is contained in the previous term"
   ]
  },
  {
   "cell_type": "code",
   "execution_count": null,
   "metadata": {
    "collapsed": true
   },
   "outputs": [],
   "source": [
    "def collect_sents(matcher, doc, i, matches):\n",
    "    match_id, start, end = matches[i]\n",
    "    span = doc[start:end]\n",
    "    sent = span.sent\n",
    "    \n",
    "    # lemmatize the matched spans\n",
    "    entity = span.lemma_.lower()\n",
    "            \n",
    "    # explicity add the first entity without checking if it matches other terms\n",
    "    # as there is no previous span to check    \n",
    "    if i == 0:\n",
    "        ent_count[entity] += 1\n",
    "        ent_sents[entity].append(sent)\n",
    "        matched_sents.append(sent)\n",
    "        return\n",
    "\n",
    "    # get the span, entity, and sentence from the previous match\n",
    "    # if more than one match exist\n",
    "    last_match_id, last_start, last_end = matches[i-1]\n",
    "    last_span = doc[last_start : last_end]\n",
    "    last_entity = last_span.text.lower()\n",
    "    last_sent = last_span.sent\n",
    "\n",
    "    # to avoid adding duplicates when one term is contained in another \n",
    "    # (e.g. 'integration services' in 'system integration services')\n",
    "    # make sure new spans are unique\n",
    "    distinct_entity = (entity not in last_entity) or (sent != last_sent)\n",
    "    not_duplicate_entity = (entity != last_entity) or (sent != last_sent)\n",
    "    \n",
    "    # update collections for unique data\n",
    "    if distinct_entity and not_duplicate_entity:\n",
    "        ent_count[entity] += 1\n",
    "        ent_sents[entity].append(sent)\n",
    "        matched_sents.append(sent)"
   ]
  },
  {
   "cell_type": "markdown",
   "metadata": {},
   "source": [
    "##### Multiple Patterns\n",
    "\n",
    "SpaCy matchers can use multiple patterns. Each pattern can be added to the Matcher individually with match.add and can use their own collect_sents function. Or use *patterns to add multiple patterns to the matcher at once."
   ]
  },
  {
   "cell_type": "code",
   "execution_count": null,
   "metadata": {
    "collapsed": true
   },
   "outputs": [],
   "source": [
    "matched_sents = []\n",
    "ent_sents  = defaultdict(list)\n",
    "ent_count = defaultdict(int)\n",
    "\n",
    "# multiple patterns\n",
    "pattern = [[{'POS': 'NOUN', 'OP': '+'},{'LOWER': 'fee'}]\n",
    "           , [{'POS': 'NOUN', 'OP': '+'},{'LOWER': 'fees'}]]\n",
    "matcher = Matcher(nlp.vocab)\n",
    "\n",
    "# *patterns to add multiple patterns with the same collect_sents function\n",
    "matcher.add('all_fees', collect_sents, *pattern)\n",
    "\n",
    "texts = df[df['section_text'].str.contains('fee')]['section_text'].values[0:5]\n",
    "for doc in nlp.pipe(texts, batch_size=100, disable=['ner']):\n",
    "    matches = matcher(doc) "
   ]
  },
  {
   "cell_type": "code",
   "execution_count": null,
   "metadata": {
    "collapsed": true
   },
   "outputs": [],
   "source": [
    "ent_count"
   ]
  },
  {
   "cell_type": "code",
   "execution_count": null,
   "metadata": {
    "collapsed": true
   },
   "outputs": [],
   "source": [
    "ent_sents"
   ]
  },
  {
   "cell_type": "markdown",
   "metadata": {},
   "source": [
    "#### Text Preprocessing Example"
   ]
  },
  {
   "cell_type": "code",
   "execution_count": null,
   "metadata": {
    "collapsed": true
   },
   "outputs": [],
   "source": [
    "def clean_text(doc): \n",
    "    # Add named entities, but only if they are a compound of more than non-numeric word.\n",
    "    IGNORE_ENTS = ('QUANTITY','ORDINAL','CARDINAL','DATE'\n",
    "                   ,'PERCENT','MONEY','TIME')\n",
    "    ents = doc.ents\n",
    "    ents = [ent for ent in ents if \n",
    "             (ent.label_ not in IGNORE_ENTS) and (len(ent) > 2)]\n",
    "    \n",
    "    # add underscores to combine words in entities\n",
    "    ents = [str(ent).strip().replace(' ','_') for ent in ents]\n",
    " \n",
    "    # Keep only words (no numbers, no punctuation).\n",
    "    # Lemmatize tokens, remove punctuation and remove stopwords.\n",
    "    doc = [token.lemma_ for token in doc \n",
    "           if token.is_alpha and not token.is_stop]\n",
    "    \n",
    "    doc.extend([entity for entity in ents])\n",
    "    \n",
    "    return [str(term) for term in doc]"
   ]
  },
  {
   "cell_type": "code",
   "execution_count": null,
   "metadata": {
    "collapsed": true
   },
   "outputs": [],
   "source": [
    "%%time\n",
    "\n",
    "cleaned_text = []\n",
    "for sent in matched_sents:\n",
    "    sent = nlp(sent.text)\n",
    "    text = clean_text(sent)\n",
    "    cleaned_text.append(text)"
   ]
  },
  {
   "cell_type": "code",
   "execution_count": null,
   "metadata": {
    "collapsed": true
   },
   "outputs": [],
   "source": [
    "print(matched_sents[0])"
   ]
  },
  {
   "cell_type": "code",
   "execution_count": null,
   "metadata": {
    "collapsed": true
   },
   "outputs": [],
   "source": [
    "print(cleaned_text[0])"
   ]
  },
  {
   "cell_type": "markdown",
   "metadata": {},
   "source": [
    "### Subject Verb Object (S,V,O) Extraction\n",
    "\n",
    "SOURCES: \n",
    "- http://textacy.readthedocs.io/en/latest/_modules/textacy/extract.html#subject_verb_object_triples\n",
    "- http://textacy.readthedocs.io/en/latest/_modules/textacy/spacy_utils.html#get_main_verbs_of_sent\n",
    "- https://github.com/chartbeat-labs/textacy/blob/master/textacy/constants.py"
   ]
  },
  {
   "cell_type": "code",
   "execution_count": null,
   "metadata": {
    "collapsed": true
   },
   "outputs": [],
   "source": [
    "from numpy import nanmin, nanmax, zeros, NaN\n",
    "from itertools import takewhile\n",
    "from spacy.parts_of_speech import CONJ, DET, NOUN, VERB\n",
    "from spacy.tokens.span import Span as SpacySpan\n",
    "\n",
    "NUMERIC_NE_TYPES = {'ORDINAL', 'CARDINAL', 'MONEY', 'QUANTITY', 'PERCENT', 'TIME', 'DATE'}\n",
    "SUBJ_DEPS = {'agent', 'csubj', 'csubjpass', 'expl', 'nsubj', 'nsubjpass'}\n",
    "OBJ_DEPS = {'attr', 'dobj', 'dative', 'oprd'}\n",
    "AUX_DEPS = {'aux', 'auxpass', 'neg'}\n",
    "\n",
    "def subject_verb_object_triples(doc):\n",
    "    \"\"\"\n",
    "    Extract an ordered sequence of subject-verb-object (SVO) triples from a\n",
    "    spacy-parsed doc. Note that this only works for SVO languages.\n",
    "\n",
    "    Args:\n",
    "        doc (``textacy.Doc`` or ``spacy.Doc`` or ``spacy.Span``)\n",
    "\n",
    "    Yields:\n",
    "        Tuple[``spacy.Span``, ``spacy.Span``, ``spacy.Span``]: the next 3-tuple\n",
    "            of spans from ``doc`` representing a (subject, verb, object) triple,\n",
    "            in order of appearance\n",
    "    \"\"\"\n",
    "    # TODO: What to do about questions, where it may be VSO instead of SVO?\n",
    "    # TODO: What about non-adjacent verb negations?\n",
    "    # TODO: What about object (noun) negations?\n",
    "    if isinstance(doc, SpacySpan):\n",
    "        sents = [doc]\n",
    "    else:  # textacy.Doc or spacy.Doc\n",
    "        sents = doc.sents\n",
    "\n",
    "    for sent in sents:\n",
    "        start_i = sent[0].i\n",
    "\n",
    "        verbs = get_main_verbs_of_sent(sent)\n",
    "        for verb in verbs:\n",
    "            subjs = get_subjects_of_verb(verb)\n",
    "            if not subjs:\n",
    "                continue\n",
    "            objs = get_objects_of_verb(verb)\n",
    "            if not objs:\n",
    "                continue\n",
    "\n",
    "            # add adjacent auxiliaries to verbs, for context\n",
    "            # and add compounds to compound nouns\n",
    "            verb_span = get_span_for_verb_auxiliaries(verb)\n",
    "            verb = sent[verb_span[0] - start_i: verb_span[1] - start_i + 1]\n",
    "            for subj in subjs:\n",
    "                subj = sent[get_span_for_compound_noun(subj)[0] - start_i: subj.i - start_i + 1]\n",
    "                for obj in objs:\n",
    "                    if obj.pos == NOUN:\n",
    "                        span = get_span_for_compound_noun(obj)\n",
    "                    elif obj.pos == VERB:\n",
    "                        span = get_span_for_verb_auxiliaries(obj)\n",
    "                    else:\n",
    "                        span = (obj.i, obj.i)\n",
    "                    obj = sent[span[0] - start_i: span[1] - start_i + 1]\n",
    "\n",
    "                    yield (subj, verb, obj)\n",
    "\n",
    "def get_main_verbs_of_sent(sent):\n",
    "    \"\"\"Return the main (non-auxiliary) verbs in a sentence.\"\"\"\n",
    "    return [tok for tok in sent\n",
    "            if tok.pos == VERB and tok.dep_ not in {'aux', 'auxpass'}]\n",
    "\n",
    "def get_subjects_of_verb(verb):\n",
    "    \"\"\"Return all subjects of a verb according to the dependency parse.\"\"\"\n",
    "    subjs = [tok for tok in verb.lefts\n",
    "             if tok.dep_ in SUBJ_DEPS]\n",
    "    # get additional conjunct subjects\n",
    "    subjs.extend(tok for subj in subjs for tok in _get_conjuncts(subj))\n",
    "    return subjs\n",
    "\n",
    "def get_objects_of_verb(verb):\n",
    "    \"\"\"\n",
    "    Return all objects of a verb according to the dependency parse,\n",
    "    including open clausal complements.\n",
    "    \"\"\"\n",
    "    objs = [tok for tok in verb.rights\n",
    "            if tok.dep_ in OBJ_DEPS]\n",
    "    # get open clausal complements (xcomp)\n",
    "    objs.extend(tok for tok in verb.rights\n",
    "                if tok.dep_ == 'xcomp')\n",
    "    # get additional conjunct objects\n",
    "    objs.extend(tok for obj in objs for tok in _get_conjuncts(obj))\n",
    "    return objs\n",
    "\n",
    "def _get_conjuncts(tok):\n",
    "    \"\"\"\n",
    "    Return conjunct dependents of the leftmost conjunct in a coordinated phrase,\n",
    "    e.g. \"Burton, [Dan], and [Josh] ...\".\n",
    "    \"\"\"\n",
    "    return [right for right in tok.rights\n",
    "            if right.dep_ == 'conj']\n",
    "\n",
    "def get_span_for_verb_auxiliaries(verb):\n",
    "    \"\"\"\n",
    "    Return document indexes spanning all (adjacent) tokens\n",
    "    around a verb that are auxiliary verbs or negations.\n",
    "    \"\"\"\n",
    "    min_i = verb.i - sum(1 for _ in takewhile(lambda x: x.dep_ in AUX_DEPS,\n",
    "                                              reversed(list(verb.lefts))))\n",
    "    max_i = verb.i + sum(1 for _ in takewhile(lambda x: x.dep_ in AUX_DEPS,\n",
    "                                              verb.rights))\n",
    "    return (min_i, max_i)\n",
    "\n",
    "def get_span_for_compound_noun(noun):\n",
    "    \"\"\"\n",
    "    Return document indexes spanning all (adjacent) tokens\n",
    "    in a compound noun.\n",
    "    \"\"\"\n",
    "    min_i = noun.i - sum(1 for _ in takewhile(lambda x: x.dep_ == 'compound',\n",
    "                                              reversed(list(noun.lefts))))\n",
    "    return (min_i, noun.i)\n",
    "\n"
   ]
  },
  {
   "cell_type": "code",
   "execution_count": null,
   "metadata": {
    "collapsed": true
   },
   "outputs": [],
   "source": [
    "triples = [(s,v,o) for s,v,o in subject_verb_object_triples(doc)]\n",
    "triples"
   ]
  },
  {
   "cell_type": "code",
   "execution_count": null,
   "metadata": {
    "collapsed": true
   },
   "outputs": [],
   "source": [
    "[triple for triple in triples if 'require' in triple[1].text]"
   ]
  },
  {
   "cell_type": "markdown",
   "metadata": {},
   "source": [
    "### Semistructured Statements"
   ]
  },
  {
   "cell_type": "code",
   "execution_count": null,
   "metadata": {
    "collapsed": true
   },
   "outputs": [],
   "source": [
    "def semistructured_statements(doc, entity, cue='be', ignore_entity_case=True,\n",
    "                              min_n_words=1, max_n_words=20):\n",
    "    \"\"\"\n",
    "    Extract \"semi-structured statements\" from a spacy-parsed doc, each as a\n",
    "    (entity, cue, fragment) triple. This is similar to subject-verb-object triples.\n",
    "\n",
    "    Args:\n",
    "        doc (``textacy.Doc`` or ``spacy.Doc``)\n",
    "        entity (str): a noun or noun phrase of some sort (e.g. \"President Obama\",\n",
    "            \"global warming\", \"Python\")\n",
    "        cue (str, optional): verb lemma with which `entity` is associated\n",
    "            (e.g. \"talk about\", \"have\", \"write\")\n",
    "        ignore_entity_case (bool, optional): if True, entity matching is case-independent\n",
    "        min_n_words (int, optional): min number of tokens allowed in a matching fragment\n",
    "        max_n_words (int, optional): max number of tokens allowed in a matching fragment\n",
    "\n",
    "    Yields:\n",
    "        (``spacy.Span`` or ``spacy.Token``, ``spacy.Span`` or ``spacy.Token``, ``spacy.Span``):\n",
    "              where each element is a matching (entity, cue, fragment) triple\n",
    "\n",
    "    Notes:\n",
    "        Inspired by N. Diakopoulos, A. Zhang, A. Salway. Visual Analytics of\n",
    "        Media Frames in Online News and Blogs. IEEE InfoVis Workshop on Text\n",
    "        Visualization. October, 2013.\n",
    "\n",
    "        Which itself was inspired by by Salway, A.; Kelly, L.; Skadiņa, I.; and\n",
    "        Jones, G. 2010. Portable Extraction of Partially Structured Facts from\n",
    "        the Web. In Proc. ICETAL 2010, LNAI 6233, 345-356. Heidelberg, Springer.\n",
    "    \"\"\"\n",
    "    if ignore_entity_case is True:\n",
    "        entity_toks = entity.lower().split(' ')\n",
    "        get_tok_text = lambda x: x.lower_\n",
    "    else:\n",
    "        entity_toks = entity.split(' ')\n",
    "        get_tok_text = lambda x: x.text\n",
    "    first_entity_tok = entity_toks[0]\n",
    "    n_entity_toks = len(entity_toks)\n",
    "    cue = cue.lower()\n",
    "    cue_toks = cue.split(' ')\n",
    "    n_cue_toks = len(cue_toks)\n",
    "\n",
    "    def is_good_last_tok(tok):\n",
    "        if tok.is_punct:\n",
    "            return False\n",
    "        if tok.pos in {CONJ, DET}:\n",
    "            return False\n",
    "        return True\n",
    "\n",
    "    for sent in doc.sents:\n",
    "        for tok in sent:\n",
    "\n",
    "            # filter by entity\n",
    "            if get_tok_text(tok) != first_entity_tok:\n",
    "                continue\n",
    "            if n_entity_toks == 1:\n",
    "                the_entity = tok\n",
    "                the_entity_root = the_entity\n",
    "            if tok.i + n_cue_toks >= len(doc):\n",
    "                continue\n",
    "            elif all(get_tok_text(tok.nbor(i=i + 1)) == et for i, et in enumerate(entity_toks[1:])):\n",
    "                the_entity = doc[tok.i: tok.i + n_entity_toks]\n",
    "                the_entity_root = the_entity.root\n",
    "            else:\n",
    "                continue\n",
    "\n",
    "            # filter by cue\n",
    "            terh = the_entity_root.head\n",
    "            if terh.lemma_ != cue_toks[0]:\n",
    "                continue\n",
    "            if n_cue_toks == 1:\n",
    "                min_cue_i = terh.i\n",
    "                max_cue_i = terh.i + n_cue_toks\n",
    "                the_cue = terh\n",
    "            elif all(terh.nbor(i=i + 1).lemma_ == ct for i, ct in enumerate(cue_toks[1:])):\n",
    "                min_cue_i = terh.i\n",
    "                max_cue_i = terh.i + n_cue_toks\n",
    "                the_cue = doc[terh.i: max_cue_i]\n",
    "            else:\n",
    "                continue\n",
    "            if the_entity_root in the_cue.rights:\n",
    "                continue\n",
    "\n",
    "            # now add adjacent auxiliary and negating tokens to the cue, for context\n",
    "            try:\n",
    "                min_cue_i = min(left.i for left in takewhile(\n",
    "                    lambda x: x.dep_ in {'aux', 'neg'}, reversed(list(the_cue.lefts))))\n",
    "            except ValueError:\n",
    "                pass\n",
    "            try:\n",
    "                max_cue_i = max(right.i for right in takewhile(\n",
    "                    lambda x: x.dep_ in {'aux', 'neg'}, the_cue.rights))\n",
    "            except ValueError:\n",
    "                pass\n",
    "            if max_cue_i - min_cue_i > 1:\n",
    "                the_cue = doc[min_cue_i: max_cue_i]\n",
    "            else:\n",
    "                the_cue = doc[min_cue_i]\n",
    "\n",
    "            # filter by fragment\n",
    "            try:\n",
    "                min_frag_i = min(right.left_edge.i for right in the_cue.rights)\n",
    "                max_frag_i = max(right.right_edge.i for right in the_cue.rights)\n",
    "            except ValueError:\n",
    "                continue\n",
    "            while is_good_last_tok(doc[max_frag_i]) is False:\n",
    "                max_frag_i -= 1\n",
    "            n_fragment_toks = max_frag_i - min_frag_i\n",
    "            if n_fragment_toks <= 0 or n_fragment_toks < min_n_words or n_fragment_toks > max_n_words:\n",
    "                continue\n",
    "            # HACK...\n",
    "            if min_frag_i == max_cue_i - 1:\n",
    "                min_frag_i += 1\n",
    "            the_fragment = doc[min_frag_i: max_frag_i + 1]\n",
    "\n",
    "            yield (the_entity, the_cue, the_fragment)\n"
   ]
  },
  {
   "cell_type": "code",
   "execution_count": null,
   "metadata": {
    "collapsed": true
   },
   "outputs": [],
   "source": [
    "for i in semistructured_statements(doc, entity='airline', cue='use'):\n",
    "    #, ignore_entity_case=True,                         min_n_words=1, max_n_words=20):\n",
    "    print(i)"
   ]
  }
 ],
 "metadata": {
  "kernelspec": {
   "display_name": "Python [conda env:guild]",
   "language": "python",
   "name": "conda-env-guild-py"
  }
 },
 "nbformat": 4,
 "nbformat_minor": 2
}
