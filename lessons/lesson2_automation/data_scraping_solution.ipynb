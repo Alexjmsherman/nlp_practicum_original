{
 "cells": [
  {
   "cell_type": "markdown",
   "metadata": {
    "collapsed": true
   },
   "source": [
    "## Data Scraping Solution\n",
    "\n",
    "##### Author: Alex Sherman | alsherman@deloitte.com"
   ]
  },
  {
   "cell_type": "markdown",
   "metadata": {
    "collapsed": true
   },
   "source": [
    "### Lesson Objectives:\n",
    "- Discuss python String formatting\n",
    "- Discuss Client-side versus Server-side programming\n",
    "- Learn how to request data (html, css, javascript) from a web page\n",
    "- Structure the html with BeautifulSoup\n",
    "- Identify, extract, and store selected elements from the HTML"
   ]
  },
  {
   "cell_type": "code",
   "execution_count": 2,
   "metadata": {
    "collapsed": true
   },
   "outputs": [],
   "source": [
    "# import package to view websites inside the Jupyter Notebook\n",
    "from IPython.core.display import display, HTML"
   ]
  },
  {
   "cell_type": "markdown",
   "metadata": {},
   "source": [
    "### Configuration Recap"
   ]
  },
  {
   "cell_type": "code",
   "execution_count": 3,
   "metadata": {},
   "outputs": [
    {
     "data": {
      "text/plain": [
       "'C:\\\\Users\\\\alsherman\\\\Desktop\\\\PycharmProjects\\\\firm_initiatives\\\\ml_guild\\\\lessons\\\\lesson2_automation'"
      ]
     },
     "execution_count": 3,
     "metadata": {},
     "output_type": "execute_result"
    }
   ],
   "source": [
    "# use magic command to print working directory\n",
    "# confirm you are in lesson2_automation directory\n",
    "%pwd"
   ]
  },
  {
   "cell_type": "code",
   "execution_count": 4,
   "metadata": {},
   "outputs": [
    {
     "data": {
      "text/plain": [
       "['../../config.ini']"
      ]
     },
     "execution_count": 4,
     "metadata": {},
     "output_type": "execute_result"
    }
   ],
   "source": [
    "import configparser\n",
    "config = configparser.ConfigParser()\n",
    "config.read('../../config.ini')"
   ]
  },
  {
   "cell_type": "markdown",
   "metadata": {},
   "source": [
    "### Python String Formatting\n",
    "\n",
    "We will use formatting to add placeholders into strings in many of the lessons. For this, we will use str.format()"
   ]
  },
  {
   "cell_type": "code",
   "execution_count": 5,
   "metadata": {},
   "outputs": [
    {
     "data": {
      "text/html": [
       "<iframe src=https://pyformat.info/ width=1100 height=300></iframe>"
      ],
      "text/plain": [
       "<IPython.core.display.HTML object>"
      ]
     },
     "execution_count": 5,
     "metadata": {},
     "output_type": "execute_result"
    }
   ],
   "source": [
    "string_formatting_url = 'https://pyformat.info/'\n",
    "iframe = '<iframe src={} width=1100 height=300></iframe>'.format(string_formatting_url)\n",
    "HTML(iframe)"
   ]
  },
  {
   "cell_type": "code",
   "execution_count": 6,
   "metadata": {},
   "outputs": [
    {
     "data": {
      "text/plain": [
       "'This is a python string'"
      ]
     },
     "execution_count": 6,
     "metadata": {},
     "output_type": "execute_result"
    }
   ],
   "source": [
    "'This is a python string'"
   ]
  },
  {
   "cell_type": "code",
   "execution_count": 7,
   "metadata": {},
   "outputs": [
    {
     "data": {
      "text/plain": [
       "'We can add a parameter into the string'"
      ]
     },
     "execution_count": 7,
     "metadata": {},
     "output_type": "execute_result"
    }
   ],
   "source": [
    "'We can add a parameter {}'.format('into the string')"
   ]
  },
  {
   "cell_type": "code",
   "execution_count": 8,
   "metadata": {},
   "outputs": [
    {
     "data": {
      "text/plain": [
       "'format fills in the braces'"
      ]
     },
     "execution_count": 8,
     "metadata": {},
     "output_type": "execute_result"
    }
   ],
   "source": [
    "'format {} the braces'.format('fills in')"
   ]
  },
  {
   "cell_type": "code",
   "execution_count": 147,
   "metadata": {},
   "outputs": [
    {
     "data": {
      "text/plain": [
       "'.format() allows multiple parameters, of any datatype, param: one, param: 2,  param: 3.0'"
      ]
     },
     "execution_count": 147,
     "metadata": {},
     "output_type": "execute_result"
    }
   ],
   "source": [
    "'.format() allows multiple parameters, of any datatype, param: {}, param: {},  param: {}'.format('one', 2, 3.0)"
   ]
  },
  {
   "cell_type": "code",
   "execution_count": 148,
   "metadata": {},
   "outputs": [
    {
     "data": {
      "text/plain": [
       "'add spaces     with a colon      then number'"
      ]
     },
     "execution_count": 148,
     "metadata": {},
     "output_type": "execute_result"
    }
   ],
   "source": [
    "'add {:10} with a {:10} then number'.format('spaces','colon')"
   ]
  },
  {
   "cell_type": "code",
   "execution_count": 12,
   "metadata": {},
   "outputs": [
    {
     "name": "stdout",
     "output_type": "stream",
     "text": [
      "Successfully requested data from url1\n",
      "Successfully requested data from url2\n",
      "Successfully requested data from url3\n"
     ]
    }
   ],
   "source": [
    "# formatting is useful for populating strings as part of a loop\n",
    "urls = ['url1','url2','url3']\n",
    "\n",
    "for url in urls:\n",
    "    print('Successfully requested data from {}'.format(url))"
   ]
  },
  {
   "cell_type": "markdown",
   "metadata": {},
   "source": [
    "### REQUESTS\n",
    "\n",
    "Requests is a Python HTTP library, released under the Apache2 License. The goal of the project is to make HTTP requests simpler and more human-friendly. We will use requests to get html, css, and javascript from webpages to collect data from the web."
   ]
  },
  {
   "cell_type": "code",
   "execution_count": 13,
   "metadata": {},
   "outputs": [
    {
     "data": {
      "text/html": [
       "<iframe src=http://docs.python-requests.org/en/master/ width=1100 height=300></iframe>"
      ],
      "text/plain": [
       "<IPython.core.display.HTML object>"
      ]
     },
     "execution_count": 13,
     "metadata": {},
     "output_type": "execute_result"
    }
   ],
   "source": [
    "requests_url = 'http://docs.python-requests.org/en/master/'\n",
    "iframe = '<iframe src={} width=1100 height=300></iframe>'.format(requests_url)\n",
    "HTML(iframe)"
   ]
  },
  {
   "cell_type": "code",
   "execution_count": 25,
   "metadata": {
    "collapsed": true
   },
   "outputs": [],
   "source": [
    "import requests\n",
    "\n",
    "# set a url for deloitte's website homepage\n",
    "opm_url = r'https://www.opm.gov/'\n",
    "\n",
    "# r is the common name for a requests instance\n",
    "r = requests.get(opm_url)"
   ]
  },
  {
   "cell_type": "markdown",
   "metadata": {},
   "source": [
    "#### Two commonly used methods for a request-response between a client and server are: GET and POST.\n",
    "- GET - Requests data from a specified resource\n",
    "- POST - Submits data to be processed to a specified resource\n",
    "\n",
    "\n",
    "#### Client-side vs Server-side Programming Languages\n",
    "\n",
    "Web development is all about communication and data exchange. This communication takes place via two parties over the HTTP protocol.\n",
    "\n",
    "- Server: The Server is responsible for serving the web pages depending on the client/end user requirement. It can be either static or dynamic.\n",
    "- Client: A client is a party that requests pages from the server and displays them to the end user. In general a client program is a web browser.\n",
    "\n",
    "source: http://www.c-sharpcorner.com/UploadFile/2072a9/client-side-vs-server-side-programming-languages/"
   ]
  },
  {
   "cell_type": "code",
   "execution_count": 26,
   "metadata": {},
   "outputs": [
    {
     "data": {
      "text/html": [
       "<iframe src=http://www.afterhoursprogramming.com/static/reference/images/webFlow.gif width=500 height=220></iframe>"
      ],
      "text/plain": [
       "<IPython.core.display.HTML object>"
      ]
     },
     "execution_count": 26,
     "metadata": {},
     "output_type": "execute_result"
    }
   ],
   "source": [
    "client_server_url = 'http://www.afterhoursprogramming.com/static/reference/images/webFlow.gif'\n",
    "iframe = '<iframe src={} width=500 height=220></iframe>'.format(client_server_url)\n",
    "HTML(iframe)"
   ]
  },
  {
   "cell_type": "code",
   "execution_count": 27,
   "metadata": {},
   "outputs": [
    {
     "data": {
      "text/plain": [
       "<Response [200]>"
      ]
     },
     "execution_count": 27,
     "metadata": {},
     "output_type": "execute_result"
    }
   ],
   "source": [
    "r"
   ]
  },
  {
   "cell_type": "code",
   "execution_count": 28,
   "metadata": {},
   "outputs": [
    {
     "data": {
      "text/plain": [
       "200"
      ]
     },
     "execution_count": 28,
     "metadata": {},
     "output_type": "execute_result"
    }
   ],
   "source": [
    "r.status_code"
   ]
  },
  {
   "cell_type": "markdown",
   "metadata": {},
   "source": [
    "#### Status Code Explanation    \n",
    "When a browser requests a service from a web server, an error might occur. The first digit of the status code specifies one of five standard classes of responses.\n",
    "\n",
    "- 1xx: Information\n",
    "- 2xx: Successful\n",
    "- 3xx: Redirection\n",
    "- 4xx: Client Error\n",
    "- 5xx: Server Error\n",
    "\n",
    "https://en.wikipedia.org/wiki/List_of_HTTP_status_codes"
   ]
  },
  {
   "cell_type": "code",
   "execution_count": 149,
   "metadata": {},
   "outputs": [
    {
     "data": {
      "text/plain": [
       "'\\r\\n<!DOCTYPE html>\\r\\n\\r\\n<html  xmlns=\"http://www.w3.org/1999/xhtml\" xmlns:og=\"http://opengraphprotocol.org/schema/\" xmlns:fb=\"http://www.facebook.com/2008/fbml\">\\r\\n\\t<head><link rel=\"shortcut icon\" href=\"/favicon.ico\" /><title>\\r\\n\\tData, Analysis & Documentation : Raw Datasets - OPM.gov\\r\\n</title><meta http-equiv=\"X-UA-Compatible\" content=\"IE=edge\" /><meta http-equiv=\"Content-Type\" content=\"text/html; charset=utf-8\" /><meta name=\"description\" content=\"Welcome to opm.gov\" /><meta name=\"keywords\" content=\"OPM,Office of Personnel Management,opm.gov\" /><meta name=\"Expires\" /><meta name=\"TemplateVersion\" content=\"3.0\" />\\r\\n\\t\\t\\t<meta property=\"fb:admins\" content=\"568256384\"/>\\r\\n\\t\\t\\t<meta property=\"fb:app_id\" content=\"121223957945585\"/>\\r\\n\\t\\t\\t<meta property=\"og:type\" content=\"government\"/>\\r\\n\\t\\t\\t<meta property=\"og:site_name\" content=\"U.S. Office of Personnel Management\"/><link rel=\"stylesheet\" type=\"text/css\" media=\"screen,projection\" href=\"/css/global.css?v=20150331\" />\\r\\n<link rel=\"stylesheet\" type=\"text/cs'"
      ]
     },
     "execution_count": 149,
     "metadata": {},
     "output_type": "execute_result"
    }
   ],
   "source": [
    "r.text[0:1000]"
   ]
  },
  {
   "cell_type": "code",
   "execution_count": 30,
   "metadata": {},
   "outputs": [
    {
     "data": {
      "text/plain": [
       "'ISO-8859-1'"
      ]
     },
     "execution_count": 30,
     "metadata": {},
     "output_type": "execute_result"
    }
   ],
   "source": [
    "r.encoding"
   ]
  },
  {
   "cell_type": "markdown",
   "metadata": {},
   "source": [
    "#### Requests text and encoding\n",
    "\n",
    "Requests will automatically decode content from the server. Most unicode charsets are seamlessly decoded. When you make a request, Requests makes educated guesses about the encoding of the response based on the HTTP headers. \n",
    "\n",
    "The text encoding guessed by Requests is used when you access r.text. You can find out what encoding Requests is using, and change it, using the r.encoding property:\n",
    "\n",
    "- What is the difference between unicode and ascii: https://stackoverflow.com/questions/19212306/whats-the-difference-between-ascii-and-unicode"
   ]
  },
  {
   "cell_type": "markdown",
   "metadata": {},
   "source": [
    "### Beautiful Soup\n",
    "\n",
    "Beautiful Soup is a Python library for pulling data out of HTML and XML files. It works with your favorite parser to provide idiomatic ways of navigating, searching, and modifying the parse tree. It commonly saves programmers hours or days of work."
   ]
  },
  {
   "cell_type": "code",
   "execution_count": 31,
   "metadata": {},
   "outputs": [
    {
     "data": {
      "text/html": [
       "<iframe src=https://www.crummy.com/software/BeautifulSoup/bs4/doc/ width=1100 height=300></iframe>"
      ],
      "text/plain": [
       "<IPython.core.display.HTML object>"
      ]
     },
     "execution_count": 31,
     "metadata": {},
     "output_type": "execute_result"
    }
   ],
   "source": [
    "bs_url = 'https://www.crummy.com/software/BeautifulSoup/bs4/doc/'\n",
    "iframe = '<iframe src=' + bs_url + ' width=1100 height=300></iframe>'\n",
    "HTML(iframe)"
   ]
  },
  {
   "cell_type": "code",
   "execution_count": 32,
   "metadata": {
    "collapsed": true
   },
   "outputs": [],
   "source": [
    "from bs4 import BeautifulSoup\n",
    "\n",
    "b = BeautifulSoup(r.text, 'lxml')"
   ]
  },
  {
   "cell_type": "code",
   "execution_count": 33,
   "metadata": {},
   "outputs": [
    {
     "data": {
      "text/plain": [
       "<!DOCTYPE html>\n",
       "<html xmlns=\"http://www.w3.org/1999/xhtml\" xmlns:fb=\"http://www.facebook.com/2008/fbml\" xmlns:og=\"http://opengraphprotocol.org/schema/\">\n",
       "<head><link href=\"/favicon.ico\" rel=\"shortcut icon\"/><title>\n",
       "\tOPM.gov\n",
       "</title><meta content=\"IE=edge\" http-equiv=\"X-UA-Compatible\"/><meta content=\"text/html; charset=utf-8\" http-equiv=\"Content-Type\"/><meta content=\"Welcome to opm.gov\" name=\"description\"/><meta content=\"OPM,Office of Personnel Management,opm.gov\" name=\"keywords\"/><meta name=\"Expires\"/><meta content=\"3.0\" name=\"TemplateVersion\"/>\n",
       "<meta content=\"568256384\" property=\"fb:admins\"/>\n",
       "<meta content=\"121223957945585\" property=\"fb:app_id\"/>\n",
       "<meta content=\"government\" property=\"og:type\"/>\n",
       "<meta content=\"U.S. Office of Personnel Management\" property=\"og:site_name\"/>\n",
       "<meta content=\"U.S. Office of Personnel Management - www.OPM.gov\" property=\"og:title\"/>\n",
       "<meta content=\"OPM works in several broad categories to recruit, retain and honor a world-class workforce for the American people.\" property=\"og:description\"/>\n",
       "<meta content=\"https://www.opm.gov/\" property=\"og:url\"/><script src=\"//ajax.googleapis.com/ajax/libs/jquery/1.11.1/jquery.min.js\" type=\"text/javascript\"></script><script type=\"text/javascript\">\n",
       "if( !window.jQuery ) {document.write('<script type=\"text\\/javascript\" src=\"\\/js\\/jquery-1.11.1.min.js\"><\\/script>');}\n",
       "</script>\n",
       "<script src=\"/js/jquery-migrate-1.2.1.min.js\" type=\"text/javascript\"></script>\n",
       "<!--[if lt IE 9]><script src=\"/js/jquery.json-2.3.min.js\" type=\"text/javascript\"></script><![endif]-->\n",
       "<!--[if lt IE 9]><script src=\"//html5shiv.googlecode.com/svn/trunk/html5.js\" type=\"text/javascript\"></script><![endif]-->\n",
       "<script src=\"/js/jstorage.min.js\" type=\"text/javascript\"></script>\n",
       "<script src=\"/Banner/scripts/standard.js\" type=\"text/javascript\"></script>\n",
       "<script src=\"/Banner/scripts/modalOverlay.js\" type=\"text/javascript\"></script>\n",
       "<script src=\"/js/core/webmethods.setup.js\" type=\"text/javascript\"></script>\n",
       "<link href=\"/css/global.css?v=20150331\" media=\"screen,projection\" rel=\"stylesheet\" type=\"text/css\"/>\n",
       "<link href=\"//fonts.googleapis.com/css?family=Droid+Serif\" media=\"screen,projection\" rel=\"stylesheet\" type=\"text/css\"/>\n",
       "<link href=\"/css/colorbox.css?v=20140810\" media=\"screen,projection\" rel=\"stylesheet\" type=\"text/css\"/>\n",
       "<link href=\"/css/home/home.css\" media=\"screen,projection\" rel=\"stylesheet\" type=\"text/css\"/>\n",
       "<link href=\"/Banner/styles/global.css\" media=\"screen,projection\" rel=\"stylesheet\" type=\"text/css\"/>\n",
       "<!--[if IE 6]><link href=\"/Banner/styles/global_ie6.css\"  type=\"text/css\" rel=\"stylesheet\" media=\"screen,projection\"/><![endif]-->\n",
       "<link href=\"/Banner/styles/anylinkmenu.css\" media=\"screen,projection\" rel=\"stylesheet\" type=\"text/css\"/>\n",
       "<link href=\"/Banner/styles/modalOverlay.css\" media=\"screen,projection\" rel=\"stylesheet\" type=\"text/css\"/>\n",
       "<!--[if IE 7]><link href=\"/Banner/styles/global_ie7.css\"  type=\"text/css\" rel=\"stylesheet\" media=\"screen,projection\"/><![endif]-->\n",
       "<link href=\"/Banner/styles/mainpage.css\" media=\"screen,projection\" rel=\"stylesheet\" type=\"text/css\"/>\n",
       "<!--[if IE 6]><link href=\"/Banner/styles/mainpage_ie6.css\"  type=\"text/css\" rel=\"stylesheet\" media=\"screen,projection\"/><![endif]-->\n",
       "<noscript><link href=\"/Banner/styles/mainpage_noscript.css\" media=\"screen,projection\" rel=\"stylesheet\" type=\"text/css\"/></noscript>\n",
       "<link href=\"/Banner/styles/VideoJS/video-js.css\" media=\"screen,projection\" rel=\"stylesheet\" type=\"text/css\"/>\n",
       "<link href=\"/Banner/styles/vplayer-overrides.css\" media=\"screen,projection\" rel=\"stylesheet\" type=\"text/css\"/>\n",
       "<link href=\"/faqs/styles/opmanswers.css\" media=\"screen,projection\" rel=\"stylesheet\" type=\"text/css\"/>\n",
       "<link href=\"/css/print.css\" media=\"print\" rel=\"stylesheet\" type=\"text/css\"/>\n",
       "<script type=\"text/javascript\"> \n",
       "var AlwaysShowAjaxWorking = false;\n",
       "</script>\n",
       "<script language=\"javascript\" type=\"text/javascript\">\t\t\n",
       "\t\tvar AccessibilityMode = false;\n",
       "</script>\n",
       "<script type=\"text/javascript\">\n",
       "\n",
       "\t\t\t$(\"#AudienceSelector a\").live(\"click\", function () {\n",
       "\t\t\t\tvar slide = $(this).attr('href');\n",
       "\t\t\t\t$(this).addClass(\"current\");\n",
       "\t\t\t\t$(\"a\", $(this).parents(\"li\").siblings(\"li\")).removeClass(\"current\");\n",
       "\t\t\t\t// show slide\n",
       "\t\t\t\t$(this).parents(\"ul\").siblings(\"div\").hide();\n",
       "\t\t\t\t$(slide).show();\n",
       "\t\t\t\treturn false;\n",
       "\t\t\t});\n",
       "\n",
       "\t</script>\n",
       "</head>\n",
       "<body id=\"ContentPlaceHolderDefault_htmBody\">\n",
       "<form action=\"/\" id=\"frmMain\" method=\"post\">\n",
       "<div></div>\n",
       "<script></script>\n",
       "<a class=\"skipnav\" href=\"#content\">Click here to skip navigation</a>\n",
       "<div class=\"AccessibilityInfo\" id=\"AccessibilityInfoDisabled\" style=\"display:none;\">\n",
       "\t\t  This website uses features which update page content based on user actions.  If you are using assistive technology to view web content, please ensure your settings allow for the page content to update after initial load (this is sometimes called \"forms mode\").  \n",
       "\t\t  Additionally, if you are using assistive technology and would like to be notified of items via alert boxes, please <a class=\"ChangeValidationSettings\" href=\"#\">follow this link to enable alert boxes for your profile</a>.\n",
       "\t  </div>\n",
       "<div class=\"AccessibilityInfo\" id=\"AccessibilityInfoEnabled\" style=\"display:none;\">\n",
       "\t\t  This website uses features which update page content based on user actions.  If you are using assistive technology to view web content, please ensure your settings allow for the page content to update after initial load (this is sometimes called \"forms mode\").  \n",
       "\t\t  Alert box notification is currently enabled, please <a class=\"ChangeValidationSettings\" href=\"#\">follow this link to disable alert boxes for your profile</a>.\n",
       "\t  </div>\n",
       "<header>\n",
       "<div id=\"Top_Wrapper\">\n",
       "<div class=\"MaxWidth_Container\">\n",
       "<div class=\"\" id=\"VersionPlaceholder\"></div>\n",
       "<div id=\"Top_Container\">\n",
       "<ul id=\"SocialIcons\">\n",
       "<li><a class=\"social_facebook\" href=\"/leaving/index.aspx?link=http://www.facebook.com/USOPM\" title=\"Fan us on Facebook\">Facebook</a></li>\n",
       "<li><a class=\"social_twitter\" href=\"/leaving/index.aspx?link=http://twitter.com/USOPM\" title=\"Follow us on Twitter\">Twitter</a></li>\n",
       "</ul><!-- SocialIcons -->\n",
       "<ul id=\"TopLinks\">\n",
       "<li class=\"First\"><a href=\"/a-z-index/\">A–Z Index</a></li><li><a href=\"/about-us/contact-us/\">Contact Us</a></li><li><a href=\"/forms/\">Forms</a></li><li class=\"Last\"><a href=\"/FAQs/\">FAQs</a></li>\n",
       "</ul>\n",
       "<div id=\"container_operatingstatus\">\n",
       "<div class=\"label\"><a href=\"/policy-data-oversight/snow-dismissal-procedures/current-status/\">Operating Status:</a></div>\n",
       "<div class=\"message loading\"><a href=\"/policy-data-oversight/snow-dismissal-procedures/current-status/\"><span>Loading</span></a></div>\n",
       "</div>\n",
       "<div class=\"SearchBox\">\n",
       "<label class=\"SearchFor\" for=\"SiteSearchString\" id=\"SearchFor\">Search for</label>\n",
       "<input class=\"txtSearch default\" id=\"SiteSearchString\" name=\"SiteSearchString\" type=\"text\"/>\n",
       "<a class=\"dd\" href=\"#\">Change Search Collection</a>\n",
       "<span>\n",
       "<input class=\"go\" id=\"GoSearch\" name=\"GoSearch\" onclick=\"return performSearch('SiteSearchString');\" type=\"button\" value=\"Go\"/>\n",
       "</span>\n",
       "<div class=\"Options\">\n",
       "<div id=\"SearchCollectionOptionsHeader\">Select a Search Collection:</div>\n",
       "<ul id=\"SearchCollectionOptions\">\n",
       "<li class=\"CollectionOn\"><input checked=\"\" id=\"Search_default_collection\" name=\"SearchCollectionSelected\" type=\"radio\" value=\"default_collection\"/><label for=\"Search_default_collection\">All of OPM</label></li>\n",
       "<li class=\"CollectionOff\"><input id=\"Search_www_opm_gov_about\" name=\"SearchCollectionSelected\" type=\"radio\" value=\"www_opm_gov_about\"/><label for=\"Search_www_opm_gov_about\">About</label></li>\n",
       "<li class=\"CollectionOn\"><input id=\"Search_www_opm_gov_policy\" name=\"SearchCollectionSelected\" type=\"radio\" value=\"www_opm_gov_policy\"/><label for=\"Search_www_opm_gov_policy\">Policy</label></li>\n",
       "<li class=\"CollectionOff\"><input id=\"Search_www_opm_gov_insurance\" name=\"SearchCollectionSelected\" type=\"radio\" value=\"www_opm_gov_insurance\"/><label for=\"Search_www_opm_gov_insurance\">Insurance</label></li>\n",
       "<li class=\"CollectionOn\"><input id=\"Search_www_opm_gov_retirement\" name=\"SearchCollectionSelected\" type=\"radio\" value=\"www_opm_gov_retirement\"/><label for=\"Search_www_opm_gov_retirement\">Retirement</label></li>\n",
       "<li class=\"CollectionOff\"><input id=\"Search_www_opm_gov_investigations\" name=\"SearchCollectionSelected\" type=\"radio\" value=\"www_opm_gov_investigations\"/><label for=\"Search_www_opm_gov_investigations\">Investigations</label></li>\n",
       "<li class=\"CollectionOn\"><input id=\"Search_www_opm_gov_services\" name=\"SearchCollectionSelected\" type=\"radio\" value=\"www_opm_gov_services\"/><label for=\"Search_www_opm_gov_services\">Agency Services</label></li>\n",
       "<li class=\"CollectionOff\"><input id=\"Search_www_opm_gov_news\" name=\"SearchCollectionSelected\" type=\"radio\" value=\"www_opm_gov_news\"/><label for=\"Search_www_opm_gov_news\">News</label></li>\n",
       "<li class=\"CollectionOn\"><input id=\"Search_www_opm_gov_faqs\" name=\"SearchCollectionSelected\" type=\"radio\" value=\"www_opm_gov_faqs\"/><label for=\"Search_www_opm_gov_faqs\">FAQs</label></li>\n",
       "</ul>\n",
       "</div>\n",
       "</div>\n",
       "<a href=\"/leaving/index.aspx?link=http://www.whitehouse.gov\" id=\"USBanner\"><img alt=\"An official website of the United States Government.\" src=\"/img/global/Flag.gif\" title=\"An official website of the United States Government.\"/></a>\n",
       "</div>\n",
       "</div>\n",
       "</div>\n",
       "<div id=\"Navigation_Container\">\n",
       "<div id=\"OPMLogo\">\n",
       "<a href=\"/\"><span>U.S. Office of Personnel Management</span></a>\n",
       "</div>\n",
       "<nav id=\"ContentPlaceHolderDefault_MainNavigation\"><ul><li class=\"about-us\"><a href=\"/about-us/\"><span>About</span></a><a class=\"toggleNavShow\" href=\"#\">\n",
       "                Open \"About\" Submenu\n",
       "              </a><div class=\"ddNavWrapper\"><table cellpadding=\"0\" cellspacing=\"0\"><tr><td class=\"ddNavCorner ddNavCornerTL\"></td><td class=\"ddNavEdge ddNavEdgeTop\"></td><td class=\"ddNavCorner ddNavCornerTR\"></td></tr><tr><td class=\"ddNavEdge ddNavEdgeLeft\"></td><td class=\"ddNavBody HasFeaturedContent \"><div class=\"SecondaryNav_Wrapper\" parentnavitem=\"/about-us/\"><ul class=\"SecondaryNav\"><li class=\"\"><a href=\"/about-us/\"><span>Our Agency</span></a></li>\n",
       "<li class=\"\"><a href=\"/about-us/our-director/\"><span>Our Director</span></a></li>\n",
       "<li class=\"\"><a href=\"/about-us/our-inspector-general/\"><span>Our Inspector General</span></a></li>\n",
       "<li class=\"\"><a href=\"/about-us/our-mission-role-history/\"><span>Our Mission, Role &amp; History</span></a></li>\n",
       "<li class=\"\"><a href=\"/about-us/our-people-organization/\"><span>Our People &amp; Organization</span></a></li>\n",
       "<li class=\"\"><a href=\"/about-us/careers-at-opm/\"><span>Careers at OPM</span></a></li>\n",
       "<li class=\"\"><a href=\"/about-us/doing-business-with-opm/\"><span>Doing Business with OPM</span></a></li>\n",
       "<li class=\"\"><a href=\"/about-us/budget-performance/\"><span>Budget &amp; Performance</span></a></li>\n",
       "<li class=\"\"><a href=\"/about-us/open-government/\"><span>Open Government</span></a></li>\n",
       "<li class=\"\"><a href=\"/about-us/get-help/\"><span>Get Help</span></a></li>\n",
       "<li class=\"\"><a href=\"/about-us/contact-us/\"><span>Contact Us</span></a></li>\n",
       "</ul></div><div class=\"Featured_Container\" parentpath=\"/about-us/\"></div></td><td class=\"ddNavEdge ddNavEdgeRight\"></td></tr><tr><td class=\"ddNavCorner ddNavCornerBL\"></td><td class=\"ddNavEdge ddNavEdgeBottom\"><a class=\"toggleNavHide\" href=\"#\">Close Menu</a></td><td class=\"ddNavCorner ddNavCornerBR\"></td></tr></table></div>\n",
       "</li>\n",
       "<li class=\"policy\"><a href=\"/policy-data-oversight/\"><span>Policy</span></a><a class=\"toggleNavShow\" href=\"#\">\n",
       "                Open \"Policy\" Submenu\n",
       "              </a><div class=\"ddNavWrapper\"><table cellpadding=\"0\" cellspacing=\"0\"><tr><td class=\"ddNavCorner ddNavCornerTL\"></td><td class=\"ddNavEdge ddNavEdgeTop\"></td><td class=\"ddNavCorner ddNavCornerTR\"></td></tr><tr><td class=\"ddNavEdge ddNavEdgeLeft\"></td><td class=\"ddNavBody HasFeaturedContent \"><div class=\"SecondaryNav_Wrapper\" parentnavitem=\"/policy-data-oversight/\"><ul class=\"SecondaryNav FirstColumn\"><li class=\"\"><a href=\"/policy-data-oversight/assessment-and-selection/\"><span>Assessment &amp; Selection</span></a></li>\n",
       "<li class=\"\"><a href=\"/policy-data-oversight/classification-qualifications/\"><span>Classification &amp; Qualifications</span></a></li>\n",
       "<li class=\"\"><a href=\"/policy-data-oversight/data-analysis-documentation/\"><span>Data, Analysis &amp; Documentation</span></a></li>\n",
       "<li class=\"\"><a href=\"/policy-data-oversight/disability-employment/\"><span>Disability Employment</span></a></li>\n",
       "<li class=\"\"><a href=\"/policy-data-oversight/diversity-and-inclusion/\"><span>Diversity &amp; Inclusion</span></a></li>\n",
       "<li class=\"\"><a href=\"/policy-data-oversight/employee-relations/\"><span>Employee Relations</span></a></li>\n",
       "<li class=\"\"><a href=\"/policy-data-oversight/hiring-information/\"><span>Hiring Information</span></a></li>\n",
       "<li class=\"\"><a href=\"/policy-data-oversight/human-capital-management/\"><span>Human Capital Management</span></a></li>\n",
       "<li class=\"\"><a href=\"/policy-data-oversight/labor-management-relations/\"><span>Labor-Management Relations</span></a></li>\n",
       "<li class=\"\"><a href=\"/policy-data-oversight/oversight-activities/\"><span>Oversight Activities</span></a></li>\n",
       "<li class=\"\"><a href=\"/policy-data-oversight/pandemic-information/\"><span>Pandemic Information</span></a></li>\n",
       "</ul><ul class=\"SecondaryNav SecondColumn\">\n",
       "<li class=\"\"><a href=\"/policy-data-oversight/pay-leave/\"><span>Pay &amp; Leave</span></a></li>\n",
       "<li class=\"\"><a href=\"/policy-data-oversight/performance-management/\"><span>Performance Management</span></a></li>\n",
       "<li class=\"\"><a href=\"/policy-data-oversight/senior-executive-service/\"><span>Senior Executive Service</span></a></li>\n",
       "<li class=\"\"><a href=\"/policy-data-oversight/settlement-guidelines/\"><span>Settlement Guidelines</span></a></li>\n",
       "<li class=\"\"><a href=\"/policy-data-oversight/snow-dismissal-procedures/\"><span>Snow &amp; Dismissal Procedures</span></a></li>\n",
       "<li class=\"\"><a href=\"/policy-data-oversight/training-and-development/\"><span>Training &amp; Development</span></a></li>\n",
       "<li class=\"\"><a href=\"/policy-data-oversight/veterans-services/\"><span>Veterans Services</span></a></li>\n",
       "<li class=\"\"><a href=\"/policy-data-oversight/worklife/\"><span>Work-Life</span></a></li>\n",
       "<li class=\"\"><a href=\"/policy-data-oversight/workforce-restructuring/\"><span>Workforce Restructuring</span></a></li>\n",
       "<li class=\"\"><a href=\"/policy-data-oversight/policy-faqs/\"><span>Policy FAQs</span></a></li>\n",
       "<li class=\"\"><a href=\"/policy-data-oversight/contact-policymakers/\"><span>Contact Policymakers</span></a></li>\n",
       "</ul></div><div class=\"Featured_Container\" parentpath=\"/policy-data-oversight/\"></div></td><td class=\"ddNavEdge ddNavEdgeRight\"></td></tr><tr><td class=\"ddNavCorner ddNavCornerBL\"></td><td class=\"ddNavEdge ddNavEdgeBottom\"><a class=\"toggleNavHide\" href=\"#\">Close Menu</a></td><td class=\"ddNavCorner ddNavCornerBR\"></td></tr></table></div>\n",
       "</li>\n",
       "<li class=\"insurance\"><a href=\"/healthcare-insurance/\"><span>Insurance</span></a><a class=\"toggleNavShow\" href=\"#\">\n",
       "                Open \"Insurance\" Submenu\n",
       "              </a><div class=\"ddNavWrapper\"><table cellpadding=\"0\" cellspacing=\"0\"><tr><td class=\"ddNavCorner ddNavCornerTL\"></td><td class=\"ddNavEdge ddNavEdgeTop\"></td><td class=\"ddNavCorner ddNavCornerTR\"></td></tr><tr><td class=\"ddNavEdge ddNavEdgeLeft\"></td><td class=\"ddNavBody HasFeaturedContent \"><div class=\"SecondaryNav_Wrapper\" parentnavitem=\"/healthcare-insurance/\"><ul class=\"SecondaryNav FirstColumn\"><li class=\"\"><a href=\"/healthcare-insurance/life-events/\"><span>Life Events</span></a></li>\n",
       "<li class=\"\"><a href=\"/healthcare-insurance/changes-in-health-coverage/\"><span>Changes in Health Coverage</span></a></li>\n",
       "<li class=\"\"><a href=\"/healthcare-insurance/healthcare/\"><span>Healthcare</span></a></li>\n",
       "<li class=\"\"><a href=\"/healthcare-insurance/dental-vision/\"><span>Dental &amp; Vision</span></a></li>\n",
       "<li class=\"\"><a href=\"/healthcare-insurance/life-insurance/\"><span>Life Insurance</span></a></li>\n",
       "<li class=\"\"><a href=\"/healthcare-insurance/flexible-spending-accounts/\"><span>Flexible Spending Accounts</span></a></li>\n",
       "<li class=\"\"><a href=\"/healthcare-insurance/long-term-care/\"><span>Long Term Care</span></a></li>\n",
       "<li class=\"\"><a href=\"/healthcare-insurance/multi-state-plan-program/\"><span>Multi-State Plan Program</span></a></li>\n",
       "</ul><ul class=\"SecondaryNav SecondColumn\">\n",
       "<li class=\"\"><a href=\"/healthcare-insurance/tribal-employers/\"><span>Tribal Employers</span></a></li>\n",
       "<li class=\"\"><a href=\"/healthcare-insurance/special-initiatives/\"><span>Special Initiatives</span></a></li>\n",
       "<li class=\"\"><a href=\"/healthcare-insurance/insurance-glossary/\"><span>Insurance Glossary</span></a></li>\n",
       "<li class=\"\"><a href=\"/healthcare-insurance/insurance-faqs/\"><span>Insurance FAQs</span></a></li>\n",
       "<li class=\"\"><a href=\"/healthcare-insurance/contact-healthcare-insurance/\"><span>Contact Healthcare &amp; Insurance</span></a></li>\n",
       "<li class=\"\"><a href=\"/healthcare-insurance/affordable-care-act/\"><span>The Affordable Care Act</span></a></li>\n",
       "</ul></div><div class=\"Featured_Container\" parentpath=\"/healthcare-insurance/\"></div></td><td class=\"ddNavEdge ddNavEdgeRight\"></td></tr><tr><td class=\"ddNavCorner ddNavCornerBL\"></td><td class=\"ddNavEdge ddNavEdgeBottom\"><a class=\"toggleNavHide\" href=\"#\">Close Menu</a></td><td class=\"ddNavCorner ddNavCornerBR\"></td></tr></table></div>\n",
       "</li>\n",
       "<li class=\"retirement\"><a href=\"/retirement-services/\"><span>Retirement</span></a><a class=\"toggleNavShow\" href=\"#\">\n",
       "                Open \"Retirement\" Submenu\n",
       "              </a><div class=\"ddNavWrapper\"><table cellpadding=\"0\" cellspacing=\"0\"><tr><td class=\"ddNavCorner ddNavCornerTL\"></td><td class=\"ddNavEdge ddNavEdgeTop\"></td><td class=\"ddNavCorner ddNavCornerTR\"></td></tr><tr><td class=\"ddNavEdge ddNavEdgeLeft\"></td><td class=\"ddNavBody HasFeaturedContent \"><div class=\"SecondaryNav_Wrapper\" parentnavitem=\"/retirement-services/\"><ul class=\"SecondaryNav\"><li class=\"\"><a href=\"/retirement-services/my-annuity-and-benefits/\"><span>My Annuity and Benefits</span></a></li>\n",
       "<li class=\"\"><a href=\"/retirement-services/csrs-information/\"><span>CSRS Information</span></a></li>\n",
       "<li class=\"\"><a href=\"/retirement-services/fers-information/\"><span>FERS Information</span></a></li>\n",
       "<li class=\"\"><a href=\"/retirement-services/phased-retirement/\"><span>Phased Retirement</span></a></li>\n",
       "<li class=\"\"><a href=\"/retirement-services/special-notices/\"><span>Special Notices</span></a></li>\n",
       "<li class=\"\"><a href=\"/retirement-services/calculators/\"><span>Calculators</span></a></li>\n",
       "<li class=\"\"><a href=\"/retirement-services/publications-forms/\"><span>Publications &amp; Forms</span></a></li>\n",
       "<li class=\"\"><a href=\"/retirement-services/benefits-officers-center/\"><span>Benefits Officers Center</span></a></li>\n",
       "<li class=\"\"><a href=\"/retirement-services/retirement-faqs/\"><span>Retirement FAQs</span></a></li>\n",
       "<li class=\"\"><a href=\"/retirement-services/contact-retirement/\"><span>Contact Retirement</span></a></li>\n",
       "</ul></div><div class=\"Featured_Container\" parentpath=\"/retirement-services/\"></div></td><td class=\"ddNavEdge ddNavEdgeRight\"></td></tr><tr><td class=\"ddNavCorner ddNavCornerBL\"></td><td class=\"ddNavEdge ddNavEdgeBottom\"><a class=\"toggleNavHide\" href=\"#\">Close Menu</a></td><td class=\"ddNavCorner ddNavCornerBR\"></td></tr></table></div>\n",
       "</li>\n",
       "<li class=\"investigations\"><a href=\"/investigations/\"><span>Investigations</span></a><a class=\"toggleNavShow\" href=\"#\">\n",
       "                Open \"Investigations\" Submenu\n",
       "              </a><div class=\"ddNavWrapper\"><table cellpadding=\"0\" cellspacing=\"0\"><tr><td class=\"ddNavCorner ddNavCornerTL\"></td><td class=\"ddNavEdge ddNavEdgeTop\"></td><td class=\"ddNavCorner ddNavCornerTR\"></td></tr><tr><td class=\"ddNavEdge ddNavEdgeLeft\"></td><td class=\"ddNavBody HasFeaturedContent \"><div class=\"SecondaryNav_Wrapper\" parentnavitem=\"/investigations/\"><ul class=\"SecondaryNav\"><li class=\"\"><a href=\"/investigations/suitability-executive-agent/\"><span>Suitability Executive Agent</span></a></li>\n",
       "<li class=\"\"><a href=\"/investigations/suitability-executive-agent/position-designation-tool/\"><span>Position Designation Tool</span></a></li>\n",
       "<li class=\"\"><a href=\"/investigations/suitability-executive-agent/suitability-adjudications/\"><span>Suitability Adjudications</span></a></li>\n",
       "<li class=\"\"><a href=\"/investigations/suitability-executive-agent/suitability-training/\"><span>Suitability Training</span></a></li>\n",
       "<li class=\"\"><a href=\"/investigations/suitability-executive-agent/oversight/\"><span>Oversight</span></a></li>\n",
       "<li class=\"\"><a href=\"/investigations/suitability-executive-agent/policy/\"><span>Policy</span></a></li>\n",
       "<li class=\"\"><a href=\"/investigations/suitability-and-credentialing-faqs/\"><span>Frequently Asked Questions</span></a></li>\n",
       "<li class=\"\"><a href=\"/investigations/contact-suitea/\"><span>Contact SuitEA</span></a></li>\n",
       "</ul></div><div class=\"Featured_Container\" parentpath=\"/investigations/\"></div></td><td class=\"ddNavEdge ddNavEdgeRight\"></td></tr><tr><td class=\"ddNavCorner ddNavCornerBL\"></td><td class=\"ddNavEdge ddNavEdgeBottom\"><a class=\"toggleNavHide\" href=\"#\">Close Menu</a></td><td class=\"ddNavCorner ddNavCornerBR\"></td></tr></table></div>\n",
       "</li>\n",
       "<li class=\"services\"><a href=\"/services-for-agencies/\"><span>Agency Services</span></a><a class=\"toggleNavShow\" href=\"#\">\n",
       "                Open \"Agency Services\" Submenu\n",
       "              </a><div class=\"ddNavWrapper\"><table cellpadding=\"0\" cellspacing=\"0\"><tr><td class=\"ddNavCorner ddNavCornerTL\"></td><td class=\"ddNavEdge ddNavEdgeTop\"></td><td class=\"ddNavCorner ddNavCornerTR\"></td></tr><tr><td class=\"ddNavEdge ddNavEdgeLeft\"></td><td class=\"ddNavBody HasFeaturedContent \"><div class=\"SecondaryNav_Wrapper\" parentnavitem=\"/services-for-agencies/\"><ul class=\"SecondaryNav FirstColumn\"><li class=\"\"><a href=\"/services-for-agencies/classification-job-design/\"><span>Classification &amp; Job Design</span></a></li>\n",
       "<li class=\"\"><a href=\"/services-for-agencies/workforce-restructuring/\"><span>Workforce Restructuring</span></a></li>\n",
       "<li class=\"\"><a href=\"/services-for-agencies/workforce-succession-planning/\"><span>Workforce &amp; Succession Planning</span></a></li>\n",
       "<li class=\"\"><a href=\"/services-for-agencies/recruiting-staffing-solutions/\"><span>Recruiting &amp; Staffing Solutions</span></a></li>\n",
       "<li class=\"\"><a href=\"/services-for-agencies/assessment-evaluation/\"><span>Assessment &amp; Evaluation</span></a></li>\n",
       "<li class=\"\"><a href=\"/services-for-agencies/federal-leadership-development-programs/\"><span>Federal Leadership Programs</span></a></li>\n",
       "<li class=\"\"><a href=\"/services-for-agencies/center-for-leadership-development/\"><span>Center For Leadership Development</span></a></li>\n",
       "<li class=\"\"><a href=\"/services-for-agencies/performance-management/\"><span>Performance Management</span></a></li>\n",
       "</ul><ul class=\"SecondaryNav SecondColumn\">\n",
       "<li class=\"\"><a href=\"/services-for-agencies/telework-solutions/\"><span>Telework Solutions</span></a></li>\n",
       "<li class=\"\"><a href=\"/services-for-agencies/technology-systems/\"><span>Technology Systems</span></a></li>\n",
       "<li class=\"\"><a href=\"/services-for-agencies/human-capital-consultants/\"><span>Human Capital Consultants</span></a></li>\n",
       "<li class=\"\"><a href=\"/services-for-agencies/hr-line-of-business/\"><span>Human Resources Line of Business</span></a></li>\n",
       "<li class=\"\"><a href=\"/services-for-agencies/administrative-law-judges/\"><span>Administrative Law Judges</span></a></li>\n",
       "<li class=\"\"><a href=\"http://www.feb.gov\"><span>Federal Executive Boards</span></a></li>\n",
       "<li class=\"\"><a href=\"/services-for-agencies/contact-agency-services/\"><span>Contact Agency Services</span></a></li>\n",
       "</ul></div><div class=\"Featured_Container\" parentpath=\"/services-for-agencies/\"></div></td><td class=\"ddNavEdge ddNavEdgeRight\"></td></tr><tr><td class=\"ddNavCorner ddNavCornerBL\"></td><td class=\"ddNavEdge ddNavEdgeBottom\"><a class=\"toggleNavHide\" href=\"#\">Close Menu</a></td><td class=\"ddNavCorner ddNavCornerBR\"></td></tr></table></div>\n",
       "</li>\n",
       "<li class=\"news\"><a href=\"/news/\"><span>News</span></a><a class=\"toggleNavShow\" href=\"#\">\n",
       "                Open \"News\" Submenu\n",
       "              </a><div class=\"ddNavWrapper\"><table cellpadding=\"0\" cellspacing=\"0\"><tr><td class=\"ddNavCorner ddNavCornerTL\"></td><td class=\"ddNavEdge ddNavEdgeTop\"></td><td class=\"ddNavCorner ddNavCornerTR\"></td></tr><tr><td class=\"ddNavEdge ddNavEdgeLeft\"></td><td class=\"ddNavBody HasFeaturedContent \"><div class=\"SecondaryNav_Wrapper\" parentnavitem=\"/news/\"><ul class=\"SecondaryNav\"><li class=\"\"><a href=\"/news/latest-news/\"><span>Latest News</span></a></li>\n",
       "<li class=\"\"><a href=\"/news/speeches-remarks/\"><span>Speeches &amp; Remarks</span></a></li>\n",
       "<li class=\"\"><a href=\"http://www.chcoc.gov/transmittals/index.aspx\"><span>Memos to Agencies</span></a></li>\n",
       "<li class=\"\"><a href=\"/news/testimony/\"><span>Testimony</span></a></li>\n",
       "<li class=\"\"><a href=\"/news/legislative-proposals/\"><span>Legislative Proposals</span></a></li>\n",
       "<li class=\"\"><a href=\"/news/reports-publications/\"><span>Reports &amp; Publications</span></a></li>\n",
       "<li class=\"\"><a href=\"/news/social-media-presence/\"><span>Social Media Presence</span></a></li>\n",
       "<li class=\"\"><a href=\"/news/feeds-blogs-and-lists/\"><span>Feeds, Blogs &amp; Lists</span></a></li>\n",
       "<li class=\"\"><a href=\"http://archive.opm.gov\"><span>Website Archive</span></a></li>\n",
       "</ul></div><div class=\"Featured_Container\" parentpath=\"/news/\"></div></td><td class=\"ddNavEdge ddNavEdgeRight\"></td></tr><tr><td class=\"ddNavCorner ddNavCornerBL\"></td><td class=\"ddNavEdge ddNavEdgeBottom\"><a class=\"toggleNavHide\" href=\"#\">Close Menu</a></td><td class=\"ddNavCorner ddNavCornerBR\"></td></tr></table></div>\n",
       "</li>\n",
       "</ul></nav>\n",
       "<a class=\"menu-link\" href=\"#MainNavigation_Responsive\" style=\"display: none; visibility: hidden;\">☰</a>\n",
       "<div class=\"panel\" id=\"MainNavigation_Responsive\" role=\"navigation\" style=\"display: none; visibility: hidden;\">\n",
       "<ul>\n",
       "<li><a href=\"/about-us/\">About</a></li>\n",
       "<li><a href=\"/policy-data-oversight/\">Policy</a></li>\n",
       "<li><a href=\"/healthcare-insurance/\">Insurance</a></li>\n",
       "<li><a href=\"/retirement-services/\">Retirement</a></li>\n",
       "<li><a href=\"/investigations/\">Investigations</a></li>\n",
       "<li><a href=\"/services-for-agencies/\">Agency Services</a></li>\n",
       "<li><a href=\"/news/\">News</a></li>\n",
       "</ul>\n",
       "</div>\n",
       "</div>\n",
       "</header>\n",
       "<div id=\"MainContent_Gutter\">\n",
       "<div id=\"HomepageUpperContainer\">\n",
       "<div id=\"HomepageBannerContainer\">\n",
       "<link href=\"/Banner/styles/global.css\" rel=\"stylesheet\" type=\"text/css\"/>\n",
       "<!--[if IE 6]><link href=\"/Banner/styles/global_ie6.css\" rel=\"stylesheet\" type=\"text/css\" /><![endif]-->\n",
       "<link href=\"/Banner/styles/anylinkmenu.css\" rel=\"stylesheet\" type=\"text/css\"/>\n",
       "<link href=\"/Banner/styles/modalOverlay.css\" rel=\"Stylesheet\" type=\"text/css\"/>\n",
       "<!--[if IE 7]><link href=\"/Banner/styles/global_ie7.css\" rel=\"stylesheet\" type=\"text/css\" /><![endif]-->\n",
       "<link href=\"/Banner/styles/mainpage.css\" rel=\"stylesheet\" type=\"text/css\"/>\n",
       "<!--[if IE 6]><link href=\"/Banner/styles/mainpage_ie6.css\" rel=\"stylesheet\" type=\"text/css\" /><![endif]-->\n",
       "<noscript>\n",
       "<link href=\"/Banner/styles/mainpage_noscript.css\" rel=\"Stylesheet\" type=\"text/css\"/>\n",
       "</noscript>\n",
       "<script src=\"/Banner/scripts/standard.js\" type=\"text/javascript\"></script>\n",
       "<script src=\"/Banner/scripts/modalOverlay.js\" type=\"text/javascript\"></script>\n",
       "<script type=\"text/javascript\">    isIE6 = false; </script>\n",
       "<!--[if IE6]><script type=\"text/javascript\"> isIE6 = true; </script><![endif]-->\n",
       "<script type=\"text/javascript\">    isIE9 = false; </script>\n",
       "<!--[if IE 9]><script type=\"text/javascript\"> isIE9 = true; </script><![endif]-->\n",
       "<script type=\"text/javascript\">\n",
       "\t//Constants for widget identification\n",
       "\tvar WIDGET_WELCOME = 1;\n",
       "\tvar WIDGET_PERSPECTIVES = 6;\n",
       "\tvar WIDGET_FACTSFIGURES = 4; //\n",
       "\tvar WIDGET_SPOTLIGHT = 2; //\n",
       "\tvar WIDGET_JOINFEDERALSERVICE = 5;\n",
       "\tvar WIDGET_INITIATIVES = 3; //\n",
       "\n",
       "</script>\n",
       "<script src=\"/Banner/scripts/jquery.tools.min.js\"></script>\n",
       "<link href=\"/Banner/styles/VideoJS/video-js.css\" rel=\"stylesheet\" type=\"text/css\"/>\n",
       "<link href=\"/Banner/styles/vplayer-overrides.css\" rel=\"Stylesheet\" type=\"text/css\"/>\n",
       "<script src=\"/Banner/scripts/jquery.easing.1.3.js\" type=\"text/javascript\"></script>\n",
       "<script src=\"/Banner/scripts/jquery.roundabout.js\" type=\"text/javascript\"></script>\n",
       "<script src=\"/Banner/scripts/jquery.roundabout-shapes.js\" type=\"text/javascript\"></script>\n",
       "<script src=\"/Banner/scripts/jquery.simplemodal.js\" type=\"text/javascript\"></script>\n",
       "<script src=\"/Banner/scripts/carousel.jquery.js?v=20150615b\" type=\"text/javascript\"></script>\n",
       "<script src=\"/Banner/scripts/swfobject.js\" type=\"text/javascript\"></script>\n",
       "<script src=\"/js/flowplayer-3.2.7.min.js\" type=\"text/javascript\"></script>\n",
       "<script src=\"/js/flowplayer-controller-config.js\" type=\"text/javascript\"></script>\n",
       "<script src=\"/js/flowplayer.ipad-3.2.10.min.js\"></script>\n",
       "<div>\n",
       "<!-- Start: main container -->\n",
       "<div id=\"main_container_wrapper\">\n",
       "<div id=\"main_container\">\n",
       "<!-- Start: slides container -->\n",
       "<div id=\"slides_container\">\n",
       "<div class=\"slide sliden1\" id=\"dupslide3\">\n",
       "<img alt=\"OPMSpotlight-PresTransGuide2016\" id=\"ContentPlaceHolderDefault_LandingSpotlightPlaceHolder_ctl01_HomePageBanner_1_DupeSlideBeginning\" src=\"/Banner/images/spotlights/OPMSpotlight_PresTransGuide2016.jpg\"/>\n",
       "</div>\n",
       "<div class=\"slide slide1\" id=\"slide1\">\n",
       "<img alt=\"OPMSpotlight-CFC2017\" src=\"/Banner/images/spotlights/OPMSpotlight_CFC2017.jpg\"/>\n",
       "</div>\n",
       "<div class=\"slide slide2\" id=\"slide2\">\n",
       "<img alt=\"OPMSpotlight-CyberCareers\" src=\"/Banner/images/spotlights/OPMSpotlight_CyberCareers.jpg\"/>\n",
       "</div>\n",
       "<div class=\"slide slide3\" id=\"slide3\">\n",
       "<img alt=\"OPMSpotlight-PresTransGuide2016\" src=\"/Banner/images/spotlights/OPMSpotlight_PresTransGuide2016.jpg\"/>\n",
       "</div>\n",
       "<div class=\"slide slide4\" id=\"dupSlide1\">\n",
       "<img alt=\"OPMSpotlight-CFC2017\" id=\"ContentPlaceHolderDefault_LandingSpotlightPlaceHolder_ctl01_HomePageBanner_1_DupeSlideEnding\" src=\"/Banner/images/spotlights/OPMSpotlight_CFC2017.jpg\"/>\n",
       "</div>\n",
       "<div class=\"slide slide5\" id=\"dupSlide2\">\n",
       "<img alt=\"\" src=\"/Banner/images/slideJFSDummy.jpg\"/>\n",
       "</div>\n",
       "</div>\n",
       "<!-- End: slides container -->\n",
       "<!-- Start: widgets container -->\n",
       "<div id=\"slide_widgets\">\n",
       "<div class=\"widget slide1\" id=\"widget1\">\n",
       "<a href=\"http://www.opm.gov/showsomelovecfc\" id=\"W2MoreInfo\"><img alt=\"Show Some Love - 2017 Combined Federal Campaign - You can make a difference - Donate today! - www.opm.gov/showsomelovecfc - opm.gov\" class=\"bg\" src=\"/Banner/images/blank.gif\"/></a>\n",
       "</div>\n",
       "<div class=\"widget slide2\" id=\"widget2\">\n",
       "<a href=\"http://www.cybercareers.gov/\" id=\"W2MoreInfo\"><img alt=\"Join the Force. Take the Challenge. CyberCareers.gov\" class=\"bg\" src=\"/Banner/images/blank.gif\"/></a>\n",
       "</div>\n",
       "<div class=\"widget slide3\" id=\"widget3\">\n",
       "<a href=\"https://www.opm.gov/PresidentialTransition\" id=\"W2MoreInfo\"><img alt=\"Presidential Transition Guide to Federal Human Resources Management Matters - Election Year 2016\" class=\"bg\" src=\"/Banner/images/blank.gif\"/></a>\n",
       "</div>\n",
       "</div>\n",
       "<!-- End: widgets container -->\n",
       "<div id=\"overlay_left_shadow\">\n",
       "<img alt=\"\" src=\"/Banner/images/overlay_shadow_left.png\"/><img alt=\"\" class=\"ie6alt\" src=\"/Banner/images/overlay_shadow_left.gif\"/></div>\n",
       "<div id=\"overlay_right_shadow\">\n",
       "<img alt=\"\" src=\"/Banner/images/overlay_shadow_right.png\"/><img alt=\"\" class=\"ie6alt\" src=\"/Banner/images/overlay_shadow_right.gif\"/></div>\n",
       "<div id=\"overlay_left_cap\">\n",
       "<img alt=\"\" src=\"/Banner/images/overlay_left_cap.png\"/><img alt=\"\" class=\"ie6alt\" src=\"/Banner/images/overlay_left_cap.gif\"/></div>\n",
       "<div id=\"overlay_right_cap\">\n",
       "<img alt=\"\" src=\"/Banner/images/overlay_right_cap.png\"/><img alt=\"\" class=\"ie6alt\" src=\"/Banner/images/overlay_right_cap.gif\"/></div>\n",
       "<div id=\"overlay_top\">\n",
       "<img alt=\"\" src=\"/Banner/images/overlay_top.png\"/><img alt=\"\" class=\"ie6alt\" src=\"/Banner/images/overlay_top.gif\"/></div>\n",
       "<div id=\"overlay_bottom_left\">\n",
       "<!--e-->\n",
       "</div>\n",
       "<div id=\"overlay_bottom_mid\">\n",
       "<!--e-->\n",
       "</div>\n",
       "<div id=\"overlay_bottom_right\">\n",
       "<!--e-->\n",
       "</div>\n",
       "<div class=\"moveblock\" id=\"moveleft\">\n",
       "<a href=\"#\" title=\"Slide Left\">\n",
       "<img alt=\"Slide Left\" class=\"ie6altHide\" src=\"/Banner/images/ArrowLeft_JoinUs.png\"/>\n",
       "<img alt=\"Slide Left\" class=\"ie6alt\" src=\"/Banner/images/ArrowLeft_JoinUs.gif\"/>\n",
       "</a>\n",
       "</div>\n",
       "<div class=\"moveblock\" id=\"moveright\">\n",
       "<a href=\"#\" title=\"Slide Right\">\n",
       "<img alt=\"Slide Right\" class=\"ie6altHide\" src=\"/Banner/images/ArrowRight_JoinUs.png\"/>\n",
       "<img alt=\"Slide Right\" class=\"ie6alt\" src=\"/Banner/images/ArrowRight_JoinUs.gif\"/>\n",
       "</a>\n",
       "</div>\n",
       "<noscript>\n",
       "<div id=\"noJSNote\">\n",
       "\t\t\t\t\tThis tool requires Javascript to operate.\n",
       "\t\t\t\t</div>\n",
       "</noscript>\n",
       "</div>\n",
       "<!-- End: main container -->\n",
       "<input id=\"ContentPlaceHolderDefault_LandingSpotlightPlaceHolder_ctl01_HomePageBanner_1_selectedSlide\" name=\"ctl00$ctl00$ctl00$ContentPlaceHolderDefault$LandingSpotlightPlaceHolder$ctl01$HomePageBanner_1$selectedSlide\" type=\"hidden\"/>\n",
       "</div>\n",
       "</div>\n",
       "<!-- MainContent_Gutter -->\n",
       "<div style=\"clear: both\">\n",
       "<!--e-->\n",
       "</div>\n",
       "</div>\n",
       "<div id=\"HomepageSections\">\n",
       "<ul id=\"AudienceSelector\">\n",
       "<li><a class=\"current\" href=\"#FederalEmployees\">Federal Employees</a></li>\n",
       "<li><a href=\"#HRPractitioners\">HR Practitioners</a></li>\n",
       "<li><a href=\"#JobSeekers\">Job Seekers</a></li>\n",
       "<li><a href=\"#Disabilities\">Job Seekers with Disabilities</a></li>\n",
       "<li><a href=\"#RetireesFamilies\">Retirees &amp; Families</a></li>\n",
       "<li><a href=\"#Veterans\">Veterans</a></li>\n",
       "</ul>\n",
       "<div class=\"audienceSlides current\" id=\"FederalEmployees\">\n",
       "<div class=\"audienceSlide audienceSlide1\">\n",
       "<h3><a href=\"https://www.opm.gov/policy-data-oversight/worklife/telework/\" title=\"Telework\">Telework</a></h3>\n",
       "Improve Continuity of Operations, Promote Management Effectiveness and Enhance Work/Life Balance</div>\n",
       "<div class=\"audienceSlide audienceSlide2\">\n",
       "<h3><a href=\"https://www.opm.gov/policy-data-oversight/training-and-development/career-development/\" title=\"Career Development\">Career Development</a></h3>\n",
       "Learn how you can achieve your personal and professional development goals</div>\n",
       "<div class=\"audienceSlide audienceSlide3\">\n",
       "<h3><a href=\"https://www.opm.gov/healthcare-insurance/healthcare/\" title=\"Healthcare\">Healthcare</a></h3>\n",
       "Learn more about healthcare coverage for Federal employees, retirees, and their families</div>\n",
       "</div>\n",
       "<div class=\"audienceSlides\" id=\"HRPractitioners\">\n",
       "<div class=\"audienceSlide audienceSlide1\">\n",
       "<h3><a href=\"https://www.opm.gov/policy-data-oversight/human-capital-management/\" title=\"Human Capital Management\">Human Capital</a></h3>\n",
       "Get the best from your agency's employees to deliver the highest quality products and services</div>\n",
       "<div class=\"audienceSlide audienceSlide2\">\n",
       "<h3><a href=\"https://www.opm.gov/policy-data-oversight/hiring-information/\" title=\"Hiring Authorities\">Hiring Authorities</a></h3>\n",
       "Hire the best workforce to support your agency's mission and goals using these hiring authorities</div>\n",
       "<div class=\"audienceSlide audienceSlide3\">\n",
       "<h3><a href=\"https://www.opm.gov/policy-data-oversight/classification-qualifications/\" title=\"Classification &amp; Qualifications\">Classification &amp; Quals</a></h3>\n",
       "Set the standards for recruiting and hiring Federal employees to build the best workforce for America</div>\n",
       "</div>\n",
       "<div class=\"audienceSlides\" id=\"JobSeekers\">\n",
       "<div class=\"audienceSlide audienceSlide1\">\n",
       "<h3><a href=\"http://www.usajobs.gov\">USAJOBS</a></h3>\n",
       "Advance your career by searching through the Federal Goverment's largest online jobs portal</div>\n",
       "<div class=\"audienceSlide audienceSlide2\">\n",
       "<h3><a href=\"https://www.usajobs.gov/StudentsAndGrads\">Students &amp; Grads</a></h3>\n",
       "Learn more about opportunities for students and new graduates to join the Federal Service</div>\n",
       "<div class=\"audienceSlide audienceSlide3\">\n",
       "<h3><a href=\"/FAQS/topic/employment/index.aspx?cid=5d9058d6-78fb-42a2-9d2a-9d14c22982f0\">Federal Hiring FAQs</a></h3>\n",
       "Find answers to your questions about applying to open positions in the Federal Service</div>\n",
       "</div>\n",
       "<div class=\"audienceSlides\" id=\"Disabilities\">\n",
       "<div class=\"audienceSlide audienceSlide1\">\n",
       "<h3><a href=\"https://www.opm.gov/policy-data-oversight/disability-employment/\" title=\"Disability Employment\">Hiring Authorities</a></h3>\n",
       "Find out how to get a job with the Schedule A appointing authority for people with disabilities</div>\n",
       "<div class=\"audienceSlide audienceSlide2\">\n",
       "<h3><a href=\"https://help.usajobs.gov/index.php/Individuals_with_Disabilities\">USAJOBS</a></h3>\n",
       "Advance your career with the Federal Government's largest online jobs portal for people with disabilities</div>\n",
       "<div class=\"audienceSlide audienceSlide3\">\n",
       "<h3><a href=\"https://www.opm.gov/policy-data-oversight/disability-employment/selective-placement-program-coordinator/\" title=\"Selective Placement Program Coordinator\">Program Coordinators</a></h3>\n",
       "Find Program Coordinators who help recruit, hire &amp; accommodate people with disabilities</div>\n",
       "</div>\n",
       "<div class=\"audienceSlides\" id=\"RetireesFamilies\">\n",
       "<div class=\"audienceSlide audienceSlide1\">\n",
       "<h3><a href=\"https://www.opm.gov/retirement-services/my-annuity-and-benefits/\" title=\"My Annuity and Benefits\">Annuity &amp; Benefits</a></h3>\n",
       "Map out your retirement benefits, discover how benefits are affected by life events, and more</div>\n",
       "<div class=\"audienceSlide audienceSlide2\">\n",
       "<h3><a href=\"https://www.servicesonline.opm.gov/\">Services Online</a></h3>\n",
       "<span>Manage your retirement online, update your personal information, sign up for direct deposit, and more</span></div>\n",
       "<div class=\"audienceSlide audienceSlide3\">\n",
       "<h3><a href=\"https://www.opm.gov/retirement-services/retirement-faqs/\" title=\"Retirement FAQs\">Retirement FAQs</a></h3>\n",
       "Find answers to your questions about retiring from a career in the Federal Service</div>\n",
       "</div>\n",
       "<div class=\"audienceSlides\" id=\"Veterans\">\n",
       "<div class=\"audienceSlide audienceSlide1\">\n",
       "<h3><a href=\"http://www.fedshirevets.gov\">Veterans</a></h3>\n",
       "Your single site for Federal Employment Information</div>\n",
       "<div class=\"audienceSlide audienceSlide2\">\n",
       "<h3><a href=\"https://www.opm.gov/policy-data-oversight/veterans-services/\" title=\"Veterans Services\">Veterans Services</a></h3>\n",
       "Learn more about governmentwide leadership to improve employment opportunities for veterans.</div>\n",
       "<div class=\"audienceSlide audienceSlide3\">\n",
       "<h3><a href=\"/FAQS/topic/veterans/index.aspx\">Veteran FAQs</a></h3>\n",
       "Find answers to your questions about Federal employment and veterans' preference</div>\n",
       "</div>\n",
       "</div>\n",
       "</div>\n",
       "<div id=\"HomepageLowerContainer\">\n",
       "<div id=\"MidBody_Container\">\n",
       "<div id=\"MidBody_Blog\"><h3>What's New <a class=\"rss_icon\" href=\"https://www.opm.gov/rss/whats-new/\"><img align=\"absmiddle\" alt=\"RSS Feed\" border=\"0\" height=\"14\" src=\"/img/global/rss_14_gray.gif\" width=\"14\"/></a></h3><div class=\"Blog_Entry\"><div class=\"Blog_Date\">Jan<span>04</span></div><div class=\"Blog_Title\"><a href=\"http://www.opm.gov/policy-data-oversight/snow-dismissal-procedures/status-archives/18/1/4/Open---2-hours-Delayed-Arrival---With-Option-for-Unscheduled-Leave-or-Unscheduled-Telework_748/\">January 4, 2018 Operating Status</a></div><p class=\"Blog_Text\">Federal agencies in the Washington, DC area are OPEN under 2 hours DELAYED ARRIVAL and employees have the OPTION FOR UNSCHEDULED LEAVE OR UNSCHEDULED TELEWORK. Employees should plan to arrive for work no more than 2 hours later than they would be expected to arrive.</p></div><div class=\"Blog_Entry\"><div class=\"Blog_Date\">Dec<span>20</span></div><div class=\"Blog_Title\"><a href=\" https://youtu.be/rsiaC8MRF9g\">Dismissal and Closure Operating Status Decision</a></div><p class=\"Blog_Text\">Learn how OPM and our local partners work together to determine an operating status change for the Federal Government in the Washington, DC area.</p></div><div class=\"Blog_Entry\"><div class=\"Blog_Date\">Dec<span>12</span></div><div class=\"Blog_Title\"><a href=\"https://www.opm.gov/news/releases/2017/12/news-opm-opens-cfc-for-retiree-giving/\">News: OPM opens CFC for retiree giving</a></div><p class=\"Blog_Text\">OPM has begun to solicit Federal and military retirees for the 2017 campaign.</p></div><div class=\"Blog_Entry\"><div class=\"Blog_Date\">Dec<span>06</span></div><div class=\"Blog_Title\"><a href=\"https://www.opm.gov/blogs/Director/2017/12/6/Open-Season-Quality-Comparison-Tool/\">Open Season Quality Comparison Tool</a></div><p class=\"Blog_Text\">Use OPM's Federal Employees Health Benefits (FEHB) Plan Comparison Tool to help you choose the right plan for you and your family.   </p></div><div class=\"Blog_Entry\"><div class=\"Blog_Date\">Nov<span>24</span></div><div class=\"Blog_Title\"><a href=\"https://www.opm.gov/blogs/Director/2017/11/24/OPM-Celebrates-Native-American-Heritage-Day/\">OPM Celebrates Native American Heritage Day</a></div><p class=\"Blog_Text\">OPM celebrates National Native American Heritage Day and recognizes the accomplishments of the people who were the original inhabitants, explorers and settlers of what eventually became the United States.  Native American Heritage Day is a civil holiday observed the day after Thanksgiving in the U.S.  </p></div><p class=\"more\"><a href=\"/news/whats-new/\">View Whatâs New Archives</a></p></div>\n",
       "<div id=\"MidBody_Links\">\n",
       "<div id=\"TopFAQsList\">\n",
       "<h3>Frequently Asked Questions</h3>\n",
       "<h4>Search FAQs</h4>\n",
       "<div class=\"FAQsSearch\">\n",
       "<input class=\"txtHomeFAQs\" id=\"TopFAQsSearchText\" type=\"text\"/><a class=\"btnHomeFAQs\" href=\"/FAQs/\" id=\"TopFAQsSearch\">Search</a>\n",
       "</div>\n",
       "<h4 class=\"FAQsList\">Top FAQs<a href=\"/FAQs/\">See all questions</a></h4>\n",
       "<ol class=\"FAQsList\" style=\"display:none\">\n",
       "<li id=\"FAQListItem\" style=\"display:none\">\n",
       "<h4><a href=\"\">Topic</a></h4>\n",
       "<p><a href=\"#\">Item</a></p>\n",
       "</li>\n",
       "</ol>\n",
       "</div>\n",
       "</div>\n",
       "</div>\n",
       "</div>\n",
       "<div id=\"MainContent_Container\">\n",
       "<div class=\"MainContent landingPageTemplate\" id=\"ContentPlaceHolderDefault_MainContentDiv\">\n",
       "<a name=\"content\"></a>\n",
       "</div><!-- MainContent -->\n",
       "</div><!-- MainContent_Container -->\n",
       "</div><!-- MainContent_Gutter -->\n",
       "<footer>\n",
       "<div class=\"Sitemap_Container\" id=\"ContentPlaceHolderDefault_SitemapNavigation\">\n",
       "<div class=\"opm\">\n",
       "<h3>U.S. Office of Personnel Management</h3>\n",
       "<p>1900 E Street, NW, Washington, DC 20415</p>\n",
       "<p>202-606-1800</p>\n",
       "<p><a class=\"Leaving Dark\" href=\"http://federalrelay.us/\">Federal Relay Service</a></p>\n",
       "</div>\n",
       "<ul class=\"GlobalLinksLeft\">\n",
       "<li><a href=\"/a-z-index/\">A - Z Index</a></li>\n",
       "<li><a href=\"/FAQs/\">FAQs</a></li>\n",
       "<li><a href=\"/forms/\">Forms</a></li>\n",
       "<li><a href=\"/news/reports-publications/\">Reports &amp; Publications</a></li>\n",
       "<li><a href=\"/combined-federal-campaign/\">Combined Federal Campaign</a></li>\n",
       "</ul>\n",
       "<ul class=\"GlobalLinksMiddle\">\n",
       "<li><a href=\"/sustainability/\">Sustainability</a></li>\n",
       "<li><a href=\"/recovery-act/\">Recovery Act</a></li>\n",
       "<li><a href=\"/information-management/freedom-of-information-act/\">FOIA</a></li>\n",
       "<li><a href=\"/information-management/\">Information Management</a></li>\n",
       "<li><a href=\"/information-management/no-fear-act/\">No Fear Act</a></li>\n",
       "<li><a href=\"/about-us/open-government/data/\">Open Data</a></li>\n",
       "</ul>\n",
       "<ul class=\"GlobalLinksRight\">\n",
       "<li><a href=\"/our-inspector-general/\">Inspector General</a></li>\n",
       "<li><a class=\"Leaving Dark\" href=\"https://www.oge.gov/\">Ethics</a></li>\n",
       "<li><a class=\"Leaving Dark\" href=\"http://www.usa.gov/\">USA.gov</a></li>\n",
       "<li><a class=\"Leaving Dark\" href=\"http://www.osc.gov\">Office of Special Counsel</a></li>\n",
       "<li><a href=\"/information-management/privacy-policy/\">Privacy Policy</a></li>\n",
       "</ul>\n",
       "<ul id=\"Sitemap\"><li class=\"about-us\"><a href=\"/about-us/\">About</a><ul><li class=\"\"><a href=\"/about-us/\">Our Agency</a></li>\n",
       "<li class=\"\"><a href=\"/about-us/our-director/\">Our Director</a></li>\n",
       "<li class=\"\"><a href=\"/about-us/our-inspector-general/\">Our Inspector General</a></li>\n",
       "<li class=\"\"><a href=\"/about-us/our-mission-role-history/\">Our Mission, Role &amp; History</a></li>\n",
       "<li class=\"\"><a href=\"/about-us/our-people-organization/\">Our People &amp; Organization</a></li>\n",
       "<li class=\"\"><a href=\"/about-us/careers-at-opm/\">Careers at OPM</a></li>\n",
       "<li class=\"\"><a href=\"/about-us/doing-business-with-opm/\">Doing Business with OPM</a></li>\n",
       "<li class=\"\"><a href=\"/about-us/budget-performance/\">Budget &amp; Performance</a></li>\n",
       "<li class=\"\"><a href=\"/about-us/open-government/\">Open Government</a></li>\n",
       "<li class=\"\"><a href=\"/about-us/get-help/\">Get Help</a></li>\n",
       "<li class=\"\"><a href=\"/about-us/contact-us/\">Contact Us</a></li>\n",
       "</ul>\n",
       "</li>\n",
       "<li class=\"policy\"><a href=\"/policy-data-oversight/\">Policy</a><ul><li class=\"\"><a href=\"/policy-data-oversight/assessment-and-selection/\">Assessment &amp; Selection</a></li>\n",
       "<li class=\"\"><a href=\"/policy-data-oversight/classification-qualifications/\">Classification &amp; Qualifications</a></li>\n",
       "<li class=\"\"><a href=\"/policy-data-oversight/data-analysis-documentation/\">Data, Analysis &amp; Documentation</a></li>\n",
       "<li class=\"\"><a href=\"/policy-data-oversight/disability-employment/\">Disability Employment</a></li>\n",
       "<li class=\"\"><a href=\"/policy-data-oversight/diversity-and-inclusion/\">Diversity &amp; Inclusion</a></li>\n",
       "<li class=\"\"><a href=\"/policy-data-oversight/employee-relations/\">Employee Relations</a></li>\n",
       "<li class=\"\"><a href=\"/policy-data-oversight/hiring-information/\">Hiring Information</a></li>\n",
       "<li class=\"\"><a href=\"/policy-data-oversight/human-capital-management/\">Human Capital Management</a></li>\n",
       "<li class=\"\"><a href=\"/policy-data-oversight/labor-management-relations/\">Labor-Management Relations</a></li>\n",
       "<li class=\"\"><a href=\"/policy-data-oversight/oversight-activities/\">Oversight Activities</a></li>\n",
       "<li class=\"\"><a href=\"/policy-data-oversight/pandemic-information/\">Pandemic Information</a></li>\n",
       "<li class=\"\"><a href=\"/policy-data-oversight/pay-leave/\">Pay &amp; Leave</a></li>\n",
       "<li class=\"\"><a href=\"/policy-data-oversight/performance-management/\">Performance Management</a></li>\n",
       "<li class=\"\"><a href=\"/policy-data-oversight/senior-executive-service/\">Senior Executive Service</a></li>\n",
       "<li class=\"\"><a href=\"/policy-data-oversight/settlement-guidelines/\">Settlement Guidelines</a></li>\n",
       "<li class=\"\"><a href=\"/policy-data-oversight/snow-dismissal-procedures/\">Snow &amp; Dismissal Procedures</a></li>\n",
       "<li class=\"\"><a href=\"/policy-data-oversight/training-and-development/\">Training &amp; Development</a></li>\n",
       "<li class=\"\"><a href=\"/policy-data-oversight/veterans-services/\">Veterans Services</a></li>\n",
       "<li class=\"\"><a href=\"/policy-data-oversight/worklife/\">Work-Life</a></li>\n",
       "<li class=\"\"><a href=\"/policy-data-oversight/workforce-restructuring/\">Workforce Restructuring</a></li>\n",
       "<li class=\"\"><a href=\"/policy-data-oversight/policy-faqs/\">Policy FAQs</a></li>\n",
       "<li class=\"\"><a href=\"/policy-data-oversight/contact-policymakers/\">Contact Policymakers</a></li>\n",
       "</ul>\n",
       "</li>\n",
       "<li class=\"insurance\"><a href=\"/healthcare-insurance/\">Insurance</a><ul><li class=\"\"><a href=\"/healthcare-insurance/life-events/\">Life Events</a></li>\n",
       "<li class=\"\"><a href=\"/healthcare-insurance/changes-in-health-coverage/\">Changes in Health Coverage</a></li>\n",
       "<li class=\"\"><a href=\"/healthcare-insurance/healthcare/\">Healthcare</a></li>\n",
       "<li class=\"\"><a href=\"/healthcare-insurance/dental-vision/\">Dental &amp; Vision</a></li>\n",
       "<li class=\"\"><a href=\"/healthcare-insurance/life-insurance/\">Life Insurance</a></li>\n",
       "<li class=\"\"><a href=\"/healthcare-insurance/flexible-spending-accounts/\">Flexible Spending Accounts</a></li>\n",
       "<li class=\"\"><a href=\"/healthcare-insurance/long-term-care/\">Long Term Care</a></li>\n",
       "<li class=\"\"><a href=\"/healthcare-insurance/multi-state-plan-program/\">Multi-State Plan Program</a></li>\n",
       "<li class=\"\"><a href=\"/healthcare-insurance/tribal-employers/\">Tribal Employers</a></li>\n",
       "<li class=\"\"><a href=\"/healthcare-insurance/special-initiatives/\">Special Initiatives</a></li>\n",
       "<li class=\"\"><a href=\"/healthcare-insurance/insurance-glossary/\">Insurance Glossary</a></li>\n",
       "<li class=\"\"><a href=\"/healthcare-insurance/insurance-faqs/\">Insurance FAQs</a></li>\n",
       "<li class=\"\"><a href=\"/healthcare-insurance/contact-healthcare-insurance/\">Contact Healthcare &amp; Insurance</a></li>\n",
       "<li class=\"\"><a href=\"/healthcare-insurance/affordable-care-act/\">The Affordable Care Act</a></li>\n",
       "</ul>\n",
       "</li>\n",
       "<li class=\"retirement\"><a href=\"/retirement-services/\">Retirement</a><ul><li class=\"\"><a href=\"/retirement-services/my-annuity-and-benefits/\">My Annuity and Benefits</a></li>\n",
       "<li class=\"\"><a href=\"/retirement-services/csrs-information/\">CSRS Information</a></li>\n",
       "<li class=\"\"><a href=\"/retirement-services/fers-information/\">FERS Information</a></li>\n",
       "<li class=\"\"><a href=\"/retirement-services/phased-retirement/\">Phased Retirement</a></li>\n",
       "<li class=\"\"><a href=\"/retirement-services/special-notices/\">Special Notices</a></li>\n",
       "<li class=\"\"><a href=\"/retirement-services/calculators/\">Calculators</a></li>\n",
       "<li class=\"\"><a href=\"/retirement-services/publications-forms/\">Publications &amp; Forms</a></li>\n",
       "<li class=\"\"><a href=\"/retirement-services/benefits-officers-center/\">Benefits Officers Center</a></li>\n",
       "<li class=\"\"><a href=\"/retirement-services/retirement-faqs/\">Retirement FAQs</a></li>\n",
       "<li class=\"\"><a href=\"/retirement-services/contact-retirement/\">Contact Retirement</a></li>\n",
       "</ul>\n",
       "</li>\n",
       "<li class=\"investigations\"><a href=\"/investigations/\">Investigations</a><ul><li class=\"\"><a href=\"/investigations/suitability-executive-agent/\">Suitability Executive Agent</a></li>\n",
       "<li class=\"\"><a href=\"/investigations/suitability-executive-agent/position-designation-tool/\">Position Designation Tool</a></li>\n",
       "<li class=\"\"><a href=\"/investigations/suitability-executive-agent/suitability-adjudications/\">Suitability Adjudications</a></li>\n",
       "<li class=\"\"><a href=\"/investigations/suitability-executive-agent/suitability-training/\">Suitability Training</a></li>\n",
       "<li class=\"\"><a href=\"/investigations/suitability-executive-agent/oversight/\">Oversight</a></li>\n",
       "<li class=\"\"><a href=\"/investigations/suitability-executive-agent/policy/\">Policy</a></li>\n",
       "<li class=\"\"><a href=\"/investigations/suitability-and-credentialing-faqs/\">Frequently Asked Questions</a></li>\n",
       "<li class=\"\"><a href=\"/investigations/contact-suitea/\">Contact SuitEA</a></li>\n",
       "</ul>\n",
       "</li>\n",
       "<li class=\"services\"><a href=\"/services-for-agencies/\">Agency Services</a><ul><li class=\"\"><a href=\"/services-for-agencies/classification-job-design/\">Classification &amp; Job Design</a></li>\n",
       "<li class=\"\"><a href=\"/services-for-agencies/workforce-restructuring/\">Workforce Restructuring</a></li>\n",
       "<li class=\"\"><a href=\"/services-for-agencies/workforce-succession-planning/\">Workforce &amp; Succession Planning</a></li>\n",
       "<li class=\"\"><a href=\"/services-for-agencies/recruiting-staffing-solutions/\">Recruiting &amp; Staffing Solutions</a></li>\n",
       "<li class=\"\"><a href=\"/services-for-agencies/assessment-evaluation/\">Assessment &amp; Evaluation</a></li>\n",
       "<li class=\"\"><a href=\"/services-for-agencies/federal-leadership-development-programs/\">Federal Leadership Programs</a></li>\n",
       "<li class=\"\"><a href=\"/services-for-agencies/center-for-leadership-development/\">Center For Leadership Development</a></li>\n",
       "<li class=\"\"><a href=\"/services-for-agencies/performance-management/\">Performance Management</a></li>\n",
       "<li class=\"\"><a href=\"/services-for-agencies/telework-solutions/\">Telework Solutions</a></li>\n",
       "<li class=\"\"><a href=\"/services-for-agencies/technology-systems/\">Technology Systems</a></li>\n",
       "<li class=\"\"><a href=\"/services-for-agencies/human-capital-consultants/\">Human Capital Consultants</a></li>\n",
       "<li class=\"\"><a href=\"/services-for-agencies/hr-line-of-business/\">Human Resources Line of Business</a></li>\n",
       "<li class=\"\"><a href=\"/services-for-agencies/administrative-law-judges/\">Administrative Law Judges</a></li>\n",
       "<li class=\"\"><a href=\"http://www.feb.gov\">Federal Executive Boards</a></li>\n",
       "<li class=\"\"><a href=\"/services-for-agencies/contact-agency-services/\">Contact Agency Services</a></li>\n",
       "</ul>\n",
       "</li>\n",
       "<li class=\"news\"><a href=\"/news/\">News</a><ul><li class=\"\"><a href=\"/news/latest-news/\">Latest News</a></li>\n",
       "<li class=\"\"><a href=\"/news/speeches-remarks/\">Speeches &amp; Remarks</a></li>\n",
       "<li class=\"\"><a href=\"http://www.chcoc.gov/transmittals/index.aspx\">Memos to Agencies</a></li>\n",
       "<li class=\"\"><a href=\"/news/testimony/\">Testimony</a></li>\n",
       "<li class=\"\"><a href=\"/news/legislative-proposals/\">Legislative Proposals</a></li>\n",
       "<li class=\"\"><a href=\"/news/reports-publications/\">Reports &amp; Publications</a></li>\n",
       "<li class=\"\"><a href=\"/news/social-media-presence/\">Social Media Presence</a></li>\n",
       "<li class=\"\"><a href=\"/news/feeds-blogs-and-lists/\">Feeds, Blogs &amp; Lists</a></li>\n",
       "<li class=\"\"><a href=\"http://archive.opm.gov\">Website Archive</a></li>\n",
       "</ul>\n",
       "</li>\n",
       "</ul></div><!-- Sitemap_Container -->\n",
       "</footer><!-- Footer -->\n",
       "<style type=\"text/css\">\n",
       "      \n",
       "\t\t\t\t  #ControlPanelTab {\n",
       "\t\t\t\t\t  padding: 10px;\n",
       "\t\t\t\t\t  width: 150px;\n",
       "\t\t\t\t\t  background: #e2e0e1;\n",
       "\t\t\t\t\t  border-bottom: 1px solid #d6d6d6;\n",
       "\t\t\t\t\t  z-index:10000;\n",
       "\t\t\t\t\t  display:none;\n",
       "\t\t\t\t  }      \n",
       "\t\t\t</style>\n",
       "<div id=\"ControlPanelTab\">\n",
       "<a class=\"cpTab\" href=\"#\">Control Panel</a>\n",
       "</div>\n",
       "<div id=\"PageBannerContainer\"></div>\n",
       "<script src=\"/js/standard.libs.js?v=20140810\" type=\"text/javascript\"></script>\n",
       "<script src=\"/js/standard.js?v=20170817\" type=\"text/javascript\"></script>\n",
       "<script src=\"/Banner/scripts/countdown.min.js?v=2\" type=\"text/javascript\"></script>\n",
       "<script src=\"/faqs/scripts/scripts.js\" type=\"text/javascript\"></script>\n",
       "<script src=\"/js/loadfaqs.js\" type=\"text/javascript\"></script>\n",
       "<script src=\"/js/core/webmethods.js\" type=\"text/javascript\"></script>\n",
       "<script></script>\n",
       "<script></script>\n",
       "<script language=\"javascript\" type=\"text/javascript\">\t\t\n",
       "\t\tfunction AlertItem(){}\n",
       "\n",
       "\t\tfunction AlertUser(){}\n",
       "\n",
       "\t\tif (typeof fireAlertItem != 'undefined' && fireAlertItem) {\n",
       "\t\t\tAlertItem();\n",
       "\t\t}\n",
       "</script>\n",
       "<script type=\"text/javascript\">\n",
       "preload(\"/img/home/audiences/hr_classifications.png\",\n",
       "            \"/img/home/audiences/hr_hiring.png\",\n",
       "            \"/img/home/audiences/hr_management.png\",\n",
       "            \"/img/home/audiences/jobseekers_faqs.png\",\n",
       "            \"/img/home/audiences/jobseekers_students.png\",\n",
       "            \"/img/home/audiences/jobseekers_usajobs.png\"\n",
       "    );\n",
       "</script>\n",
       "<div></div></form>\n",
       "<script type=\"text/javascript\">\n",
       "\t\tfunction sendEmail(encodedEmail) {\n",
       "\t\t\tvar email = '';\n",
       "\t\t\tfor (i = 0; i < encodedEmail.length;)\n",
       "\t\t\t{\n",
       "\t\t\t\tvar letter = encodedEmail.charAt(i) + encodedEmail.charAt(i + 1);\n",
       "\t\t\t\temail += String.fromCharCode(parseInt(letter, 16));\n",
       "\t\t\t\ti += 2;\n",
       "\t\t\t}\n",
       "\t\t\tlocation.href = email;\n",
       "\t\t}\n",
       "\t</script>\n",
       "</body>\n",
       "</html>\n",
       "<!--ns 1/4/2018 10:02:36 PM -->"
      ]
     },
     "execution_count": 33,
     "metadata": {},
     "output_type": "execute_result"
    }
   ],
   "source": [
    "# BeautifulSoup structures the text, removing unnecessary \n",
    "# newline \\n and tab \\t characters\n",
    "b"
   ]
  },
  {
   "cell_type": "markdown",
   "metadata": {},
   "source": [
    "### Example HTML\n",
    "\n",
    "Before we explore the full HMTL, let's work with some example HTML"
   ]
  },
  {
   "cell_type": "code",
   "execution_count": 34,
   "metadata": {
    "collapsed": true
   },
   "outputs": [],
   "source": [
    "example_html = \"\"\"\n",
    "    <!DOCTYPE html>\n",
    "    <html lang='en'>\n",
    "\n",
    "    <head>\n",
    "        <title>The ML Guild</title>\n",
    "    </head>\n",
    "\n",
    "    <body>\n",
    "        <h1 id='headline'>Machine Learning Guild Overview</h1>\n",
    "            <p class='description' >The ML guild provides rich learning \n",
    "            content around machine learning, including self-guided courses, \n",
    "            curriculum-based learning programs, and mentorship by more \n",
    "            advanced practitioners</p>\n",
    "        <h2>Courses</h2>\n",
    "\n",
    "        <p>Below are the ML Guild Tracks:</p>\n",
    "\n",
    "        <ul>\n",
    "            <li class='first'>Explorer</li>\n",
    "            <li class='second'>Apprentice</li>\n",
    "            <li class='third'>Master</li>\n",
    "        </ul>\n",
    "    </body>\n",
    "\n",
    "    </html>\n",
    "    \"\"\""
   ]
  },
  {
   "cell_type": "markdown",
   "metadata": {},
   "source": [
    "### Common BeautifulSoup Syntax\n",
    "\n",
    "#### Methods\n",
    "- find: find only the first specified html tag that meets a specified condition\n",
    "- find_all: find all html tags that meets a specified condition\n",
    "\n",
    "#### Parameters\n",
    "- attrs: dict of attributes (e.g. id, class) to filter relevant html\n",
    "\n",
    "#### Attributes\n",
    "- text: only view the text in the html (ignore the html itself) \n"
   ]
  },
  {
   "cell_type": "code",
   "execution_count": 35,
   "metadata": {
    "scrolled": true
   },
   "outputs": [
    {
     "data": {
      "text/plain": [
       "<!DOCTYPE html>\n",
       "<html lang=\"en\">\n",
       "<head>\n",
       "<title>The ML Guild</title>\n",
       "</head>\n",
       "<body>\n",
       "<h1 id=\"headline\">Machine Learning Guild Overview</h1>\n",
       "<p class=\"description\">The ML guild provides rich learning \n",
       "            content around machine learning, including self-guided courses, \n",
       "            curriculum-based learning programs, and mentorship by more \n",
       "            advanced practitioners</p>\n",
       "<h2>Courses</h2>\n",
       "<p>Below are the ML Guild Tracks:</p>\n",
       "<ul>\n",
       "<li class=\"first\">Explorer</li>\n",
       "<li class=\"second\">Apprentice</li>\n",
       "<li class=\"third\">Master</li>\n",
       "</ul>\n",
       "</body>\n",
       "</html>"
      ]
     },
     "execution_count": 35,
     "metadata": {},
     "output_type": "execute_result"
    }
   ],
   "source": [
    "# Beautiful Soup supports the HTML parser included in Python’s standard library, \n",
    "# but it also supports a number of third-party Python parsers. \n",
    "# One is the lxml parser, which is fast and lenient (i.e. it will not crash it the html is not formatted correctly)\n",
    "\n",
    "b = BeautifulSoup(example_html, 'lxml')\n",
    "b"
   ]
  },
  {
   "cell_type": "markdown",
   "metadata": {},
   "source": [
    "#### find"
   ]
  },
  {
   "cell_type": "code",
   "execution_count": 36,
   "metadata": {},
   "outputs": [
    {
     "data": {
      "text/plain": [
       "<title>The ML Guild</title>"
      ]
     },
     "execution_count": 36,
     "metadata": {},
     "output_type": "execute_result"
    }
   ],
   "source": [
    "b.find('title')"
   ]
  },
  {
   "cell_type": "code",
   "execution_count": 37,
   "metadata": {},
   "outputs": [
    {
     "data": {
      "text/plain": [
       "<h2>Courses</h2>"
      ]
     },
     "execution_count": 37,
     "metadata": {},
     "output_type": "execute_result"
    }
   ],
   "source": [
    "b.find('h2')"
   ]
  },
  {
   "cell_type": "markdown",
   "metadata": {},
   "source": [
    "#### text"
   ]
  },
  {
   "cell_type": "code",
   "execution_count": 38,
   "metadata": {},
   "outputs": [
    {
     "data": {
      "text/plain": [
       "'The ML Guild'"
      ]
     },
     "execution_count": 38,
     "metadata": {},
     "output_type": "execute_result"
    }
   ],
   "source": [
    "b.find('title').text"
   ]
  },
  {
   "cell_type": "code",
   "execution_count": 39,
   "metadata": {},
   "outputs": [
    {
     "data": {
      "text/plain": [
       "'Courses'"
      ]
     },
     "execution_count": 39,
     "metadata": {},
     "output_type": "execute_result"
    }
   ],
   "source": [
    "b.find('h2').text"
   ]
  },
  {
   "cell_type": "code",
   "execution_count": 40,
   "metadata": {},
   "outputs": [
    {
     "data": {
      "text/plain": [
       "'Explorer'"
      ]
     },
     "execution_count": 40,
     "metadata": {},
     "output_type": "execute_result"
    }
   ],
   "source": [
    "b.find('li').text"
   ]
  },
  {
   "cell_type": "markdown",
   "metadata": {},
   "source": [
    "#### find_all"
   ]
  },
  {
   "cell_type": "code",
   "execution_count": 41,
   "metadata": {},
   "outputs": [
    {
     "data": {
      "text/plain": [
       "[<li class=\"first\">Explorer</li>,\n",
       " <li class=\"second\">Apprentice</li>,\n",
       " <li class=\"third\">Master</li>]"
      ]
     },
     "execution_count": 41,
     "metadata": {},
     "output_type": "execute_result"
    }
   ],
   "source": [
    "# find_all\n",
    "b.find_all('li')"
   ]
  },
  {
   "cell_type": "code",
   "execution_count": 42,
   "metadata": {},
   "outputs": [
    {
     "name": "stdout",
     "output_type": "stream",
     "text": [
      "Explorer\n",
      "Apprentice\n",
      "Master\n"
     ]
    }
   ],
   "source": [
    "lists = b.find_all('li')\n",
    "for l in lists:\n",
    "    print(l.text)"
   ]
  },
  {
   "cell_type": "markdown",
   "metadata": {},
   "source": [
    "#### attrs"
   ]
  },
  {
   "cell_type": "code",
   "execution_count": 43,
   "metadata": {},
   "outputs": [
    {
     "data": {
      "text/plain": [
       "<h1 id=\"headline\">Machine Learning Guild Overview</h1>"
      ]
     },
     "execution_count": 43,
     "metadata": {},
     "output_type": "execute_result"
    }
   ],
   "source": [
    "b.find('h1', attrs={'id':'headline'})"
   ]
  },
  {
   "cell_type": "code",
   "execution_count": 44,
   "metadata": {},
   "outputs": [
    {
     "data": {
      "text/plain": [
       "<li class=\"first\">Explorer</li>"
      ]
     },
     "execution_count": 44,
     "metadata": {},
     "output_type": "execute_result"
    }
   ],
   "source": [
    "b.find('li', attrs={'class':'first'})"
   ]
  },
  {
   "cell_type": "code",
   "execution_count": 45,
   "metadata": {},
   "outputs": [
    {
     "data": {
      "text/plain": [
       "<li class=\"second\">Apprentice</li>"
      ]
     },
     "execution_count": 45,
     "metadata": {},
     "output_type": "execute_result"
    }
   ],
   "source": [
    "b.find('li', attrs={'class':'second'})"
   ]
  },
  {
   "cell_type": "markdown",
   "metadata": {},
   "source": [
    "### Exercise"
   ]
  },
  {
   "cell_type": "code",
   "execution_count": 46,
   "metadata": {},
   "outputs": [
    {
     "data": {
      "text/plain": [
       "'Master'"
      ]
     },
     "execution_count": 46,
     "metadata": {},
     "output_type": "execute_result"
    }
   ],
   "source": [
    "# Get the text (only) for the master class\n",
    "b.find('li', attrs={'class':'third'}).text"
   ]
  },
  {
   "cell_type": "code",
   "execution_count": 47,
   "metadata": {},
   "outputs": [
    {
     "name": "stdout",
     "output_type": "stream",
     "text": [
      "<p class=\"description\">The ML guild provides rich learning \n",
      "            content around machine learning, including self-guided courses, \n",
      "            curriculum-based learning programs, and mentorship by more \n",
      "            advanced practitioners</p>\n",
      "<p>Below are the ML Guild Tracks:</p>\n"
     ]
    }
   ],
   "source": [
    "# print the text (only) of all the paragraphs in a lists\n",
    "paragraphs = b.find_all('p')\n",
    "for p in paragraphs:\n",
    "    print(p)"
   ]
  },
  {
   "cell_type": "code",
   "execution_count": 48,
   "metadata": {},
   "outputs": [
    {
     "data": {
      "text/plain": [
       "<p class=\"description\">The ML guild provides rich learning \n",
       "            content around machine learning, including self-guided courses, \n",
       "            curriculum-based learning programs, and mentorship by more \n",
       "            advanced practitioners</p>"
      ]
     },
     "execution_count": 48,
     "metadata": {},
     "output_type": "execute_result"
    }
   ],
   "source": [
    "# print the paragraphs with the class description\n",
    "b.find('p', attrs={'class':'description'})"
   ]
  },
  {
   "cell_type": "markdown",
   "metadata": {},
   "source": [
    "### Robots.txt\n",
    "\n",
    "\"WWW Robots (also called wanderers or spiders) are programs that traverse many pages in the World Wide Web by recursively retrieving linked pages. For more information see the robots page.\n",
    "In 1993 and 1994 there have been occasions where robots have visited WWW servers where they weren't welcome for various reasons. Sometimes these reasons were robot specific, e.g. certain robots swamped servers with rapid-fire requests, or retrieved the same files repeatedly. In other situations robots traversed parts of WWW servers that weren't suitable, e.g. very deep virtual trees, duplicated information, temporary information, or cgi-scripts with side-effects (such as voting).\"\n",
    "\n",
    "SOURCE: http://www.robotstxt.org/orig.html"
   ]
  },
  {
   "cell_type": "code",
   "execution_count": 49,
   "metadata": {},
   "outputs": [
    {
     "data": {
      "text/html": [
       "<iframe src=http://www.robotstxt.org/orig.html width=1100 height=400></iframe>"
      ],
      "text/plain": [
       "<IPython.core.display.HTML object>"
      ]
     },
     "execution_count": 49,
     "metadata": {},
     "output_type": "execute_result"
    }
   ],
   "source": [
    "robots_url = 'http://www.robotstxt.org/orig.html'\n",
    "iframe = '<iframe src={} width=1100 height=400></iframe>'.format(robots_url)\n",
    "HTML(iframe)"
   ]
  },
  {
   "cell_type": "code",
   "execution_count": 50,
   "metadata": {},
   "outputs": [
    {
     "data": {
      "text/plain": [
       "False"
      ]
     },
     "execution_count": 50,
     "metadata": {},
     "output_type": "execute_result"
    }
   ],
   "source": [
    "from urllib import robotparser\n",
    " \n",
    "rp = robotparser.RobotFileParser()  # instantiate robotparser\n",
    "rp.set_url(\"https://www.facebook.com/robots.txt\")  # set the path to the robots.txt file\n",
    "rp.read()  # read the robots.txt file\n",
    "rp.can_fetch('*', \"https://www.facebook.com\")  # check if you are allowed to fetch a specific page"
   ]
  },
  {
   "cell_type": "code",
   "execution_count": 51,
   "metadata": {},
   "outputs": [
    {
     "data": {
      "text/plain": [
       "False"
      ]
     },
     "execution_count": 51,
     "metadata": {},
     "output_type": "execute_result"
    }
   ],
   "source": [
    "rp = robotparser.RobotFileParser()\n",
    "rp.set_url(\"https://www2.deloitte.com/robots.txt\")\n",
    "rp.read()\n",
    "rp.can_fetch('*', \"https://www2.deloitte.com/us/en.html\")"
   ]
  },
  {
   "cell_type": "code",
   "execution_count": 52,
   "metadata": {},
   "outputs": [
    {
     "data": {
      "text/plain": [
       "True"
      ]
     },
     "execution_count": 52,
     "metadata": {},
     "output_type": "execute_result"
    }
   ],
   "source": [
    "rp = robotparser.RobotFileParser()\n",
    "rp.set_url(\"http://www.annualreports.com/robots.txt\")\n",
    "rp.read()\n",
    "rp.can_fetch(\"*\", \"http://www.annualreports.com/Company/oracle-corporation\")"
   ]
  },
  {
   "cell_type": "code",
   "execution_count": 57,
   "metadata": {},
   "outputs": [
    {
     "data": {
      "text/plain": [
       "True"
      ]
     },
     "execution_count": 57,
     "metadata": {},
     "output_type": "execute_result"
    }
   ],
   "source": [
    "rp = robotparser.RobotFileParser()\n",
    "rp.set_url('https://www.opm.gov/robots.txt')\n",
    "rp.read()\n",
    "rp.can_fetch(\"*\", \"https://www.opm.gov\")"
   ]
  },
  {
   "cell_type": "markdown",
   "metadata": {},
   "source": [
    "### Extract blog posts from OPM.gov"
   ]
  },
  {
   "cell_type": "code",
   "execution_count": 58,
   "metadata": {},
   "outputs": [],
   "source": [
    "### REVIEW: GET OPM HTML\n",
    "\n",
    "# set a url for the OPM website homepage\n",
    "url = r'https://www.opm.gov/'\n",
    "\n",
    "# r is the common name for a requests instance\n",
    "r = requests.get(url)"
   ]
  },
  {
   "cell_type": "code",
   "execution_count": 59,
   "metadata": {
    "collapsed": true
   },
   "outputs": [],
   "source": [
    "# read in the html from deloitte\n",
    "b = BeautifulSoup(r.text, 'lxml')"
   ]
  },
  {
   "cell_type": "code",
   "execution_count": 64,
   "metadata": {},
   "outputs": [
    {
     "data": {
      "text/plain": [
       "<div class=\"Blog_Entry\"><div class=\"Blog_Date\">Jan<span>04</span></div><div class=\"Blog_Title\"><a href=\"http://www.opm.gov/policy-data-oversight/snow-dismissal-procedures/status-archives/18/1/4/Open---2-hours-Delayed-Arrival---With-Option-for-Unscheduled-Leave-or-Unscheduled-Telework_748/\">January 4, 2018 Operating Status</a></div><p class=\"Blog_Text\">Federal agencies in the Washington, DC area are OPEN under 2 hours DELAYED ARRIVAL and employees have the OPTION FOR UNSCHEDULED LEAVE OR UNSCHEDULED TELEWORK. Employees should plan to arrive for work no more than 2 hours later than they would be expected to arrive.</p></div>"
      ]
     },
     "execution_count": 64,
     "metadata": {},
     "output_type": "execute_result"
    }
   ],
   "source": [
    "# find the first blog post\n",
    "blog = b.find_all('div', attrs={'class':'Blog_Entry'})[0]\n",
    "blog"
   ]
  },
  {
   "cell_type": "code",
   "execution_count": 61,
   "metadata": {},
   "outputs": [
    {
     "data": {
      "text/plain": [
       "'January 4, 2018 Operating Status'"
      ]
     },
     "execution_count": 61,
     "metadata": {},
     "output_type": "execute_result"
    }
   ],
   "source": [
    "# get the blog Title\n",
    "blog.find('div', attrs={'class':'Blog_Title'}).text"
   ]
  },
  {
   "cell_type": "code",
   "execution_count": 62,
   "metadata": {},
   "outputs": [
    {
     "data": {
      "text/plain": [
       "'Jan04'"
      ]
     },
     "execution_count": 62,
     "metadata": {},
     "output_type": "execute_result"
    }
   ],
   "source": [
    "# get the date the blog was posted\n",
    "blog.find('div', attrs={'class':'Blog_Date'}).text"
   ]
  },
  {
   "cell_type": "code",
   "execution_count": 63,
   "metadata": {},
   "outputs": [
    {
     "data": {
      "text/plain": [
       "'Federal agencies in the Washington, DC area are OPEN under 2 hours DELAYED ARRIVAL and employees have the OPTION FOR UNSCHEDULED LEAVE OR UNSCHEDULED TELEWORK. Employees should plan to arrive for work no more than 2 hours later than they would be expected to arrive.'"
      ]
     },
     "execution_count": 63,
     "metadata": {},
     "output_type": "execute_result"
    }
   ],
   "source": [
    "# get the blog text\n",
    "blog.find('p', attrs={'class':'Blog_Text'}).text"
   ]
  },
  {
   "cell_type": "code",
   "execution_count": 72,
   "metadata": {},
   "outputs": [],
   "source": [
    "# store all the bog posts\n",
    "blogs = b.find_all('div', attrs={'class':'Blog_Entry'})"
   ]
  },
  {
   "cell_type": "markdown",
   "metadata": {},
   "source": [
    "### Store Data\n",
    "\n",
    "We will use a common python data stucture (e.g. list or dict) to store the data for later use. \n",
    "\n",
    "Below is a common data collection pattern:\n",
    "- A. set an empty data structure to store data\n",
    "- B. iterate through an existing data set container\n",
    "- C. extract selected pieces of information, disregard the rest of the data\n",
    "- D. add the selected information to the created data structure\n",
    "- E. view results"
   ]
  },
  {
   "cell_type": "code",
   "execution_count": 73,
   "metadata": {},
   "outputs": [
    {
     "data": {
      "text/plain": [
       "['January 4, 2018 Operating Status',\n",
       " 'Dismissal and Closure Operating Status Decision',\n",
       " 'News: OPM opens CFC for retiree giving',\n",
       " 'Open Season Quality Comparison Tool',\n",
       " 'OPM Celebrates Native American Heritage Day']"
      ]
     },
     "execution_count": 73,
     "metadata": {},
     "output_type": "execute_result"
    }
   ],
   "source": [
    "all_headlines = []  # A \n",
    "\n",
    "for blog in blogs: # B\n",
    "    headline = blog.find('div', attrs={'class':'Blog_Title'}).text   # C\n",
    "    all_headlines.append(headline)  # D\n",
    "\n",
    "all_headlines  # E"
   ]
  },
  {
   "cell_type": "markdown",
   "metadata": {},
   "source": [
    "### Collect ZIP URLS from OPM.gov"
   ]
  },
  {
   "cell_type": "code",
   "execution_count": 80,
   "metadata": {},
   "outputs": [],
   "source": [
    "url = r'https://www.opm.gov/data/Index.aspx?tag=FedScope'\n",
    "r = requests.get(url)\n",
    "b = BeautifulSoup(r.text, 'lxml')"
   ]
  },
  {
   "cell_type": "code",
   "execution_count": 103,
   "metadata": {},
   "outputs": [],
   "source": [
    "# find the html for the table of files (HINT: look for the class DataTable)\n",
    "data_table = b.find('table', attrs={'class':'DataTable'})"
   ]
  },
  {
   "cell_type": "code",
   "execution_count": 136,
   "metadata": {},
   "outputs": [
    {
     "data": {
      "text/plain": [
       "<tr>\n",
       "<td valign=\"top\">FedScope Employment Cube (September 2017)</td>\n",
       "<td valign=\"top\">\n",
       "<a href=\"/Data/Files/522/192e937d-555f-42d2-8837-eb322cabafb0.pdf\"><img alt=\"Data Dictionary\" border=\"0\" src=\"/img/global/icoPDF.gif\"/></a>\n",
       "<span class=\"FileSize\">[310.54 KB]</span>\n",
       "</td>\n",
       "<td>\n",
       "<span>\n",
       "<a href=\"/Data/Files/522/7a0bf199-6c16-4131-92d1-485b18f7878a.zip\"><img alt=\"Download File\" border=\"0\" src=\"/img/global/icoZip.gif\"/></a>\n",
       "<span class=\"FileSize\">[20.74 MB]</span>\n",
       "</span>\n",
       "</td>\n",
       "<td valign=\"top\">\n",
       "\t\t\t\t\t\tWebsite: <a href=\"https://www.fedscope.opm.gov/\">www.fedscope.opm.gov</a><br/>\n",
       "\t\t\t\t\t\tEmail: <a href=\"mailto:FedScope@opm.gov\">FedScope@opm.gov</a><br/>\n",
       "</td>\n",
       "<td>\n",
       "\t\t\t\t\t\tfedscope\n",
       "\t\t\t\t\t</td>\n",
       "<td>10/26/2017</td>\n",
       "</tr>"
      ]
     },
     "execution_count": 136,
     "metadata": {},
     "output_type": "execute_result"
    }
   ],
   "source": [
    "# find the html for the first row of files (HINT: make sure to skip the table headers)\n",
    "row = data_table.find_all('tr')[1]\n",
    "row"
   ]
  },
  {
   "cell_type": "code",
   "execution_count": 139,
   "metadata": {},
   "outputs": [
    {
     "data": {
      "text/plain": [
       "'FedScope Employment Cube (September 2017)'"
      ]
     },
     "execution_count": 139,
     "metadata": {},
     "output_type": "execute_result"
    }
   ],
   "source": [
    "# find the 'td' element with the file name\n",
    "filename = row.find('td').text\n",
    "filename"
   ]
  },
  {
   "cell_type": "code",
   "execution_count": 100,
   "metadata": {},
   "outputs": [
    {
     "data": {
      "text/plain": [
       "<td>\n",
       "<span>\n",
       "<a href=\"/Data/Files/522/7a0bf199-6c16-4131-92d1-485b18f7878a.zip\"><img alt=\"Download File\" border=\"0\" src=\"/img/global/icoZip.gif\"/></a>\n",
       "<span class=\"FileSize\">[20.74 MB]</span>\n",
       "</span>\n",
       "</td>"
      ]
     },
     "execution_count": 100,
     "metadata": {},
     "output_type": "execute_result"
    }
   ],
   "source": [
    "# find the 'td' element with the .zip link (HINT: look for 'a href')\n",
    "url = data_table.find_all('td')[2]\n",
    "url"
   ]
  },
  {
   "cell_type": "code",
   "execution_count": 101,
   "metadata": {},
   "outputs": [
    {
     "data": {
      "text/plain": [
       "'/Data/Files/522/7a0bf199-6c16-4131-92d1-485b18f7878a.zip'"
      ]
     },
     "execution_count": 101,
     "metadata": {},
     "output_type": "execute_result"
    }
   ],
   "source": [
    "# get the zip url\n",
    "url.find('a')['href']"
   ]
  },
  {
   "cell_type": "code",
   "execution_count": 141,
   "metadata": {},
   "outputs": [
    {
     "data": {
      "text/plain": [
       "'https://www.opm.gov/Data/Files/77/25455df4-0c25-49f3-a460-147b3aa596c8.zip'"
      ]
     },
     "execution_count": 141,
     "metadata": {},
     "output_type": "execute_result"
    }
   ],
   "source": [
    "# add the base url\n",
    "BASE_URL = r'https://www.opm.gov'\n",
    "url = ''.join([BASE_URL, url_end])\n",
    "url"
   ]
  },
  {
   "cell_type": "code",
   "execution_count": 142,
   "metadata": {},
   "outputs": [
    {
     "ename": "ZeroDivisionError",
     "evalue": "division by zero",
     "output_type": "error",
     "traceback": [
      "\u001b[1;31m---------------------------------------------------------------------------\u001b[0m",
      "\u001b[1;31mZeroDivisionError\u001b[0m                         Traceback (most recent call last)",
      "\u001b[1;32m<ipython-input-142-6d82b9952977>\u001b[0m in \u001b[0;36m<module>\u001b[1;34m()\u001b[0m\n\u001b[0;32m      1\u001b[0m \u001b[1;31m# Exception Handling\u001b[0m\u001b[1;33m\u001b[0m\u001b[1;33m\u001b[0m\u001b[0m\n\u001b[1;32m----> 2\u001b[1;33m \u001b[1;36m0\u001b[0m\u001b[1;33m/\u001b[0m\u001b[1;36m0\u001b[0m\u001b[1;33m\u001b[0m\u001b[0m\n\u001b[0m",
      "\u001b[1;31mZeroDivisionError\u001b[0m: division by zero"
     ]
    }
   ],
   "source": [
    "# Exception Handling\n",
    "0/0"
   ]
  },
  {
   "cell_type": "code",
   "execution_count": 144,
   "metadata": {},
   "outputs": [
    {
     "name": "stdout",
     "output_type": "stream",
     "text": [
      "successfully caught error\n"
     ]
    }
   ],
   "source": [
    "### Try - Except to handle expected errors\n",
    "try:\n",
    "   0/0\n",
    "except ZeroDivisionError:\n",
    "    print('successfully caught error')"
   ]
  },
  {
   "cell_type": "markdown",
   "metadata": {},
   "source": [
    "#### Exercise\n",
    "\n",
    "Combine the above code to collect all the zip urls in a list then in a dict"
   ]
  },
  {
   "cell_type": "code",
   "execution_count": 146,
   "metadata": {},
   "outputs": [
    {
     "data": {
      "text/plain": [
       "['https://www.opm.gov/Data/Files/522/7a0bf199-6c16-4131-92d1-485b18f7878a.zip',\n",
       " 'https://www.opm.gov/Data/Files/519/cb894d2e-de0b-4635-88ac-37f471544fff.zip',\n",
       " 'https://www.opm.gov/Data/Files/494/1dda0280-390b-4c86-9484-14278783ffdc.zip',\n",
       " 'https://www.opm.gov/Data/Files/493/297ed5db-f314-4d3a-802f-f45231e9e062.zip',\n",
       " 'https://www.opm.gov/Data/Files/492/5467c9a4-8cc7-430e-a96d-59078b440d43.zip']"
      ]
     },
     "execution_count": 146,
     "metadata": {},
     "output_type": "execute_result"
    }
   ],
   "source": [
    "# Identify, extract, and store all zip urls\n",
    "# store them in a list called zip_urls\n",
    "\n",
    "BASE_URL = r'https://www.opm.gov'\n",
    "zip_urls = []\n",
    "data_table = b.find('table', attrs={'class':'DataTable'}) # skip table headers\n",
    "\n",
    "for row in data_table.find_all('tr')[1:]:\n",
    "    cells = row.find_all('td')\n",
    "    \n",
    "    try:        \n",
    "        url_end = cells[2].find('a')['href']\n",
    "        url = ''.join([BASE_URL, url_end])\n",
    "        zip_urls.append(url)\n",
    "    except TypeError:\n",
    "        continue\n",
    "\n",
    "zip_urls[0:5]"
   ]
  },
  {
   "cell_type": "code",
   "execution_count": 135,
   "metadata": {},
   "outputs": [
    {
     "data": {
      "text/plain": [
       "{'FedScope Accessions Cube (Fiscal Year 2016)': 'https://www.opm.gov/Data/Files/492/5467c9a4-8cc7-430e-a96d-59078b440d43.zip',\n",
       " 'FedScope Employment Cube (December 2009)': 'https://www.opm.gov/Data/Files/181/6e6d2997-5e31-48f9-8723-db439c48e3af.zip',\n",
       " 'FedScope Employment Cube (December 2010)': 'https://www.opm.gov/Data/Files/169/ecf4b47c-0f1a-4f8d-9b06-b352e041eefa.zip',\n",
       " 'FedScope Employment Cube (December 2011)': 'https://www.opm.gov/Data/Files/234/76933192-00c0-4359-967f-da301c699121.zip',\n",
       " 'FedScope Employment Cube (December 2012)': 'https://www.opm.gov/Data/Files/318/9095712a-b161-4fff-8208-086b75cd1b2c.zip',\n",
       " 'FedScope Employment Cube (December 2013)': 'https://www.opm.gov/Data/Files/340/9fb31e2e-3cec-4be4-927c-66c765fe17da.zip',\n",
       " 'FedScope Employment Cube (December 2014)': 'https://www.opm.gov/Data/Files/397/123a2080-61a4-4dd6-9715-ace27eb4709d.zip',\n",
       " 'FedScope Employment Cube (December 2015)': 'https://www.opm.gov/Data/Files/422/944a9e54-69b5-4b74-8395-4f6eca37e650.zip',\n",
       " 'FedScope Employment Cube (December 2016)': 'https://www.opm.gov/Data/Files/491/17cace4b-452f-46c7-9274-fb7e16b67a81.zip',\n",
       " 'FedScope Employment Cube (June 2010)': 'https://www.opm.gov/Data/Files/175/fa31ae93-1b79-4ca0-b7d1-d1d66ab4b3db.zip',\n",
       " 'FedScope Employment Cube (June 2011)': 'https://www.opm.gov/Data/Files/238/05f11d11-b73c-4689-8037-f5077eca2ac4.zip',\n",
       " 'FedScope Employment Cube (June 2012)': 'https://www.opm.gov/Data/Files/252/6c13aaba-ce20-4aef-8306-f70a2e0c2cb8.zip',\n",
       " 'FedScope Employment Cube (June 2013)': 'https://www.opm.gov/Data/Files/324/0b0ee7f0-4be0-4438-a591-51faab72da0e.zip',\n",
       " 'FedScope Employment Cube (June 2014)': 'https://www.opm.gov/Data/Files/371/80051878-b8d4-4065-93cb-ab9c89f0b0eb.zip',\n",
       " 'FedScope Employment Cube (June 2015)': 'https://www.opm.gov/Data/Files/410/c65725bf-f3de-4e7d-8d0f-3af49e527670.zip',\n",
       " 'FedScope Employment Cube (June 2016)': 'https://www.opm.gov/Data/Files/489/13994571-5b95-4532-9faa-1e4a3bdbae19.zip',\n",
       " 'FedScope Employment Cube (June 2017)': 'https://www.opm.gov/Data/Files/519/cb894d2e-de0b-4635-88ac-37f471544fff.zip',\n",
       " 'FedScope Employment Cube (March 2010)': 'https://www.opm.gov/Data/Files/178/2a8f51c9-c0ba-4349-8c3d-055074b8794d.zip',\n",
       " 'FedScope Employment Cube (March 2011)': 'https://www.opm.gov/Data/Files/241/2c0379b4-74d4-4a14-a4a5-37591d2b9c5f.zip',\n",
       " 'FedScope Employment Cube (March 2012)': 'https://www.opm.gov/Data/Files/251/f7b6a1bf-8289-4538-a389-6d5aaa242e14.zip',\n",
       " 'FedScope Employment Cube (March 2013)': 'https://www.opm.gov/Data/Files/321/52eda196-c039-43cb-a0c0-00c530814df6.zip',\n",
       " 'FedScope Employment Cube (March 2014)': 'https://www.opm.gov/Data/Files/347/452c9a73-81d1-4ee1-a4b1-9b8bdc528b02.zip',\n",
       " 'FedScope Employment Cube (March 2015)': 'https://www.opm.gov/Data/Files/400/69b1781a-c3d3-4e91-a463-c7c9010fa763.zip',\n",
       " 'FedScope Employment Cube (March 2016)': 'https://www.opm.gov/Data/Files/425/fdb8db0d-ce56-4966-9572-9692e6e0fa5e.zip',\n",
       " 'FedScope Employment Cube (March 2017)': 'https://www.opm.gov/Data/Files/494/1dda0280-390b-4c86-9484-14278783ffdc.zip',\n",
       " 'FedScope Employment Cube (September 1998)': 'https://www.opm.gov/Data/Files/77/25455df4-0c25-49f3-a460-147b3aa596c8.zip',\n",
       " 'FedScope Employment Cube (September 1999)': 'https://www.opm.gov/Data/Files/74/70967261-28e6-4598-ad8a-69f0f6b04532.zip',\n",
       " 'FedScope Employment Cube (September 2000)': 'https://www.opm.gov/Data/Files/71/f74f444b-b84b-4a75-b7d5-83726b80a320.zip',\n",
       " 'FedScope Employment Cube (September 2001)': 'https://www.opm.gov/Data/Files/68/22fb81c4-51bb-4309-a9e5-de7fc891d299.zip',\n",
       " 'FedScope Employment Cube (September 2002)': 'https://www.opm.gov/Data/Files/65/a5e33b42-51aa-41f0-8d1c-0dcde6c6ff2a.zip',\n",
       " 'FedScope Employment Cube (September 2003)': 'https://www.opm.gov/Data/Files/62/ecdd5c00-aeda-45ff-bd74-975714ee10a6.zip',\n",
       " 'FedScope Employment Cube (September 2004)': 'https://www.opm.gov/Data/Files/59/b5c2a4f7-5ac5-44f7-bd3c-0f2cfb000e21.zip',\n",
       " 'FedScope Employment Cube (September 2005)': 'https://www.opm.gov/Data/Files/56/f00a1a8f-d865-4214-8051-049f66d322be.zip',\n",
       " 'FedScope Employment Cube (September 2006)': 'https://www.opm.gov/Data/Files/53/b9945224-54e1-45e3-9780-b6b36b845b4b.zip',\n",
       " 'FedScope Employment Cube (September 2007)': 'https://www.opm.gov/Data/Files/50/7b7655fd-b4d0-4e15-9e97-33956b8aca09.zip',\n",
       " 'FedScope Employment Cube (September 2008)': 'https://www.opm.gov/Data/Files/38/3653d805-eb0a-4e70-b96d-39b7c58347f0.zip',\n",
       " 'FedScope Employment Cube (September 2009)': 'https://www.opm.gov/Data/Files/26/f0a8eef6-a0b5-4015-a2f4-6597f1ca3ae7.zip',\n",
       " 'FedScope Employment Cube (September 2010)': 'https://www.opm.gov/Data/Files/172/c21d50d7-9b48-432c-a03e-96d5fb93f5fa.zip',\n",
       " 'FedScope Employment Cube (September 2011)': 'https://www.opm.gov/Data/Files/235/caac291b-001d-4568-a8be-96215c319fd4.zip',\n",
       " 'FedScope Employment Cube (September 2012)': 'https://www.opm.gov/Data/Files/253/5a21ef01-11d7-4a87-bcee-0b8c063e19fc.zip',\n",
       " 'FedScope Employment Cube (September 2013)': 'https://www.opm.gov/Data/Files/331/55974d49-94f0-43e7-acf3-77bf864e802a.zip',\n",
       " 'FedScope Employment Cube (September 2014)': 'https://www.opm.gov/Data/Files/381/f5e03461-5674-4fbe-8538-10a77e7a2739.zip',\n",
       " 'FedScope Employment Cube (September 2015)': 'https://www.opm.gov/Data/Files/413/de1dd3f7-0c39-46ab-a1c6-848be284358b.zip',\n",
       " 'FedScope Employment Cube (September 2016)': 'https://www.opm.gov/Data/Files/490/ae0351fd-58d1-47d5-b1aa-2ca3bf977d30.zip',\n",
       " 'FedScope Employment Cube (September 2017)': 'https://www.opm.gov/Data/Files/522/7a0bf199-6c16-4131-92d1-485b18f7878a.zip',\n",
       " 'FedScope Separations Cube (Fiscal Year 2016)': 'https://www.opm.gov/Data/Files/493/297ed5db-f314-4d3a-802f-f45231e9e062.zip'}"
      ]
     },
     "execution_count": 135,
     "metadata": {},
     "output_type": "execute_result"
    }
   ],
   "source": [
    "# Identify, extract, and store all filenames and zip urls\n",
    "# store them in a dict called zip_urls\n",
    "\n",
    "BASE_URL = r'https://www.opm.gov'\n",
    "zip_urls = {}\n",
    "data_table = b.find('table', attrs={'class':'DataTable'})\n",
    "\n",
    "for row in data_table.find_all('tr')[1:]:\n",
    "    cells = row.find_all('td')\n",
    "\n",
    "    try:        \n",
    "        filename = cells[0].text\n",
    "        url_end = cells[2].find('a')['href']\n",
    "        url = ''.join([BASE_URL, url_end])\n",
    "        zip_urls[filename] = url\n",
    "    except TypeError:\n",
    "        continue\n",
    "\n",
    "zip_urls"
   ]
  }
 ],
 "metadata": {
  "kernelspec": {
   "display_name": "Python 3",
   "language": "python",
   "name": "python3"
  },
  "language_info": {
   "codemirror_mode": {
    "name": "ipython",
    "version": 3
   },
   "file_extension": ".py",
   "mimetype": "text/x-python",
   "name": "python",
   "nbconvert_exporter": "python",
   "pygments_lexer": "ipython3",
   "version": "3.6.3"
  }
 },
 "nbformat": 4,
 "nbformat_minor": 2
}
