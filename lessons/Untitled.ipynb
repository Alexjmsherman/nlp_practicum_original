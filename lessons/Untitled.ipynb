{
 "cells": [
  {
   "cell_type": "code",
   "execution_count": 46,
   "metadata": {
    "collapsed": true
   },
   "outputs": [],
   "source": [
    "# -*- coding: utf-8 -*-\n",
    "\"\"\"\n",
    "Created on Thu Apr 26 23:31:38 2018\n",
    "\n",
    "@author: alsherman\n",
    "\"\"\"\n",
    "\n",
    "from TwitterAPI import TwitterAPI\n",
    "\n",
    "consumer_key = 'xEU8VrsiDidxowYulOBMvfRu1'\n",
    "consumer_secret = 'jHMPJ87sxxUkO8WJiPcby8582X0ShZzT5vYzbaOaq6CgjCoMer'\n",
    "access_token_key = '218401227-0hj2RyXwfaA7fIRP3ZjjxtauUeUg3GmQHiKALSGT'\n",
    "access_token_secret = 'IBmvNwSjwybu5U7L6e8SG6FtYmh79uNAcmCi698lGWe4U'\n",
    "\n",
    "api = TwitterAPI(consumer_key, consumer_secret, access_token_key, access_token_secret)"
   ]
  },
  {
   "cell_type": "code",
   "execution_count": 80,
   "metadata": {
    "collapsed": true
   },
   "outputs": [],
   "source": [
    "import json\n",
    "import boto3\n",
    "import boto3\n",
    "import json\n",
    "from datetime import datetime\n",
    "import calendar\n",
    "import random\n",
    "import time"
   ]
  },
  {
   "cell_type": "code",
   "execution_count": 48,
   "metadata": {},
   "outputs": [
    {
     "name": "stdout",
     "output_type": "stream",
     "text": [
      "{'created_at': 'Fri Apr 27 04:49:43 +0000 2018', 'id': 989728275642572801, 'id_str': '989728275642572801', 'text': 'RT @NFL: Welcome to the NFL!\\n\\nClass is in session, rookies. #NFLDraft https://t.co/DKDFFkCHMg', 'truncated': False, 'entities': {'hashtags': [{'text': 'NFLDraft', 'indices': [60, 69]}], 'symbols': [], 'user_mentions': [{'screen_name': 'NFL', 'name': 'NFL', 'id': 19426551, 'id_str': '19426551', 'indices': [3, 7]}], 'urls': [], 'media': [{'id': 989719519718293509, 'id_str': '989719519718293509', 'indices': [70, 93], 'media_url': 'http://pbs.twimg.com/media/DbwwqNAUQAU0evN.jpg', 'media_url_https': 'https://pbs.twimg.com/media/DbwwqNAUQAU0evN.jpg', 'url': 'https://t.co/DKDFFkCHMg', 'display_url': 'pic.twitter.com/DKDFFkCHMg', 'expanded_url': 'https://twitter.com/NFL/status/989719845284425730/photo/1', 'type': 'photo', 'sizes': {'thumb': {'w': 150, 'h': 150, 'resize': 'crop'}, 'small': {'w': 680, 'h': 680, 'resize': 'fit'}, 'medium': {'w': 1200, 'h': 1200, 'resize': 'fit'}, 'large': {'w': 1200, 'h': 1200, 'resize': 'fit'}}, 'source_status_id': 989719845284425730, 'source_status_id_str': '989719845284425730', 'source_user_id': 19426551, 'source_user_id_str': '19426551'}]}, 'extended_entities': {'media': [{'id': 989719519718293509, 'id_str': '989719519718293509', 'indices': [70, 93], 'media_url': 'http://pbs.twimg.com/media/DbwwqNAUQAU0evN.jpg', 'media_url_https': 'https://pbs.twimg.com/media/DbwwqNAUQAU0evN.jpg', 'url': 'https://t.co/DKDFFkCHMg', 'display_url': 'pic.twitter.com/DKDFFkCHMg', 'expanded_url': 'https://twitter.com/NFL/status/989719845284425730/photo/1', 'type': 'photo', 'sizes': {'thumb': {'w': 150, 'h': 150, 'resize': 'crop'}, 'small': {'w': 680, 'h': 680, 'resize': 'fit'}, 'medium': {'w': 1200, 'h': 1200, 'resize': 'fit'}, 'large': {'w': 1200, 'h': 1200, 'resize': 'fit'}}, 'source_status_id': 989719845284425730, 'source_status_id_str': '989719845284425730', 'source_user_id': 19426551, 'source_user_id_str': '19426551'}]}, 'metadata': {'iso_language_code': 'en', 'result_type': 'recent'}, 'source': '<a href=\"http://twitter.com/download/iphone\" rel=\"nofollow\">Twitter for iPhone</a>', 'in_reply_to_status_id': None, 'in_reply_to_status_id_str': None, 'in_reply_to_user_id': None, 'in_reply_to_user_id_str': None, 'in_reply_to_screen_name': None, 'user': {'id': 2403513117, 'id_str': '2403513117', 'name': '$', 'screen_name': 'DSwank_', 'location': 'Da Trenchez.', 'description': 'SKI 🌎 $B4L', 'url': 'https://t.co/lHwns8FEW0', 'entities': {'url': {'urls': [{'url': 'https://t.co/lHwns8FEW0', 'expanded_url': 'https://soundcloud.com/sbswank/the-race-freestyle-ft-justo-freetayk', 'display_url': 'soundcloud.com/sbswank/the-ra…', 'indices': [0, 23]}]}, 'description': {'urls': []}}, 'protected': False, 'followers_count': 2557, 'friends_count': 161, 'listed_count': 2, 'created_at': 'Wed Mar 12 00:39:07 +0000 2014', 'favourites_count': 2268, 'utc_offset': None, 'time_zone': None, 'geo_enabled': True, 'verified': False, 'statuses_count': 11600, 'lang': 'en', 'contributors_enabled': False, 'is_translator': False, 'is_translation_enabled': False, 'profile_background_color': '3B94D9', 'profile_background_image_url': 'http://pbs.twimg.com/profile_background_images/610814827028697088/b9wRk_AS.jpg', 'profile_background_image_url_https': 'https://pbs.twimg.com/profile_background_images/610814827028697088/b9wRk_AS.jpg', 'profile_background_tile': True, 'profile_image_url': 'http://pbs.twimg.com/profile_images/984633411850657792/NfO6JBeB_normal.jpg', 'profile_image_url_https': 'https://pbs.twimg.com/profile_images/984633411850657792/NfO6JBeB_normal.jpg', 'profile_banner_url': 'https://pbs.twimg.com/profile_banners/2403513117/1523589846', 'profile_link_color': '3B94D9', 'profile_sidebar_border_color': '000000', 'profile_sidebar_fill_color': 'DDEEF6', 'profile_text_color': '333333', 'profile_use_background_image': True, 'has_extended_profile': True, 'default_profile': False, 'default_profile_image': False, 'following': False, 'follow_request_sent': False, 'notifications': False, 'translator_type': 'none'}, 'geo': None, 'coordinates': None, 'place': None, 'contributors': None, 'retweeted_status': {'created_at': 'Fri Apr 27 04:16:13 +0000 2018', 'id': 989719845284425730, 'id_str': '989719845284425730', 'text': 'Welcome to the NFL!\\n\\nClass is in session, rookies. #NFLDraft https://t.co/DKDFFkCHMg', 'truncated': False, 'entities': {'hashtags': [{'text': 'NFLDraft', 'indices': [51, 60]}], 'symbols': [], 'user_mentions': [], 'urls': [], 'media': [{'id': 989719519718293509, 'id_str': '989719519718293509', 'indices': [61, 84], 'media_url': 'http://pbs.twimg.com/media/DbwwqNAUQAU0evN.jpg', 'media_url_https': 'https://pbs.twimg.com/media/DbwwqNAUQAU0evN.jpg', 'url': 'https://t.co/DKDFFkCHMg', 'display_url': 'pic.twitter.com/DKDFFkCHMg', 'expanded_url': 'https://twitter.com/NFL/status/989719845284425730/photo/1', 'type': 'photo', 'sizes': {'thumb': {'w': 150, 'h': 150, 'resize': 'crop'}, 'small': {'w': 680, 'h': 680, 'resize': 'fit'}, 'medium': {'w': 1200, 'h': 1200, 'resize': 'fit'}, 'large': {'w': 1200, 'h': 1200, 'resize': 'fit'}}}]}, 'extended_entities': {'media': [{'id': 989719519718293509, 'id_str': '989719519718293509', 'indices': [61, 84], 'media_url': 'http://pbs.twimg.com/media/DbwwqNAUQAU0evN.jpg', 'media_url_https': 'https://pbs.twimg.com/media/DbwwqNAUQAU0evN.jpg', 'url': 'https://t.co/DKDFFkCHMg', 'display_url': 'pic.twitter.com/DKDFFkCHMg', 'expanded_url': 'https://twitter.com/NFL/status/989719845284425730/photo/1', 'type': 'photo', 'sizes': {'thumb': {'w': 150, 'h': 150, 'resize': 'crop'}, 'small': {'w': 680, 'h': 680, 'resize': 'fit'}, 'medium': {'w': 1200, 'h': 1200, 'resize': 'fit'}, 'large': {'w': 1200, 'h': 1200, 'resize': 'fit'}}}]}, 'metadata': {'iso_language_code': 'en', 'result_type': 'recent'}, 'source': '<a href=\"http://twitter.com\" rel=\"nofollow\">Twitter Web Client</a>', 'in_reply_to_status_id': None, 'in_reply_to_status_id_str': None, 'in_reply_to_user_id': None, 'in_reply_to_user_id_str': None, 'in_reply_to_screen_name': None, 'user': {'id': 19426551, 'id_str': '19426551', 'name': 'NFL', 'screen_name': 'NFL', 'location': '', 'description': 'Official Twitter account of the National Football League. Our Social Media Policy: https://t.co/EyuKeW3SvK', 'url': 'https://t.co/DyIWthkowB', 'entities': {'url': {'urls': [{'url': 'https://t.co/DyIWthkowB', 'expanded_url': 'https://www.nfl.com', 'display_url': 'nfl.com', 'indices': [0, 23]}]}, 'description': {'urls': [{'url': 'https://t.co/EyuKeW3SvK', 'expanded_url': 'http://on.nfl.com/ZNKG9n', 'display_url': 'on.nfl.com/ZNKG9n', 'indices': [83, 106]}]}}, 'protected': False, 'followers_count': 24662407, 'friends_count': 2561, 'listed_count': 47891, 'created_at': 'Sat Jan 24 01:28:06 +0000 2009', 'favourites_count': 1257, 'utc_offset': -14400, 'time_zone': 'Eastern Time (US & Canada)', 'geo_enabled': True, 'verified': True, 'statuses_count': 166719, 'lang': 'en', 'contributors_enabled': False, 'is_translator': False, 'is_translation_enabled': False, 'profile_background_color': 'FFFFFF', 'profile_background_image_url': 'http://pbs.twimg.com/profile_background_images/783952246/66e217ec60a9c3c977295fb8b7ae1601.jpeg', 'profile_background_image_url_https': 'https://pbs.twimg.com/profile_background_images/783952246/66e217ec60a9c3c977295fb8b7ae1601.jpeg', 'profile_background_tile': False, 'profile_image_url': 'http://pbs.twimg.com/profile_images/971061480497041416/bib7cPuh_normal.jpg', 'profile_image_url_https': 'https://pbs.twimg.com/profile_images/971061480497041416/bib7cPuh_normal.jpg', 'profile_banner_url': 'https://pbs.twimg.com/profile_banners/19426551/1524255550', 'profile_link_color': '0084B4', 'profile_sidebar_border_color': 'FFFFFF', 'profile_sidebar_fill_color': 'DDEEF6', 'profile_text_color': '333333', 'profile_use_background_image': True, 'has_extended_profile': False, 'default_profile': False, 'default_profile_image': False, 'following': False, 'follow_request_sent': False, 'notifications': False, 'translator_type': 'regular'}, 'geo': None, 'coordinates': None, 'place': None, 'contributors': None, 'is_quote_status': False, 'retweet_count': 1152, 'favorite_count': 3364, 'favorited': False, 'retweeted': False, 'possibly_sensitive': False, 'lang': 'en'}, 'is_quote_status': False, 'retweet_count': 1152, 'favorite_count': 0, 'favorited': False, 'retweeted': False, 'possibly_sensitive': False, 'lang': 'en'}\n"
     ]
    }
   ],
   "source": [
    "r = api.request('search/tweets', {'q':'NFLDraft'})\n",
    "for item in r:\n",
    "    print(item)\n",
    "    break"
   ]
  },
  {
   "cell_type": "code",
   "execution_count": 52,
   "metadata": {},
   "outputs": [
    {
     "data": {
      "text/plain": [
       "'Fri Apr 27 04:49:43 +0000 2018'"
      ]
     },
     "execution_count": 52,
     "metadata": {},
     "output_type": "execute_result"
    }
   ],
   "source": []
  },
  {
   "cell_type": "code",
   "execution_count": 16,
   "metadata": {
    "collapsed": true
   },
   "outputs": [],
   "source": [
    "## create a table to store twitter hashtags in DynamoDB\n",
    "dynamodb = boto3.resource('dynamodb')\n",
    "\n",
    "table = dynamodb.create_table(\n",
    "    TableName='hashtags',\n",
    "    KeySchema=[\n",
    "        {\n",
    "            'AttributeName': 'hashtag',\n",
    "            'KeyType': 'HASH'\n",
    "        }\n",
    "    ],\n",
    "    AttributeDefinitions=[\n",
    "        {\n",
    "            'AttributeName': 'hashtag',\n",
    "            'AttributeType': 'S'\n",
    "        }\n",
    "    ],\n",
    "    # pricing determined by ProvisionedThroughput\n",
    "    ProvisionedThroughput={\n",
    "        'ReadCapacityUnits': 5,\n",
    "        'WriteCapacityUnits': 5\n",
    "    }\n",
    ")\n",
    "table.meta.client.get_waiter('table_exists').wait(TableName='hashtags')"
   ]
  },
  {
   "cell_type": "code",
   "execution_count": 43,
   "metadata": {
    "collapsed": true
   },
   "outputs": [],
   "source": [
    "dynamodb = boto3.resource('dynamodb')\n",
    "table = dynamodb.Table('hashtags')\n",
    "client = boto3.client('kinesis')"
   ]
  },
  {
   "cell_type": "code",
   "execution_count": 92,
   "metadata": {},
   "outputs": [
    {
     "name": "stdout",
     "output_type": "stream",
     "text": [
      "['_PY_TO_OP_NAME', '__class__', '__delattr__', '__dict__', '__dir__', '__doc__', '__eq__', '__format__', '__ge__', '__getattr__', '__getattribute__', '__gt__', '__hash__', '__init__', '__init_subclass__', '__le__', '__lt__', '__module__', '__ne__', '__new__', '__reduce__', '__reduce_ex__', '__repr__', '__setattr__', '__sizeof__', '__str__', '__subclasshook__', '__weakref__', '_cache', '_client_config', '_convert_to_request_dict', '_emit_api_params', '_endpoint', '_exceptions', '_exceptions_factory', '_get_waiter_config', '_load_exceptions', '_loader', '_make_api_call', '_register_handlers', '_request_signer', '_response_parser', '_serializer', '_service_model', 'add_tags_to_stream', 'can_paginate', 'create_stream', 'decrease_stream_retention_period', 'delete_stream', 'describe_limits', 'describe_stream', 'describe_stream_summary', 'disable_enhanced_monitoring', 'enable_enhanced_monitoring', 'exceptions', 'generate_presigned_url', 'get_paginator', 'get_records', 'get_shard_iterator', 'get_waiter', 'increase_stream_retention_period', 'list_streams', 'list_tags_for_stream', 'merge_shards', 'meta', 'put_record', 'put_records', 'remove_tags_from_stream', 'split_shard', 'start_stream_encryption', 'stop_stream_encryption', 'update_shard_count', 'waiter_names']\n"
     ]
    }
   ],
   "source": [
    "print(dir(client))"
   ]
  },
  {
   "cell_type": "code",
   "execution_count": 93,
   "metadata": {},
   "outputs": [],
   "source": [
    "#response = client.create_stream(\n",
    "#   StreamName='twitter',\n",
    "#   ShardCount=1\n",
    "#)"
   ]
  },
  {
   "cell_type": "code",
   "execution_count": 95,
   "metadata": {},
   "outputs": [
    {
     "data": {
      "text/plain": [
       "{'ResponseMetadata': {'HTTPHeaders': {'content-length': '549',\n",
       "   'content-type': 'application/x-amz-json-1.1',\n",
       "   'date': 'Fri, 27 Apr 2018 05:26:53 GMT',\n",
       "   'server': 'Apache-Coyote/1.1',\n",
       "   'x-amz-id-2': 'YY48TwbuqQGFweZxE8bOZ3hWpXxhN4uKjojajdiayuewS6W6Gu0d+xDCSwX8oNwP6TxR6xWwHsFpUCVIBTeZ2Jkb4yeV8/DH2rjKlz8cjPw=',\n",
       "   'x-amzn-requestid': 'cd13312e-516d-a576-9e4f-87f367538244'},\n",
       "  'HTTPStatusCode': 200,\n",
       "  'RequestId': 'cd13312e-516d-a576-9e4f-87f367538244',\n",
       "  'RetryAttempts': 0},\n",
       " 'StreamDescription': {'EncryptionType': 'NONE',\n",
       "  'EnhancedMonitoring': [{'ShardLevelMetrics': []}],\n",
       "  'HasMoreShards': False,\n",
       "  'RetentionPeriodHours': 24,\n",
       "  'Shards': [{'HashKeyRange': {'EndingHashKey': '340282366920938463463374607431768211455',\n",
       "     'StartingHashKey': '0'},\n",
       "    'SequenceNumberRange': {'StartingSequenceNumber': '49583924914938245978286907913744182185606558507432148994'},\n",
       "    'ShardId': 'shardId-000000000000'}],\n",
       "  'StreamARN': 'arn:aws:kinesis:us-east-1:923344594760:stream/twitter',\n",
       "  'StreamCreationTimestamp': datetime.datetime(2018, 4, 27, 0, 10, 8, tzinfo=tzlocal()),\n",
       "  'StreamName': 'twitter',\n",
       "  'StreamStatus': 'ACTIVE'}}"
      ]
     },
     "execution_count": 95,
     "metadata": {},
     "output_type": "execute_result"
    }
   ],
   "source": [
    "client.describe_stream(StreamName='twitter')"
   ]
  },
  {
   "cell_type": "code",
   "execution_count": 100,
   "metadata": {},
   "outputs": [],
   "source": [
    "def put_to_stream(thing_id, property_value, property_timestamp):\n",
    "    payload = {\n",
    "        'ShardId': 'shardId-000000000000',\n",
    "        'timestamp': str(property_timestamp),\n",
    "        'thing_id': thing_id\n",
    "    }\n",
    "\n",
    "    print(payload)\n",
    "\n",
    "    put_response = client.put_record(\n",
    "        StreamName='twitter',\n",
    "        Data=json.dumps(payload),\n",
    "        PartitionKey=thing_id\n",
    "    )"
   ]
  },
  {
   "cell_type": "code",
   "execution_count": 101,
   "metadata": {},
   "outputs": [
    {
     "name": "stdout",
     "output_type": "stream",
     "text": [
      "{'ShardId': 'shardId-000000000000', 'timestamp': '1524807259', 'thing_id': 'aa-bb'}\n"
     ]
    }
   ],
   "source": [
    "property_value = random.randint(40, 120)\n",
    "property_timestamp = calendar.timegm(datetime.utcnow().timetuple())\n",
    "thing_id = 'aa-bb'\n",
    "put_to_stream(thing_id, property_value, property_timestamp)\n",
    "\n",
    "#kinesis = boto3.client('kinesis')\n",
    "#r = api.request('search/tweets', {'q':'NFLDraft'})\n",
    "#for ind, item in enumerate(r):\n",
    "#    put_to_stream(\n",
    "#          thing_id='filler'\n",
    "#        , property_timestamp=item['created_at']\n",
    "#        , property_value=item['text']\n",
    "#    )\n",
    "#    break"
   ]
  },
  {
   "cell_type": "code",
   "execution_count": 84,
   "metadata": {},
   "outputs": [
    {
     "data": {
      "text/plain": [
       "'shardId-000000000000'"
      ]
     },
     "execution_count": 84,
     "metadata": {},
     "output_type": "execute_result"
    }
   ],
   "source": [
    "response = client.describe_stream(StreamName='twitter')\n",
    "my_shard_id = response['StreamDescription']['Shards'][0]['ShardId']\n",
    "my_shard_id"
   ]
  },
  {
   "cell_type": "code",
   "execution_count": 102,
   "metadata": {
    "collapsed": true
   },
   "outputs": [],
   "source": [
    "shard_it = client.get_shard_iterator(\n",
    "    StreamName='twitter',\n",
    "    ShardId=my_shard_id,\n",
    "    ShardIteratorType='LATEST'\n",
    ")['ShardIterator']"
   ]
  },
  {
   "cell_type": "code",
   "execution_count": 103,
   "metadata": {},
   "outputs": [
    {
     "name": "stdout",
     "output_type": "stream",
     "text": [
      "{'Records': [], 'NextShardIterator': 'AAAAAAAAAAGNatnXQSbhBOJxSeFmmwehBM8Ew2wuvsngeRcxQ4luMkDYx8bPOtgiz+adsW9p2MFEMX3S5b2L2Ffo7QD/7EGMOqyyCOOGBiBUV6qVpveiOE7tEOTMGZPpXByBRbi5H8+7qL8MBS2RGkQYY/GPgTEZxBb7Ckq6u+4/7EDjyHv8JEHT4yor2DuI1qZmsT6CViAesIkIeshej0nKEIeT+Me1', 'MillisBehindLatest': 0, 'ResponseMetadata': {'RequestId': 'f4f22e85-6ff3-4229-a7ae-9f552d209e8e', 'HTTPStatusCode': 200, 'HTTPHeaders': {'server': 'Apache-Coyote/1.1', 'x-amzn-requestid': 'f4f22e85-6ff3-4229-a7ae-9f552d209e8e', 'x-amz-id-2': 'EKwJAyKRFSmmupY5mEB5iAU7ZHhDxnA/y+2jcvrCYl7vRahwIo58e+sjkYyaoLlOvgdVFrO1WOH5RkDkA9bxzYnDmEUduwBQ', 'content-type': 'application/x-amz-json-1.1', 'content-length': '284', 'date': 'Fri, 27 Apr 2018 05:05:20 GMT'}, 'RetryAttempts': 0}}\n"
     ]
    }
   ],
   "source": [
    "record_response = client.get_records(\n",
    "    ShardIterator=shard_it,\n",
    "    Limit=2\n",
    ")\n",
    "shard_it = out[\"NextShardIterator\"]\n",
    "print(out)"
   ]
  },
  {
   "cell_type": "code",
   "execution_count": 89,
   "metadata": {},
   "outputs": [
    {
     "name": "stdout",
     "output_type": "stream",
     "text": [
      "{'Records': [], 'NextShardIterator': 'AAAAAAAAAAF+pi1I2sL9wHiheyaHVVDu9UbElgQ0dDCxkCueyo3MYojRI+bzb/+7UHfKxM89nkQp18hp+PNY0zbRYZ4vMN9GrLy36R2IX2l4SvMcjVxm32vXCDdPSTgY4XmQfOT6VHglfas2jhkBBH5joeHPvlgmDhfYAFWECEZz/VN4tfYL0h7EiFL6PlPC+GOGAluQZzr4zO/oLQHpAhE+jMTOj1fb', 'MillisBehindLatest': 0, 'ResponseMetadata': {'RequestId': 'f54dac24-838e-7907-a611-1895eea17435', 'HTTPStatusCode': 200, 'HTTPHeaders': {'server': 'Apache-Coyote/1.1', 'x-amzn-requestid': 'f54dac24-838e-7907-a611-1895eea17435', 'x-amz-id-2': 'kSplAs90gqkcc9GnCuy7uaW1+AV1EY9tvWYKCzWFkaHkFcSSUMflLIrEkcNgip70amS3oNrnhZI0pYTZnSFzHsWVeAPlXBZZP6nRr9aT+JU=', 'content-type': 'application/x-amz-json-1.1', 'content-length': '284', 'date': 'Fri, 27 Apr 2018 05:17:37 GMT'}, 'RetryAttempts': 0}}\n",
      "{'Records': [], 'NextShardIterator': 'AAAAAAAAAAGtU+hqhTrxtTYws78zucfAYShVkHyKPXh6853LVZ2isF5n+IjSEtZSDKkDkKZsQ45g/k/zWc4CUbIrQTs1ZNkgAyX1bjmQ5i3zKQkPBkdWAsrUjm0IXAk8BZPyyaLorlu0xl71LIoP6m8IomxJtjkrDyMhwwwzWzjg7Ckr9zUDCRz+u5nOTorfIUYxO/aYykOM04rUoBxF3MvIAtFxgOia', 'MillisBehindLatest': 0, 'ResponseMetadata': {'RequestId': 'c926f209-cd21-1bc0-9a7a-46b8a00e16f2', 'HTTPStatusCode': 200, 'HTTPHeaders': {'server': 'Apache-Coyote/1.1', 'x-amzn-requestid': 'c926f209-cd21-1bc0-9a7a-46b8a00e16f2', 'x-amz-id-2': 'hCKoiSdBsfmwtpCixkgj40yBDo5WeAFLp6tefZF5mhrzKhCX9LUlaOnMgVxjU8rQSThfHz/i8EIluA43xmfjS3JTQ0pzKcJHHk0T78F3tMA=', 'content-type': 'application/x-amz-json-1.1', 'content-length': '284', 'date': 'Fri, 27 Apr 2018 05:17:37 GMT'}, 'RetryAttempts': 0}}\n",
      "{'Records': [], 'NextShardIterator': 'AAAAAAAAAAFn/42PTY3OHV8ZlULBCab5eVeyFA1lBpc5qT5E1QkL9u1JPxfvT7VQ/X1gMkAIxyFmeY425hncCq6Bg2muo07nI1jJlKEmw6TC6LCVlaJEppZgune8SDU5p9lHcgqugfixx+/rX5mhyY11FnmKC5my2z0SWsU3X3zodXyYSnBbrVvXtBcGpFZOwWPzGMuQXrEB2S20t8a4NHLSNnjIaZs0', 'MillisBehindLatest': 0, 'ResponseMetadata': {'RequestId': 'e50e422c-8bbc-f9a2-b652-f69de693f490', 'HTTPStatusCode': 200, 'HTTPHeaders': {'server': 'Apache-Coyote/1.1', 'x-amzn-requestid': 'e50e422c-8bbc-f9a2-b652-f69de693f490', 'x-amz-id-2': 'dV4CGHNQLApJZgL0CP9ZkGCJ/XXlYNNYwCcE/vnUMp+KkFtFoIkJ0Wm3hSwbdwtCts8yD5n7EFtfpZUX4pkbMTE+N34SQn73i9ZHaPp7b3k=', 'content-type': 'application/x-amz-json-1.1', 'content-length': '284', 'date': 'Fri, 27 Apr 2018 05:17:37 GMT'}, 'RetryAttempts': 0}}\n",
      "{'Records': [], 'NextShardIterator': 'AAAAAAAAAAFM6rxvqjCxMtY6mR9W+/FDOs0Rya4SyZsVIUnaeWGUvrp26P4p3GDbK4egHvn5o0GZcJidBmsK/Hd+VD/Sy/tRlyXVh4huqZI9c6DX0SsuNmjZzuWo8KjUMvT4zHlXSchCwNhV1ULYqkFiCv2Xnq03VA/owhcteTu+EA9pGZE6MyJTeXy6PCEEK6ZaDrcMU2yM/X6KbLm/fY1DqLSh6Oup', 'MillisBehindLatest': 0, 'ResponseMetadata': {'RequestId': 'e6fb6fd2-765c-5380-b5a7-db631b735eb2', 'HTTPStatusCode': 200, 'HTTPHeaders': {'server': 'Apache-Coyote/1.1', 'x-amzn-requestid': 'e6fb6fd2-765c-5380-b5a7-db631b735eb2', 'x-amz-id-2': 'U7D467ctgF5IqHAqCv6FJenQdA8nKYSZyGkcqRWO80S3Kcwws2ueOxSnwHbPWXF/QyGqq6U0wxhcB+C4KEGUWhGFKBcDEpn03YIXrQzwS74=', 'content-type': 'application/x-amz-json-1.1', 'content-length': '284', 'date': 'Fri, 27 Apr 2018 05:17:37 GMT'}, 'RetryAttempts': 0}}\n",
      "{'Records': [], 'NextShardIterator': 'AAAAAAAAAAELeUZmPzvDgyBZUV9truK3AcGInhoZA5ha6Hsn+JvAbXVWTnbLnsRj7U2Vs8GmXw+QB/ktZ63xQdEcimuAoiyittPl3voVfm3dlIV/6RpqA6fVu2Ta6OpTH7Jq3mZP9bkdhdrYGxEYafABWCjj2b9BmA/OYSDOkRF1IowMFtOnHFvGGD3kB+QkH1SP6Lb+YxzFh1MC2Ctm+aOmng5YhKpA', 'MillisBehindLatest': 0, 'ResponseMetadata': {'RequestId': 'c367629c-8bc6-82cb-903b-d62de6e98ff9', 'HTTPStatusCode': 200, 'HTTPHeaders': {'server': 'Apache-Coyote/1.1', 'x-amzn-requestid': 'c367629c-8bc6-82cb-903b-d62de6e98ff9', 'x-amz-id-2': 'diDEgWXmbRstMmtkS2mXG8+b2FlvglmzImykdx2yThzoxWsxD7SPhH2EF6RjkMNubruihIg1YMDksHdViZBkM7lJ4Mm7lW5oKNQKr3ySb04=', 'content-type': 'application/x-amz-json-1.1', 'content-length': '284', 'date': 'Fri, 27 Apr 2018 05:17:37 GMT'}, 'RetryAttempts': 0}}\n",
      "{'Records': [], 'NextShardIterator': 'AAAAAAAAAAEo9r11ygl7SyIf59OPCXn9m/ZIWc3tmcCH+VvZhYC/HCViMayhHiiLUK0oZ/BYF84tOXj0e7DQtL7qkEPs2PdelUj49xPKhYKnjV9hdw41ZMq5r9rz+Y9Wxql2m0oV9o6z9rBTzc+GSuI7nK0Q4ZttO1OI7dsXyYEzckGt5WGYEtkjp6GEf9HwqS02xxgQAmJ8GwD4EwW2MId6KbDueJfz', 'MillisBehindLatest': 0, 'ResponseMetadata': {'RequestId': 'ddba22d7-260e-62a1-8ee6-96664b216f93', 'HTTPStatusCode': 200, 'HTTPHeaders': {'server': 'Apache-Coyote/1.1', 'x-amzn-requestid': 'ddba22d7-260e-62a1-8ee6-96664b216f93', 'x-amz-id-2': 'p9pCIRPLniuFVVQbdfSSYwPwy6hsorRam3fNyOQAZgt8ersb7zfnRYZdfh9+bsIl2NQjheIoKaYfxqjwKx/As40q/sbUje5V+HAgOUgaOZA=', 'content-type': 'application/x-amz-json-1.1', 'content-length': '284', 'date': 'Fri, 27 Apr 2018 05:17:37 GMT'}, 'RetryAttempts': 0}}\n",
      "{'Records': [], 'NextShardIterator': 'AAAAAAAAAAEzZdO6ecnvCmh/q2TDFsI/HPtXIqNX45ouk/K+rkODhiqK+1b7TFG9qzYxKLsQaw4qZbogqnsIm1w1+s/LON8Wm0w8E6tL4DSxEzhc0kxVLTaESh1yRqM3zRAl1l9oDVChalMIw8450BbD1oif04hK26NVgo2TBAHMHNZhH/PgkvkV49p+f0anXrLa54j1JatGQAsn/NJ1/tH5KPlwVF/R', 'MillisBehindLatest': 0, 'ResponseMetadata': {'RequestId': 'eb11bc80-c226-beed-b84d-0831af09b3df', 'HTTPStatusCode': 200, 'HTTPHeaders': {'server': 'Apache-Coyote/1.1', 'x-amzn-requestid': 'eb11bc80-c226-beed-b84d-0831af09b3df', 'x-amz-id-2': 'I3xTVX0FaX+EbUXQHPc2elSytEZul2LuoixOuu9lAf22A83WPahZWLizpDU572TqlBV5AyV1pl3dzuRwz5vm8DylFsRmRlKOP67Xn0j5fFU=', 'content-type': 'application/x-amz-json-1.1', 'content-length': '284', 'date': 'Fri, 27 Apr 2018 05:17:37 GMT'}, 'RetryAttempts': 0}}\n",
      "{'Records': [], 'NextShardIterator': 'AAAAAAAAAAFfvn+KWC035KzMFAKzQJx+A2WhMPLLd6a6TKo04dj0yTKTs3VOSC7IYEpNq+7Uax4Rpak7qAYIpu8PTBgpyOyY/xZ1BN9toxCBsDlDCFerDNKsbCrLIYsFzax9Uq4PWoa8mSkjQ5Du5u8U9wEBc1D8aapnpCMuAs8mzK7Dgr5vz+uQ3Bk/VuN7xmohI2QeZEfB4RzqBtBl32EqMxwDVSV+', 'MillisBehindLatest': 0, 'ResponseMetadata': {'RequestId': 'fb8d77d7-c953-6260-a8d1-c366a47c6f52', 'HTTPStatusCode': 200, 'HTTPHeaders': {'server': 'Apache-Coyote/1.1', 'x-amzn-requestid': 'fb8d77d7-c953-6260-a8d1-c366a47c6f52', 'x-amz-id-2': '4AeWh9Ko3ZXKjKm021KynFcvu8e4HFq8urzHVgCmIUOAA4ucXccnigw4OgWGnpZ6VWSXxdKcVCikFkJctmmHbxYGpei45yILYuqpK4spGrg=', 'content-type': 'application/x-amz-json-1.1', 'content-length': '284', 'date': 'Fri, 27 Apr 2018 05:17:37 GMT'}, 'RetryAttempts': 0}}\n",
      "{'Records': [], 'NextShardIterator': 'AAAAAAAAAAEnLLjV/l1r8wjDkqqU9oDR0eLK4BGvUxjmVXb5c5NSFBFIk+aBZdf+XBVML1bkZ2NiJ1h0JZ/gr++vJv33C9ZniDIexyEAuBoWJSS73ghCm+XG90yIaMOiAHYmsbcw3dp+V2x6j/m9xa7+ceh4q217p646310IdPQT2r3Nv44uGUbO+w1AAyEvP0YhSxzQ9xfuQBTPVTIa8PPJAXPnMp7t', 'MillisBehindLatest': 0, 'ResponseMetadata': {'RequestId': 'cb1a3f31-8238-628f-9846-8b80ef176fbd', 'HTTPStatusCode': 200, 'HTTPHeaders': {'server': 'Apache-Coyote/1.1', 'x-amzn-requestid': 'cb1a3f31-8238-628f-9846-8b80ef176fbd', 'x-amz-id-2': 'EqiLyB7oVt6Pf9AK6aNPRYqHdZaLxakVNAa80S7zDd9yUwYxGjrK+UcgYhsGOdT6eTcDjYp5K61A4LaSGVQjIVZCwN5TKuMOYiAFypf8jEs=', 'content-type': 'application/x-amz-json-1.1', 'content-length': '284', 'date': 'Fri, 27 Apr 2018 05:17:37 GMT'}, 'RetryAttempts': 0}}\n",
      "{'Records': [], 'NextShardIterator': 'AAAAAAAAAAG0XCrzpVsGKoiGfXiC8bea8WA+jdtADJrtXxLU17gAvDW9rLJK9cHSek+KlFlN2DosvHajzWyHM7neofchqui5CY+1DkCSiHzsspOKzrhL+oySMIQjmw2wRTx+1ZULjfDkSOYdLN9Bw/bCt8l1jKbjwNwPO3Dqv6028/pbWR4Nqei9JeegVgUi1GzoIeEd9AOOXUcMp4dvtbr5tshfYH4G', 'MillisBehindLatest': 0, 'ResponseMetadata': {'RequestId': 'f5cc35c5-e512-bcf0-a690-8174883db1c2', 'HTTPStatusCode': 200, 'HTTPHeaders': {'server': 'Apache-Coyote/1.1', 'x-amzn-requestid': 'f5cc35c5-e512-bcf0-a690-8174883db1c2', 'x-amz-id-2': 'VlxE6gUQtNf4oIClrz0DJ27KO8HGE/JCWD28eiCrr4O0oFCM3jM2R4akin/mno7sKhVJKN57vWElZPKN3nN+OAy7QNLXTH0sDWLYUjUBFEI=', 'content-type': 'application/x-amz-json-1.1', 'content-length': '284', 'date': 'Fri, 27 Apr 2018 05:17:37 GMT'}, 'RetryAttempts': 0}}\n",
      "{'Records': [], 'NextShardIterator': 'AAAAAAAAAAGKh9clwkHT58gv9YwezXUR+5fIAc13ti2Z/ALLnyct83Ib9WSRpG3qszCw//Ydu0gScuMefuX1bDD9yntBRBZVwFMdfFCJ7okKYPXyw672b61s7X2Mafc4CywTzY4E7nDwGFfunzAndnRhHT3/jzLHktJ/PutW6JNyL0exkOxFUhkM127pMIZdZtL60gxG43DI5DzY2wr68obbV81r+vV+', 'MillisBehindLatest': 0, 'ResponseMetadata': {'RequestId': 'd7852863-cb46-38c5-84d9-9cd2a66935f7', 'HTTPStatusCode': 200, 'HTTPHeaders': {'server': 'Apache-Coyote/1.1', 'x-amzn-requestid': 'd7852863-cb46-38c5-84d9-9cd2a66935f7', 'x-amz-id-2': 'NYfShA+L7ZjaDbqk1LG6clukBNeXHDktICtLmCuBzRsyvzIiFPQ2oOupawXhnIF0w3Saitp9vpef/DvklZV55b8sflMq7VZ8XYbk9YHYdjI=', 'content-type': 'application/x-amz-json-1.1', 'content-length': '284', 'date': 'Fri, 27 Apr 2018 05:17:37 GMT'}, 'RetryAttempts': 0}}\n",
      "{'Records': [], 'NextShardIterator': 'AAAAAAAAAAENfeEFfdJtsXD293GDJjGmzyRLgN29IvrqXAftab8647KVPICU9s6+aiTeY7wiKpV/KNN+u8mX7GPm32F8oUbML+BDWxa/DvxexSRYEOopxyyRHDiJ89TJ7AOgk4actOdM8oEhJvX7+3yfGuqyPz4bGy8VjfULwVFZ0kZlYb0G3zZ2JhLunhxaXHFOvP1cxcldzhAvCwC67ElsXXZ2SEtB', 'MillisBehindLatest': 0, 'ResponseMetadata': {'RequestId': 'faf2548a-63e9-6e96-a9ae-e03b0ec663a4', 'HTTPStatusCode': 200, 'HTTPHeaders': {'server': 'Apache-Coyote/1.1', 'x-amzn-requestid': 'faf2548a-63e9-6e96-a9ae-e03b0ec663a4', 'x-amz-id-2': 'OoY1NXx0GQ9y2SrWnAzP5ZRC1xFZDVXBFhUloAAb0KBKMM8jExsSuD3olW7ZDOkO03eRMp9H7fqyOhRJzcdDy92ZUiuDc5RBC4OzhkEVMCE=', 'content-type': 'application/x-amz-json-1.1', 'content-length': '284', 'date': 'Fri, 27 Apr 2018 05:17:37 GMT'}, 'RetryAttempts': 0}}\n",
      "{'Records': [], 'NextShardIterator': 'AAAAAAAAAAHANtaFWbXDjPbZJVvBiWQdnTNq7s9HxQ3Cc9sZOFZ2Y59QCQWuMf436Ne74jXIeXyYa0j+TgCYAmLcmEbp2zf/1UYQ/N+IoqSgbs1MSJ++ovADwkZnQ8ggiBtJaONZp2KAl+gDGot7u2DZO/1PZ67lcJvjSMpFkNLlwDw5ouV8HK8jNLHnSuMfSRDPt69v1sz6FtAG4fQkQ+TuW5aurKN1', 'MillisBehindLatest': 0, 'ResponseMetadata': {'RequestId': 'cc53263f-0c2b-12b8-9f0f-928e61041f8a', 'HTTPStatusCode': 200, 'HTTPHeaders': {'server': 'Apache-Coyote/1.1', 'x-amzn-requestid': 'cc53263f-0c2b-12b8-9f0f-928e61041f8a', 'x-amz-id-2': '+XWlDB+PRxfSKTW4UbuUozbIH5mCmKVhRUNc7eP8y6MeiWwYGFYCmrdsS0YSgZxNZLm5hPgxKua13NQhVP8dTDAlnLeesJ2bndd7z7OoyNU=', 'content-type': 'application/x-amz-json-1.1', 'content-length': '284', 'date': 'Fri, 27 Apr 2018 05:17:37 GMT'}, 'RetryAttempts': 0}}\n",
      "{'Records': [], 'NextShardIterator': 'AAAAAAAAAAHRfS1Ua7NTh+jJZ7pzfANnRO2DME96zIH44CtO83pctEIFPlmoIjgTd6GwaZvAJUCOKDqz5jJtdYcCIPNRNdeRFz0Tap73HfuESGCAwrJgsfwdNVz/cN1vSn+TqGhBrvMLXYk6nkRaCXnZSbLEnpUMd/fEAJLlbi4hoa+GePy23HfGy7osUi1UhwJZi7Crz+mLZsh/8du80unHHmoXUYVT', 'MillisBehindLatest': 0, 'ResponseMetadata': {'RequestId': 'd543ef47-89ca-f7c3-861f-5bf6e4e5faf1', 'HTTPStatusCode': 200, 'HTTPHeaders': {'server': 'Apache-Coyote/1.1', 'x-amzn-requestid': 'd543ef47-89ca-f7c3-861f-5bf6e4e5faf1', 'x-amz-id-2': '3PyxzHcsZBJVkMW9zf0kQ32Nm2TgySn1P362KmDUfSl0Zwl1e9THB5xbgxtLc7JNZ7VtK3A7vohBNjM2CNSWGGvvU3EAQy7z/UpLKTqJKow=', 'content-type': 'application/x-amz-json-1.1', 'content-length': '284', 'date': 'Fri, 27 Apr 2018 05:17:37 GMT'}, 'RetryAttempts': 0}}\n",
      "{'Records': [], 'NextShardIterator': 'AAAAAAAAAAG0YWNwsFAA87dzvVt2gadHfG6Grd4nOn961FFsDhy4x18OAWNV4fqyONczsncHlcRaLfWUnqKoDO+7/H53wgvm3q2HoLr6Wn0p2JPj9j/a+PYYbe6ODlkQAI6ogZcUw70zWo6eRMCn5RKTlXYYeAWphhmUvNhQBWZxTfcqeAVevB5whUJmBwhaB21/IKFZJ6+5bfPcrTq6qe8ZRTUTvPSg', 'MillisBehindLatest': 0, 'ResponseMetadata': {'RequestId': 'c6fdb92a-7445-6ec2-95a1-0d98196a63f0', 'HTTPStatusCode': 200, 'HTTPHeaders': {'server': 'Apache-Coyote/1.1', 'x-amzn-requestid': 'c6fdb92a-7445-6ec2-95a1-0d98196a63f0', 'x-amz-id-2': 'AcK6khc7GbzEx/wyKt4uqChoVsbwnD9ijl8nCw4pMvuRfBpl7kQACbDW3mPtAU7wxZfyJaW/N1Qa4fzDCJ3rBgMMwSPqxu6deDK19KXmPxE=', 'content-type': 'application/x-amz-json-1.1', 'content-length': '284', 'date': 'Fri, 27 Apr 2018 05:17:37 GMT'}, 'RetryAttempts': 0}}\n"
     ]
    },
    {
     "ename": "ProvisionedThroughputExceededException",
     "evalue": "An error occurred (ProvisionedThroughputExceededException) when calling the GetRecords operation: Rate exceeded for shard shardId-000000000000 in stream twitter under account 923344594760.",
     "output_type": "error",
     "traceback": [
      "\u001b[1;31m---------------------------------------------------------------------------\u001b[0m",
      "\u001b[1;31mProvisionedThroughputExceededException\u001b[0m    Traceback (most recent call last)",
      "\u001b[1;32m<ipython-input-89-c193667ddbf6>\u001b[0m in \u001b[0;36m<module>\u001b[1;34m()\u001b[0m\n\u001b[0;32m      2\u001b[0m     record_response = client.get_records(\n\u001b[0;32m      3\u001b[0m         \u001b[0mShardIterator\u001b[0m\u001b[1;33m=\u001b[0m\u001b[0mrecord_response\u001b[0m\u001b[1;33m[\u001b[0m\u001b[1;34m'NextShardIterator'\u001b[0m\u001b[1;33m]\u001b[0m\u001b[1;33m,\u001b[0m\u001b[1;33m\u001b[0m\u001b[0m\n\u001b[1;32m----> 4\u001b[1;33m         \u001b[0mLimit\u001b[0m\u001b[1;33m=\u001b[0m\u001b[1;36m2\u001b[0m\u001b[1;33m\u001b[0m\u001b[0m\n\u001b[0m\u001b[0;32m      5\u001b[0m     )\n\u001b[0;32m      6\u001b[0m \u001b[1;33m\u001b[0m\u001b[0m\n",
      "\u001b[1;32mC:\\Users\\alsherman\\AppData\\Local\\Continuum\\anaconda3\\lib\\site-packages\\botocore\\client.py\u001b[0m in \u001b[0;36m_api_call\u001b[1;34m(self, *args, **kwargs)\u001b[0m\n\u001b[0;32m    315\u001b[0m                     \"%s() only accepts keyword arguments.\" % py_operation_name)\n\u001b[0;32m    316\u001b[0m             \u001b[1;31m# The \"self\" in this scope is referring to the BaseClient.\u001b[0m\u001b[1;33m\u001b[0m\u001b[1;33m\u001b[0m\u001b[0m\n\u001b[1;32m--> 317\u001b[1;33m             \u001b[1;32mreturn\u001b[0m \u001b[0mself\u001b[0m\u001b[1;33m.\u001b[0m\u001b[0m_make_api_call\u001b[0m\u001b[1;33m(\u001b[0m\u001b[0moperation_name\u001b[0m\u001b[1;33m,\u001b[0m \u001b[0mkwargs\u001b[0m\u001b[1;33m)\u001b[0m\u001b[1;33m\u001b[0m\u001b[0m\n\u001b[0m\u001b[0;32m    318\u001b[0m \u001b[1;33m\u001b[0m\u001b[0m\n\u001b[0;32m    319\u001b[0m         \u001b[0m_api_call\u001b[0m\u001b[1;33m.\u001b[0m\u001b[0m__name__\u001b[0m \u001b[1;33m=\u001b[0m \u001b[0mstr\u001b[0m\u001b[1;33m(\u001b[0m\u001b[0mpy_operation_name\u001b[0m\u001b[1;33m)\u001b[0m\u001b[1;33m\u001b[0m\u001b[0m\n",
      "\u001b[1;32mC:\\Users\\alsherman\\AppData\\Local\\Continuum\\anaconda3\\lib\\site-packages\\botocore\\client.py\u001b[0m in \u001b[0;36m_make_api_call\u001b[1;34m(self, operation_name, api_params)\u001b[0m\n\u001b[0;32m    613\u001b[0m             \u001b[0merror_code\u001b[0m \u001b[1;33m=\u001b[0m \u001b[0mparsed_response\u001b[0m\u001b[1;33m.\u001b[0m\u001b[0mget\u001b[0m\u001b[1;33m(\u001b[0m\u001b[1;34m\"Error\"\u001b[0m\u001b[1;33m,\u001b[0m \u001b[1;33m{\u001b[0m\u001b[1;33m}\u001b[0m\u001b[1;33m)\u001b[0m\u001b[1;33m.\u001b[0m\u001b[0mget\u001b[0m\u001b[1;33m(\u001b[0m\u001b[1;34m\"Code\"\u001b[0m\u001b[1;33m)\u001b[0m\u001b[1;33m\u001b[0m\u001b[0m\n\u001b[0;32m    614\u001b[0m             \u001b[0merror_class\u001b[0m \u001b[1;33m=\u001b[0m \u001b[0mself\u001b[0m\u001b[1;33m.\u001b[0m\u001b[0mexceptions\u001b[0m\u001b[1;33m.\u001b[0m\u001b[0mfrom_code\u001b[0m\u001b[1;33m(\u001b[0m\u001b[0merror_code\u001b[0m\u001b[1;33m)\u001b[0m\u001b[1;33m\u001b[0m\u001b[0m\n\u001b[1;32m--> 615\u001b[1;33m             \u001b[1;32mraise\u001b[0m \u001b[0merror_class\u001b[0m\u001b[1;33m(\u001b[0m\u001b[0mparsed_response\u001b[0m\u001b[1;33m,\u001b[0m \u001b[0moperation_name\u001b[0m\u001b[1;33m)\u001b[0m\u001b[1;33m\u001b[0m\u001b[0m\n\u001b[0m\u001b[0;32m    616\u001b[0m         \u001b[1;32melse\u001b[0m\u001b[1;33m:\u001b[0m\u001b[1;33m\u001b[0m\u001b[0m\n\u001b[0;32m    617\u001b[0m             \u001b[1;32mreturn\u001b[0m \u001b[0mparsed_response\u001b[0m\u001b[1;33m\u001b[0m\u001b[0m\n",
      "\u001b[1;31mProvisionedThroughputExceededException\u001b[0m: An error occurred (ProvisionedThroughputExceededException) when calling the GetRecords operation: Rate exceeded for shard shardId-000000000000 in stream twitter under account 923344594760."
     ]
    }
   ],
   "source": [
    "while 'NextShardIterator' in record_response:\n",
    "    record_response = client.get_records(\n",
    "        ShardIterator=record_response['NextShardIterator'],\n",
    "        Limit=2\n",
    "    )\n",
    "    print(record_response)"
   ]
  },
  {
   "cell_type": "code",
   "execution_count": null,
   "metadata": {
    "collapsed": true
   },
   "outputs": [],
   "source": []
  }
 ],
 "metadata": {
  "kernelspec": {
   "display_name": "Python 3",
   "language": "python",
   "name": "python3"
  },
  "language_info": {
   "codemirror_mode": {
    "name": "ipython",
    "version": 3
   },
   "file_extension": ".py",
   "mimetype": "text/x-python",
   "name": "python",
   "nbconvert_exporter": "python",
   "pygments_lexer": "ipython3",
   "version": "3.6.3"
  }
 },
 "nbformat": 4,
 "nbformat_minor": 2
}
