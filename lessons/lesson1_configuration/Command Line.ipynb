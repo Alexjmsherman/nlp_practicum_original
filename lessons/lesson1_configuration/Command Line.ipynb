{
 "cells": [
  {
   "cell_type": "markdown",
   "metadata": {},
   "source": [
    "## Command Line \n",
    "\n",
    "##### Author: Alex Sherman | alsherman@deloitte.com"
   ]
  },
  {
   "cell_type": "code",
   "execution_count": 11,
   "metadata": {},
   "outputs": [
    {
     "data": {
      "text/plain": [
       "'C:\\\\Users\\\\alsherman\\\\Desktop\\\\PycharmProjects\\\\firm_initiatives\\\\ml_guild\\\\lessons\\\\lesson1_configuration'"
      ]
     },
     "execution_count": 11,
     "metadata": {},
     "output_type": "execute_result"
    }
   ],
   "source": [
    "%pwd"
   ]
  },
  {
   "cell_type": "markdown",
   "metadata": {},
   "source": [
    "#### print working directory (pwd)\n"
   ]
  },
  {
   "cell_type": "code",
   "execution_count": 19,
   "metadata": {},
   "outputs": [
    {
     "name": "stdout",
     "output_type": "stream",
     "text": [
      " Volume in drive C is OSDisk\n",
      " Volume Serial Number is 1C4D-03FA\n",
      "\n",
      " Directory of C:\\Users\\alsherman\\Desktop\\PycharmProjects\\firm_initiatives\\ml_guild\\lessons\n",
      "\n",
      "11/23/2017  10:42 AM    <DIR>          .\n",
      "11/23/2017  10:42 AM    <DIR>          ..\n",
      "11/23/2017  10:57 AM    <DIR>          lesson1_configuration\n",
      "11/22/2017  08:58 PM    <DIR>          lesson11_logging\n",
      "11/22/2017  08:59 PM    <DIR>          lesson12_executables\n",
      "11/22/2017  09:13 PM    <DIR>          lesson2_automation\n",
      "11/22/2017  10:25 PM    <DIR>          lesson3_refactoring\n",
      "11/22/2017  08:47 PM    <DIR>          lesson4_text_extraction\n",
      "11/23/2017  12:04 AM    <DIR>          lesson5_databases\n",
      "11/23/2017  12:07 AM    <DIR>          lesson6_text_vectorization\n",
      "11/23/2017  12:07 AM    <DIR>          lesson7_clustering\n",
      "11/22/2017  08:47 PM    <DIR>          lesson8_topic_models\n",
      "11/22/2017  08:47 PM    <DIR>          lesson9_classes\n",
      "               0 File(s)              0 bytes\n",
      "              13 Dir(s)  279,412,133,888 bytes free\n"
     ]
    }
   ],
   "source": [
    "ls"
   ]
  },
  {
   "cell_type": "code",
   "execution_count": null,
   "metadata": {
    "collapsed": true
   },
   "outputs": [],
   "source": [
    "#### ls"
   ]
  },
  {
   "cell_type": "code",
   "execution_count": 13,
   "metadata": {},
   "outputs": [
    {
     "name": "stdout",
     "output_type": "stream",
     "text": [
      "C:\\Users\\alsherman\\Desktop\\PycharmProjects\\firm_initiatives\\ml_guild\\lessons\\lesson1_configuration\n"
     ]
    }
   ],
   "source": [
    "cd ."
   ]
  },
  {
   "cell_type": "code",
   "execution_count": 14,
   "metadata": {},
   "outputs": [
    {
     "name": "stdout",
     "output_type": "stream",
     "text": [
      "C:\\Users\\alsherman\\Desktop\\PycharmProjects\\firm_initiatives\\ml_guild\\lessons\n"
     ]
    }
   ],
   "source": [
    "cd .."
   ]
  },
  {
   "cell_type": "code",
   "execution_count": 15,
   "metadata": {},
   "outputs": [
    {
     "data": {
      "text/plain": [
       "'C:\\\\Users\\\\alsherman\\\\Desktop\\\\PycharmProjects\\\\firm_initiatives\\\\ml_guild\\\\lessons'"
      ]
     },
     "execution_count": 15,
     "metadata": {},
     "output_type": "execute_result"
    }
   ],
   "source": [
    "pwd"
   ]
  },
  {
   "cell_type": "code",
   "execution_count": 22,
   "metadata": {},
   "outputs": [
    {
     "name": "stdout",
     "output_type": "stream",
     "text": [
      "C:\\Users\\alsherman\\Desktop\\PycharmProjects\\firm_initiatives\n"
     ]
    }
   ],
   "source": [
    "cd ../../.."
   ]
  },
  {
   "cell_type": "code",
   "execution_count": 27,
   "metadata": {},
   "outputs": [
    {
     "name": "stdout",
     "output_type": "stream",
     "text": [
      "[WinError 3] The system cannot find the path specified: 'firm_initiatives/ml_guild/raw_data'\n",
      "C:\\Users\\alsherman\\Desktop\\PycharmProjects\\firm_initiatives\\ml_guild\n"
     ]
    }
   ],
   "source": [
    "cd firm_initiatives/ml_guild/raw_data/configuration_files"
   ]
  },
  {
   "cell_type": "code",
   "execution_count": 32,
   "metadata": {
    "collapsed": true
   },
   "outputs": [],
   "source": [
    "import os"
   ]
  },
  {
   "cell_type": "code",
   "execution_count": 41,
   "metadata": {},
   "outputs": [
    {
     "data": {
      "text/plain": [
       "['config.ini',\n",
       " 'config1.ini',\n",
       " 'config10.ini',\n",
       " 'config11.ini',\n",
       " 'config12.ini',\n",
       " 'config13.ini',\n",
       " 'config14.ini',\n",
       " 'config15.ini',\n",
       " 'config16.ini',\n",
       " 'config17.ini',\n",
       " 'config18.ini',\n",
       " 'config19.ini',\n",
       " 'config2.ini',\n",
       " 'config20.ini',\n",
       " 'config21.ini',\n",
       " 'config22.ini',\n",
       " 'config23.ini',\n",
       " 'config24.ini',\n",
       " 'config25.ini',\n",
       " 'config26.ini',\n",
       " 'config27.ini',\n",
       " 'config28.ini',\n",
       " 'config29.ini',\n",
       " 'config3.ini',\n",
       " 'config30.ini',\n",
       " 'config31.ini',\n",
       " 'config32.ini',\n",
       " 'config33.ini',\n",
       " 'config34.ini',\n",
       " 'config35.ini',\n",
       " 'config36.ini',\n",
       " 'config37.ini',\n",
       " 'config38.ini',\n",
       " 'config39.ini',\n",
       " 'config4.ini',\n",
       " 'config40.ini',\n",
       " 'config41.ini',\n",
       " 'config42.ini',\n",
       " 'config43.ini',\n",
       " 'config44.ini',\n",
       " 'config45.ini',\n",
       " 'config46.ini',\n",
       " 'config47.ini',\n",
       " 'config48.ini',\n",
       " 'config49.ini',\n",
       " 'config5.ini',\n",
       " 'config50.ini',\n",
       " 'config51.ini',\n",
       " 'config52.ini',\n",
       " 'config53.ini',\n",
       " 'config54.ini',\n",
       " 'config55.ini',\n",
       " 'config56.ini',\n",
       " 'config57.ini',\n",
       " 'config58.ini',\n",
       " 'config59.ini',\n",
       " 'config6.ini',\n",
       " 'config60.ini',\n",
       " 'config61.ini',\n",
       " 'config62.ini',\n",
       " 'config63.ini',\n",
       " 'config64.ini',\n",
       " 'config65.ini',\n",
       " 'config66.ini',\n",
       " 'config67.ini',\n",
       " 'config68.ini',\n",
       " 'config69.ini',\n",
       " 'config7.ini',\n",
       " 'config70.ini',\n",
       " 'config71.ini',\n",
       " 'config72.ini',\n",
       " 'config73.ini',\n",
       " 'config74.ini',\n",
       " 'config75.ini',\n",
       " 'config76.ini',\n",
       " 'config77.ini',\n",
       " 'config78.ini',\n",
       " 'config79.ini',\n",
       " 'config8.ini',\n",
       " 'config80.ini',\n",
       " 'config81.ini',\n",
       " 'config82.ini',\n",
       " 'config83.ini',\n",
       " 'config84.ini',\n",
       " 'config85.ini',\n",
       " 'config86.ini',\n",
       " 'config87.ini',\n",
       " 'config88.ini',\n",
       " 'config89.ini',\n",
       " 'config9.ini',\n",
       " 'config90.ini',\n",
       " 'config91.ini',\n",
       " 'config92.ini',\n",
       " 'config93.ini',\n",
       " 'config94.ini',\n",
       " 'config95.ini',\n",
       " 'config96.ini',\n",
       " 'config97.ini',\n",
       " 'config98.ini',\n",
       " 'config99.ini']"
      ]
     },
     "execution_count": 41,
     "metadata": {},
     "output_type": "execute_result"
    }
   ],
   "source": [
    "os.listdir()"
   ]
  },
  {
   "cell_type": "code",
   "execution_count": 40,
   "metadata": {
    "collapsed": true
   },
   "outputs": [],
   "source": [
    "from shutil import copyfile\n",
    "\n",
    "for i in range(1,100):\n",
    "    copyfile('config.ini', 'config{}.ini'.format(i))"
   ]
  },
  {
   "cell_type": "code",
   "execution_count": null,
   "metadata": {
    "collapsed": true
   },
   "outputs": [],
   "source": [
    "### find"
   ]
  },
  {
   "cell_type": "code",
   "execution_count": 45,
   "metadata": {},
   "outputs": [
    {
     "name": "stderr",
     "output_type": "stream",
     "text": [
      "ERROR:root:Line magic function `%find` not found.\n"
     ]
    }
   ],
   "source": [
    "% find . -name '*config1*'"
   ]
  },
  {
   "cell_type": "code",
   "execution_count": null,
   "metadata": {
    "collapsed": true
   },
   "outputs": [],
   "source": []
  }
 ],
 "metadata": {
  "kernelspec": {
   "display_name": "Python 3",
   "language": "python",
   "name": "python3"
  },
  "language_info": {
   "codemirror_mode": {
    "name": "ipython",
    "version": 3
   },
   "file_extension": ".py",
   "mimetype": "text/x-python",
   "name": "python",
   "nbconvert_exporter": "python",
   "pygments_lexer": "ipython3",
   "version": "3.6.2"
  }
 },
 "nbformat": 4,
 "nbformat_minor": 2
}
