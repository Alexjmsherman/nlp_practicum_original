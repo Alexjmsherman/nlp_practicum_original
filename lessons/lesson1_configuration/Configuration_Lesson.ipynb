{
 "cells": [
  {
   "cell_type": "markdown",
   "metadata": {},
   "source": [
    "# Configuration\n",
    "\n",
    "##### Author: Alex Sherman | alsherman@deloitte.com"
   ]
  },
  {
   "cell_type": "markdown",
   "metadata": {},
   "source": [
    "### Magic Commands\n",
    "\n",
    "By placing a '#' in from of command line commands, we can run them from a Jupyter Notebook. We call these magic commands"
   ]
  },
  {
   "cell_type": "code",
   "execution_count": 4,
   "metadata": {},
   "outputs": [
    {
     "name": "stdout",
     "output_type": "stream",
     "text": [
      "C:\\Users\\alsherman\\Desktop\\PycharmProjects\\firm_initiatives\\ml_guild\n"
     ]
    }
   ],
   "source": [
    "# cd to the ml_guild\n",
    "%cd ../.."
   ]
  },
  {
   "cell_type": "code",
   "execution_count": 2,
   "metadata": {},
   "outputs": [
    {
     "data": {
      "text/plain": [
       "'C:\\\\Users\\\\alsherman\\\\Desktop\\\\PycharmProjects\\\\firm_initiatives\\\\ml_guild\\\\lessons\\\\lesson1_configuration'"
      ]
     },
     "execution_count": 2,
     "metadata": {},
     "output_type": "execute_result"
    }
   ],
   "source": [
    "# print working directory to confirm we are in the ml_guild dir\n",
    "%pwd"
   ]
  },
  {
   "cell_type": "code",
   "execution_count": 3,
   "metadata": {},
   "outputs": [
    {
     "name": "stdout",
     "output_type": "stream",
     "text": [
      " Volume in drive C is OSDisk\n",
      " Volume Serial Number is 1C4D-03FA\n",
      "\n",
      " Directory of C:\\Users\\alsherman\\Desktop\\PycharmProjects\\firm_initiatives\\ml_guild\\lessons\\lesson1_configuration\n",
      "\n",
      "12/10/2017  10:30 PM    <DIR>          .\n",
      "12/10/2017  10:30 PM    <DIR>          ..\n",
      "12/10/2017  10:28 PM    <DIR>          .ipynb_checkpoints\n",
      "12/10/2017  09:18 PM               633 command_line\n",
      "12/10/2017  10:10 PM               197 config.py\n",
      "12/10/2017  10:30 PM             2,800 Untitled.ipynb\n",
      "               3 File(s)          3,630 bytes\n",
      "               3 Dir(s)  268,464,451,584 bytes free\n"
     ]
    }
   ],
   "source": [
    "# view the files to confirm the raw_data dir exists\n",
    "%ls"
   ]
  },
  {
   "cell_type": "code",
   "execution_count": 6,
   "metadata": {},
   "outputs": [
    {
     "name": "stdout",
     "output_type": "stream",
     "text": [
      " Volume in drive C is OSDisk\n",
      " Volume Serial Number is 1C4D-03FA\n",
      "\n",
      " Directory of C:\\Users\\alsherman\\Desktop\\PycharmProjects\\firm_initiatives\\ml_guild\\raw_data\n",
      "\n",
      "11/26/2017  05:57 PM    <DIR>          .\n",
      "11/26/2017  05:57 PM    <DIR>          ..\n",
      "10/09/2017  01:44 AM        14,229,504 annual_report.db\n",
      "12/10/2017  09:36 PM    <DIR>          configuration_files\n",
      "11/18/2017  11:32 PM            11,662 docx_example.zip\n",
      "11/22/2017  08:47 PM    <DIR>          ebay\n",
      "11/22/2017  08:47 PM    <DIR>          federal_open_demands\n",
      "11/26/2017  05:57 PM    <DIR>          lesson_images\n",
      "11/22/2017  08:47 PM    <DIR>          nvidia-corporation\n",
      "11/05/2017  07:08 PM         6,839,560 oracle_10k.csv\n",
      "11/22/2017  08:47 PM    <DIR>          oracle-corporation\n",
      "11/22/2017  08:47 PM    <DIR>          sap-ag\n",
      "10/09/2017  12:09 PM           121,680 sections.csv\n",
      "11/18/2017  11:28 PM            11,736 xml - Copy - Copy.zip\n",
      "11/18/2017  11:00 PM            11,409 xml.zip\n",
      "11/22/2017  08:47 PM    <DIR>          yahoo\n",
      "               6 File(s)     21,225,551 bytes\n",
      "              10 Dir(s)  268,465,508,352 bytes free\n"
     ]
    }
   ],
   "source": [
    "# view the directories and files inside the raw_data dir\n",
    "%ls raw_data"
   ]
  },
  {
   "cell_type": "code",
   "execution_count": 7,
   "metadata": {},
   "outputs": [
    {
     "name": "stdout",
     "output_type": "stream",
     "text": [
      "C:\\Users\\alsherman\\Desktop\\PycharmProjects\\firm_initiatives\\ml_guild\\raw_data\\configuration_files\n"
     ]
    }
   ],
   "source": [
    "# change directory into the configuration_files folder\n",
    "%cd raw_data/configuration_files"
   ]
  },
  {
   "cell_type": "code",
   "execution_count": 8,
   "metadata": {},
   "outputs": [
    {
     "data": {
      "text/plain": [
       "'C:\\\\Users\\\\alsherman\\\\Desktop\\\\PycharmProjects\\\\firm_initiatives\\\\ml_guild\\\\raw_data\\\\configuration_files'"
      ]
     },
     "execution_count": 8,
     "metadata": {},
     "output_type": "execute_result"
    }
   ],
   "source": [
    "# confirm we are in the correct dir\n",
    "%pwd"
   ]
  },
  {
   "cell_type": "code",
   "execution_count": 9,
   "metadata": {},
   "outputs": [
    {
     "name": "stdout",
     "output_type": "stream",
     "text": [
      " Volume in drive C is OSDisk\n",
      " Volume Serial Number is 1C4D-03FA\n",
      "\n",
      " Directory of C:\\Users\\alsherman\\Desktop\\PycharmProjects\\firm_initiatives\\ml_guild\\raw_data\\configuration_files\n",
      "\n",
      "12/10/2017  09:36 PM    <DIR>          .\n",
      "12/10/2017  09:36 PM    <DIR>          ..\n",
      "12/10/2017  10:21 PM    <DIR>          aws_config_files_1\n",
      "12/10/2017  09:36 PM    <DIR>          aws_config_files_2\n",
      "12/10/2017  09:36 PM    <DIR>          aws_config_files_3\n",
      "12/10/2017  09:36 PM    <DIR>          aws_config_files_4\n",
      "12/10/2017  09:36 PM    <DIR>          aws_config_files_5\n",
      "               0 File(s)              0 bytes\n",
      "               7 Dir(s)  268,465,504,256 bytes free\n"
     ]
    }
   ],
   "source": [
    "# list the directories and files\n",
    "%ls"
   ]
  },
  {
   "cell_type": "code",
   "execution_count": 10,
   "metadata": {},
   "outputs": [
    {
     "name": "stdout",
     "output_type": "stream",
     "text": [
      "C:\\Users\\alsherman\\Desktop\\PycharmProjects\\firm_initiatives\\ml_guild\\raw_data\\configuration_files\\aws_config_files_1\n"
     ]
    }
   ],
   "source": [
    "# cd in aws_config_files_1\n",
    "%cd aws_config_files_1"
   ]
  },
  {
   "cell_type": "code",
   "execution_count": 11,
   "metadata": {},
   "outputs": [
    {
     "name": "stdout",
     "output_type": "stream",
     "text": [
      " Volume in drive C is OSDisk\n",
      " Volume Serial Number is 1C4D-03FA\n",
      "\n",
      " Directory of C:\\Users\\alsherman\\Desktop\\PycharmProjects\\firm_initiatives\\ml_guild\\raw_data\\configuration_files\\aws_config_files_1\n",
      "\n",
      "12/10/2017  10:21 PM    <DIR>          .\n",
      "12/10/2017  10:21 PM    <DIR>          ..\n",
      "12/10/2017  10:21 PM               157 config1.ini\n",
      "12/10/2017  09:29 PM               156 config13.ini\n",
      "12/10/2017  09:29 PM               156 config16.ini\n",
      "12/10/2017  09:31 PM               322 config19.ini\n",
      "12/10/2017  09:31 PM               322 config22.ini\n",
      "12/10/2017  09:31 PM               322 config24.ini\n",
      "12/10/2017  09:28 PM               156 config5.ini\n",
      "               7 File(s)          1,591 bytes\n",
      "               2 Dir(s)  268,465,504,256 bytes free\n"
     ]
    }
   ],
   "source": [
    "# list the directories and files\n",
    "%ls"
   ]
  },
  {
   "cell_type": "markdown",
   "metadata": {},
   "source": [
    "### INI Files\n",
    "\n",
    "The INI file format is an informal standard for configuration files for some platforms or software. INI files are simple text files with a basic structure composed of sections, properties, and values.\n",
    "\n",
    "Source: https://en.wikipedia.org/wiki/INI_file"
   ]
  },
  {
   "cell_type": "code",
   "execution_count": 24,
   "metadata": {},
   "outputs": [],
   "source": [
    "# view the config1.ini file\n",
    "%less config1.ini"
   ]
  },
  {
   "cell_type": "markdown",
   "metadata": {},
   "source": [
    "### ConfigParser\n",
    "\n",
    "This module defines the class ConfigParser. The ConfigParser class implements a basic configuration file parser language which provides a structure similar to what you would find on Microsoft Windows INI files. You can use this to write Python programs which can be customized by end users easily.\n",
    "\n",
    "Source: https://docs.python.org/2/library/configparser.html"
   ]
  },
  {
   "cell_type": "code",
   "execution_count": 25,
   "metadata": {},
   "outputs": [
    {
     "data": {
      "text/html": [
       "<iframe src=https://wiki.python.org/moin/ConfigParserExamples width=1100 height=300></iframe>"
      ],
      "text/plain": [
       "<IPython.core.display.HTML object>"
      ]
     },
     "execution_count": 25,
     "metadata": {},
     "output_type": "execute_result"
    }
   ],
   "source": [
    "from IPython.core.display import display, HTML\n",
    "\n",
    "sqlalchemy_url = 'https://wiki.python.org/moin/ConfigParserExamples'\n",
    "iframe = '<iframe src={} width=1100 height=300></iframe>'.format(sqlalchemy_url)\n",
    "HTML(iframe)"
   ]
  },
  {
   "cell_type": "code",
   "execution_count": 12,
   "metadata": {
    "collapsed": true
   },
   "outputs": [],
   "source": [
    "# https://docs.python.org/2/library/configparser.html\n",
    "import configparser"
   ]
  },
  {
   "cell_type": "code",
   "execution_count": 13,
   "metadata": {
    "collapsed": true
   },
   "outputs": [],
   "source": [
    "# instantiate config parser\n",
    "config = configparser.ConfigParser()"
   ]
  },
  {
   "cell_type": "code",
   "execution_count": 14,
   "metadata": {},
   "outputs": [
    {
     "data": {
      "text/plain": [
       "['config1.ini']"
      ]
     },
     "execution_count": 14,
     "metadata": {},
     "output_type": "execute_result"
    }
   ],
   "source": [
    "# read a config file\n",
    "config.read('config1.ini')"
   ]
  },
  {
   "cell_type": "code",
   "execution_count": 20,
   "metadata": {},
   "outputs": [
    {
     "data": {
      "text/plain": [
       "['default', 'keys']"
      ]
     },
     "execution_count": 20,
     "metadata": {},
     "output_type": "execute_result"
    }
   ],
   "source": [
    "# observe the sections in the config file\n",
    "config.sections()"
   ]
  },
  {
   "cell_type": "code",
   "execution_count": 16,
   "metadata": {},
   "outputs": [
    {
     "data": {
      "text/plain": [
       "'us-west-2'"
      ]
     },
     "execution_count": 16,
     "metadata": {},
     "output_type": "execute_result"
    }
   ],
   "source": [
    "# config uses dict syntax to store values\n",
    "config['default']['region']"
   ]
  },
  {
   "cell_type": "code",
   "execution_count": null,
   "metadata": {
    "collapsed": true
   },
   "outputs": [],
   "source": [
    "# store config values\n",
    "REGION = config['default']['region']\n",
    "OUTPUT = config['default']['region']\n",
    "AWS_ACCESS_KEY_ID = config['keys']['aws_access_key_id']\n",
    "AWS_SECRET_ACCESS_KEY = config['keys']['aws_secret_access_key']"
   ]
  },
  {
   "cell_type": "markdown",
   "metadata": {},
   "source": [
    "NOTE: We will continue to use config files for future lessons to maintain a single source for a file names and directory paths"
   ]
  }
 ],
 "metadata": {
  "kernelspec": {
   "display_name": "Python 3",
   "language": "python",
   "name": "python3"
  },
  "language_info": {
   "codemirror_mode": {
    "name": "ipython",
    "version": 3
   },
   "file_extension": ".py",
   "mimetype": "text/x-python",
   "name": "python",
   "nbconvert_exporter": "python",
   "pygments_lexer": "ipython3",
   "version": "3.6.2"
  }
 },
 "nbformat": 4,
 "nbformat_minor": 2
}
