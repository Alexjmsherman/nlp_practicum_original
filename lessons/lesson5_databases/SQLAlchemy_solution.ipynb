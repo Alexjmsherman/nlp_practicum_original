{
 "cells": [
  {
   "cell_type": "markdown",
   "metadata": {},
   "source": [
    "## SQLAlchemy\n",
    "\n",
    "##### Author: Alex Sherman | alsherman@deloitte.com"
   ]
  },
  {
   "cell_type": "code",
   "execution_count": 1,
   "metadata": {
    "collapsed": true
   },
   "outputs": [],
   "source": [
    "import os\n",
    "import configparser\n",
    "\n",
    "config = configparser.ConfigParser()\n",
    "config.read('../../config.ini')\n",
    "TEST_DB_PATH = config['DATABASES']['TEST_DB_PATH']\n",
    "DB_PATH = config['DATABASES']['DB_PATH']"
   ]
  },
  {
   "cell_type": "markdown",
   "metadata": {},
   "source": [
    "SQLAlchemy is the Python SQL toolkit and Object Relational Mapper that gives application developers the full power and flexibility of SQL.\n",
    "\n",
    "It provides a full suite of well known enterprise-level persistence patterns, designed for efficient and high-performing database access, adapted into a simple and Pythonic domain language."
   ]
  },
  {
   "cell_type": "code",
   "execution_count": 2,
   "metadata": {},
   "outputs": [
    {
     "data": {
      "text/html": [
       "<iframe src=http://www.sqlalchemy.org/ width=1100 height=300></iframe>"
      ],
      "text/plain": [
       "<IPython.core.display.HTML object>"
      ]
     },
     "execution_count": 2,
     "metadata": {},
     "output_type": "execute_result"
    }
   ],
   "source": [
    "from IPython.core.display import display, HTML\n",
    "\n",
    "sqlalchemy_url = 'http://www.sqlalchemy.org/'\n",
    "iframe = '<iframe src={} width=1100 height=300></iframe>'.format(sqlalchemy_url)\n",
    "HTML(iframe)"
   ]
  },
  {
   "cell_type": "markdown",
   "metadata": {},
   "source": [
    "Python's SQLAlchemy and Object-Relational Mapping\n",
    "\n",
    "A common task when programming any web service is the construction of a solid database backend. In the past, programmers would write raw SQL statements, pass them to the database engine and parse the returned results as a normal array of records. Nowadays, programmers can write Object-relational mapping (ORM) programs to remove the necessity of writing tedious and error-prone raw SQL statements that are inflexible and hard-to-maintain.\n",
    "\n",
    "ORM is a programming technique for converting data between incompatible type systems in object-oriented programming languages. Usually, the type system used in an OO language such as Python contains types that are non-scalar, namely that those types cannot be expressed as primitive types such as integers and strings\n",
    "\n",
    "- Source: http://pythoncentral.io/introductory-tutorial-python-sqlalchemy/\n",
    "- Source: https://www.pythonsheets.com/notes/python-sqlalchemy.html"
   ]
  },
  {
   "cell_type": "markdown",
   "metadata": {},
   "source": [
    "\n",
    "- create_engine: The return value of create_engine() is an instance of Engine, and it represents the core interface to the database, adapted through a dialect that handles the details of the database and DBAPI in use. In this case the SQLite dialect will interpret instructions to the Python built-in sqlite3 module."
   ]
  },
  {
   "cell_type": "code",
   "execution_count": 3,
   "metadata": {},
   "outputs": [
    {
     "data": {
      "text/html": [
       "<iframe src=http://docs.sqlalchemy.org/en/latest/orm/tutorial.html width=1100 height=300></iframe>"
      ],
      "text/plain": [
       "<IPython.core.display.HTML object>"
      ]
     },
     "execution_count": 3,
     "metadata": {},
     "output_type": "execute_result"
    }
   ],
   "source": [
    "tutorial_url = 'http://docs.sqlalchemy.org/en/latest/orm/tutorial.html'\n",
    "iframe = '<iframe src={} width=1100 height=300></iframe>'.format(tutorial_url)\n",
    "HTML(iframe)"
   ]
  },
  {
   "cell_type": "code",
   "execution_count": 4,
   "metadata": {
    "collapsed": true
   },
   "outputs": [],
   "source": [
    "from sqlalchemy.ext.declarative import declarative_base\n",
    "\n",
    "Base = declarative_base()"
   ]
  },
  {
   "cell_type": "markdown",
   "metadata": {},
   "source": [
    "#### Declarative Base\n",
    "Declarative base maintains a catalog of classes and tables. It keeps track of all the database tables that are accessible through SQLAlchemy."
   ]
  },
  {
   "cell_type": "code",
   "execution_count": 5,
   "metadata": {
    "collapsed": true
   },
   "outputs": [],
   "source": [
    "from sqlalchemy import Column, Text, Integer"
   ]
  },
  {
   "cell_type": "markdown",
   "metadata": {},
   "source": [
    "#### SQLAlchemy column and data types\n",
    "Each database field is provided a column and data type in SQLAlchemy\n",
    "\n",
    "- Column: specifies a column that can read, write and store a particular type of Python data.  \n",
    "- Text: In SQL, usually corresponds to CLOB or TEXT\n",
    "- Integer: integer Data type"
   ]
  },
  {
   "cell_type": "code",
   "execution_count": 6,
   "metadata": {
    "collapsed": true
   },
   "outputs": [],
   "source": [
    "# provide a class name for the database table\n",
    "class Sections(Base):\n",
    "    # provide a name used in SQL to query the table\n",
    "    __tablename__ = 'SECTIONS'\n",
    "\n",
    "    # provide column names and data types\n",
    "    # for each field in the database\n",
    "    # additional paramater are available for the columns\n",
    "    # and data types\n",
    "    section_id = Column(Integer(), primary_key=True, autoincrement=True)\n",
    "    section_name = Column(Text())\n",
    "    section_text = Column(Text())\n",
    "\n",
    "    def __repr__(self):\n",
    "        return '<Sections section_id: {} | section_name: {}>'.format(\n",
    "            self.section_id, self.section_name)"
   ]
  },
  {
   "cell_type": "markdown",
   "metadata": {},
   "source": [
    "#### SQLAlchemy Classes\n",
    "\n",
    "Each SQLAlchemy class corresponds to a database table.\n",
    "\n",
    "Within the class, we define details about the table to which we’ll be mapping, primarily the table name, and names and datatypes of columns.\n",
    "\n",
    "A class using Declarative at a minimum needs a __tablename__ attribute, and at least one Column which is part of a primary key. \n",
    "\n",
    "Outside of what the mapping process does to our class, the class remains otherwise mostly a normal Python class, to which we can define any number of ordinary attributes and methods needed by our application."
   ]
  },
  {
   "cell_type": "code",
   "execution_count": 7,
   "metadata": {},
   "outputs": [
    {
     "data": {
      "text/plain": [
       "'sqlite:///C:\\\\Users\\\\alsherman\\\\Desktop\\\\General_Assembly\\\\ds-dc-22\\\\2_dataset\\\\test.db'"
      ]
     },
     "execution_count": 7,
     "metadata": {},
     "output_type": "execute_result"
    }
   ],
   "source": [
    "TEST_DB_PATH"
   ]
  },
  {
   "cell_type": "markdown",
   "metadata": {},
   "source": [
    "#### Below are common urls to connect to a variery of databases\n",
    "\n",
    "SQLAlchemy includes dialects for common databases, including Microsoft SQL Server, MySQL, Oracle, PostgreSQL, SQLite, and more. Additional external dialects are available for other databases like Amazon Redshift.\n"
   ]
  },
  {
   "cell_type": "code",
   "execution_count": 8,
   "metadata": {},
   "outputs": [
    {
     "data": {
      "text/html": [
       "<iframe src=http://docs.sqlalchemy.org/en/latest/core/engines.html width=1100 height=300></iframe>"
      ],
      "text/plain": [
       "<IPython.core.display.HTML object>"
      ]
     },
     "execution_count": 8,
     "metadata": {},
     "output_type": "execute_result"
    }
   ],
   "source": [
    "database_url = 'http://docs.sqlalchemy.org/en/latest/core/engines.html'\n",
    "iframe = '<iframe src={} width=1100 height=300></iframe>'.format(database_url)\n",
    "HTML(iframe)"
   ]
  },
  {
   "cell_type": "code",
   "execution_count": 9,
   "metadata": {
    "collapsed": true
   },
   "outputs": [],
   "source": [
    "from sqlalchemy import create_engine\n",
    "\n",
    "# create database tables\n",
    "engine = create_engine(TEST_DB_PATH)\n",
    "Base.metadata.create_all(engine)"
   ]
  },
  {
   "cell_type": "markdown",
   "metadata": {},
   "source": [
    "In this tutorial we use a SQLite database. To connect we use create_engine()\n",
    "\n",
    "#### Create Engine\n",
    "The return value of create_engine() is an instance of Engine, and it represents the core interface to the database.\n",
    "\n",
    "#### Lazy Connecting\n",
    "The Engine, when first returned by create_engine(), has not actually tried to connect to the database yet; that happens only the first time it is asked to perform a task against the database\n",
    "\n",
    "#### Base.metaData.create_all()\n",
    "As our SQLite database does not yet have a Sections table present, we can issue a CREATE TABLE statements to the database.\n",
    "\n",
    "Base.metaData.create_all(), passing in our Engine as a source of database connectivity. We will see that special commands are first emitted to check for the presence of the users table, and following that the actual CREATE TABLE statement"
   ]
  },
  {
   "cell_type": "code",
   "execution_count": 10,
   "metadata": {
    "collapsed": true
   },
   "outputs": [],
   "source": [
    "from sqlalchemy.orm import sessionmaker\n",
    "\n",
    "engine = create_engine(TEST_DB_PATH)\n",
    "Session = sessionmaker(bind=engine)\n",
    "session = Session()"
   ]
  },
  {
   "cell_type": "markdown",
   "metadata": {},
   "source": [
    "#### SQLAlchemy Session\n",
    "\n",
    "In the most general sense, the Session establishes all conversations with the database and represents a “holding zone” for all the objects which you’ve loaded or associated with it during its lifespan. It provides the entrypoint to acquire a Query object, which sends queries to the database using the Session object’s current database connection, populating result rows into objects that are then stored in the Session\n",
    "\n",
    "All changes to objects maintained by a Session are tracked - before the database is queried again or before the current transaction is committed, it flushes all pending changes to the database. This is known as the Unit of Work pattern."
   ]
  },
  {
   "cell_type": "markdown",
   "metadata": {},
   "source": [
    "#### Insert data into the database"
   ]
  },
  {
   "cell_type": "code",
   "execution_count": 11,
   "metadata": {
    "collapsed": true
   },
   "outputs": [],
   "source": [
    "section = Sections(\n",
    "      section_name = 'first section'\n",
    "    , section_text = 'text from the first section'\n",
    ")\n",
    "\n",
    "session.add(section)"
   ]
  },
  {
   "cell_type": "markdown",
   "metadata": {},
   "source": [
    "At this point, we say that the instance is pending; no SQL has yet been issued and the object is not yet represented by a row in the database. \n",
    "\n",
    "The Session will issue the SQL to persist the section as soon as is needed, using a process known as a flush. If we query the database for the section, all pending information will first be flushed, and the query is issued immediately thereafter."
   ]
  },
  {
   "cell_type": "code",
   "execution_count": 12,
   "metadata": {
    "collapsed": true
   },
   "outputs": [],
   "source": [
    "# commit (save) all annual reports to the database\n",
    "session.commit()"
   ]
  },
  {
   "cell_type": "markdown",
   "metadata": {},
   "source": [
    "#### Commit\n",
    "\n",
    "We tell the Session that we’d like to issue all remaining changes to the database and commit the transaction, which has been in progress throughout. We do this via commit().\n",
    "\n",
    "commit() flushes the remaining changes to the database, and commits the transaction. The connection resources referenced by the session are now returned to the connection pool. Subsequent operations with this session will occur in a new transaction, which will again re-acquire connection resources when first needed."
   ]
  },
  {
   "cell_type": "code",
   "execution_count": 13,
   "metadata": {},
   "outputs": [
    {
     "name": "stdout",
     "output_type": "stream",
     "text": [
      "section_id: 1\n",
      "section_name: first section\n",
      "section_text: text from the first section\n",
      "section_id: 2\n",
      "section_name: first section\n",
      "section_text: text from the first section\n",
      "section_id: 3\n",
      "section_name: first section\n",
      "section_text: text from the first section\n",
      "section_id: 4\n",
      "section_name: first section\n",
      "section_text: text from the first section\n",
      "section_id: 5\n",
      "section_name: first section\n",
      "section_text: text from the first section\n"
     ]
    }
   ],
   "source": [
    "# query database to check if data was added\n",
    "result = session.query(Sections).all()\n",
    "for row in result:\n",
    "    print('section_id: {}'.format(row.section_id))\n",
    "    print('section_name: {}'.format(row.section_name))\n",
    "    print('section_text: {}'.format(row.section_text))"
   ]
  },
  {
   "cell_type": "code",
   "execution_count": 14,
   "metadata": {},
   "outputs": [
    {
     "data": {
      "text/plain": [
       "[<Sections section_id: 1 | section_name: first section>,\n",
       " <Sections section_id: 2 | section_name: first section>,\n",
       " <Sections section_id: 3 | section_name: first section>,\n",
       " <Sections section_id: 4 | section_name: first section>,\n",
       " <Sections section_id: 5 | section_name: first section>]"
      ]
     },
     "execution_count": 14,
     "metadata": {},
     "output_type": "execute_result"
    }
   ],
   "source": [
    "# view the __repr__ of the SQLAlchemy class\n",
    "result"
   ]
  },
  {
   "cell_type": "markdown",
   "metadata": {},
   "source": [
    "## Exercise\n",
    "\n",
    "Create and query a data containing StackOverflow questions data.\n",
    "\n",
    "The questions are randomized and contains a mix of verbose text sites as well as sites related to math and programming. The number of questions from each site may vary, and no filtering has been performed on the questions (such as closed questions).\n",
    "\n",
    "#### Data Dictionary:\n",
    "- Id - Unique identifier for each question\n",
    "- Title - The question's title\n",
    "- Body - The body of the question\n",
    "- Tags - The tags associated with the question (all lowercase, should not contain tabs '\\t' or ampersands '&')\n",
    "\n",
    "Source: https://www.kaggle.com/c/facebook-recruiting-iii-keyword-extraction"
   ]
  },
  {
   "cell_type": "markdown",
   "metadata": {},
   "source": [
    "### Create a table named StackOverflow with the following columns and data types\n",
    "- Id - Integer, primary_key\n",
    "- Title - Text, nullble\n",
    "- Body - Text, nullable\n",
    "- Tags - Text, nullable\n",
    "- Add a __repr__ that prints out the Id and Title"
   ]
  },
  {
   "cell_type": "code",
   "execution_count": 15,
   "metadata": {
    "collapsed": true
   },
   "outputs": [],
   "source": [
    "class StackOverflow(Base):\n",
    "    __tablename__ = 'STACKOVERFLOW'\n",
    "\n",
    "    Id = Column(Text(), nullable=False, primary_key=True)\n",
    "    Title = Column(Text(), nullable=True)\n",
    "    Body = Column(Text(), nullable=True)\n",
    "    Tags = Column(Integer(), nullable=True) \n",
    "    \n",
    "    def __repr__(self):\n",
    "        return '<StackOverflow Id: {} | Title: {}>'.format(\n",
    "            self.Id, self.Title)"
   ]
  },
  {
   "cell_type": "code",
   "execution_count": 16,
   "metadata": {},
   "outputs": [
    {
     "data": {
      "text/plain": [
       "'sqlite:///C:\\\\Users\\\\alsherman\\\\Desktop\\\\General_Assembly\\\\ds-dc-22\\\\2_dataset\\\\stackoverflow.sqlite'"
      ]
     },
     "execution_count": 16,
     "metadata": {},
     "output_type": "execute_result"
    }
   ],
   "source": [
    "# confirm the path to the stackoverflow database\n",
    "DB_PATH"
   ]
  },
  {
   "cell_type": "code",
   "execution_count": 17,
   "metadata": {
    "collapsed": true
   },
   "outputs": [],
   "source": [
    "# create a engine session to connect to the database \n",
    "from sqlalchemy.orm import sessionmaker\n",
    "\n",
    "engine = create_engine(DB_PATH)\n",
    "Session = sessionmaker(bind=engine)\n",
    "session = Session()"
   ]
  },
  {
   "cell_type": "markdown",
   "metadata": {},
   "source": [
    "# SQL"
   ]
  },
  {
   "cell_type": "code",
   "execution_count": 18,
   "metadata": {},
   "outputs": [
    {
     "data": {
      "text/html": [
       "<iframe src=http://docs.sqlalchemy.org/en/latest/orm/tutorial.html width=1100 height=300></iframe>"
      ],
      "text/plain": [
       "<IPython.core.display.HTML object>"
      ]
     },
     "execution_count": 18,
     "metadata": {},
     "output_type": "execute_result"
    }
   ],
   "source": [
    "database_url = 'http://docs.sqlalchemy.org/en/latest/orm/tutorial.html'\n",
    "iframe = '<iframe src={} width=1100 height=300></iframe>'.format(database_url)\n",
    "HTML(iframe)"
   ]
  },
  {
   "cell_type": "code",
   "execution_count": 19,
   "metadata": {},
   "outputs": [
    {
     "name": "stdout",
     "output_type": "stream",
     "text": [
      "Question Id: 10001\n",
      "TITLE: How to retrieve ID of button clicked within usercontrol on Asp.net page?\n",
      "TAGS: asp.net usercontrols \n",
      "\n"
     ]
    }
   ],
   "source": [
    "# SQLAlchemy ORM\n",
    "for result in session.query(StackOverflow)[0:3]:\n",
    "    print('Question Id: {}'.format(result.Id))\n",
    "    print('TITLE: {}'.format(result.Title))\n",
    "    print('TAGS: {} \\n'.format(result.Tags))"
   ]
  },
  {
   "cell_type": "code",
   "execution_count": 20,
   "metadata": {},
   "outputs": [
    {
     "name": "stdout",
     "output_type": "stream",
     "text": [
      "Question Id: 10001\n",
      "TITLE: How to retrieve ID of button clicked within usercontrol on Asp.net page?\n",
      "TAGS: asp.net usercontrols \n",
      "\n"
     ]
    }
   ],
   "source": [
    "# SQLAlchamy Core - SQL Expression Language\n",
    "from sqlalchemy.sql import text\n",
    "\n",
    "query = text('SELECT * FROM StackOverflow LIMIT 3')\n",
    "for result in session.execute(query):\n",
    "    print('Question Id: {}'.format(result.Id))\n",
    "    print('TITLE: {}'.format(result.Title))\n",
    "    print('TAGS: {} \\n'.format(result.Tags))"
   ]
  },
  {
   "cell_type": "code",
   "execution_count": 22,
   "metadata": {},
   "outputs": [
    {
     "data": {
      "text/html": [
       "<div>\n",
       "<style>\n",
       "    .dataframe thead tr:only-child th {\n",
       "        text-align: right;\n",
       "    }\n",
       "\n",
       "    .dataframe thead th {\n",
       "        text-align: left;\n",
       "    }\n",
       "\n",
       "    .dataframe tbody tr th {\n",
       "        vertical-align: top;\n",
       "    }\n",
       "</style>\n",
       "<table border=\"1\" class=\"dataframe\">\n",
       "  <thead>\n",
       "    <tr style=\"text-align: right;\">\n",
       "      <th></th>\n",
       "      <th>index</th>\n",
       "      <th>Id</th>\n",
       "      <th>Title</th>\n",
       "      <th>Body</th>\n",
       "      <th>Tags</th>\n",
       "    </tr>\n",
       "  </thead>\n",
       "  <tbody>\n",
       "    <tr>\n",
       "      <th>0</th>\n",
       "      <td>10000</td>\n",
       "      <td>10001</td>\n",
       "      <td>How to retrieve ID of button clicked within us...</td>\n",
       "      <td>&lt;p&gt;I have a page that I am working on that I'm...</td>\n",
       "      <td>asp.net usercontrols</td>\n",
       "    </tr>\n",
       "  </tbody>\n",
       "</table>\n",
       "</div>"
      ],
      "text/plain": [
       "   index     Id                                              Title  \\\n",
       "0  10000  10001  How to retrieve ID of button clicked within us...   \n",
       "\n",
       "                                                Body                  Tags  \n",
       "0  <p>I have a page that I am working on that I'm...  asp.net usercontrols  "
      ]
     },
     "execution_count": 22,
     "metadata": {},
     "output_type": "execute_result"
    }
   ],
   "source": [
    "# Pandas\n",
    "import pandas as pd\n",
    "pd.read_sql('SELECT * FROM STACKOVERFLOW LIMIT 3', con=engine)"
   ]
  },
  {
   "cell_type": "markdown",
   "metadata": {},
   "source": [
    "### SELECT"
   ]
  },
  {
   "cell_type": "code",
   "execution_count": 23,
   "metadata": {},
   "outputs": [
    {
     "data": {
      "text/plain": [
       "[(10001, 'asp.net usercontrols')]"
      ]
     },
     "execution_count": 23,
     "metadata": {},
     "output_type": "execute_result"
    }
   ],
   "source": [
    "# SQLAlchemy ORM\n",
    "session.query(StackOverflow.Id, StackOverflow.Tags).limit(3).all()"
   ]
  },
  {
   "cell_type": "code",
   "execution_count": 24,
   "metadata": {},
   "outputs": [
    {
     "name": "stdout",
     "output_type": "stream",
     "text": [
      "SELECT \"STACKOVERFLOW\".\"Id\" AS \"STACKOVERFLOW_Id\", \"STACKOVERFLOW\".\"Tags\" AS \"STACKOVERFLOW_Tags\" \n",
      "FROM \"STACKOVERFLOW\"\n",
      " LIMIT ? OFFSET ?\n"
     ]
    }
   ],
   "source": [
    "# Raw SQL Query\n",
    "print(session.query(StackOverflow.Id, StackOverflow.Tags).limit(3))"
   ]
  },
  {
   "cell_type": "code",
   "execution_count": 25,
   "metadata": {},
   "outputs": [
    {
     "data": {
      "text/plain": [
       "[(10001, 'asp.net usercontrols')]"
      ]
     },
     "execution_count": 25,
     "metadata": {},
     "output_type": "execute_result"
    }
   ],
   "source": [
    "# SQLAlchamy Core - SQL Expression Language\n",
    "query = text('SELECT Id, Tags FROM StackOverflow LIMIT 3')\n",
    "session.execute(query).fetchall()"
   ]
  },
  {
   "cell_type": "code",
   "execution_count": 26,
   "metadata": {},
   "outputs": [
    {
     "data": {
      "text/html": [
       "<div>\n",
       "<style>\n",
       "    .dataframe thead tr:only-child th {\n",
       "        text-align: right;\n",
       "    }\n",
       "\n",
       "    .dataframe thead th {\n",
       "        text-align: left;\n",
       "    }\n",
       "\n",
       "    .dataframe tbody tr th {\n",
       "        vertical-align: top;\n",
       "    }\n",
       "</style>\n",
       "<table border=\"1\" class=\"dataframe\">\n",
       "  <thead>\n",
       "    <tr style=\"text-align: right;\">\n",
       "      <th></th>\n",
       "      <th>Id</th>\n",
       "      <th>Tags</th>\n",
       "    </tr>\n",
       "  </thead>\n",
       "  <tbody>\n",
       "    <tr>\n",
       "      <th>0</th>\n",
       "      <td>10001</td>\n",
       "      <td>asp.net usercontrols</td>\n",
       "    </tr>\n",
       "  </tbody>\n",
       "</table>\n",
       "</div>"
      ],
      "text/plain": [
       "      Id                  Tags\n",
       "0  10001  asp.net usercontrols"
      ]
     },
     "execution_count": 26,
     "metadata": {},
     "output_type": "execute_result"
    }
   ],
   "source": [
    "#Pandas \n",
    "pd.read_sql('SELECT Id, Tags FROM STACKOVERFLOW LIMIT 3', con=engine)"
   ]
  },
  {
   "cell_type": "markdown",
   "metadata": {},
   "source": [
    "### WHERE"
   ]
  },
  {
   "cell_type": "code",
   "execution_count": 27,
   "metadata": {},
   "outputs": [
    {
     "data": {
      "text/plain": [
       "[]"
      ]
     },
     "execution_count": 27,
     "metadata": {},
     "output_type": "execute_result"
    }
   ],
   "source": [
    "# SQLAlchemy ORM\n",
    "session.query(StackOverflow.Id, StackOverflow.Title\n",
    "    ).filter(StackOverflow.Tags == 'python').limit(3).all()"
   ]
  },
  {
   "cell_type": "code",
   "execution_count": 28,
   "metadata": {},
   "outputs": [
    {
     "name": "stdout",
     "output_type": "stream",
     "text": [
      "SELECT \"STACKOVERFLOW\".\"Id\" AS \"STACKOVERFLOW_Id\", \"STACKOVERFLOW\".\"Title\" AS \"STACKOVERFLOW_Title\" \n",
      "FROM \"STACKOVERFLOW\" \n",
      "WHERE \"STACKOVERFLOW\".\"Tags\" = ?\n",
      " LIMIT ? OFFSET ?\n"
     ]
    }
   ],
   "source": [
    "# Raw SQL Query\n",
    "print(session.query(StackOverflow.Id, StackOverflow.Title\n",
    "    ).filter(StackOverflow.Tags == 'python').limit(3))"
   ]
  },
  {
   "cell_type": "code",
   "execution_count": 29,
   "metadata": {},
   "outputs": [
    {
     "data": {
      "text/plain": [
       "[]"
      ]
     },
     "execution_count": 29,
     "metadata": {},
     "output_type": "execute_result"
    }
   ],
   "source": [
    "# SQLAlchamy Core - SQL Expression Language\n",
    "query = text('SELECT Id, Tags, Title FROM STACKOVERFLOW WHERE Tags = \"python\" LIMIT 3')\n",
    "session.execute(query).fetchall()"
   ]
  },
  {
   "cell_type": "code",
   "execution_count": 30,
   "metadata": {},
   "outputs": [
    {
     "data": {
      "text/html": [
       "<div>\n",
       "<style>\n",
       "    .dataframe thead tr:only-child th {\n",
       "        text-align: right;\n",
       "    }\n",
       "\n",
       "    .dataframe thead th {\n",
       "        text-align: left;\n",
       "    }\n",
       "\n",
       "    .dataframe tbody tr th {\n",
       "        vertical-align: top;\n",
       "    }\n",
       "</style>\n",
       "<table border=\"1\" class=\"dataframe\">\n",
       "  <thead>\n",
       "    <tr style=\"text-align: right;\">\n",
       "      <th></th>\n",
       "      <th>Id</th>\n",
       "      <th>Tags</th>\n",
       "      <th>Title</th>\n",
       "    </tr>\n",
       "  </thead>\n",
       "  <tbody>\n",
       "  </tbody>\n",
       "</table>\n",
       "</div>"
      ],
      "text/plain": [
       "Empty DataFrame\n",
       "Columns: [Id, Tags, Title]\n",
       "Index: []"
      ]
     },
     "execution_count": 30,
     "metadata": {},
     "output_type": "execute_result"
    }
   ],
   "source": [
    "# Pandas\n",
    "pd.read_sql('SELECT Id, Tags, Title FROM STACKOVERFLOW WHERE Tags = \"python\" LIMIT 3', con=engine)"
   ]
  },
  {
   "cell_type": "markdown",
   "metadata": {},
   "source": [
    "### LIKE"
   ]
  },
  {
   "cell_type": "code",
   "execution_count": 31,
   "metadata": {},
   "outputs": [
    {
     "data": {
      "text/plain": [
       "[]"
      ]
     },
     "execution_count": 31,
     "metadata": {},
     "output_type": "execute_result"
    }
   ],
   "source": [
    "# SQLAlchemy ORM\n",
    "session.query(StackOverflow.Tags\n",
    "    ).filter(StackOverflow.Tags.like('%python%')).limit(3).all()"
   ]
  },
  {
   "cell_type": "code",
   "execution_count": 32,
   "metadata": {},
   "outputs": [
    {
     "name": "stdout",
     "output_type": "stream",
     "text": [
      "SELECT \"STACKOVERFLOW\".\"Tags\" AS \"STACKOVERFLOW_Tags\" \n",
      "FROM \"STACKOVERFLOW\" \n",
      "WHERE \"STACKOVERFLOW\".\"Tags\" LIKE ?\n",
      " LIMIT ? OFFSET ?\n"
     ]
    }
   ],
   "source": [
    "# Raw SQL Query\n",
    "print(session.query(StackOverflow.Tags\n",
    "    ).filter(StackOverflow.Tags.like('%python%')).limit(3))"
   ]
  },
  {
   "cell_type": "code",
   "execution_count": 33,
   "metadata": {},
   "outputs": [
    {
     "name": "stdout",
     "output_type": "stream",
     "text": [
      "SELECT \"STACKOVERFLOW\".\"Tags\" AS \"STACKOVERFLOW_Tags\" \n",
      "FROM \"STACKOVERFLOW\" \n",
      "WHERE \"STACKOVERFLOW\".\"Tags\" LIKE ?\n",
      " LIMIT ? OFFSET ?\n"
     ]
    }
   ],
   "source": [
    "# Raw SQL Query\n",
    "print(session.query(StackOverflow.Tags\n",
    "    ).filter(StackOverflow.Tags.like('%python%')).limit(3))"
   ]
  },
  {
   "cell_type": "code",
   "execution_count": 34,
   "metadata": {},
   "outputs": [
    {
     "data": {
      "text/plain": [
       "[]"
      ]
     },
     "execution_count": 34,
     "metadata": {},
     "output_type": "execute_result"
    }
   ],
   "source": [
    "# SQLAlchamy Core - SQL Expression Language\n",
    "query = text('SELECT Tags FROM STACKOVERFLOW WHERE Tags LIKE \"%python%\" LIMIT 3')\n",
    "session.execute(query).fetchall()"
   ]
  },
  {
   "cell_type": "code",
   "execution_count": 35,
   "metadata": {},
   "outputs": [
    {
     "data": {
      "text/html": [
       "<div>\n",
       "<style>\n",
       "    .dataframe thead tr:only-child th {\n",
       "        text-align: right;\n",
       "    }\n",
       "\n",
       "    .dataframe thead th {\n",
       "        text-align: left;\n",
       "    }\n",
       "\n",
       "    .dataframe tbody tr th {\n",
       "        vertical-align: top;\n",
       "    }\n",
       "</style>\n",
       "<table border=\"1\" class=\"dataframe\">\n",
       "  <thead>\n",
       "    <tr style=\"text-align: right;\">\n",
       "      <th></th>\n",
       "      <th>Tags</th>\n",
       "    </tr>\n",
       "  </thead>\n",
       "  <tbody>\n",
       "  </tbody>\n",
       "</table>\n",
       "</div>"
      ],
      "text/plain": [
       "Empty DataFrame\n",
       "Columns: [Tags]\n",
       "Index: []"
      ]
     },
     "execution_count": 35,
     "metadata": {},
     "output_type": "execute_result"
    }
   ],
   "source": [
    "# Pandas\n",
    "pd.read_sql('SELECT Tags FROM STACKOVERFLOW WHERE Tags LIKE \"%python%\" LIMIT 3', con=engine)"
   ]
  },
  {
   "cell_type": "markdown",
   "metadata": {},
   "source": [
    "### IN"
   ]
  },
  {
   "cell_type": "code",
   "execution_count": 36,
   "metadata": {},
   "outputs": [
    {
     "data": {
      "text/plain": [
       "[]"
      ]
     },
     "execution_count": 36,
     "metadata": {},
     "output_type": "execute_result"
    }
   ],
   "source": [
    "# SQLAlchemy ORM\n",
    "session.query(StackOverflow.Title\n",
    "    ).filter(StackOverflow.Tags.in_(['python', 'java', 'sql'])).limit(3).all()"
   ]
  },
  {
   "cell_type": "code",
   "execution_count": 37,
   "metadata": {},
   "outputs": [
    {
     "name": "stdout",
     "output_type": "stream",
     "text": [
      "SELECT \"STACKOVERFLOW\".\"Title\" AS \"STACKOVERFLOW_Title\" \n",
      "FROM \"STACKOVERFLOW\" \n",
      "WHERE \"STACKOVERFLOW\".\"Tags\" IN (?, ?, ?)\n",
      " LIMIT ? OFFSET ?\n"
     ]
    }
   ],
   "source": [
    "# Raw SQL Query\n",
    "print(session.query(StackOverflow.Title\n",
    "    ).filter(StackOverflow.Tags.in_(['python', 'java', 'sql'])).limit(3))"
   ]
  },
  {
   "cell_type": "code",
   "execution_count": 38,
   "metadata": {},
   "outputs": [
    {
     "data": {
      "text/plain": [
       "[]"
      ]
     },
     "execution_count": 38,
     "metadata": {},
     "output_type": "execute_result"
    }
   ],
   "source": [
    "# SQLAlchamy Core - SQL Expression Language\n",
    "query = text('SELECT Title FROM STACKOVERFLOW WHERE Tags IN (\"python\",\"java\",\"sql\") LIMIT 3')\n",
    "session.execute(query).fetchall()"
   ]
  },
  {
   "cell_type": "code",
   "execution_count": 39,
   "metadata": {},
   "outputs": [
    {
     "data": {
      "text/html": [
       "<div>\n",
       "<style>\n",
       "    .dataframe thead tr:only-child th {\n",
       "        text-align: right;\n",
       "    }\n",
       "\n",
       "    .dataframe thead th {\n",
       "        text-align: left;\n",
       "    }\n",
       "\n",
       "    .dataframe tbody tr th {\n",
       "        vertical-align: top;\n",
       "    }\n",
       "</style>\n",
       "<table border=\"1\" class=\"dataframe\">\n",
       "  <thead>\n",
       "    <tr style=\"text-align: right;\">\n",
       "      <th></th>\n",
       "      <th>Title</th>\n",
       "    </tr>\n",
       "  </thead>\n",
       "  <tbody>\n",
       "  </tbody>\n",
       "</table>\n",
       "</div>"
      ],
      "text/plain": [
       "Empty DataFrame\n",
       "Columns: [Title]\n",
       "Index: []"
      ]
     },
     "execution_count": 39,
     "metadata": {},
     "output_type": "execute_result"
    }
   ],
   "source": [
    "# Pandas\n",
    "pd.read_sql('SELECT Title FROM STACKOVERFLOW WHERE Tags IN (\"python\",\"java\",\"sql\") LIMIT 3'\n",
    "            , con=engine)"
   ]
  },
  {
   "cell_type": "markdown",
   "metadata": {},
   "source": [
    "### COUNT"
   ]
  },
  {
   "cell_type": "code",
   "execution_count": 40,
   "metadata": {},
   "outputs": [
    {
     "data": {
      "text/plain": [
       "1"
      ]
     },
     "execution_count": 40,
     "metadata": {},
     "output_type": "execute_result"
    }
   ],
   "source": [
    "# SQLAlchemy ORM\n",
    "session.query(StackOverflow).count()"
   ]
  },
  {
   "cell_type": "code",
   "execution_count": null,
   "metadata": {
    "collapsed": true
   },
   "outputs": [],
   "source": [
    "# SQLAlchamy Core - SQL Expression Language\n",
    "query = text('SELECT COUNT(*) FROM STACKOVERFLOW')\n",
    "session.execute(query).scalar()  # scalar returns a single value (no tuple)"
   ]
  },
  {
   "cell_type": "code",
   "execution_count": null,
   "metadata": {
    "collapsed": true
   },
   "outputs": [],
   "source": [
    "# Pandas\n",
    "pd.read_sql('SELECT COUNT(*) FROM STACKOVERFLOW', con=engine)"
   ]
  },
  {
   "cell_type": "markdown",
   "metadata": {},
   "source": [
    "### GROUP BY"
   ]
  },
  {
   "cell_type": "code",
   "execution_count": null,
   "metadata": {
    "collapsed": true
   },
   "outputs": [],
   "source": [
    "# SQLAlchemy ORM\n",
    "from sqlalchemy import func\n",
    "\n",
    "session.query(StackOverflow.Tags, func.count(StackOverflow.Tags)\n",
    "    ).group_by(StackOverflow.Tags\n",
    "    ).order_by(func.count(StackOverflow.Tags).desc()\n",
    "    ).limit(3).all()"
   ]
  },
  {
   "cell_type": "code",
   "execution_count": null,
   "metadata": {
    "collapsed": true
   },
   "outputs": [],
   "source": [
    "# Raw SQL Query\n",
    "print(session.query(StackOverflow.Tags, func.count(StackOverflow.Tags)\n",
    "    ).group_by(StackOverflow.Tags\n",
    "    ).order_by(func.count(StackOverflow.Tags).desc()\n",
    "    ).limit(3))"
   ]
  },
  {
   "cell_type": "code",
   "execution_count": null,
   "metadata": {
    "collapsed": true
   },
   "outputs": [],
   "source": [
    "# SQLAlchamy Core - SQL Expression Language\n",
    "query = text(\"\"\"SELECT Tags, COUNT(Tags)\n",
    "            FROM STACKOVERFLOW\n",
    "            GROUP BY Tags\n",
    "            ORDER BY COUNT(Tags) Desc\n",
    "            LIMIT 3\"\"\")\n",
    "session.execute(query).fetchall()  # scalar returns a single value (no tuple)"
   ]
  },
  {
   "cell_type": "code",
   "execution_count": null,
   "metadata": {
    "collapsed": true
   },
   "outputs": [],
   "source": [
    "# Pandas\n",
    "pd.read_sql(\"\"\"SELECT Tags, COUNT(Tags)\n",
    "            FROM STACKOVERFLOW\n",
    "            GROUP BY Tags\n",
    "            ORDER BY COUNT(Tags) Desc\n",
    "            LIMIT 3\n",
    "            \"\"\", con=engine)"
   ]
  },
  {
   "cell_type": "markdown",
   "metadata": {},
   "source": [
    "## Extra Material"
   ]
  },
  {
   "cell_type": "markdown",
   "metadata": {},
   "source": [
    "#### determine the schema of an existing table"
   ]
  },
  {
   "cell_type": "code",
   "execution_count": null,
   "metadata": {
    "collapsed": true
   },
   "outputs": [],
   "source": [
    "from sqlalchemy import create_engine\n",
    "from sqlalchemy.engine import reflection\n",
    "\n",
    "insp = reflection.Inspector.from_engine(engine)\n",
    "for d in insp.get_columns('StackOverflow'):\n",
    "    print('name: {} | type: {} | nullable: {} | primary_key: {}'.format(\n",
    "        d['name'], d['type'], d['nullable'], d['primary_key']))"
   ]
  },
  {
   "cell_type": "markdown",
   "metadata": {},
   "source": [
    "#### load database iteratively from pandas"
   ]
  },
  {
   "cell_type": "code",
   "execution_count": null,
   "metadata": {
    "collapsed": true
   },
   "outputs": [],
   "source": [
    "import pandas as pd\n",
    "import datetime as dt\n",
    "import zipfile\n",
    "from sqlalchemy.orm import sessionmaker\n",
    "from sqlalchemy import create_engine\n",
    "\n",
    "start = dt.datetime.now()\n",
    "chunksize = 10000\n",
    "ZIP_FILE_NAME = r''\n",
    "CSV_NAME = r''\n",
    "\n",
    "zf = zipfile.ZipFile(ZIP_FILE_NAME)\n",
    "\n",
    "engine = create_engine(DB_PATH)\n",
    "for ind, df in enumerate(pd.read_csv(\n",
    "    zf.open(CSV_NAME), chunksize=chunksize, iterator=True, encoding='utf-8', nrows=10_001)):\n",
    "    \n",
    "    print('{} seconds: completed {} rows'.format(\n",
    "        (dt.datetime.now() - start).seconds, ind*chunksize))\n",
    "\n",
    "    df.to_sql('STACKOVERFLOW', con=engine, if_exists='append')"
   ]
  }
 ],
 "metadata": {
  "kernelspec": {
   "display_name": "Python 3",
   "language": "python",
   "name": "python3"
  },
  "language_info": {
   "codemirror_mode": {
    "name": "ipython",
    "version": 3
   },
   "file_extension": ".py",
   "mimetype": "text/x-python",
   "name": "python",
   "nbconvert_exporter": "python",
   "pygments_lexer": "ipython3",
   "version": "3.6.3"
  }
 },
 "nbformat": 4,
 "nbformat_minor": 2
}
