{
 "cells": [
  {
   "cell_type": "code",
   "execution_count": 355,
   "metadata": {
    "collapsed": true
   },
   "outputs": [],
   "source": [
    "from IPython.core.display import display, HTML\n",
    "import spacy\n",
    "from spacy.matcher import Matcher\n",
    "from spacy.matcher import PhraseMatcher\n",
    "from collections import defaultdict\n",
    "from spacy.lang.en.stop_words import STOP_WORDS\n",
    "\n",
    "GENSIM_DICTIONARY_PATH = '../raw_data/gensim/airline_dict.dict'\n",
    "GENSIM_CORPUS_PATH = '../raw_data/gensim/airline.mm'\n",
    "AIRLINE_FILEPATH = r'../raw_data/southwest_2016.txt' \n",
    "AIRLINE_ACRONYMS_FILEPATH = '../raw_data/airline_acronyms.csv'\n",
    "AIRLINE_CLEANED_TEXT_PATH = '../raw_data/gensim/airline_cleaned_text.txt'\n",
    "AIRLINE_LSI_MODEL_PATH = '../raw_data/gensim/airline_lsi_model.'\n",
    "AIRLINE_LDA_MODEL_PATH = '../raw_data/gensim/airline_lda_model.'"
   ]
  },
  {
   "cell_type": "code",
   "execution_count": 200,
   "metadata": {
    "collapsed": true
   },
   "outputs": [],
   "source": [
    "nlp = spacy.load('en_core_web_lg')\n",
    "\n",
    "for word in STOP_WORDS:\n",
    "    lexeme = nlp.vocab[word]\n",
    "    lexeme.is_stop = True\n",
    "\n",
    "\n",
    "with open(AIRLINE_FILEPATH, 'rb') as f:\n",
    "    data = [line.decode('utf-8') for line in f.readlines()]\n",
    "data = ' '.join(data).replace('\\r',' ').replace('/s',' ').replace('\\n',' ').strip()\n",
    "\n",
    "doc = nlp(data)"
   ]
  },
  {
   "cell_type": "markdown",
   "metadata": {},
   "source": [
    "### SpaCy - Text Extraction"
   ]
  },
  {
   "cell_type": "code",
   "execution_count": 201,
   "metadata": {
    "collapsed": true
   },
   "outputs": [],
   "source": [
    "def collect_sents(matcher, doc, i, matches):\n",
    "    match_id, start, end = matches[i]\n",
    "    span = doc[start : end] # matched span\n",
    "    entity = span.lemma_.lower()\n",
    "    sent = span.sent\n",
    "        \n",
    "    # add the first entity and return as there is no last match to check    \n",
    "    if i == 0:\n",
    "        ent_count[entity] += 1\n",
    "        ent_sents[entity].append(sent)\n",
    "        matched_sents.append(sent)\n",
    "        return\n",
    "\n",
    "    # get the last match to avoid adding duplicates when one term is contained\n",
    "    # in another (e.g. 'integration services' in 'system integration services')\n",
    "    last_match_id, last_start, last_end = matches[i-1]\n",
    "    last_span = doc[last_start : last_end]\n",
    "    last_entity = last_span.text.lower()\n",
    "    last_sent = last_span.sent\n",
    "\n",
    "    distinct_entity = (entity not in last_entity) or (sent != last_sent)\n",
    "    not_duplicate_entity = (entity != last_entity) or (sent != last_sent)\n",
    "    \n",
    "    if distinct_entity and not_duplicate_entity:\n",
    "        ent_count[entity] += 1\n",
    "        ent_sents[entity].append(sent)\n",
    "        matched_sents.append(sent)"
   ]
  },
  {
   "cell_type": "code",
   "execution_count": 202,
   "metadata": {
    "collapsed": true
   },
   "outputs": [],
   "source": [
    "matched_sents = []\n",
    "ent_sents = defaultdict(list)\n",
    "ent_count = defaultdict(int)\n",
    "pattern = [{'POS': 'NOUN', 'OP': '+'},{'LOWER': 'services'}]\n",
    "matcher = Matcher(nlp.vocab)\n",
    "matcher.add('ServiceTypes', collect_sents, pattern) # add pattern\n",
    "matches = matcher(doc) # match on your text\n",
    "\n",
    "matched_sents = []\n",
    "ent_sents = defaultdict(list)\n",
    "ent_count = defaultdict(int)\n",
    "pattern = [{'POS': 'NOUN', 'OP': '+'},{'LOWER': 'products'}]\n",
    "matcher = Matcher(nlp.vocab)\n",
    "matcher.add('ProductTypes', collect_sents, pattern) # add pattern\n",
    "matches = matcher(doc) # match on your text\n",
    "\n",
    "matched_sents = []\n",
    "ent_sents  = defaultdict(list)\n",
    "ent_count = defaultdict(int)\n",
    "pattern = [[{'POS': 'NOUN', 'OP': '+'},{'LOWER': 'fee'}]\n",
    "           , [{'POS': 'NOUN', 'OP': '+'},{'LOWER': 'fees'}]]\n",
    "matcher = Matcher(nlp.vocab)\n",
    "matcher.add('ProductTypes', collect_sents, *pattern) # add pattern\n",
    "matches = matcher(doc) # match on your text"
   ]
  },
  {
   "cell_type": "code",
   "execution_count": 204,
   "metadata": {},
   "outputs": [
    {
     "data": {
      "text/plain": [
       "No Show policy, funds may be applied to future travel on Southwest without a change fee.  "
      ]
     },
     "execution_count": 204,
     "metadata": {},
     "output_type": "execute_result"
    }
   ],
   "source": [
    "matched_sents[0]"
   ]
  },
  {
   "cell_type": "code",
   "execution_count": 205,
   "metadata": {},
   "outputs": [
    {
     "data": {
      "text/plain": [
       "defaultdict(int,\n",
       "            {'agriculture inspection fee': 1,\n",
       "             'aircraft fee': 1,\n",
       "             'attorneys’ fee': 3,\n",
       "             'bag fee': 5,\n",
       "             'baggage fee': 2,\n",
       "             'change fee': 4,\n",
       "             'credit card fee': 1,\n",
       "             'custom fee': 1,\n",
       "             'landing fee': 10,\n",
       "             'passenger agriculture inspection fee': 1,\n",
       "             'refund passenger fee': 1,\n",
       "             'service fee': 1,\n",
       "             'usage fee': 1})"
      ]
     },
     "execution_count": 205,
     "metadata": {},
     "output_type": "execute_result"
    }
   ],
   "source": [
    "ent_count"
   ]
  },
  {
   "cell_type": "code",
   "execution_count": 206,
   "metadata": {},
   "outputs": [
    {
     "data": {
      "text/plain": [
       "[Under this rule, which was effective  December 28, 2015, the per-passenger agriculture inspection fee is $5.00 and the per-commercial  aircraft fee is $225.00.  ]"
      ]
     },
     "execution_count": 206,
     "metadata": {},
     "output_type": "execute_result"
    }
   ],
   "source": [
    "ent_sents['aircraft fee']"
   ]
  },
  {
   "cell_type": "markdown",
   "metadata": {},
   "source": [
    "## Exercise\n",
    "\n",
    "Extract the fee amounts"
   ]
  },
  {
   "cell_type": "code",
   "execution_count": 102,
   "metadata": {
    "collapsed": true
   },
   "outputs": [],
   "source": [
    "# TODO"
   ]
  },
  {
   "cell_type": "markdown",
   "metadata": {},
   "source": [
    "### Text Preprocessing - Acronyms"
   ]
  },
  {
   "cell_type": "code",
   "execution_count": 303,
   "metadata": {},
   "outputs": [
    {
     "data": {
      "text/html": [
       "<div>\n",
       "<style>\n",
       "    .dataframe thead tr:only-child th {\n",
       "        text-align: right;\n",
       "    }\n",
       "\n",
       "    .dataframe thead th {\n",
       "        text-align: left;\n",
       "    }\n",
       "\n",
       "    .dataframe tbody tr th {\n",
       "        vertical-align: top;\n",
       "    }\n",
       "</style>\n",
       "<table border=\"1\" class=\"dataframe\">\n",
       "  <thead>\n",
       "    <tr style=\"text-align: right;\">\n",
       "      <th></th>\n",
       "      <th>Acronym</th>\n",
       "      <th>Definition</th>\n",
       "    </tr>\n",
       "  </thead>\n",
       "  <tbody>\n",
       "    <tr>\n",
       "      <th>0</th>\n",
       "      <td>A/C</td>\n",
       "      <td>Aircraft</td>\n",
       "    </tr>\n",
       "    <tr>\n",
       "      <th>1</th>\n",
       "      <td>A/G</td>\n",
       "      <td>Air to Ground</td>\n",
       "    </tr>\n",
       "    <tr>\n",
       "      <th>2</th>\n",
       "      <td>A/H</td>\n",
       "      <td>Altitude/Height</td>\n",
       "    </tr>\n",
       "    <tr>\n",
       "      <th>3</th>\n",
       "      <td>AAC</td>\n",
       "      <td>Mike Monroney Aeronautical Center</td>\n",
       "    </tr>\n",
       "    <tr>\n",
       "      <th>4</th>\n",
       "      <td>AAF</td>\n",
       "      <td>Army Air Field</td>\n",
       "    </tr>\n",
       "  </tbody>\n",
       "</table>\n",
       "</div>"
      ],
      "text/plain": [
       "  Acronym                          Definition\n",
       "0     A/C                            Aircraft\n",
       "1     A/G                       Air to Ground\n",
       "2     A/H                     Altitude/Height\n",
       "3     AAC   Mike Monroney Aeronautical Center\n",
       "4     AAF                      Army Air Field"
      ]
     },
     "execution_count": 303,
     "metadata": {},
     "output_type": "execute_result"
    }
   ],
   "source": [
    "airline_acronyms = pd.read_csv(AIRLINE_ACRONYMS_FILEPATH)\n",
    "airline_acronyms.head()\n",
    "\n",
    "# SOURCE: https://www.faa.gov/airports/resources/acronyms/"
   ]
  },
  {
   "cell_type": "code",
   "execution_count": 281,
   "metadata": {},
   "outputs": [
    {
     "data": {
      "text/plain": [
       "{'a/c': 'aircraft',\n",
       " 'a/g': 'air_to_ground',\n",
       " 'a/h': 'altitude/height',\n",
       " 'aac': 'mike_monroney_aeronautical_center',\n",
       " 'aaf': 'army_air_field',\n",
       " 'aai': 'arrival_aircraft_interval',\n",
       " 'aap': 'advanced_automation_program',\n",
       " 'aar': 'airport_acceptance_rate',\n",
       " 'abdis': 'automated_data_interchange_system_service_b',\n",
       " 'acais': 'air_carrier_activity_information_system',\n",
       " 'acas': 'aircraft_collision_avoidance_system',\n",
       " 'acc': 'area_control_center',\n",
       " 'acct': 'accounting_records',\n",
       " 'acd': 'automatic_call_distributor',\n",
       " 'acdo': 'air_carrier_district_office',\n",
       " 'acf': 'area_control_facility',\n",
       " 'acfo': 'aircraft_certification_field_office',\n",
       " 'acft': 'aircraft',\n",
       " 'aci-na': 'airports_council_international_-_north_america',\n",
       " 'acid': 'aircraft_identification',\n",
       " 'acip': 'airport_capital_improvement_plan',\n",
       " 'acls': 'automatic_carrier_landing_system',\n",
       " 'aclt': 'actual_landing_time_calculated',\n",
       " 'aco': 'office_of_airports_compliance_and_field_operations',\n",
       " 'acrp': 'airport_cooperative_research_program',\n",
       " 'ada': 'air_defense_area',\n",
       " 'adap': 'airport_development_aid_program',\n",
       " 'adas': 'awos_data_acquisition_system',\n",
       " 'adccp': 'advanced_data_communications_control_procedure',\n",
       " 'adda': 'administrative_data',\n",
       " 'adf': 'automatic_direction_finding',\n",
       " 'adg': 'airplane_design_group',\n",
       " 'adi': 'automatic_de-ice_and_inhibitor',\n",
       " 'adin': 'autodin_service',\n",
       " 'adiz': 'air_defense_identification_zone',\n",
       " 'adl': 'aeronautical_data-link',\n",
       " 'adly': 'arrival_delay',\n",
       " 'ado': 'airline_dispatch_office',\n",
       " 'adp': 'automated_data_processing',\n",
       " 'ads': 'automatic_dependent_surveillance',\n",
       " 'ads-b': 'automatic_dependent_surveillance-broadcast',\n",
       " 'adsim': 'airfield_delay_simulation_model',\n",
       " 'adsy': 'administrative_equipment_systems',\n",
       " 'adtn': 'administrative_data_transmission_network',\n",
       " 'adtn2000': 'administrative_data_transmission_network_2000',\n",
       " 'advo': 'administrative_voice',\n",
       " 'aeg': 'aircraft_evaluation_group',\n",
       " 'aera': 'automated_en-route_air_traffic_control',\n",
       " 'aex': 'automated_execution',\n",
       " 'afb': 'air_force_base',\n",
       " 'afis': 'automated_flight_inspection_system',\n",
       " 'afp': 'area_flight_plan',\n",
       " 'afres': 'air_force_reserve_station',\n",
       " 'afs': 'airways_facilities_sector',\n",
       " 'afsfo': 'afs_field_office',\n",
       " 'afsfu': 'afs_field_unit',\n",
       " 'afsou': 'afs_field_office_unit_(standard_is_afsfou)',\n",
       " 'afss': 'automated_flight_service_station',\n",
       " 'aftn': 'automated_fixed_telecommunications_network',\n",
       " 'agis': 'airports_geographic_information_system',\n",
       " 'agl': 'above_ground_level',\n",
       " 'aid': 'airport_information_desk',\n",
       " 'aig': 'airbus_industries_group',\n",
       " 'aim': \"airman's_information_manual\",\n",
       " 'aip': 'airport_improvement_plan',\n",
       " 'airmet': \"airmen's_meteorological_information\",\n",
       " 'airnet': 'airport_network_simulation_model',\n",
       " 'ais': 'aeronautical_information_service',\n",
       " 'ait': 'automated_information_transfer',\n",
       " 'alp': 'airport_layout_plan',\n",
       " 'als': 'approach_lighting_system',\n",
       " 'alsf1': 'als_with_sequenced_flashers_i',\n",
       " 'alsf2': 'als_with_sequenced_flashers_ii',\n",
       " 'alsip': 'approach_lighting_system_improvement_plan',\n",
       " 'altrv': 'altitude_reservation',\n",
       " 'amass': 'airport_movement_area_safety_system',\n",
       " 'amcc': 'acf/artcc_maintenance_control_center',\n",
       " 'amos': 'automated_meteorological_observation_station',\n",
       " 'amp': 'arinc_message_processor_(or)_airport_master_plan',\n",
       " 'amver': 'automated_mutual_assistance_vessel_rescue_system',\n",
       " 'anc': 'alternate_network_connectivity',\n",
       " 'anca': 'airport_noise_and_capacity_act',\n",
       " 'ang': 'air_national_guard',\n",
       " 'angb': 'air_national_guard_base',\n",
       " 'anms': 'automated_network_monitoring_system',\n",
       " 'ansi': 'american_national_standards_group',\n",
       " 'aoa': 'air_operations_area',\n",
       " 'app': 'approach',\n",
       " 'aps': 'airport_planning_standard',\n",
       " 'aqafo': 'aeronautical_quality_assurance_field_office',\n",
       " 'arac': 'aviation_rulemaking_advisory_committee',\n",
       " 'arc': 'airport_reference_code',\n",
       " 'arctr': 'faa_aeronautical_center_or_academy',\n",
       " 'arf': 'airport_reservation_function',\n",
       " 'arff': 'aircraft_rescue_and_fire_fighting',\n",
       " 'arinc': 'aeronautical_radio,_inc.',\n",
       " 'arlno': 'airline_office',\n",
       " 'aro': 'airport_reservation_office',\n",
       " 'arp': 'airport_reference_point',\n",
       " 'arra': 'american_recovery_and_reinvestment_act_of_2009',\n",
       " 'arsa': 'airport_service_radar_area',\n",
       " 'arsr': 'air_route_surveillance_radar',\n",
       " 'artcc': 'air_route_traffic_control_center',\n",
       " 'arts': 'automated_radar_terminal_system',\n",
       " 'asas': 'aviation_safety_analysis_system',\n",
       " 'asc': 'autodin_switching_center',\n",
       " 'ascp': 'aviation_system_capacity_plan',\n",
       " 'asd': 'aircraft_situation_display',\n",
       " 'asda': 'accelerate',\n",
       " 'aslar': 'aircraft_surge_launch_and_recovery',\n",
       " 'asm': 'available_seat_mile',\n",
       " 'asos': 'automatic_surface_observation_system',\n",
       " 'asp': 'arrival_sequencing_program',\n",
       " 'asqp': 'airline_service_quality_performance',\n",
       " 'asr': 'airport_surveillance_radar',\n",
       " 'asta': 'airport_surface_traffic_automation',\n",
       " 'asv': 'annual_service_volume',\n",
       " 'ata': 'air_transport_association_of_america',\n",
       " 'atas': 'airspace_and_traffic_advisory_service',\n",
       " 'atc': 'air_traffic_control',\n",
       " 'atcaa': 'air_traffic_control_assigned_airspace',\n",
       " 'atcbi': 'air_traffic_control_beacon_indicator',\n",
       " 'atccc': 'air_traffic_control_command_center',\n",
       " 'atco': 'air_taxi_commercial_operator',\n",
       " 'atcrb': 'air_traffic_control_radar_beacon',\n",
       " 'atcrbs': 'air_traffic_control_radar_beacon_system',\n",
       " 'atcscc': 'air_traffic_control_systems_command_center',\n",
       " 'atct': 'airport_traffic_control_tower',\n",
       " 'atis': 'automated_terminal_information_service',\n",
       " 'atisr': 'atis_recorder',\n",
       " 'atm': 'asynchronous_transfer_mode',\n",
       " 'atms': 'advanced_traffic_management_system',\n",
       " 'atn': 'aeronautical_telecommunications_network',\n",
       " 'atodn': 'autodin_terminal_(fus)',\n",
       " 'atoms': 'air_traffic_operations_management_system',\n",
       " 'atovn': 'auotvon_(facility)',\n",
       " 'ats': 'air_traffic_service',\n",
       " 'atsccp': 'ats_contingency_command_post',\n",
       " 'autodin': 'dod_automatic_digital_network',\n",
       " 'autovon': 'dod_automatic_voice_network',\n",
       " 'avn': 'aviation_standards_national_field_office,_oklahoma_city',\n",
       " 'avon': 'autovon_service',\n",
       " 'awis': 'airport_weather_information',\n",
       " 'awos': 'automated_weather_observation_system',\n",
       " 'awp': 'aviation_weather_processor',\n",
       " 'awpg': 'aviation_weather_products_generator',\n",
       " 'aws': 'air_weather_station',\n",
       " 'bans': 'brite_alphanumeric_system',\n",
       " 'bart': 'billing_analysis_reporting_tool_(gsa_software_tool)',\n",
       " 'basic': 'basic_contract_observing_station',\n",
       " 'basop': 'military_base_operations',\n",
       " 'bca': 'benefit/cost_analysis',\n",
       " 'bcr': 'benefit/cost_ratio',\n",
       " 'bdat': 'digitized_beacon_data',\n",
       " 'bmp': 'best_management_practices',\n",
       " 'boc': 'bell_operating_company',\n",
       " 'bps': 'bits_per_second',\n",
       " 'bri': 'basic_rate_interface',\n",
       " 'brite': 'bright_radar_indicator_terminal_equipment',\n",
       " 'brl': 'building_restriction_line',\n",
       " 'buec': 'back--_up_emergency_communications',\n",
       " 'buece': 'back--_up_emergency_communications_equipment',\n",
       " 'c/s/s/n': 'capacity/safety/security/noise',\n",
       " 'caa': 'clean_air_act',\n",
       " 'cab': 'civil_aeronautics_board',\n",
       " 'cac': \"citizen's_advisory_committee\",\n",
       " 'cad': 'computer_aided_design',\n",
       " 'carf': 'central_altitude_reservation_facility',\n",
       " 'casfo': 'civil_aviation_security_office',\n",
       " 'cat': 'clear',\n",
       " 'cau': 'crypto_ancillary_unit',\n",
       " 'cbi': 'computer_based_instruction',\n",
       " 'cc&o': 'customer_cost_and_obligation',\n",
       " 'ccc': 'communications_command_center',\n",
       " 'cccc': 'staff_communications',\n",
       " 'ccch': 'central_computer_complex_host',\n",
       " 'ccs7 -- ni': 'communication_channel_signal-7',\n",
       " 'ccsd': 'command_communications_service_designator',\n",
       " 'ccu': 'central_control_unit',\n",
       " 'cdr': 'cost_detail_report',\n",
       " 'cdt': 'controlled_departure_time_stop_distance_available',\n",
       " 'cdti': 'cockpit_display_of_traffic_information',\n",
       " 'centx': 'central_telephone_exchange',\n",
       " 'cep': 'capacity_enhancement_program',\n",
       " 'ceq': 'council_on_environmental_quality',\n",
       " 'cerap': 'combined_center/radar_approach_control',\n",
       " 'cfc': 'central_flow_control',\n",
       " 'cfcf': 'central_flow_control_facility',\n",
       " 'cfcs': 'central_flow_control_service',\n",
       " 'cfr': 'code_of_federal_regulations',\n",
       " 'cfwp': 'central_flow_weather_processor',\n",
       " 'cfwu': 'central_flow_weather_unit',\n",
       " 'cgas': 'coast_guard_air_station',\n",
       " 'cip': 'capital_improvement_plan',\n",
       " 'clc': 'course_line_computer',\n",
       " 'clin': 'contract_line_item',\n",
       " 'clt': 'calculated_landing_time',\n",
       " 'cnmps': 'canadian_minimum_navigation_performance_specification_airspace',\n",
       " 'cns': 'consolidated_notam_system',\n",
       " 'cnsp': 'consolidated_notam_system_processor',\n",
       " 'coe': 'u.s._army_corps_of_engineers',\n",
       " 'comco': 'command_communications_outlet',\n",
       " 'conus': 'continental_united_states',\n",
       " 'corp': 'private_corporation_other_than_arinc_or_mitre',\n",
       " 'cpe': 'customer_premise_equipment',\n",
       " 'cpmis': 'consolidated_personnel_management_information_system',\n",
       " 'cra': 'conflict_resolution_advisory',\n",
       " 'crda': 'converging_runway_display_aid',\n",
       " 'crt': 'cathode_ray_tube',\n",
       " 'csa': 'communications_service_authorization',\n",
       " 'csis': 'centralized_storm_information_system',\n",
       " 'cso': 'customer_service_office',\n",
       " 'csr': 'communications_service_request',\n",
       " 'css': 'central_site_system',\n",
       " 'cta': 'controlled_time_of_arrival',\n",
       " 'cta/fir': 'control_area/flight_information_region',\n",
       " 'ctaf': 'common_traffic_advisory_frequency',\n",
       " 'ctas': 'center',\n",
       " 'ctma': 'center_traffic_management_advisor',\n",
       " 'cups': 'consolidated_uniform_payroll_system',\n",
       " 'cvfr': 'controlled_visual_flight_rules',\n",
       " 'cvts': 'compressed_video_transmission_service',\n",
       " 'cwa': 'clean_water_act',\n",
       " 'cwsu': 'central_weather_service_unit',\n",
       " 'cwy': 'clearway',\n",
       " 'dabbs': 'ditco_automated_bulletin_board_system',\n",
       " 'dair': 'direct_altitude_and_identity_readout',\n",
       " 'dar': 'designated_agency_representative',\n",
       " 'darc': 'direct_access_radar_channel',\n",
       " 'dba': 'decibels_a-weighted',\n",
       " 'dbcrc': 'defense_base_closure_and_realignment_commission',\n",
       " 'dbe': 'disadvantaged_business_enterprise',\n",
       " 'dbms': 'data_base_management_system',\n",
       " 'dbrite': 'digital_bright_radar_indicator_tower_equipment',\n",
       " 'dca': 'defense_communications_agency',\n",
       " 'dcaa': 'dual_call,_automatic_answer_device',\n",
       " 'dccu': 'data_communications_control_unit',\n",
       " 'dce': 'data_communications_equipment',\n",
       " 'dda': 'dedicated_digital_access',\n",
       " 'ddd': 'direct_distance_dialing',\n",
       " 'ddm': 'difference_in_depth_of_modulation',\n",
       " 'dds': 'digital_data_service',\n",
       " 'dea': 'drug_enforcement_agency',\n",
       " 'deds': 'data_entry_and_display_system',\n",
       " 'deis': 'draft_environmental_impact_statement',\n",
       " 'dep': 'departure',\n",
       " 'dewiz': 'distance_early_warning_identification_zone',\n",
       " 'dfax': 'digital_facsimile',\n",
       " 'dfi': 'direction_finding_indicator',\n",
       " 'dgps': 'differential_global_positioning_satellite_(system)',\n",
       " 'did': 'direct_inward_dial',\n",
       " 'dip': 'drop_and_insert_point',\n",
       " 'dirf': 'direction_finding',\n",
       " 'ditco': 'defense_information_technology_contracting_office_agency',\n",
       " 'dme': 'distance_measuring_equipment',\n",
       " 'dme/p': 'precision_distance_measuring_equipment',\n",
       " 'dmn': 'data_multiplexing_network',\n",
       " 'dnl': 'day--_night_equivalent_sound_level_(also_called_ldn)',\n",
       " 'dod': 'direct_outward_dial',\n",
       " 'doi': 'department_of_interior',\n",
       " 'dos': 'department_of_state',\n",
       " 'dot': 'department_of_transportation',\n",
       " 'dotcc': 'department_of_transportation_computer_center',\n",
       " 'dots': 'dynamic_ocean_tracking_system',\n",
       " 'dscs': 'digital_satellite_compression_service',\n",
       " 'dsua': 'dynamic_special_use_airspace',\n",
       " 'dts': 'dedicated_transmission_service',\n",
       " 'duat': 'direct_user_access_terminal',\n",
       " 'dvfr': 'defense_visual_flight_rules',\n",
       " 'dvor': 'doppler_very_high_frequency_omni--_directional_range',\n",
       " 'dysim': 'dynamic_simulator',\n",
       " 'e-msaw': 'en-route_automated_minimum_safe_altitude_warning',\n",
       " 'earts': 'en_route_automated_radar_tracking_system',\n",
       " 'ecom': 'en_route_communications',\n",
       " 'ecvfp': 'expanded_charted_visual_flight_procedures',\n",
       " 'edct': 'expedite_departure_path',\n",
       " 'efas': 'en_route_flight_advisory_service',\n",
       " 'efc': 'expect_further_clearance',\n",
       " 'efis': 'electronic_flight_information_systems',\n",
       " 'eiaf': 'expanded_inward_access_features',\n",
       " 'eis': 'environmental_impact_statement',\n",
       " 'elt': 'emergency_locator_transmitter',\n",
       " 'elwrt': 'electrowriter',\n",
       " 'emas': 'engineered_materials_arresting_system',\n",
       " 'emps': 'en_route_maintenance_processor_system',\n",
       " 'ems': 'environmental_management_system',\n",
       " 'enav': 'en_route_navigational_aids',\n",
       " 'eof': 'emergency_operating_facility',\n",
       " 'epa': 'environmental_protection_agency',\n",
       " 'eps': 'engineered_performance_standards',\n",
       " 'epss': 'enhanced_packet_switched_service',\n",
       " 'erad': 'en_route_broadband_radar',\n",
       " 'esec': 'en_route_broadband_secondary_radar',\n",
       " 'esf': 'extended_superframe_format',\n",
       " 'esp': 'en_route_spacing_program',\n",
       " 'esys': 'en_route_equipment_systems',\n",
       " 'eta': 'estimated_time_of_arrival',\n",
       " 'ete': 'estimated_time_en_route',\n",
       " 'etg': 'enhanced_target_generator',\n",
       " 'etms': 'enhanced_traffic_management_system',\n",
       " 'etn': 'electronic_telecommunications_network',\n",
       " 'evas': 'enhanced_vortex_advisory_system',\n",
       " 'evcs': 'emergency_voice_communications_system',\n",
       " 'f&e': 'facilities_and_equipment',\n",
       " 'faa': 'federal_aviation_administration',\n",
       " 'faaac': 'faa_aeronautical_center',\n",
       " 'faacis': 'faa_communications_information_system',\n",
       " 'faatc': 'faa_technical_center',\n",
       " 'faatsat': 'faa_telecommunications_satellite',\n",
       " 'fac': 'facility',\n",
       " 'faf': 'final_approach_fix',\n",
       " 'fap': 'final_approach_point',\n",
       " 'fapm': 'fts2000_associate_program_manager',\n",
       " 'far': 'federal_aviation_regulation',\n",
       " 'fast': 'final_approach_spacing_tool',\n",
       " 'fato': 'final_approach_and_take_off',\n",
       " 'fax': 'facsimile_equipment',\n",
       " 'fbo': 'fixed_base_operator',\n",
       " 'fbs': 'fall_back_switch',\n",
       " 'fcc': 'federal_communications_commission',\n",
       " 'fclt': 'freeze_calculated_landing_time',\n",
       " 'fcom': 'fss_radio_voice_communications',\n",
       " 'fcpu': 'facility_central_processing_unit',\n",
       " 'fdat': 'flight_data_entry_and_printout_(fdep)_and_flight_data_service',\n",
       " 'fde': 'flight_data_entry',\n",
       " 'fdep': 'flight_data_entry_and_printout',\n",
       " 'fdio': 'flight_data_input/output',\n",
       " 'fdioc': 'flight_data_input/output_center',\n",
       " 'fdior': 'flight_data_input/output_remote',\n",
       " 'fdm': 'frequency_division_multiplexing',\n",
       " 'fdp': 'flight_data_processing',\n",
       " 'fed': 'federal',\n",
       " 'feis': 'final_environmental_impact_statement',\n",
       " 'fep': 'front_end_processor',\n",
       " 'ffac': 'from_facility_network_interconnect',\n",
       " 'fifo': 'flight_inspection_field_office',\n",
       " 'fig': 'flight_inspection_group',\n",
       " 'fino': 'flight_inspection_national_field_office_air_turbulence',\n",
       " 'fips': 'federal_information_publication_standard',\n",
       " 'fir': 'flight_information_region',\n",
       " 'fire': 'fire_station',\n",
       " 'firmr': 'federal_information_resource_management_regulation',\n",
       " 'flowsim': 'traffic_flow_planning_simulation',\n",
       " 'fma': 'final_monitor_aid',\n",
       " 'fmf': 'facility_master_file',\n",
       " 'fmis': 'fts2000_management_information_system',\n",
       " 'fms': 'flight_management_system',\n",
       " 'fnms': 'fts2000_network_management_system',\n",
       " 'foia': 'freedom_of_information_act',\n",
       " 'fonsi': 'finding_of_no_significant_impact',\n",
       " 'frc': 'request_full_route_clearance',\n",
       " 'fsas': 'flight_service_automation_system',\n",
       " 'fsdo': 'flight_standards_district_office',\n",
       " 'fsdps': 'flight_service_data_processing_system',\n",
       " 'fsep': 'facility/service/equipment_profile',\n",
       " 'fsp': 'flight_strip_printer',\n",
       " 'fspd': 'freeze_speed_parameter',\n",
       " 'fss': 'flight_service_station',\n",
       " 'fssa': 'flight_service_station_automated_service',\n",
       " 'fsts': 'federal_secure_telephone_service',\n",
       " 'fsys': 'flight_service_station_equipment_systems',\n",
       " 'fts': 'federal_telecommunications_system',\n",
       " 'fts2000': 'federal_telecommunications_system_2000',\n",
       " 'fus': 'functional_units_or_systems',\n",
       " 'fwcs': 'flight_watch_control_station',\n",
       " 'gaa': 'general_aviation_activity',\n",
       " 'gaaa': 'general_aviation_activity_and_avionics',\n",
       " 'gado': 'general_aviation_district_office',\n",
       " 'gca': 'ground_control_approach',\n",
       " 'gis': 'geographic_information_system',\n",
       " 'gnas': 'general_national_airspace_system',\n",
       " 'gnss': 'global_navigation_satellite_system',\n",
       " 'goes': 'geostationary_operational_environmental_satellite',\n",
       " 'goesf': 'goes_feed_point',\n",
       " 'goest': 'goes_terminal_equipment',\n",
       " 'gpra': 'government_performance_results_act',\n",
       " 'gps': 'global_positioning_system',\n",
       " 'gpws': 'ground_proximity_warning_system',\n",
       " 'grade': 'graphical_airspace_design_environment',\n",
       " 'gsa': 'general_services_administration',\n",
       " 'gse': 'ground_support_equipment',\n",
       " 'haa': 'height_above_airport',\n",
       " 'hal': 'height_above_landing',\n",
       " 'hars': 'high_altitude_route_system',\n",
       " 'hat': 'height_above_touchdown',\n",
       " 'hazmat': 'hazardous_material',\n",
       " 'hcap': 'high_capacity_carriers',\n",
       " 'hdme': 'ndb_with_distance_measuring_equipment',\n",
       " 'hdq': 'faa_headquarters',\n",
       " 'heli': 'heliport',\n",
       " 'hi-- efas': 'high_altitude_efas',\n",
       " 'hldc': 'high_level_data_link_control',\n",
       " 'hov': 'high_occupancy_vehicle',\n",
       " 'hpz': 'heliport_protection_zone',\n",
       " 'hsi': 'horizontal_situation_indicators',\n",
       " 'hud': 'housing_and_urban_development',\n",
       " 'hwas': 'hazardous_in--_flight_weather_advisory',\n",
       " 'i/afss': 'international_afss',\n",
       " 'iaf': 'initial_approach_fix',\n",
       " 'iap': 'instrument_approach_procedures',\n",
       " 'iapa': 'instrument_approach_procedures_automation',\n",
       " 'ibm': 'international_business_machines',\n",
       " 'ibp': 'international_boundary_point',\n",
       " 'ibr': 'intermediate_bit_rate',\n",
       " 'icao': 'international_civil_aviation_organization',\n",
       " 'icss': 'international_communications_switching_systems',\n",
       " 'idat': 'interfacility_data',\n",
       " 'ifcp': 'interfacility_communications_processor',\n",
       " 'ifds': 'interfacility_data_system',\n",
       " 'ifea': 'in--_flight_emergency_assistance',\n",
       " 'ifo': 'international_field_office',\n",
       " 'ifr': 'instrument_flight_rules',\n",
       " 'ifss': 'international_flight_service_station',\n",
       " 'ils': 'instrument_landing_system',\n",
       " 'imc': 'instrument_meteorological_conditions',\n",
       " 'inm': 'integrated_noise_model',\n",
       " 'ins': 'inertial_navigation_system',\n",
       " 'irmp': 'information_resources_management_plan',\n",
       " 'isdn': 'integrated_services_digital_network',\n",
       " 'ismls': 'interim_standard_microwave_landing_system',\n",
       " 'iti': 'interactive_terminal_interface',\n",
       " 'ivrs': 'interim_voice_response_system',\n",
       " 'kbps': 'kilobits_per_second',\n",
       " 'khz': 'kilohertz',\n",
       " 'kvdt': 'keyboard_video_display_terminal',\n",
       " 'laa': 'local_airport_advisory',\n",
       " 'laas': 'low_altitude_alert_system',\n",
       " 'labs': 'leased_a_b_service',\n",
       " 'labsc': 'labs_gs--_200_computer',\n",
       " 'labsr': 'labs_remote_equipment',\n",
       " 'labsw': 'labs_switch_system',\n",
       " 'lahso': 'land_and_hold_short_operation',\n",
       " 'lan': 'local_area_network',\n",
       " 'lata': 'local_access_and_transport_area',\n",
       " 'lawrs': 'limited_aviation_weather_reporting_system',\n",
       " 'lba': 'load-bearing_area',\n",
       " 'lcf': 'local_control_facility',\n",
       " 'lcn': 'local_communications_network_tracon_automation_system',\n",
       " 'lda': 'localizer_directional_aid',\n",
       " 'ldin': 'lead--_in_lights',\n",
       " 'lec': 'local_exchange_carrier',\n",
       " 'lincs': 'leased_interfacility_nas_communications_system',\n",
       " 'lis': 'logistics_and_inventory_system',\n",
       " 'llwas': 'low_level_wind_shear_alert_system',\n",
       " 'lm/ms': 'low/medium_frequency',\n",
       " 'lmm': 'locator_middle_marker',\n",
       " 'lms': 'loran_monitor_site',\n",
       " 'loc': 'localizer',\n",
       " 'locid': 'location_identifier',\n",
       " 'loi': 'letter_of_intent',\n",
       " 'lom': 'compass_locator_at_outer_marker',\n",
       " 'loran': 'long_range_aid_to_navigation',\n",
       " 'lpv': 'lateral_precision_performance_with_vertical_guidance',\n",
       " 'lrco': 'limited_remote_communications_outlet',\n",
       " 'lrnav': 'long_range_navigation',\n",
       " 'lrr': 'long_range_radar',\n",
       " 'maa': 'maximum_authorized_altitude',\n",
       " 'mals': 'medium_intensity_approach_lighting_system',\n",
       " 'malsf': 'mals_with_sequenced_flashers',\n",
       " 'malsr': 'mals_with_runway_alignment_indicator_lights',\n",
       " 'map': 'modified_access_pricing',\n",
       " 'mbps': 'megabits_per_second',\n",
       " 'mca': 'minimum_crossing_altitude',\n",
       " 'mcas': 'marine_corps_air_station',\n",
       " 'mcc': 'maintenance_control_center',\n",
       " 'mcl': 'middle_compass_locater',\n",
       " 'mcs': 'maintenance_and_control_system',\n",
       " 'mda': 'minimum_descent_altitude',\n",
       " 'mdt': 'maintenance_data_terminal',\n",
       " 'mea': 'minimum_en_route_altitude',\n",
       " 'meti': 'meteorological_information',\n",
       " 'mfj': 'modified_final_judgment',\n",
       " 'mft': 'meter_fix_crossing_time/slot_time',\n",
       " 'mha': 'minimum_holding_altitude',\n",
       " 'mhg': 'meghertz',\n",
       " 'mia': 'minimum_ifr_altitudes',\n",
       " 'mido': 'manufacturing_inspection_district_office',\n",
       " 'mis': 'meteorological_impact_statement',\n",
       " 'misc': 'miscellaneous',\n",
       " 'miso': 'manufacturing_inspection_satellite_office',\n",
       " 'mit': 'miles_in_trail',\n",
       " 'mitre': 'mitre_corporation',\n",
       " 'mls': 'microwave_landing_system',\n",
       " 'mmc': 'maintenance_monitoring_console',\n",
       " 'mms': 'maintenance_monitoring_system',\n",
       " 'mnps': 'minimum_navigation_performance_specification',\n",
       " 'mnpsa': 'minimum_navigation_performance_specifications_airspace',\n",
       " 'moa': 'military_operations_area',\n",
       " 'moca': 'minimum_obstruction_clearance_altitude',\n",
       " 'mode c': 'altitude--_encoded_beacon_reply',\n",
       " 'mode s': 'mode_select_beacon_system',\n",
       " 'mou': 'memorandum_of_understanding',\n",
       " 'mpo': 'metropolitan_planning_organization',\n",
       " 'mps': 'maintenance_processor_subsystem_(or)_master_plan_supplement',\n",
       " 'mra': 'minimum_reception_altitude',\n",
       " 'mrc': 'monthly_recurring_charge',\n",
       " 'msa': 'minimum_safe_altitude',\n",
       " 'msaw': 'minimum_safe_altitude_warning',\n",
       " 'msl': 'mean_sea_level',\n",
       " 'msn': 'message_switching_network',\n",
       " 'mtcs': 'modular_terminal_communications_system',\n",
       " 'mti': 'moving_target_indicator',\n",
       " 'mux': 'multiplexor',\n",
       " 'mva': 'minimum_vectoring_altitude',\n",
       " 'mvfr': 'marginal_visual_flight_rules',\n",
       " 'naaqs': 'national_ambient_air_quality_standards',\n",
       " 'nada': 'nadin_concentrator',\n",
       " 'nadin': 'national_airspace_data_interchange_network',\n",
       " 'nadsw': 'nadin_switches',\n",
       " 'nails': 'national_airspace_integrated_logistics_support',\n",
       " 'nams': 'nadin_ia',\n",
       " 'naprs': 'national_airspace_performance_reporting_system',\n",
       " 'nas': 'national_airspace_system_or_naval_air_station',\n",
       " 'nasdc': 'national_aviation_safety_data',\n",
       " 'nasp': 'national_airspace_system_plan',\n",
       " 'naspac': 'national_airspace_system_performance_analysis_capability',\n",
       " 'natco': 'national_communications_switching_center',\n",
       " 'navaid': 'navigational_aid',\n",
       " 'navmn': 'navigation_monitor_and_control',\n",
       " 'nawau': 'national_aviation_weather_advisory_unit',\n",
       " 'nawpf': 'national_aviation_weather_processing_facility',\n",
       " 'ncar': 'national_center_for_atmospheric_research;_boulder,_co',\n",
       " 'ncf': 'national_control_facility',\n",
       " 'nciu': 'nexrad_communications_interface_unit',\n",
       " 'ncp': 'noise_compatibility_program',\n",
       " 'ncs': 'national_communications_system',\n",
       " 'ndb': 'non--_directional_radio_homing_beacon',\n",
       " 'ndnb': 'nadin_ii',\n",
       " 'nem': 'noise_exposure_map',\n",
       " 'nepa': 'national_environmental_policy_act',\n",
       " 'nexrad': 'next_generation_weather_radar',\n",
       " 'nfax': 'national_facsimile_service',\n",
       " 'nfdc': 'national_flight_data_center',\n",
       " 'nfis': 'nas_facilities_information_system',\n",
       " 'nics': 'national_interfacility_communications_system',\n",
       " 'nmac': 'near_mid_air_collision',\n",
       " 'nmc': 'national_meteorological_center',\n",
       " 'nmce': 'network_monitoring_and_control_equipment',\n",
       " 'nmcs': 'network_monitoring_and_control_system',\n",
       " 'noaa': 'national_oceanic_and_atmospheric_administration',\n",
       " 'noc': 'notice_of_completion',\n",
       " 'notam': 'notice_to_airmen',\n",
       " 'npdes': 'national_pollutant_discharge_elimination_system',\n",
       " 'npe': 'non-primary_airport_entitlement',\n",
       " 'npias': 'national_plan_of_integrated_airport_systems',\n",
       " 'nprm': 'notice_of_proposed_rulemaking',\n",
       " 'nra': 'non-rulemaking_airport;_refers_to_a_type_of_airport_airspace_analysis_case',\n",
       " 'nrc': 'non--_recurring_charge',\n",
       " 'nrcs': 'national_radio_communications_systems',\n",
       " 'nsap': 'national_service_assurance_plan',\n",
       " 'nsrcatn': \"national_strategy_to_reduce_congestion_on_america's_transportation_network\",\n",
       " 'nssfc': 'national_severe_storms_forecast_center',\n",
       " 'nssl': 'national_severe_storms_laboratory;_norman,_ok',\n",
       " 'nswrh': 'nws_regional_headquarters',\n",
       " 'ntap': 'notices_to_airmen_publication',\n",
       " 'ntp': 'national_transportation_policy',\n",
       " 'ntsb': 'national_transportation_safety_board',\n",
       " 'ntz': 'no_transgression_zone',\n",
       " 'nws': 'national_weather_service',\n",
       " 'nwsr': 'nws_weather_excluding_nxrd',\n",
       " 'nxrd': 'advanced_weather_radar_system',\n",
       " 'oag': 'official_airline_guide',\n",
       " 'oalt': 'operational_acceptable_level_of_traffic',\n",
       " 'oaw': 'off--_airway_weather_station',\n",
       " 'odal': 'omnidirectional_approach_lighting_system',\n",
       " 'odaps': 'oceanic_display_and_processing_station',\n",
       " 'oei': 'one_engine_inoperative',\n",
       " 'oep': 'operational_evolution_plan_/_partnership',\n",
       " 'ofa': 'object_free_area',\n",
       " 'ofdps': 'offshore_flight_data_processing_system',\n",
       " 'oft': 'outer_fix_time',\n",
       " 'ofz': 'obstacle_free_zone',\n",
       " 'omb': 'office_of_management_and_budget',\n",
       " 'oner': 'oceanic_navigational_error_report',\n",
       " 'oplt': 'operational_acceptable_level_of_traffic',\n",
       " 'opsw': 'operational_switch',\n",
       " 'opx': 'off_premises_exchange',\n",
       " 'ord': 'operational_readiness_demonstration',\n",
       " 'otr': 'oceanic_transition_route',\n",
       " 'ots': 'organized_track_system',\n",
       " 'pabx': 'private_automated_branch_exchange',\n",
       " 'pad': 'packet_assembler/disassembler',\n",
       " 'pal': 'planning_activity_level',\n",
       " 'pam': 'peripheral_adapter_module',\n",
       " 'papi': 'precision_approach_path_indicator',\n",
       " 'par': 'preferential_arrival_route',\n",
       " 'patwas': 'pilots_automatic_telephone_weather_answering_service',\n",
       " 'pbb': 'passenger_boarding_bridge',\n",
       " 'pbct': 'proposed_boundary_crossing_time',\n",
       " 'pbrf': 'pilot_briefing',\n",
       " 'pbx': 'private_branch_exchange',\n",
       " 'pca': 'positive_control_airspace',\n",
       " 'pcc': 'portland_cement_concrete',\n",
       " 'pcm': 'pulse_code_modulation',\n",
       " 'pdar': 'preferential_arrival_and_departure_route',\n",
       " 'pdc': 'program_designator_code',\n",
       " 'pdn': 'public_data_network',\n",
       " 'pdr': 'preferential_departure_route',\n",
       " 'pfc': 'passenger_facility_charge',\n",
       " 'pgp': 'planning_grant_program',\n",
       " 'pic': 'principal_interexchange_carrier',\n",
       " 'pidp': 'programmable_indicator_data_processor',\n",
       " 'pirep': 'pilot_weather_report',\n",
       " 'pms': 'program_management_system',\n",
       " 'polic': 'police_station',\n",
       " 'pop': 'point_of_presence',\n",
       " 'pot': 'point_of_termination',\n",
       " 'ppims': 'personal_property_information_management_system',\n",
       " 'pri': 'primary_rate_interface',\n",
       " 'prm': 'precision_runway_monitor',\n",
       " 'psdn': 'public_switched_data_network',\n",
       " 'psn': 'packet_switched_network',\n",
       " 'pss': 'packet_switched_service',\n",
       " 'pstn': 'public_switched_telephone_network',\n",
       " 'ptc': 'presumed-to-conform',\n",
       " 'pub': 'publication',\n",
       " 'pup': 'principal_user_processor',\n",
       " 'pvc': 'permanent_virtual_circuit',\n",
       " 'pvd': 'plan_view_display',\n",
       " 'rail': 'runway_alignment_indicator_lights',\n",
       " 'rapco': 'radar_approach_control_(usaf)',\n",
       " 'rapcon': 'radar_approach_control_(faa)',\n",
       " 'ratcc': 'radar_air_traffic_control_center',\n",
       " 'ratcf': 'radar_air_traffic_control_facility_(usn)',\n",
       " 'rbc': 'rotating_beam_ceilometer',\n",
       " 'rbdpe': 'radar_beacon_data_processing_equipment',\n",
       " 'rbss': 'radar_bomb_scoring_squadron',\n",
       " 'rcag': 'remote_communications_air/ground',\n",
       " 'rcc': 'rescue_coordination_center',\n",
       " 'rccc': 'regional_communications_control_centers',\n",
       " 'rcf': 'remote_communication_facility',\n",
       " 'rciu': 'remote_control_interface_unit',\n",
       " 'rcl': 'radio_communications_link',\n",
       " 'rclr': 'rcl_repeater',\n",
       " 'rclt': 'rcl_terminal',\n",
       " 'rco': 'remote_communications_outlet',\n",
       " 'rcu': 'remote_control_unit',\n",
       " 'rdat': 'digitized_radar_data',\n",
       " 'rdp': 'radar_data_processing',\n",
       " 'rdsim': 'runway_delay_simulation_model',\n",
       " 'reil': 'runway_end_identification_lights',\n",
       " 'rmcc': 'remote_monitor_control_center',\n",
       " 'rmcf': 'remote_monitor_control_facility',\n",
       " 'rml': 'radio_microwave_link',\n",
       " 'rmlr': 'rml_repeater',\n",
       " 'rmlt': 'rml_terminal',\n",
       " 'rmm': 'remote_maintenance_monitoring',\n",
       " 'rmms': 'remote_maintenance_monitoring_system',\n",
       " 'rms': 'remote_monitoring_subsystem',\n",
       " 'rmsc': 'remote_monitoring_subsystem_concentrator',\n",
       " 'rnav': 'area_navigation',\n",
       " 'rnp': 'required_navigation_performance',\n",
       " 'rod': 'record_of_decision',\n",
       " 'rosa': 'report_of_service_activity',\n",
       " 'rot': 'runway_occupancy_time',\n",
       " 'rpc': 'restoration_priority_code',\n",
       " 'rpg': 'radar_processing_group',\n",
       " 'rpz': 'runway_protection_zone',\n",
       " 'rrh': 'remote_reading_hygrothermometer',\n",
       " 'rrhs': 'remote_reading_hydrometer',\n",
       " 'rrwds': 'remote_radar_weather_display',\n",
       " 'rrwss': 'rwds_sensor_site',\n",
       " 'rsa': 'runway_safety_area',\n",
       " 'rsat': 'runway_safety_action_team',\n",
       " 'rss': 'remote_speaking_system',\n",
       " 'rt & btl': 'radar_tracking_and_beacon_tracking_level',\n",
       " 'rtad': 'remote_tower_alphanumerics_display',\n",
       " 'rtca': 'radio_technical_commission_for_aeronautics',\n",
       " 'rtp': 'regional_transportation_plan',\n",
       " 'rtr': 'remote_transmitter/receiver',\n",
       " 'rtrd': 'remote_tower_radar_display',\n",
       " 'rvr': 'runway_visual_range',\n",
       " 'rwds': 'same_as_rrwds',\n",
       " 'rwp': 'real-time_weather_processor',\n",
       " 's/s': 'sector_suite',\n",
       " 'sac': 'strategic_air_command',\n",
       " 'safi': 'semi_automatic_flight_inspection',\n",
       " 'sals': 'short_approach_lighting_system',\n",
       " 'satcom': 'satellite_communications',\n",
       " 'sawrs': 'supplementary_aviation_weather_reporting_system',\n",
       " 'sbgp': 'state_block_grant_program',\n",
       " 'scc': 'system_command_center',\n",
       " 'scvts': 'switched_compressed_video_telecommunications_service',\n",
       " 'sdf': 'software_defined_network',\n",
       " 'sdis': 'switched_digital_integrated_service',\n",
       " 'sdp': 'service_delivery_point',\n",
       " 'sds': 'switched_data_service',\n",
       " 'sel': 'single_event_level',\n",
       " 'self': 'simplified_short_approach_lighting_system_with_sequenced_flashing_lights',\n",
       " 'sfar-- 38': 'special_federal_aviation_regulation_38',\n",
       " 'shpo': 'state_historic_preservation_officer',\n",
       " 'sic': 'service_initiation_charge',\n",
       " 'sid': 'station_identifier',\n",
       " 'sigmet': 'significant_meteorological_information',\n",
       " 'simmod': 'airport_and_airspace_simulation_model',\n",
       " 'sip': 'state_implementation_plan',\n",
       " 'smgc': 'surface_movement_guidance_and_control',\n",
       " 'smps': 'sector_maintenance_processor_subsystem',\n",
       " 'sms': 'simulation_modeling_system',\n",
       " 'snr': 'signal--_to--_noise_ratio,_also:_s/n',\n",
       " 'soar': 'system_of_airports_reporting',\n",
       " 'soc': 'service_oversight_center',\n",
       " 'soir': 'simultaneous_operations_on_intersecting_runways',\n",
       " 'soiwr': 'simultaneous_operations_on_intersecting_wet_runways',\n",
       " 'srap': 'sensor_receiver_and_processor',\n",
       " 'srm': 'safety_risk_management',\n",
       " 'ssalf': 'ssals_with_sequenced_flashers',\n",
       " 'ssalr': 'simplified_short_approach_lighting_system',\n",
       " 'ssb': 'single_side_band',\n",
       " 'star': 'standard_terminal_arrival_route',\n",
       " 'std': 'standard',\n",
       " 'stmux': 'statistical_data_multiplexer',\n",
       " 'stol': 'short_takeoff_and_landing',\n",
       " 'surpic': 'surface_picture',\n",
       " 'svca': 'service_a',\n",
       " 'svcb': 'service_b',\n",
       " 'svcc': 'service_c',\n",
       " 'svco': 'service_o',\n",
       " 'svfb': 'interphone_service_f_(b)',\n",
       " 'svfc': 'interphone_service_f_(c)',\n",
       " 'svfd': 'interphone_service_f_(d)',\n",
       " 'svfo': 'interphone_service_f_(a)',\n",
       " 'svfr': 'special_visual_flight_rules',\n",
       " 't1mux': 't1_multiplexer',\n",
       " 'taas': 'terminal_advance_automation_system',\n",
       " 'tac': 'technical_advisory_committee',\n",
       " 'tacan': 'tactical_aircraft_control_and_navigation',\n",
       " 'tacr': 'tacan_at_vor,_tacan_only',\n",
       " 'taf': 'terminal_area_forecast,_terminal_aerodrome_forecast',\n",
       " 'tars': 'terminal_automated_radar_service',\n",
       " 'tas': 'true_air_speed',\n",
       " 'tatca': 'terminal_air_traffic_control_automation',\n",
       " 'tavt': 'terminal_airspace_visualization_tool',\n",
       " 'tca': 'traffic_control_airport_or_tower_control_airport',\n",
       " 'tcaccis': 'transportation_coordinator_automated_command_and_control_information_system',\n",
       " 'tcas': 'traffic_alert_and_collision_avoidance_system',\n",
       " 'tcc': 'dot_transportation_computer_center',\n",
       " 'tccc': 'tower_control_computer_complex',\n",
       " 'tce': 'tone_control_equipment',\n",
       " 'tclt': 'tentative_calculated_landing_time',\n",
       " 'tco': 'telecommunications_certification_officer',\n",
       " 'tcom': 'terminal_communications',\n",
       " 'tcs': 'tower_communications_system',\n",
       " 'tdls': 'tower_data-link_services',\n",
       " 'tdmux': 'time_division_data_multiplexer',\n",
       " 'tdpc': 'touchdown/positioning_circle',\n",
       " 'tdwr': 'terminal_doppler_weather_radar',\n",
       " 'telco': 'telephone_company',\n",
       " 'telms': 'telecommunications_management_system',\n",
       " 'terps': 'terminal_instrument_procedures',\n",
       " 'tfac': 'to_facility',\n",
       " 'tims': 'telecommunications_information_management_system',\n",
       " 'tips': 'terminal_information_processing_system',\n",
       " 'tlof': 'touchdown_and_liftoff_area',\n",
       " 'tm&o': 'telecommunications_management_and_operations',\n",
       " 'tma': 'traffic_management_advisor',\n",
       " 'tmc': 'traffic_management_coordinator',\n",
       " 'tmc/mc': 'traffic_management_coordinator/military_coordinator',\n",
       " 'tmcc': 'traffic_management_computer_complex',\n",
       " 'tmf': 'traffic_management_facility',\n",
       " 'tml': 'television_microwave_link',\n",
       " 'tmli': 'television_microwave_link_indicator',\n",
       " 'tmlr': 'television_microwave_link_repeater',\n",
       " 'tmlt': 'television_microwave_link_terminal',\n",
       " 'tmp': 'traffic_management_processor',\n",
       " 'tms': 'traffic_management_system',\n",
       " 'tmsps': 'traffic_management_specialists',\n",
       " 'tmu': 'traffic_management_unit',\n",
       " 'tnav': 'terminal_navigational_aids',\n",
       " 'toda': 'takeoff_distance_available',\n",
       " 'tof': 'time_of_flight',\n",
       " 'tofms': 'time_of_flight_mass_spectrometer',\n",
       " 'tops': 'telecommunications_ordering_and_pricing_system_(gsa_software_tool)',\n",
       " 'tora': 'take-off_run_available',\n",
       " 'tracab': 'terminal_radar_approach_control_in_tower_cab',\n",
       " 'tracon': 'terminal_radar_approach_control_facility',\n",
       " 'trad': 'terminal_radar_service',\n",
       " 'trb': 'transportation_research_board',\n",
       " 'trng': 'training',\n",
       " 'tsa': 'taxiway_safety_area',\n",
       " 'tsec': 'terminal_secondary_radar_service',\n",
       " 'tsp': 'telecommunications_service_priority',\n",
       " 'tsr': 'telecommunications_service_request',\n",
       " 'tsys': 'terminal_equipment_systems',\n",
       " 'ttma': 'tracon_traffic_management_advisor',\n",
       " 'tty': 'teletype',\n",
       " 'tvor': 'terminal_vhf_omnidirectional_range',\n",
       " 'tweb': 'transcribed_weather_broadcast',\n",
       " 'twr': 'tower_(non-controlled)',\n",
       " 'uas': 'uniform_accounting_system',\n",
       " 'uhf': 'ultra_high_frequency',\n",
       " 'ura': 'uniform_relocation_assistance_and_real_property_acquisition_policies_act_of_1970',\n",
       " 'usaf': 'united_states_air_force',\n",
       " 'usc': 'united_states_code',\n",
       " 'usoc': 'uniform_service_order_code',\n",
       " 'vale': 'voluntary_airport_low_emission',\n",
       " 'vasi': 'visual_approach_slope_indicator',\n",
       " 'vdme': 'vor_with_distance_measuring_equipment',\n",
       " 'vfr': 'visual_flight_rules',\n",
       " 'vgsi': 'visual_glideslope_indicator',\n",
       " 'vhf': 'very_high_frequency',\n",
       " 'vlf': 'very_low_frequency',\n",
       " 'vmc': 'visual_meteorological_conditions',\n",
       " 'vnav': 'visual_navigational_aids',\n",
       " 'vntsc': 'volpe_national_transportation_system_center',\n",
       " 'von': 'virtual_on-net',\n",
       " 'vor': 'vhf_omnidirectional_range',\n",
       " 'vor/dme': 'vhf_omnidirectional_range/distance_measuring_equipment',\n",
       " 'vortac': 'vor_collocated_with_tacan',\n",
       " 'vot': 'vor_test_facility',\n",
       " 'vp/d': 'vehicle/pedestrian_deviation',\n",
       " 'vrs': 'voice_recording_system',\n",
       " 'vscs': 'voice_switching_and_control_system',\n",
       " 'vta': 'vertex_time_of_arrival',\n",
       " 'vtac': 'vor_collocated_with_tacan',\n",
       " 'vtol': 'vertical_takeoff_and_landing',\n",
       " 'vts': 'voice_telecommunications_system',\n",
       " 'waas': 'wide_area_augmentation_system',\n",
       " 'wan': 'wide_area_network',\n",
       " 'wcp': 'weather_communications_processor',\n",
       " 'weco': 'western_electric_company',\n",
       " 'wescom': 'western_electric_satellite_communications',\n",
       " 'wha': 'wildlife_hazard_assessment',\n",
       " 'whmp': 'wildlife_hazard_management_plan',\n",
       " 'wmsc': 'weather_message_switching_center',\n",
       " 'wmscr': 'weather_message_switching_center_replacement',\n",
       " 'wscmo': 'weather_service_contract_meteorological_observatory',\n",
       " 'wsfo': 'weather_service_forecast_office',\n",
       " 'wsmo': 'weather_service_meteorological_observatory',\n",
       " 'wso': 'weather_service_office',\n",
       " 'wthr': 'weather'}"
      ]
     },
     "execution_count": 281,
     "metadata": {},
     "output_type": "execute_result"
    }
   ],
   "source": [
    "acronyms = {}\n",
    "for ind, row in airline_acronyms.iterrows():\n",
    "    acronym = row['Acronym'].lower()\n",
    "    definition = row['Definition'].lower().strip().replace(' ','_')\n",
    "    \n",
    "    # ignore two character acronyms as they often match actual words\n",
    "    # e.g. 'at' == 'air traffic'\n",
    "    if len(acronym) > 2:\n",
    "        acronyms[acronym] = definition\n",
    "\n",
    "acronyms"
   ]
  },
  {
   "cell_type": "markdown",
   "metadata": {},
   "source": [
    "### Exercise\n",
    "\n",
    "\n",
    "To curate the acronyms, instead of manually reviewing the entire list, we could remove only the matches that do not make sense. However, we would reconsider this approach if the text data set was much larger.\n",
    "\n",
    "\n",
    "1. Identify the acronyms in the document\n",
    "2. Decide which acronyms to keep/remove"
   ]
  },
  {
   "cell_type": "code",
   "execution_count": 282,
   "metadata": {},
   "outputs": [
    {
     "name": "stdout",
     "output_type": "stream",
     "text": [
      "('cfr', 'code_of_federal_regulations')\n",
      "('atc', 'air_traffic_control')\n",
      "('asr', 'airport_surveillance_radar')\n",
      "('tops', 'telecommunications_ordering_and_pricing_system_(gsa_software_tool)')\n",
      "('map', 'modified_access_pricing')\n",
      "('rnp', 'required_navigation_performance')\n",
      "('icao', 'international_civil_aviation_organization')\n",
      "('faa', 'federal_aviation_administration')\n",
      "('par', 'preferential_arrival_route')\n",
      "('gps', 'global_positioning_system')\n",
      "('grade', 'graphical_airspace_design_environment')\n",
      "('basic', 'basic_contract_observing_station')\n",
      "('did', 'direct_inward_dial')\n",
      "('tsa', 'taxiway_safety_area')\n",
      "('asm', 'available_seat_mile')\n",
      "('far', 'federal_aviation_regulation')\n",
      "('cat', 'clear')\n",
      "('dot', 'department_of_transportation')\n",
      "('epa', 'environmental_protection_agency')\n",
      "('moa', 'military_operations_area')\n",
      "('self', 'simplified_short_approach_lighting_system_with_sequenced_flashing_lights')\n"
     ]
    }
   ],
   "source": [
    "# review the acronyms\n",
    "acronym_matches = []\n",
    "for sent in doc.sents: #matched_sents:\n",
    "    for token in sent:\n",
    "        token = token.text.lower()\n",
    "        if token in acronyms:\n",
    "            acronym_matches.append((token, acronyms[token]))\n",
    "\n",
    "for match in set(acronym_matches):\n",
    "    print(match)"
   ]
  },
  {
   "cell_type": "code",
   "execution_count": 283,
   "metadata": {
    "collapsed": true
   },
   "outputs": [],
   "source": [
    "acronyms_to_remove = ['basic','grade','self','cat','tsa','map','did','far']\n",
    "for term in acronyms_to_remove:\n",
    "    acronyms.pop(term)"
   ]
  },
  {
   "cell_type": "markdown",
   "metadata": {},
   "source": [
    "### SpaCy - Text Preprocessing"
   ]
  },
  {
   "cell_type": "code",
   "execution_count": 284,
   "metadata": {
    "collapsed": true
   },
   "outputs": [],
   "source": [
    "# TODO: create this in the SpaCy notebook !!!!!!!!!!!!!!!!!!!!!!!!!!!!!!!!!!!!!!!!!!!!!\n",
    "def clean_text(doc):\n",
    " \n",
    "    # replace acronyms\n",
    "    doc = ' '.join([acronyms[token.text.lower()] \n",
    "                    if token.text.lower() in acronyms else str(token) for token in doc])\n",
    "\n",
    "    doc = nlp(doc)\n",
    "\n",
    "    # Add named entities, but only if they are a compound of more than word.\n",
    "    IGNORE_ENTS = ('QUANTITY','ORDINAL','CARDINAL','DATE'\n",
    "                   ,'PERCENT','MONEY','TIME')\n",
    "    ents = doc.ents\n",
    "    ents = [ent for ent in ents if \n",
    "             (ent.label_ not in IGNORE_ENTS) and (len(ent) > 2)]\n",
    "    \n",
    "    # add underscores to combine words in entities\n",
    "    ents = [str(ent).strip().replace(' ','_') for ent in ents]\n",
    " \n",
    "    # Keep only words (no numbers, no punctuation).\n",
    "    # Lemmatize tokens, remove punctuation and remove stopwords.\n",
    "    doc = [token.lemma_ for token in doc if \n",
    "           token.is_alpha and not token.is_stop]\n",
    "    \n",
    "    doc.extend([entity for entity in ents])\n",
    "    \n",
    "    return [str(term) for term in doc]"
   ]
  },
  {
   "cell_type": "code",
   "execution_count": 285,
   "metadata": {},
   "outputs": [
    {
     "name": "stdout",
     "output_type": "stream",
     "text": [
      "CPU times: user 4.13 s, sys: 492 ms, total: 4.63 s\n",
      "Wall time: 1.34 s\n"
     ]
    }
   ],
   "source": [
    "%%time\n",
    "cleaned_text = []\n",
    "for sent in matched_sents:\n",
    "    text = clean_text(sent)\n",
    "    cleaned_text.append(text)"
   ]
  },
  {
   "cell_type": "code",
   "execution_count": 287,
   "metadata": {},
   "outputs": [
    {
     "name": "stdout",
     "output_type": "stream",
     "text": [
      "['no', 'show', 'policy', 'fund', 'apply', 'future', 'travel', 'southwest', 'change', 'fee']\n"
     ]
    }
   ],
   "source": [
    "print(cleaned_text[0])"
   ]
  },
  {
   "cell_type": "markdown",
   "metadata": {},
   "source": [
    "### Phrase Model\n",
    "\n",
    "Phrase modeling is another approach to learning combinations of tokens that together represent meaningful multi-word concepts. We can develop phrase models by looping over the the words in our reviews and looking for words that co-occur (i.e., appear one after another) together much more frequently than you would expect them to by random chance. The formula our phrase models will use to determine whether two tokens $A$ and $B$ constitute a phrase is:\n",
    "\n",
    "$$\\frac{count(A\\ B) - count_{min}}{count(A) * count(B)} * N > threshold$$\n",
    "\n",
    "...where:\n",
    "\n",
    "$count(A)$ is the number of times token $A$ appears in the corpus\n",
    "$count(B)$ is the number of times token $B$ appears in the corpus\n",
    "$count(A\\ B)$ is the number of times the tokens $A\\ B$ appear in the corpus in order\n",
    "$N$ is the total size of the corpus vocabulary\n",
    "$count_{min}$ is a user-defined parameter to ensure that accepted phrases occur a minimum number of times\n",
    "$threshold$ is a user-defined parameter to control how strong of a relationship between two tokens the model requires before accepting them as a phrase\n",
    "Once our phrase model has been trained on our corpus, we can apply it to new text. When our model encounters two tokens in new text that identifies as a phrase, it will merge the two into a single new token.\n",
    "\n",
    "Phrase modeling is superficially similar to named entity detection in that you would expect named entities to become phrases in the model (so new york would become new_york). But you would also expect multi-word expressions that represent common concepts, but aren't specifically named entities (such as happy hour) to also become phrases in the model.\n",
    "\n",
    "We turn to the indispensible gensim library to help us with phrase modeling — the Phrases class in particular.\n",
    "\n",
    "SOURCE: https://github.com/skipgram/modern-nlp-in-python/blob/master/executable/Modern_NLP_in_Python.ipynb "
   ]
  },
  {
   "cell_type": "code",
   "execution_count": 288,
   "metadata": {
    "collapsed": true
   },
   "outputs": [],
   "source": [
    "from gensim.models.phrases import Phrases\n",
    "from gensim.models.phrases import Phraser"
   ]
  },
  {
   "cell_type": "code",
   "execution_count": 289,
   "metadata": {},
   "outputs": [
    {
     "data": {
      "text/plain": [
       "[['southwest', 'airlines', 'co'], ['annual', 'report', 'to', 'shareholder']]"
      ]
     },
     "execution_count": 289,
     "metadata": {},
     "output_type": "execute_result"
    }
   ],
   "source": [
    "# Keep only words (no numbers, no punctuation).\n",
    "# Lemmatize tokens, remove punctuation\n",
    "\n",
    "phrase_doc = []\n",
    "for sent in doc.sents:\n",
    "    updated_sent = []\n",
    "    for token in sent:\n",
    "        if token.is_alpha:\n",
    "            updated_sent.append(str(token.lemma_))\n",
    "    phrase_doc.append(updated_sent)\n",
    "\n",
    "phrase_doc[0:2]"
   ]
  },
  {
   "cell_type": "code",
   "execution_count": 290,
   "metadata": {
    "collapsed": true
   },
   "outputs": [],
   "source": [
    "common_terms = list(STOP_WORDS)\n",
    "phrases = Phrases(phrase_doc, common_terms=common_terms, min_count=5, threshold=5)"
   ]
  },
  {
   "cell_type": "markdown",
   "metadata": {},
   "source": [
    "### Phrases Params\n",
    "\n",
    "- **scoring:** specifies how potential phrases are scored for comparison to the threshold setting. scoring can be set with either a string that refers to a built-in scoring function, or with a function with the expected parameter names. Two built-in scoring functions are available by setting scoring to a string:\n",
    "\n",
    "    - ‘default’: from “Efficient Estimaton of Word Representations in Vector Space” by Mikolov, et. al.: \n",
    "$$\\frac{count(AB) - count_{min}}{count(A) * count(B)} * N > threshold$$\n",
    "    - where N is the total vocabulary size.\n",
    "    - Thus, it is easier to exceed the threshold when the two words occur together often or when the two words are rare (i.e. small product)\n",
    "\n",
    "\n",
    "\n",
    "\n",
    "- **common_terms:** optionnal list of “stop words” that won’t affect frequency count of expressions containing them.\n",
    "    - The common_terms parameter add a way to give special treatment to common terms (aka stop words) such that their presence between two words won’t prevent bigram detection. It allows to detect expressions like “bank of america” or “eye of the beholder”.\n"
   ]
  },
  {
   "cell_type": "code",
   "execution_count": 291,
   "metadata": {
    "collapsed": true
   },
   "outputs": [],
   "source": [
    "bigram = Phraser(phrases)"
   ]
  },
  {
   "cell_type": "markdown",
   "metadata": {},
   "source": [
    "After the one-time initialization, a Phraser will be much smaller and somewhat faster than using the full Phrases model.\n",
    "\n",
    "Reflects the results of the source model’s min_count, threshold, and scoring settings. (You can tamper with those & create a new Phraser to try other values.)\n",
    "\n",
    "SOURCE: https://radimrehurek.com/gensim/models/phrases.html"
   ]
  },
  {
   "cell_type": "code",
   "execution_count": 292,
   "metadata": {
    "collapsed": true
   },
   "outputs": [],
   "source": [
    "def print_phrases(phraser, text_stream, num_underscores=1):\n",
    "    phrases = []\n",
    "    for terms in phraser[text_stream]:\n",
    "        for term in terms:\n",
    "            if term.count('_') >= num_underscores:\n",
    "                phrases.append(term)\n",
    "    print(set(phrases))"
   ]
  },
  {
   "cell_type": "code",
   "execution_count": 293,
   "metadata": {},
   "outputs": [
    {
     "name": "stdout",
     "output_type": "stream",
     "text": [
      "{'indicate_by_check', 'securities_and_exchange', 'compare_with_as_the_dollar', 'million_or_percent', 'note_to_the_consolidated', 'result_of_operations', 'fuel_and_oil', 'acquisition_and_integration', 'designate_as_hedge', 'accumulated_other_comprehensive', 'chairman_of_the_board', 'qualify_for_hedge', 'balance_at_december', 'incorporate_by_reference', 'form_for_the_quarter', 'interest_be_payable', 'letter_of_credit', 'condition_and_result', 'board_of_directors', 'mark_to_market', 'discuss_in_more_detail', 'purchase_call_option', 'value_of_goodwill', 'fix_to_float', 'wanna_get_away', 'depreciation_and_amortization', 'available_for_sale', 'nos_and_incorporate', 'exhibit_and_respectively', 'number_of_share', 'incorporate_herein_by_reference', 'pursuant_to_section', 'component_of_other_gain', 'gain_or_loss', 'amend_and_restate', 'statement_of_income', 'share_of_common', 'expense_for_increase', 'meeting_of_shareholders', 'form_for_the_year', 'file_no_supplemental', 'include_as_a_component', 'time_to_time', 'officer_and_chief', 'year_over_year', 'new_five_gate', 'course_of_business', 'result_of_operation', 'nominating_and_corporate', 'expense_for_decrease', 'payable_through_level', 'subject_to_the_risk', 'report_on_form', 'change_in_accounting', 'safety_and_compliance', 'gain_and_loss', 'use_of_non', 'exhibit_to_the_company', 'city_of_dallas', 'return_on_invest', 'compare_with_primarily', 'discussion_and_analysis', 'property_and_equipment', 'agreement_no_incorporate', 'dollar_and_per_asm', 'reference_to_exhibit', 'settle_in_future', 'oversee_and_manage', 'asset_and_liability', 'note_for_further_information', 'goodwill_and_indefinite', 'principal_and_interest', 'agreement_with_chase', 'expense_per_asm', 'statement_for_further_information', 'analysis_of_financial'}\n"
     ]
    }
   ],
   "source": [
    "print_phrases(bigram, phrase_doc, num_underscores=2)"
   ]
  },
  {
   "cell_type": "code",
   "execution_count": 294,
   "metadata": {},
   "outputs": [
    {
     "name": "stdout",
     "output_type": "stream",
     "text": [
      "{'information_require_by_this_item', 'compare_with_as_the_dollar', 'reference_to_exhibit_and_respectively', 'prepaid_expense_and_other_current_asset', 'management_discussion_and_analysis_of_financial', 'chief_executive_officer_and_chief', 'set_forth_under_the_head', 'goodwill_and_indefinite_live_intangible', 'reference_to_exhibit_to_the_company_annual', 'agreements_nos_and_incorporate_by_reference', 'report_on_form_for_the_year_end', 'form_for_the_year_end_december', 'fiscal_year_and_interim_period', 'increase_be_more_than_offset', 'fair_value_of_fuel_derivative', 'condition_and_result_of_operations', 'annual_report_on_form_for_the_year', 'component_of_other_gain_loss_net', 'company_quarterly_report_on_form', 'note_regard_use_of_non', 'company_annual_report_on_form', 'exhibit_to_the_company_annual_report', 'form_for_the_quarter_end_june', 'quarterly_report_on_form_for_the_quarter', 'report_on_form_for_the_quarter_end', 'file_no_supplemental_agreement_no_incorporate', 'point_sell_to_business_partner', 'agreement_with_chase_and_the_result', 'agreement_no_incorporate_by_reference_to_exhibit', 'incorporate_by_reference_to_exhibit_to_the_company', 'supplemental_agreements_nos_and_incorporate', 'file_no_supplemental_agreements_nos', 'form_for_the_quarter_end_september', 'supplemental_agreement_no_incorporate_by_reference', 'million_or_percent_compare_with_primarily', 'dollar_and_per_asm_basis', 'end_september_file_no_supplemental', 'maintenance_material_and_repair_expense', 'current_report_on_form_file', 'exhibit_to_the_company_quarterly_report', 'reference_to_exhibit_to_the_company_quarterly', 'fix_to_float_interest_rate', 'internal_control_over_financial_reporting', 'net_income_per_share_dilute', 'note_to_the_consolidated_financial_statement', 'increase_by_million_or_percent', 'salary_wage_and_benefit_expense'}\n"
     ]
    }
   ],
   "source": [
    "phrases = Phrases(bigram[phrase_doc], common_terms=common_terms, min_count=5,threshold=5)\n",
    "trigram = Phraser(phrases)\n",
    "\n",
    "print_phrases(trigram, bigram[phrase_doc], num_underscores=4)"
   ]
  },
  {
   "cell_type": "code",
   "execution_count": 295,
   "metadata": {},
   "outputs": [
    {
     "name": "stdout",
     "output_type": "stream",
     "text": [
      "DOC NUMBER: 6\n",
      "ORIGINAL SENTENT: ['-PRON-', 'result', 'be', 'furth', 'boost', 'by', 'the', 'significant', 'reduction', 'in', 'energy', 'price', 'generally', 'range', 'bind', 'in', 'the', 'a', 'barrel', 'range', 'for', 'brent', 'crude', 'oil']\n",
      "\n",
      "BIGRAM: ['-PRON-', 'result', 'be', 'furth', 'boost', 'by', 'the', 'significant', 'reduction', 'in', 'energy_price', 'generally', 'range', 'bind', 'in', 'the', 'a', 'barrel', 'range', 'for', 'brent_crude', 'oil']\n",
      "\n",
      "TRIGRAM: ['-PRON-', 'result', 'be', 'furth', 'boost', 'by', 'the', 'significant', 'reduction', 'in', 'energy_price', 'generally', 'range', 'bind', 'in', 'the', 'a', 'barrel', 'range', 'for', 'brent_crude_oil']\n",
      "\n",
      "\n",
      "DOC NUMBER: 29\n",
      "ORIGINAL SENTENT: ['operate', 'expense', 'per', 'available', 'seat', 'mile', 'casm', 'increase', 'percent', 'year', 'over', 'year']\n",
      "\n",
      "BIGRAM: ['operate', 'expense', 'per', 'available_seat', 'mile', 'casm', 'increase_percent', 'year_over_year']\n",
      "\n",
      "TRIGRAM: ['operate', 'expense', 'per', 'available_seat_mile', 'casm', 'increase_percent', 'year_over_year']\n",
      "\n",
      "\n"
     ]
    }
   ],
   "source": [
    "for doc_num in [6,29]:\n",
    "    print('DOC NUMBER: {}'.format(doc_num))\n",
    "    print('ORIGINAL SENTENT: {}\\n'.format(phrase_doc[doc_num]))\n",
    "    print('BIGRAM: {}\\n'.format(bigram[phrase_doc[doc_num]]))\n",
    "    print('TRIGRAM: {}'.format(trigram[bigram[phrase_doc[doc_num]]]))\n",
    "    print('\\n')"
   ]
  },
  {
   "cell_type": "markdown",
   "metadata": {},
   "source": [
    "### Review Phrase Model"
   ]
  },
  {
   "cell_type": "code",
   "execution_count": 296,
   "metadata": {},
   "outputs": [
    {
     "name": "stdout",
     "output_type": "stream",
     "text": [
      "{'Plant_Health_Inspection_Service', 'Section_2_of_the_Sherman_Act', '13.9__Acquisition', 'the_Sherman_Act', 'the_U.S._Department', '938__Acquisition', 'Section_1', 'Consolidated_Amended_Complaint', 'The_Passenger_Protection_Rules'}\n"
     ]
    }
   ],
   "source": [
    "def clean_text(doc):\n",
    "    ents = nlp(doc.text).ents\n",
    "\n",
    "    # Add named entities, but only if they are a compound of more than word.\n",
    "    IGNORE_ENTS = ('QUANTITY','ORDINAL','CARDINAL','DATE'\n",
    "                   ,'PERCENT','MONEY','TIME')\n",
    "    ents = [ent for ent in ents if \n",
    "             (ent.label_ not in IGNORE_ENTS) and (len(ent) > 2)]\n",
    "    \n",
    "    # add underscores to combine words in entities\n",
    "    ents = [str(ent).strip().replace(' ','_') for ent in ents]\n",
    "    \n",
    "    # Keep only words (no numbers, no punctuation).\n",
    "    # Lemmatize tokens, remove punctuation and remove stopwords.\n",
    "    doc = [token.lemma_ for token in doc if \n",
    "           token.is_alpha and not token.is_stop]\n",
    "    \n",
    "    doc.extend([entity for entity in ents])\n",
    "    \n",
    "    return [str(term) for term in doc]\n",
    "\n",
    "    \n",
    "# combined terms before phrase_model (entities and/or noun chunks)\n",
    "before_phrase = []\n",
    "for sent in matched_sents:\n",
    "    text = clean_text(sent)\n",
    "    for term in text:\n",
    "        if '_' in term:\n",
    "            before_phrase.append(term)\n",
    "\n",
    "print(set(before_phrase))"
   ]
  },
  {
   "cell_type": "code",
   "execution_count": 297,
   "metadata": {},
   "outputs": [
    {
     "name": "stdout",
     "output_type": "stream",
     "text": [
      "{'compare_with_as_the_dollar', 'Section_2_of_the_Sherman_Act', 'acquisition_and_integration', 'operating_lease', 'flight_crew', 'flight_date', 'operating_expense', 'customer_service', 'dollar_basis', 'passenger_revenue', 'increase_be_more_than_offset', 'depreciation_and_amortization', 'the_U.S._Department', '938__Acquisition', 'aircraft_rental', 'air_travel', 'check_bag', 'passenger_protection', 'consolidated_statement_of_income', 'Plant_Health_Inspection_Service', 'total_operating', 'low_fare', 'straight_line', 'operating_income', 'Consolidated_Amended_Complaint', 'decrease_percent', 'company_currently_expect', 'future_travel', 'bag_fee', 'landing_fee', 'rental_expense', '13.9__Acquisition', 'the_Sherman_Act', 'percent_increase_in_capacity', 'expense_associate', 'credit_card', 'Section_1', 'asm_basis', 'The_Passenger_Protection_Rules', 'increase_by_million_or_percent'}\n"
     ]
    }
   ],
   "source": [
    "def clean_text(doc):\n",
    "    ents = nlp(doc.text).ents\n",
    "\n",
    "    # Add named entities, but only if they are a compound of more than word.\n",
    "    IGNORE_ENTS = ('QUANTITY','ORDINAL','CARDINAL','DATE'\n",
    "                   ,'PERCENT','MONEY','TIME')\n",
    "    ents = [ent for ent in ents if \n",
    "             (ent.label_ not in IGNORE_ENTS) and (len(ent) > 2)]\n",
    "    \n",
    "    # add underscores to combine words in entities\n",
    "    ents = [str(ent).strip().replace(' ','_') for ent in ents]\n",
    "    \n",
    "    # clean text for phrase model\n",
    "    # Keep only words (no numbers, no punctuation).\n",
    "    # Lemmatize tokens, remove punctuation and remove stopwords.\n",
    "    doc_ = [token.lemma_ for token in doc if token.is_alpha]\n",
    "    phrase_text = [str(term) for term in doc_]\n",
    "    sent = trigram[bigram[phrase_text]]\n",
    "    phrases = []\n",
    "    for term in sent:\n",
    "        if '_' in term:\n",
    "            phrases.append(term)\n",
    "\n",
    "    # remove stops words - \n",
    "    # separate step as they are needed for the phrase model\n",
    "    doc = [token.lemma_ for token in doc if token.is_alpha and not token.is_stop]\n",
    "\n",
    "    # add phrases and entities\n",
    "    doc.extend([entity for entity in ents])\n",
    "    clean_text = [str(term) for term in doc] + phrases\n",
    "\n",
    "    return clean_text\n",
    "\n",
    "# combined terms after phrase model\n",
    "after_phrase = []\n",
    "for sent in matched_sents:\n",
    "    text = clean_text(sent)\n",
    "    for term in text:\n",
    "        if '_' in term:\n",
    "            after_phrase.append(term)\n",
    "\n",
    "print(set(after_phrase))"
   ]
  },
  {
   "cell_type": "code",
   "execution_count": 298,
   "metadata": {},
   "outputs": [
    {
     "name": "stdout",
     "output_type": "stream",
     "text": [
      "[['no', 'show', 'policy', 'fund', 'apply', 'future', 'travel', 'southwest', 'change', 'fee', 'future_travel'], ['for', 'example', 'company', 'transfarencysm', 'campaign', 'emphasize', 'southwest', 'approach', 'treat', 'customer', 'fairly', 'honestly', 'respectfully', 'low', 'fare', 'unexpected', 'bag', 'fee', 'change', 'fee', 'hidden', 'fee', 'low_fare', 'bag_fee']]\n"
     ]
    }
   ],
   "source": [
    "cleaned_text = []\n",
    "for sent in matched_sents:\n",
    "    text = clean_text(sent)\n",
    "    cleaned_text.append(text)\n",
    "\n",
    "print(cleaned_text[0:2])"
   ]
  },
  {
   "cell_type": "code",
   "execution_count": 357,
   "metadata": {},
   "outputs": [
    {
     "name": "stdout",
     "output_type": "stream",
     "text": [
      "airline.index      airline.mm         airline.mm.index   airline_dict.dict\r\n"
     ]
    }
   ],
   "source": [
    "ls ../raw_data/gensim/"
   ]
  },
  {
   "cell_type": "code",
   "execution_count": 359,
   "metadata": {
    "collapsed": true
   },
   "outputs": [],
   "source": [
    "# write the cleaned text to a new file for later use\n",
    "with open(AIRLINE_CLEANED_TEXT_PATH, 'w') as f:\n",
    "    for line in cleaned_text:\n",
    "        line = ' '.join(line) + '\\n'\n",
    "        f.write(line)"
   ]
  },
  {
   "cell_type": "markdown",
   "metadata": {},
   "source": [
    "# Text Vectorization (gensim)"
   ]
  },
  {
   "cell_type": "code",
   "execution_count": 116,
   "metadata": {
    "collapsed": true
   },
   "outputs": [],
   "source": [
    "from gensim import corpora, models\n",
    "import pandas as pd"
   ]
  },
  {
   "cell_type": "code",
   "execution_count": 118,
   "metadata": {
    "collapsed": true
   },
   "outputs": [],
   "source": [
    "texts = cleaned_text"
   ]
  },
  {
   "cell_type": "code",
   "execution_count": 119,
   "metadata": {
    "collapsed": true
   },
   "outputs": [],
   "source": [
    "# turn our tokenized documents into a id <-> term dictionary\n",
    "dictionary = corpora.Dictionary(texts)"
   ]
  },
  {
   "cell_type": "code",
   "execution_count": 326,
   "metadata": {
    "collapsed": true
   },
   "outputs": [],
   "source": [
    "# filter the dictionary to remove infrequent (no_below) and too frequent (no_above) terminology\n",
    "dictionary.filter_extremes(no_below=2, no_above=0.4)"
   ]
  },
  {
   "cell_type": "code",
   "execution_count": 327,
   "metadata": {
    "collapsed": true
   },
   "outputs": [],
   "source": [
    "# save the dictionary - we will use it again in different notebooks\n",
    "dictionary.save(GENSIM_DICTIONARY_PATH)  "
   ]
  },
  {
   "cell_type": "markdown",
   "metadata": {},
   "source": [
    "Here we assigned a unique integer ID to all words appearing in the processed corpus with the gensim.corpora.dictionary.Dictionary class. This sweeps across the texts, collecting word counts and relevant statistics. In the end, we see there are twelve distinct words in the processed corpus, which means each document will be represented by twelve numbers (ie., by a 12-D vector). To see the mapping between words and their ids:"
   ]
  },
  {
   "cell_type": "code",
   "execution_count": 328,
   "metadata": {},
   "outputs": [
    {
     "name": "stdout",
     "output_type": "stream",
     "text": [
      "{'show': 0, 'apply': 1, 'travel': 2, 'southwest': 3, 'change': 4, 'for': 5, 'example': 6, 'company': 7, 'transfarencysm': 8, 'campaign': 9, 'emphasize': 10, 'approach': 11, 'treat': 12, 'customer': 13, 'fairly': 14, 'honestly': 15, 'respectfully': 16, 'low': 17, 'fare': 18, 'unexpected': 19, 'bag': 20, 'hidden': 21, 'low_fare': 22, 'bag_fee': 23, 'the': 24, 'service': 25, 'charge': 26, 'pay': 27, 'airfare': 28, 'passenger': 29, 'protection': 30, 'rules': 31, 'require': 32, 'airline': 33, 'compensation': 34, 'deny': 35, 'boarding': 36, 'involuntarily': 37, 'oversold': 38, 'flight': 39, 'ii': 40, 'refund': 41, 'check': 42, 'permanently': 43, 'lose': 44, 'luggage': 45, 'iii': 46, 'prominently': 47, 'disclose': 48, 'potential': 49, 'optional': 50, 'ancillary': 51, 'website': 52, 'iv': 53, 'cancel': 54, 'oversell': 55, 'unable': 56, 'advantage': 57, 'The_Passenger_Protection_Rules': 58, 'passenger_protection': 59, 'check_bag': 60, 'include': 61, 'increase': 62, 'baggage': 63, 'in': 64, 'december': 65, 'agriculture': 66, 'inspection': 67, 'under': 68, 'rule': 69, 'effective': 70, 'commercial': 71, 'aircraft': 72, 'airport': 73, 'cost': 74, 'total': 75, 'result': 76, 'landing': 77, 'landing_fee': 78, 'lease': 79, 'terminal': 80, 'complaint': 81, 'allege': 82, 'airtran': 83, 'section': 84, 'sherman': 85, 'act': 86, 'delta': 87, 'addition': 88, 'treble': 89, 'damage': 90, 'consolidated': 91, 'amended': 92, 'seek': 93, 'injunctive': 94, 'relief': 95, 'broad': 96, 'range': 97, 'anticompetitive': 98, 'activity': 99, 'Consolidated_Amended_Complaint': 100, 'on': 101, 'court': 102, 'capacity': 103, 'date': 104, 'expense': 105, 'generally': 106, 'rental': 107, 'depreciation': 108, 'amortization': 109, 'acquisition': 110, 'integration': 111, 'depreciation_and_amortization': 112, 'acquisition_and_integration': 113, 'million': 114, 'percent': 115, 'compare': 116, 'rental_expense': 117, 'increase_by_million_or_percent': 118, 'asm': 119, 'basis': 120, 'decrease': 121, 'dollar': 122, 'offset': 123, 'asm_basis': 124, 'decrease_percent': 125, 'compare_with_as_the_dollar': 126, 'increase_be_more_than_offset': 127, 'percent_increase_in_capacity': 128, 'aircraft_rental': 129, 'revenue': 130, 'other': 131, 'operating': 132, 'income': 133}\n"
     ]
    }
   ],
   "source": [
    "print(dictionary.token2id)"
   ]
  },
  {
   "cell_type": "code",
   "execution_count": 329,
   "metadata": {},
   "outputs": [
    {
     "name": "stdout",
     "output_type": "stream",
     "text": [
      "['no', 'show', 'policy', 'fund', 'apply', 'future', 'travel', 'southwest', 'change', 'fee', 'future_travel']\n"
     ]
    },
    {
     "data": {
      "text/plain": [
       "[(0, 1), (1, 1), (2, 1), (3, 1), (4, 1)]"
      ]
     },
     "execution_count": 329,
     "metadata": {},
     "output_type": "execute_result"
    }
   ],
   "source": [
    "print(texts[0])\n",
    "\n",
    "# bag of words has a smaller vector space as several words were removed by the dictionary (i.e. filter_extremes)\n",
    "dictionary.doc2bow(texts[0])"
   ]
  },
  {
   "cell_type": "markdown",
   "metadata": {},
   "source": [
    "The function doc2bow() simply counts the number of occurrences of each distinct word, converts the word to its integer word id and returns the result as a bag-of-words--a sparse vector, in the form of [(word_id, word_count), ...].\n",
    "\n",
    "As the token_id is 0 for \"human\" and 2 for \"computer\", the new document “Human computer interaction” will be transformed to [(0, 1), (2, 1)]. The words \"computer\" and \"human\" exist in the dictionary and appear once. Thus, they become (0, 1), (2, 1) respectively in the sparse vector. The word \"interaction\" doesn't exist in the dictionary and, thus, will not show up in the sparse vector. The other ten dictionary words, that appear (implicitly) zero times, will not show up in the sparse vector and , ,there will never be a element in the sparse vector like (3, 0).\n",
    "\n",
    "For people familiar with scikit learn, doc2bow() has similar behaviors as calling transform() on CountVectorizer. doc2bow() can behave like fit_transform() as well. For more details, please look at gensim API Doc."
   ]
  },
  {
   "cell_type": "code",
   "execution_count": 330,
   "metadata": {
    "collapsed": true
   },
   "outputs": [],
   "source": [
    "# convert tokenized documents into a document-term matrix\n",
    "corpus = [dictionary.doc2bow(sent) for sent in texts]"
   ]
  },
  {
   "cell_type": "code",
   "execution_count": 338,
   "metadata": {},
   "outputs": [
    {
     "data": {
      "text/plain": [
       "[(0, 1), (1, 1), (2, 1), (3, 1), (4, 1)]"
      ]
     },
     "execution_count": 338,
     "metadata": {},
     "output_type": "execute_result"
    }
   ],
   "source": [
    "corpus[0]"
   ]
  },
  {
   "cell_type": "code",
   "execution_count": 331,
   "metadata": {
    "collapsed": true
   },
   "outputs": [],
   "source": [
    "# store to disk - we will use it again in different notebooks\n",
    "corpora.MmCorpus.serialize(GENSIM_CORPUS_PATH, corpus)"
   ]
  },
  {
   "cell_type": "markdown",
   "metadata": {},
   "source": [
    "We used our old corpus from tutorial 1 to initialize (train) the transformation model. Different transformations may require different initialization parameters; in case of TfIdf, the “training” consists simply of going through the supplied corpus once and computing document frequencies of all its features. Training other models, such as Latent Semantic Analysis or Latent Dirichlet Allocation, is much more involved and, consequently, takes much more time.\n",
    "\n",
    "Term Frequency * Inverse Document Frequency, Tf-Idf expects a bag-of-words (integer values) training corpus during initialization. During transformation, it will take a vector and return another vector of the same dimensionality, except that features which were rare in the training corpus will have their value increased. It therefore converts integer-valued vectors into real-valued ones, while leaving the number of dimensions intact. It can also optionally normalize the resulting vectors to (Euclidean) unit length.\n",
    "\n",
    "SOURCE: https://radimrehurek.com/gensim/tut2.html"
   ]
  },
  {
   "cell_type": "markdown",
   "metadata": {},
   "source": [
    "### Semantic transformations\n",
    "Topic modeling in gensim is realized via transformations. A transformation is something that takes a corpus and spits out another corpus on output, using corpus_out = transformation_object[corpus_in] syntax. What exactly happens in between is determined by what kind of transformation we're using -- options are Latent Semantic Indexing (LSI), Latent Dirichlet Allocation (LDA), Random Projections (RP) etc.\n",
    "\n",
    "Some transformations need to be initialized (=trained) before they can be used.\n",
    "\n",
    "SOURCE: https://radimrehurek.com/topic_modeling_tutorial/2%20-%20Topic%20Modeling.html"
   ]
  },
  {
   "cell_type": "code",
   "execution_count": 345,
   "metadata": {},
   "outputs": [
    {
     "name": "stdout",
     "output_type": "stream",
     "text": [
      "[(0, 0.537680364152946), (1, 0.537680364152946), (2, 0.40326027311470947), (3, 0.35998666929218426), (4, 0.35998666929218426)]\n"
     ]
    }
   ],
   "source": [
    "tfidf = models.TfidfModel(corpus) # step 1 -- initialize a model\n",
    "\n",
    "print(tfidf[corpus[0]])"
   ]
  },
  {
   "cell_type": "code",
   "execution_count": 340,
   "metadata": {
    "collapsed": true
   },
   "outputs": [],
   "source": [
    "tfidf_transform = tfidf[corpus]"
   ]
  },
  {
   "cell_type": "markdown",
   "metadata": {},
   "source": [
    "### Limitations of the vector space model:\n",
    "\n",
    "Long documents are poorly represented because they have poor similarity values (a small scalar product and a large dimensionality)\n",
    "Search keywords must precisely match document terms; word substrings might result in a \"false positive match\"\n",
    "Semantic sensitivity; documents with similar context but different term vocabulary won't be associated, resulting in a \"false negative match\".\n",
    "The order in which the terms appear in the document is lost in the vector space representation.\n",
    "Theoretically assumed terms are statistically independent.\n",
    "Weighting is intuitive but not very formal.\n",
    "\n",
    "SOURCE: https://en.wikipedia.org/wiki/Vector_space_model"
   ]
  },
  {
   "cell_type": "markdown",
   "metadata": {},
   "source": [
    "# Topic Models (Gensim)"
   ]
  },
  {
   "cell_type": "markdown",
   "metadata": {},
   "source": [
    "### Latent Semantic Indexing (LSI)\n",
    "Latent semantic indexing (LSI) is an indexing and retrieval method that uses a mathematical technique called singular value decomposition (SVD) to identify patterns in the relationships between the terms and concepts contained in an unstructured collection of text. LSI is based on the principle that words that are used in the same contexts tend to have similar meanings. A key feature of LSI is its ability to extract the conceptual content of a body of text by establishing associations between those terms that occur in similar contexts.[18]\n",
    "\n",
    "The method, also called latent semantic analysis (LSA), uncovers the underlying latent semantic structure in the usage of words in a body of text and how it can be used to extract the meaning of the text in response to user queries, commonly referred to as concept searches. Queries, or concept searches, against a set of documents that have undergone LSI will return results that are conceptually similar in meaning to the search criteria even if the results don’t share a specific word or words with the search criteria.\n",
    "\n",
    "### Overview\n",
    "LSA can use a term-document matrix which describes the occurrences of terms in documents; it is a sparse matrix whose rows correspond to terms and whose columns correspond to documents. A typical example of the weighting of the elements of the matrix is tf-idf (term frequency–inverse document frequency): the weight of an element of the matrix is proportional to the number of times the terms appear in each document, where rare terms are upweighted to reflect their relative importance.\n",
    "\n",
    "This matrix is also common to standard semantic models, though it is not necessarily explicitly expressed as a matrix, since the mathematical properties of matrices are not always used.\n",
    "\n",
    "### Rank Lowering\n",
    "After the construction of the occurrence matrix, LSA finds a low-rank approximation[4] to the term-document matrix. There could be various reasons for these approximations:\n",
    "\n",
    "The original term-document matrix is presumed too large for the computing resources; in this case, the approximated low rank matrix is interpreted as an approximation (a \"least and necessary evil\").\n",
    "The original term-document matrix is presumed noisy: for example, anecdotal instances of terms are to be eliminated. From this point of view, the approximated matrix is interpreted as a de-noisified matrix (a better matrix than the original).\n",
    "The original term-document matrix is presumed overly sparse relative to the \"true\" term-document matrix. That is, the original matrix lists only the words actually in each document, whereas we might be interested in all words related to each document—generally a much larger set due to synonymy.\n",
    "The consequence of the rank lowering is that some dimensions are combined and depend on more than one term:\n",
    "\n",
    "{(car), (truck), (flower)} --> {(1.3452 * car + 0.2828 * truck), (flower)}\n",
    "\n",
    "This mitigates the problem of identifying synonymy, as the rank lowering is expected to merge the dimensions associated with terms that have similar meanings. It also mitigates the problem with polysemy, since components of polysemous words that point in the \"right\" direction are added to the components of words that share a similar meaning. Conversely, components that point in other directions tend to either simply cancel out, or, at worst, to be smaller than components in the directions corresponding to the intended sense.\n",
    "\n",
    "\n",
    "### Use Cases\n",
    "- Compare the documents in the low-dimensional space (data clustering, document classification).\n",
    "- Find similar documents across languages, after analyzing a base set of translated documents (cross language retrieval).\n",
    "- Find relations between terms (synonymy and polysemy).\n",
    "- Given a query of terms, translate it into the low-dimensional space, and find matching documents (information retrieval).\n",
    "- Find the best similarity between small groups of terms, in a semantic way (i.e. in a context of a knowledge corpus), as for example in multi choice questions MCQ answering model.\n",
    "- Expand the feature space of machine learning / text mining systems \n",
    "- Analyze word association in text corpus \n",
    "\n",
    "Synonymy and polysemy are fundamental problems in natural language processing:\n",
    "* Synonymy is the phenomenon where different words describe the same idea. Thus, a query in a search engine may fail to retrieve a relevant document that does not contain the words which appeared in the query. For example, a search for \"doctors\" may not return a document containing the word \"physicians\", even though the words have the same meaning.\n",
    "\n",
    "* Polysemy is the phenomenon where the same word has multiple meanings. So a search may retrieve irrelevant documents containing the desired words in the wrong meaning. For example, a botanist and a computer scientist looking for the word \"tree\" probably desire different sets of documents.\n",
    "\n",
    "### Limitations\n",
    "LSA cannot capture polysemy (i.e., multiple meanings of a word) because each occurrence of a word is treated as having the same meaning due to the word being represented as a single point in space.[citation needed]. For example, the occurrence of \"chair\" in a document containing \"The Chair of the Board\" and in a separate document containing \"the chair maker\" are considered the same. The behavior results in the vector representation being an average of all the word's different meanings in the corpus, which can make it difficult for comparison. However, the effect is often lessened due to words having a predominant sense throughout a corpus (i.e. not all meanings are equally likely).\n",
    "\n",
    "SOURCE: https://en.wikipedia.org/wiki/Latent_semantic_analysis#cite_note-38"
   ]
  },
  {
   "cell_type": "code",
   "execution_count": 195,
   "metadata": {
    "collapsed": true
   },
   "outputs": [],
   "source": [
    "from gensim.models.ldamodel import LdaModel\n",
    "from gensim.models import LsiModel\n",
    "\n",
    "import seaborn as sns\n",
    "%matplotlib inline"
   ]
  },
  {
   "cell_type": "code",
   "execution_count": 196,
   "metadata": {
    "collapsed": true
   },
   "outputs": [],
   "source": [
    "# initialize an LSI transformation\n",
    "lsi = LsiModel(tfidf_corpus, id2word=dictionary, num_topics=2) "
   ]
  },
  {
   "cell_type": "code",
   "execution_count": null,
   "metadata": {
    "collapsed": true
   },
   "outputs": [],
   "source": [
    "lsi.save()"
   ]
  },
  {
   "cell_type": "code",
   "execution_count": 192,
   "metadata": {
    "collapsed": true
   },
   "outputs": [],
   "source": [
    "corpus_lsi = lsi[tfidf_corpus] "
   ]
  },
  {
   "cell_type": "code",
   "execution_count": 190,
   "metadata": {},
   "outputs": [
    {
     "data": {
      "text/plain": [
       "<matplotlib.axes._subplots.AxesSubplot at 0x1887f8dd8>"
      ]
     },
     "execution_count": 190,
     "metadata": {},
     "output_type": "execute_result"
    },
    {
     "data": {
      "image/png": "[encoded data removed]",
      "text/plain": [
       "<matplotlib.figure.Figure at 0x18471e2e8>"
      ]
     },
     "metadata": {},
     "output_type": "display_data"
    }
   ],
   "source": [
    "data = []\n",
    "for row in corpus_lsi:\n",
    "    row_stats = []\n",
    "    for topic in row:\n",
    "        row_stats.append(topic[1])\n",
    "    data.append(row_stats)\n",
    "\n",
    "seaborn_df = pd.DataFrame(data)\n",
    "sns.heatmap(seaborn_df)"
   ]
  },
  {
   "cell_type": "code",
   "execution_count": 199,
   "metadata": {},
   "outputs": [
    {
     "data": {
      "text/html": [
       "<iframe src=https://seaborn.pydata.org/ width=1000 height=300></iframe>"
      ],
      "text/plain": [
       "<IPython.core.display.HTML object>"
      ]
     },
     "execution_count": 199,
     "metadata": {},
     "output_type": "execute_result"
    }
   ],
   "source": [
    "seaborn_url = 'https://seaborn.pydata.org/'\n",
    "iframe = '<iframe src={} width=1000 height=300></iframe>'.format(seaborn_url)\n",
    "HTML(iframe)"
   ]
  },
  {
   "cell_type": "code",
   "execution_count": 130,
   "metadata": {},
   "outputs": [
    {
     "data": {
      "text/plain": [
       "[(0,\n",
       "  '-0.285*\"increase\" + -0.283*\"percent\" + -0.276*\"rental\" + -0.248*\"rental_expense\" + -0.236*\"expense\"'),\n",
       " (1,\n",
       "  '0.304*\"passenger\" + 0.237*\"service\" + 0.162*\"pay\" + -0.161*\"percent\" + 0.148*\"damage\"')]"
      ]
     },
     "execution_count": 130,
     "metadata": {},
     "output_type": "execute_result"
    }
   ],
   "source": [
    "lsi.print_topics(2, num_words=5)"
   ]
  },
  {
   "cell_type": "markdown",
   "metadata": {},
   "source": [
    "### LDA"
   ]
  },
  {
   "cell_type": "markdown",
   "metadata": {},
   "source": [
    "The normal distribution is a probability distribution over all the real numbers. It is described by a mean and a variance. The mean is the expected value of this distribution, and the variance tells us how much we can expect samples to deviate from the mean. If the variance is very high, then you’re going to see values that are both much smaller than the mean and much larger than the mean. If the variance is small, then the samples will be very close to the mean. If the variance goes close to zero, all samples will be almost exactly at the mean.\n",
    "\n",
    "The dirichlet distribution is a probability distribution as well - but it is not sampling from the space of real numbers. Instead it is sampling over a probability simplex.\n",
    "\n",
    "And what is a probability simplex? It’s a bunch of numbers that add up to 1. For example:\n",
    "\n",
    "(0.6, 0.4)\n",
    "(0.1, 0.1, 0.8)\n",
    "(0.05, 0.2, 0.15, 0.1, 0.3, 0.2)\n",
    "\n",
    "These numbers represent probabilities over K distinct categories. In the above examples, K is 2, 3, and 6 respectively. That’s why they are also called categorical distributions.\n",
    "\n",
    "When we are dealing with categorical distributions and we have some uncertainty over what that distribution is, simplest way to represent that uncertainty as a probability distribution is the Dirichlet.\n",
    "\n",
    "SOURCE: https://www.quora.com/What-is-an-intuitive-explanation-of-the-Dirichlet-distribution\n",
    "\n",
    "VIDEO: https://www.hakkalabs.co/articles/the-dirichlet-distribution\n",
    "\n",
    "Introduction to Latent Dirichlet Allocation: http://blog.echen.me/2011/08/22/introduction-to-latent-dirichlet-allocation/"
   ]
  },
  {
   "cell_type": "code",
   "execution_count": 131,
   "metadata": {},
   "outputs": [
    {
     "data": {
      "text/plain": [
       "[(0,\n",
       "  '0.023*\"passenger\" + 0.020*\"service\" + 0.018*\"southwest\" + 0.017*\"change\" + 0.016*\"inspection\"'),\n",
       " (1,\n",
       "  '0.019*\"rental\" + 0.017*\"increase\" + 0.017*\"expense\" + 0.016*\"landing\" + 0.016*\"landing_fee\"')]"
      ]
     },
     "execution_count": 131,
     "metadata": {},
     "output_type": "execute_result"
    }
   ],
   "source": [
    "ldamodel = LdaModel(\n",
    "        tfidf_corpus, num_topics=2, id2word=dictionary, passes=200)\n",
    "\n",
    "ldamodel.print_topics(num_topics=2, num_words=5)"
   ]
  },
  {
   "cell_type": "code",
   "execution_count": null,
   "metadata": {
    "collapsed": true
   },
   "outputs": [],
   "source": []
  },
  {
   "cell_type": "code",
   "execution_count": 132,
   "metadata": {},
   "outputs": [
    {
     "data": {
      "text/plain": [
       "[([(0.018974580317509881, 'rental'),\n",
       "   (0.017328061230754692, 'increase'),\n",
       "   (0.016996578265364378, 'expense'),\n",
       "   (0.01611641963098397, 'landing'),\n",
       "   (0.01611641963097742, 'landing_fee'),\n",
       "   (0.015348498895761549, 'percent'),\n",
       "   (0.014633059876339836, 'rental_expense'),\n",
       "   (0.01435251539191755, 'damage'),\n",
       "   (0.013658045675954951, 'cost'),\n",
       "   (0.013198770476051174, 'in'),\n",
       "   (0.013004984725550211, 'airtran'),\n",
       "   (0.012344643086849148, 'compare'),\n",
       "   (0.012303525281150068, 'seek'),\n",
       "   (0.012303525281149821, 'relief'),\n",
       "   (0.01230352528114676, 'injunctive'),\n",
       "   (0.01193330686936139, 'on'),\n",
       "   (0.011436652843529512, 'court'),\n",
       "   (0.011368825590748468, 'asm'),\n",
       "   (0.01128345481733793, 'delta'),\n",
       "   (0.011161364311113274, 'increase_by_million_or_percent')],\n",
       "  -13.726536223002389),\n",
       " ([(0.023297363064785311, 'passenger'),\n",
       "   (0.02030638240568073, 'service'),\n",
       "   (0.017851455879786128, 'southwest'),\n",
       "   (0.017125052016583774, 'change'),\n",
       "   (0.016391845591608657, 'inspection'),\n",
       "   (0.016391845591600909, 'agriculture'),\n",
       "   (0.014992436162969072, 'customer'),\n",
       "   (0.012505482837321774, 'show'),\n",
       "   (0.012470214428703288, 'airfare'),\n",
       "   (0.012051020250034464, 'ancillary'),\n",
       "   (0.011688353740694596, 'pay'),\n",
       "   (0.011576859560671414, 'flight'),\n",
       "   (0.0112921069730179, 'rule'),\n",
       "   (0.011292106973014951, 'commercial'),\n",
       "   (0.011292106973014342, 'effective'),\n",
       "   (0.011292106973012974, 'under'),\n",
       "   (0.010957696331470231, 'campaign'),\n",
       "   (0.010816772939082456, 'apply'),\n",
       "   (0.010507972530623846, 'charge'),\n",
       "   (0.010278048118851283, 'december')],\n",
       "  -14.983302321818663)]"
      ]
     },
     "execution_count": 132,
     "metadata": {},
     "output_type": "execute_result"
    }
   ],
   "source": [
    "ldamodel.top_topics(corpus)"
   ]
  },
  {
   "cell_type": "markdown",
   "metadata": {
    "collapsed": true
   },
   "source": [
    "## Visdom\n",
    "\n",
    "Install it with:\n",
    "\n",
    "`conda install visdom`\n",
    "\n",
    "Start the server:\n",
    "\n",
    "`python -m visdom.server`\n",
    "\n",
    "Visdom now can be accessed at http://localhost:8097 in the browser.\n",
    "\n",
    "\n",
    "# LDA Training Visualization\n",
    "\n",
    "Knowing about the progress and performance of a model, as we train them, could be very helpful in understanding it’s learning process and makes it easier to debug and optimize them. In this notebook, we will learn how to visualize training statistics for LDA topic model in gensim. To monitor the training, a list of Metrics is passed to the LDA function call for plotting their values live as the training progresses. \n",
    "\n",
    "\n",
    "<img src=\"../raw_data/images/visdom_graph.png\">\n",
    "\n",
    "\n",
    "SOURCE: https://github.com/RaRe-Technologies/gensim/blob/develop/docs/notebooks/Training_visualizations.ipynb\n",
    "Visdom SOURCE: https://github.com/facebookresearch/visdom\n",
    "\n",
    "BLOG POST: https://rare-technologies.com/paruls-gsoc-2017-summary-training-and-topic-visualizations-in-gensim/"
   ]
  },
  {
   "cell_type": "code",
   "execution_count": 149,
   "metadata": {},
   "outputs": [
    {
     "ename": "ValueError",
     "evalue": "('%s coherence is not currently supported.', 10)",
     "output_type": "error",
     "traceback": [
      "\u001b[0;31m---------------------------------------------------------------------------\u001b[0m",
      "\u001b[0;31mValueError\u001b[0m                                Traceback (most recent call last)",
      "\u001b[0;32m<ipython-input-149-90ab8d594966>\u001b[0m in \u001b[0;36m<module>\u001b[0;34m()\u001b[0m\n\u001b[1;32m     18\u001b[0m \u001b[0;31m# training LDA model\u001b[0m\u001b[0;34m\u001b[0m\u001b[0;34m\u001b[0m\u001b[0m\n\u001b[1;32m     19\u001b[0m ldamodel = LdaModel(\n\u001b[0;32m---> 20\u001b[0;31m         tfidf_corpus, num_topics=20, id2word=dictionary, passes=200,  callbacks=callbacks)\n\u001b[0m\u001b[1;32m     21\u001b[0m \u001b[0;34m\u001b[0m\u001b[0m\n\u001b[1;32m     22\u001b[0m \u001b[0;31m#model = ldamodel.LdaModel(corpus=training_corpus, id2word=dictionary, num_topics=35, passes=50, chunksize=1500, iterations=200, alpha='auto', callbacks=callbacks)\u001b[0m\u001b[0;34m\u001b[0m\u001b[0;34m\u001b[0m\u001b[0m\n",
      "\u001b[0;32m~/anaconda3/envs/mlguild/lib/python3.6/site-packages/gensim/models/ldamodel.py\u001b[0m in \u001b[0;36m__init__\u001b[0;34m(self, corpus, num_topics, id2word, distributed, chunksize, passes, update_every, alpha, eta, decay, offset, eval_every, iterations, gamma_threshold, minimum_probability, random_state, ns_conf, minimum_phi_value, per_word_topics, callbacks)\u001b[0m\n\u001b[1;32m    338\u001b[0m         \u001b[0;32mif\u001b[0m \u001b[0mcorpus\u001b[0m \u001b[0;32mis\u001b[0m \u001b[0;32mnot\u001b[0m \u001b[0;32mNone\u001b[0m\u001b[0;34m:\u001b[0m\u001b[0;34m\u001b[0m\u001b[0m\n\u001b[1;32m    339\u001b[0m             \u001b[0muse_numpy\u001b[0m \u001b[0;34m=\u001b[0m \u001b[0mself\u001b[0m\u001b[0;34m.\u001b[0m\u001b[0mdispatcher\u001b[0m \u001b[0;32mis\u001b[0m \u001b[0;32mnot\u001b[0m \u001b[0;32mNone\u001b[0m\u001b[0;34m\u001b[0m\u001b[0m\n\u001b[0;32m--> 340\u001b[0;31m             \u001b[0mself\u001b[0m\u001b[0;34m.\u001b[0m\u001b[0mupdate\u001b[0m\u001b[0;34m(\u001b[0m\u001b[0mcorpus\u001b[0m\u001b[0;34m,\u001b[0m \u001b[0mchunks_as_numpy\u001b[0m\u001b[0;34m=\u001b[0m\u001b[0muse_numpy\u001b[0m\u001b[0;34m)\u001b[0m\u001b[0;34m\u001b[0m\u001b[0m\n\u001b[0m\u001b[1;32m    341\u001b[0m \u001b[0;34m\u001b[0m\u001b[0m\n\u001b[1;32m    342\u001b[0m     \u001b[0;32mdef\u001b[0m \u001b[0minit_dir_prior\u001b[0m\u001b[0;34m(\u001b[0m\u001b[0mself\u001b[0m\u001b[0;34m,\u001b[0m \u001b[0mprior\u001b[0m\u001b[0;34m,\u001b[0m \u001b[0mname\u001b[0m\u001b[0;34m)\u001b[0m\u001b[0;34m:\u001b[0m\u001b[0;34m\u001b[0m\u001b[0m\n",
      "\u001b[0;32m~/anaconda3/envs/mlguild/lib/python3.6/site-packages/gensim/models/ldamodel.py\u001b[0m in \u001b[0;36mupdate\u001b[0;34m(self, corpus, chunksize, decay, offset, passes, update_every, eval_every, iterations, gamma_threshold, chunks_as_numpy)\u001b[0m\n\u001b[1;32m    701\u001b[0m             \u001b[0;31m# append current epoch's metric values\u001b[0m\u001b[0;34m\u001b[0m\u001b[0;34m\u001b[0m\u001b[0m\n\u001b[1;32m    702\u001b[0m             \u001b[0;32mif\u001b[0m \u001b[0mself\u001b[0m\u001b[0;34m.\u001b[0m\u001b[0mcallbacks\u001b[0m\u001b[0;34m:\u001b[0m\u001b[0;34m\u001b[0m\u001b[0m\n\u001b[0;32m--> 703\u001b[0;31m                 \u001b[0mcurrent_metrics\u001b[0m \u001b[0;34m=\u001b[0m \u001b[0mcallback\u001b[0m\u001b[0;34m.\u001b[0m\u001b[0mon_epoch_end\u001b[0m\u001b[0;34m(\u001b[0m\u001b[0mpass_\u001b[0m\u001b[0;34m)\u001b[0m\u001b[0;34m\u001b[0m\u001b[0m\n\u001b[0m\u001b[1;32m    704\u001b[0m                 \u001b[0;32mfor\u001b[0m \u001b[0mmetric\u001b[0m\u001b[0;34m,\u001b[0m \u001b[0mvalue\u001b[0m \u001b[0;32min\u001b[0m \u001b[0mcurrent_metrics\u001b[0m\u001b[0;34m.\u001b[0m\u001b[0mitems\u001b[0m\u001b[0;34m(\u001b[0m\u001b[0;34m)\u001b[0m\u001b[0;34m:\u001b[0m\u001b[0;34m\u001b[0m\u001b[0m\n\u001b[1;32m    705\u001b[0m                     \u001b[0mself\u001b[0m\u001b[0;34m.\u001b[0m\u001b[0mmetrics\u001b[0m\u001b[0;34m[\u001b[0m\u001b[0mmetric\u001b[0m\u001b[0;34m]\u001b[0m\u001b[0;34m.\u001b[0m\u001b[0mappend\u001b[0m\u001b[0;34m(\u001b[0m\u001b[0mvalue\u001b[0m\u001b[0;34m)\u001b[0m\u001b[0;34m\u001b[0m\u001b[0m\n",
      "\u001b[0;32m~/anaconda3/envs/mlguild/lib/python3.6/site-packages/gensim/models/callbacks.py\u001b[0m in \u001b[0;36mon_epoch_end\u001b[0;34m(self, epoch, topics)\u001b[0m\n\u001b[1;32m    281\u001b[0m         \u001b[0;32mfor\u001b[0m \u001b[0mi\u001b[0m\u001b[0;34m,\u001b[0m \u001b[0mmetric\u001b[0m \u001b[0;32min\u001b[0m \u001b[0menumerate\u001b[0m\u001b[0;34m(\u001b[0m\u001b[0mself\u001b[0m\u001b[0;34m.\u001b[0m\u001b[0mmetrics\u001b[0m\u001b[0;34m)\u001b[0m\u001b[0;34m:\u001b[0m\u001b[0;34m\u001b[0m\u001b[0m\n\u001b[1;32m    282\u001b[0m             \u001b[0mlabel\u001b[0m \u001b[0;34m=\u001b[0m \u001b[0mstr\u001b[0m\u001b[0;34m(\u001b[0m\u001b[0mmetric\u001b[0m\u001b[0;34m)\u001b[0m\u001b[0;34m\u001b[0m\u001b[0m\n\u001b[0;32m--> 283\u001b[0;31m             \u001b[0mvalue\u001b[0m \u001b[0;34m=\u001b[0m \u001b[0mmetric\u001b[0m\u001b[0;34m.\u001b[0m\u001b[0mget_value\u001b[0m\u001b[0;34m(\u001b[0m\u001b[0mtopics\u001b[0m\u001b[0;34m=\u001b[0m\u001b[0mtopics\u001b[0m\u001b[0;34m,\u001b[0m \u001b[0mmodel\u001b[0m\u001b[0;34m=\u001b[0m\u001b[0mself\u001b[0m\u001b[0;34m.\u001b[0m\u001b[0mmodel\u001b[0m\u001b[0;34m,\u001b[0m \u001b[0mother_model\u001b[0m\u001b[0;34m=\u001b[0m\u001b[0mself\u001b[0m\u001b[0;34m.\u001b[0m\u001b[0mprevious\u001b[0m\u001b[0;34m)\u001b[0m\u001b[0;34m\u001b[0m\u001b[0m\n\u001b[0m\u001b[1;32m    284\u001b[0m \u001b[0;34m\u001b[0m\u001b[0m\n\u001b[1;32m    285\u001b[0m             \u001b[0mcurrent_metrics\u001b[0m\u001b[0;34m[\u001b[0m\u001b[0mlabel\u001b[0m\u001b[0;34m]\u001b[0m \u001b[0;34m=\u001b[0m \u001b[0mvalue\u001b[0m\u001b[0;34m\u001b[0m\u001b[0m\n",
      "\u001b[0;32m~/anaconda3/envs/mlguild/lib/python3.6/site-packages/gensim/models/callbacks.py\u001b[0m in \u001b[0;36mget_value\u001b[0;34m(self, **kwargs)\u001b[0m\n\u001b[1;32m    101\u001b[0m         cm = gensim.models.CoherenceModel(\n\u001b[1;32m    102\u001b[0m             \u001b[0mself\u001b[0m\u001b[0;34m.\u001b[0m\u001b[0mmodel\u001b[0m\u001b[0;34m,\u001b[0m \u001b[0mself\u001b[0m\u001b[0;34m.\u001b[0m\u001b[0mtopics\u001b[0m\u001b[0;34m,\u001b[0m \u001b[0mself\u001b[0m\u001b[0;34m.\u001b[0m\u001b[0mtexts\u001b[0m\u001b[0;34m,\u001b[0m \u001b[0mself\u001b[0m\u001b[0;34m.\u001b[0m\u001b[0mcorpus\u001b[0m\u001b[0;34m,\u001b[0m \u001b[0mself\u001b[0m\u001b[0;34m.\u001b[0m\u001b[0mdictionary\u001b[0m\u001b[0;34m,\u001b[0m\u001b[0;34m\u001b[0m\u001b[0m\n\u001b[0;32m--> 103\u001b[0;31m             \u001b[0mself\u001b[0m\u001b[0;34m.\u001b[0m\u001b[0mwindow_size\u001b[0m\u001b[0;34m,\u001b[0m \u001b[0mself\u001b[0m\u001b[0;34m.\u001b[0m\u001b[0mcoherence\u001b[0m\u001b[0;34m,\u001b[0m \u001b[0mself\u001b[0m\u001b[0;34m.\u001b[0m\u001b[0mtopn\u001b[0m\u001b[0;34m\u001b[0m\u001b[0m\n\u001b[0m\u001b[1;32m    104\u001b[0m         )\n\u001b[1;32m    105\u001b[0m         \u001b[0;32mreturn\u001b[0m \u001b[0mcm\u001b[0m\u001b[0;34m.\u001b[0m\u001b[0mget_coherence\u001b[0m\u001b[0;34m(\u001b[0m\u001b[0;34m)\u001b[0m\u001b[0;34m\u001b[0m\u001b[0m\n",
      "\u001b[0;32m~/anaconda3/envs/mlguild/lib/python3.6/site-packages/gensim/models/coherencemodel.py\u001b[0m in \u001b[0;36m__init__\u001b[0;34m(self, model, topics, texts, corpus, dictionary, window_size, keyed_vectors, coherence, topn, processes)\u001b[0m\n\u001b[1;32m    208\u001b[0m                 \u001b[0;32mraise\u001b[0m \u001b[0mValueError\u001b[0m\u001b[0;34m(\u001b[0m\u001b[0;34m\"'texts' should be provided for %s coherence.\"\u001b[0m\u001b[0;34m,\u001b[0m \u001b[0mcoherence\u001b[0m\u001b[0;34m)\u001b[0m\u001b[0;34m\u001b[0m\u001b[0m\n\u001b[1;32m    209\u001b[0m         \u001b[0;32melse\u001b[0m\u001b[0;34m:\u001b[0m\u001b[0;34m\u001b[0m\u001b[0m\n\u001b[0;32m--> 210\u001b[0;31m             \u001b[0;32mraise\u001b[0m \u001b[0mValueError\u001b[0m\u001b[0;34m(\u001b[0m\u001b[0;34m\"%s coherence is not currently supported.\"\u001b[0m\u001b[0;34m,\u001b[0m \u001b[0mcoherence\u001b[0m\u001b[0;34m)\u001b[0m\u001b[0;34m\u001b[0m\u001b[0m\n\u001b[0m\u001b[1;32m    211\u001b[0m \u001b[0;34m\u001b[0m\u001b[0m\n\u001b[1;32m    212\u001b[0m         \u001b[0mself\u001b[0m\u001b[0;34m.\u001b[0m\u001b[0m_topn\u001b[0m \u001b[0;34m=\u001b[0m \u001b[0mtopn\u001b[0m\u001b[0;34m\u001b[0m\u001b[0m\n",
      "\u001b[0;31mValueError\u001b[0m: ('%s coherence is not currently supported.', 10)"
     ]
    }
   ],
   "source": [
    "from gensim.models.callbacks import CoherenceMetric, DiffMetric, PerplexityMetric, ConvergenceMetric\n",
    "\n",
    "# define perplexity callback for hold_out and test corpus\n",
    "#pl_holdout = PerplexityMetric(corpus=holdout_corpus, logger=\"visdom\", title=\"Perplexity (hold_out)\")\n",
    "#pl_test = PerplexityMetric(corpus=test_corpus, logger=\"visdom\", title=\"Perplexity (test)\")\n",
    "\n",
    "\n",
    "# u_mass, c_v, c_uci, c_npmi.\n",
    "# define other remaining metrics available\n",
    "ch_umass = CoherenceMetric(corpus=tfidf_corpus, coherence=\"c_v\", logger=\"visdom\", title=\"Coherence (u_mass)\", window_size=110)\n",
    "#ch_cv = CoherenceMetric(corpus=tfidf_corpus, texts=texts, coherence=\"c_v\", logger=\"visdom\", title=\"Coherence (c_v)\")\n",
    "diff_kl = DiffMetric(distance=\"kullback_leibler\", logger=\"visdom\", title=\"Diff (kullback_leibler)\")\n",
    "convergence_kl = ConvergenceMetric(distance=\"jaccard\", logger=\"visdom\", title=\"Convergence (jaccard)\")\n",
    "\n",
    "callbacks = [#pl_holdout, pl_test,  ch_cv,\n",
    "    diff_kl, convergence_kl, ch_umass]\n",
    "\n",
    "# training LDA model\n",
    "ldamodel = LdaModel(\n",
    "        tfidf_corpus, num_topics=20, id2word=dictionary, passes=200,  callbacks=callbacks)\n",
    "\n",
    "#model = ldamodel.LdaModel(corpus=training_corpus, id2word=dictionary, num_topics=35, passes=50, chunksize=1500, iterations=200, alpha='auto', callbacks=callbacks)"
   ]
  },
  {
   "cell_type": "markdown",
   "metadata": {},
   "source": [
    "### Coherence\n",
    "\n",
    "ABSTRACT: https://people.cs.umass.edu/~wallach/publications/mimno11optimizing.pdf"
   ]
  },
  {
   "cell_type": "code",
   "execution_count": null,
   "metadata": {
    "collapsed": true
   },
   "outputs": [],
   "source": []
  },
  {
   "cell_type": "code",
   "execution_count": null,
   "metadata": {
    "collapsed": true
   },
   "outputs": [],
   "source": []
  }
 ],
 "metadata": {
  "kernelspec": {
   "display_name": "Python [conda env:mlguild]",
   "language": "python",
   "name": "conda-env-mlguild-py"
  },
  "language_info": {
   "codemirror_mode": {
    "name": "ipython",
    "version": 3
   },
   "file_extension": ".py",
   "mimetype": "text/x-python",
   "name": "python",
   "nbconvert_exporter": "python",
   "pygments_lexer": "ipython3",
   "version": "3.6.3"
  }
 },
 "nbformat": 4,
 "nbformat_minor": 2
}
