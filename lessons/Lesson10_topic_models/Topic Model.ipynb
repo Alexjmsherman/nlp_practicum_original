{
 "cells": [
  {
   "cell_type": "code",
   "execution_count": 2,
   "metadata": {
    "collapsed": true
   },
   "outputs": [],
   "source": [
    "import spacy\n",
    "from spacy.matcher import Matcher\n",
    "from spacy.matcher import PhraseMatcher\n",
    "from collections import defaultdict\n",
    "from spacy.lang.en.stop_words import STOP_WORDS\n",
    "\n",
    "nlp = spacy.load('en_core_web_lg')\n",
    "\n",
    "for word in STOP_WORDS:\n",
    "    lexeme = nlp.vocab[word]\n",
    "    lexeme.is_stop = True\n",
    "\n",
    "\n",
    "filename = r'../raw_data/southwest_2016.txt' # r'1994_test.txt\n",
    "with open(filename, 'rb') as f:\n",
    "    data = [line.decode('utf-8') for line in f.readlines()]\n",
    "data = ' '.join(data).replace('\\r',' ').replace('/s',' ').replace('\\n',' ').strip()\n",
    "\n",
    "doc = nlp(data)"
   ]
  },
  {
   "cell_type": "markdown",
   "metadata": {},
   "source": [
    "### SpaCy - Text Extraction"
   ]
  },
  {
   "cell_type": "code",
   "execution_count": 97,
   "metadata": {},
   "outputs": [],
   "source": [
    "def collect_sents(matcher, doc, i, matches):\n",
    "    match_id, start, end = matches[i]\n",
    "    span = doc[start : end] # matched span\n",
    "    entity = span.lemma_.lower()\n",
    "    sent = span.sent\n",
    "        \n",
    "    # add the first entity and return as there is no last match to check    \n",
    "    if i == 0:\n",
    "        ent_count[entity] += 1\n",
    "        ent_sents[entity].append(sent)\n",
    "        matched_sents.append(sent)\n",
    "        return\n",
    "\n",
    "    # get the last match to avoid adding duplicates when one term is contained\n",
    "    # in another (e.g. 'integration services' in 'system integration services')\n",
    "    last_match_id, last_start, last_end = matches[i-1]\n",
    "    last_span = doc[last_start : last_end]\n",
    "    last_entity = last_span.text.lower()\n",
    "    last_sent = last_span.sent\n",
    "\n",
    "    distinct_entity = (entity not in last_entity) or (sent != last_sent)\n",
    "    not_duplicate_entity = (entity != last_entity) or (sent != last_sent)\n",
    "    \n",
    "    if distinct_entity and not_duplicate_entity:\n",
    "        ent_count[entity] += 1\n",
    "        ent_sents[entity].append(sent)\n",
    "        matched_sents.append(sent)"
   ]
  },
  {
   "cell_type": "code",
   "execution_count": 98,
   "metadata": {
    "collapsed": true
   },
   "outputs": [],
   "source": [
    "matched_sents = []\n",
    "ent_sents = defaultdict(list)\n",
    "ent_count = defaultdict(int)\n",
    "pattern = [{'POS': 'NOUN', 'OP': '+'},{'LOWER': 'services'}]\n",
    "matcher = Matcher(nlp.vocab)\n",
    "matcher.add('ServiceTypes', collect_sents, pattern) # add pattern\n",
    "matches = matcher(doc) # match on your text\n",
    "\n",
    "matched_sents = []\n",
    "ent_sents = defaultdict(list)\n",
    "ent_count = defaultdict(int)\n",
    "pattern = [{'POS': 'NOUN', 'OP': '+'},{'LOWER': 'products'}]\n",
    "matcher = Matcher(nlp.vocab)\n",
    "matcher.add('ProductTypes', collect_sents, pattern) # add pattern\n",
    "matches = matcher(doc) # match on your text\n",
    "\n",
    "matched_sents = []\n",
    "ent_sents  = defaultdict(list)\n",
    "ent_count = defaultdict(int)\n",
    "pattern = [[{'POS': 'NOUN', 'OP': '+'},{'LOWER': 'fee'}]\n",
    "           , [{'POS': 'NOUN', 'OP': '+'},{'LOWER': 'fees'}]]\n",
    "matcher = Matcher(nlp.vocab)\n",
    "matcher.add('ProductTypes', collect_sents, *pattern) # add pattern\n",
    "matches = matcher(doc) # match on your text"
   ]
  },
  {
   "cell_type": "code",
   "execution_count": 99,
   "metadata": {},
   "outputs": [
    {
     "data": {
      "text/plain": [
       "No Show policy, funds may be applied to future travel on Southwest without a change fee.  "
      ]
     },
     "execution_count": 99,
     "metadata": {},
     "output_type": "execute_result"
    }
   ],
   "source": [
    "matched_sents[0]"
   ]
  },
  {
   "cell_type": "code",
   "execution_count": 100,
   "metadata": {},
   "outputs": [
    {
     "data": {
      "text/plain": [
       "defaultdict(int,\n",
       "            {'agriculture inspection fee': 1,\n",
       "             'aircraft fee': 1,\n",
       "             'attorneys’ fee': 3,\n",
       "             'bag fee': 5,\n",
       "             'baggage fee': 2,\n",
       "             'change fee': 4,\n",
       "             'credit card fee': 1,\n",
       "             'custom fee': 1,\n",
       "             'landing fee': 10,\n",
       "             'passenger agriculture inspection fee': 1,\n",
       "             'refund passenger fee': 1,\n",
       "             'service fee': 1,\n",
       "             'usage fee': 1})"
      ]
     },
     "execution_count": 100,
     "metadata": {},
     "output_type": "execute_result"
    }
   ],
   "source": [
    "ent_count"
   ]
  },
  {
   "cell_type": "code",
   "execution_count": 101,
   "metadata": {},
   "outputs": [
    {
     "data": {
      "text/plain": [
       "[Under this rule, which was effective  December 28, 2015, the per-passenger agriculture inspection fee is $5.00 and the per-commercial  aircraft fee is $225.00.  ]"
      ]
     },
     "execution_count": 101,
     "metadata": {},
     "output_type": "execute_result"
    }
   ],
   "source": [
    "ent_sents['aircraft fee']"
   ]
  },
  {
   "cell_type": "markdown",
   "metadata": {},
   "source": [
    "## Exercise\n",
    "\n",
    "Extract the fee amounts"
   ]
  },
  {
   "cell_type": "code",
   "execution_count": 102,
   "metadata": {
    "collapsed": true
   },
   "outputs": [],
   "source": [
    "# TODO"
   ]
  },
  {
   "cell_type": "markdown",
   "metadata": {},
   "source": [
    "### SpaCy - Text Preprocessing"
   ]
  },
  {
   "cell_type": "code",
   "execution_count": 103,
   "metadata": {
    "collapsed": true
   },
   "outputs": [],
   "source": [
    "# TODO: create this in the SpaCy notebook !!!!!!!!!!!!!!!!!!!!!!!!!!!!!!!!!!!!!!!!!!!!!\n",
    "def clean_text(doc):\n",
    "    ents = nlp(doc.text).ents\n",
    "\n",
    "    # Add named entities, but only if they are a compound of more than word.\n",
    "    IGNORE_ENTS = ('QUANTITY','ORDINAL','CARDINAL','DATE'\n",
    "                   ,'PERCENT','MONEY','TIME')\n",
    "    ents = [ent for ent in ents if \n",
    "             (ent.label_ not in IGNORE_ENTS) and (len(ent) > 2)]\n",
    "    \n",
    "    # add underscores to combine words in entities\n",
    "    ents = [str(ent).strip().replace(' ','_') for ent in ents]\n",
    "    \n",
    "    # Keep only words (no numbers, no punctuation).\n",
    "    # Lemmatize tokens, remove punctuation and remove stopwords.\n",
    "    doc = [token.lemma_ for token in doc if \n",
    "           token.is_alpha and not token.is_stop]\n",
    "    \n",
    "    doc.extend([entity for entity in ents])\n",
    "    \n",
    "    return [str(term) for term in doc]"
   ]
  },
  {
   "cell_type": "code",
   "execution_count": 104,
   "metadata": {},
   "outputs": [
    {
     "name": "stdout",
     "output_type": "stream",
     "text": [
      "CPU times: user 2.26 s, sys: 52.8 ms, total: 2.31 s\n",
      "Wall time: 584 ms\n"
     ]
    }
   ],
   "source": [
    "%%time\n",
    "cleaned_text = []\n",
    "for sent in matched_sents:\n",
    "    text = clean_text(sent)\n",
    "    cleaned_text.append(text)"
   ]
  },
  {
   "cell_type": "code",
   "execution_count": 105,
   "metadata": {},
   "outputs": [
    {
     "name": "stdout",
     "output_type": "stream",
     "text": [
      "['no', 'show', 'policy', 'fund', 'apply', 'future', 'travel', 'southwest', 'change', 'fee']\n"
     ]
    }
   ],
   "source": [
    "print(cleaned_text[0])"
   ]
  },
  {
   "cell_type": "markdown",
   "metadata": {},
   "source": [
    "### Phrase Model\n",
    "\n",
    "Phrase modeling is another approach to learning combinations of tokens that together represent meaningful multi-word concepts. We can develop phrase models by looping over the the words in our reviews and looking for words that co-occur (i.e., appear one after another) together much more frequently than you would expect them to by random chance. The formula our phrase models will use to determine whether two tokens $A$ and $B$ constitute a phrase is:\n",
    "\n",
    "$$\\frac{count(A\\ B) - count_{min}}{count(A) * count(B)} * N > threshold$$\n",
    "\n",
    "...where:\n",
    "\n",
    "$count(A)$ is the number of times token $A$ appears in the corpus\n",
    "$count(B)$ is the number of times token $B$ appears in the corpus\n",
    "$count(A\\ B)$ is the number of times the tokens $A\\ B$ appear in the corpus in order\n",
    "$N$ is the total size of the corpus vocabulary\n",
    "$count_{min}$ is a user-defined parameter to ensure that accepted phrases occur a minimum number of times\n",
    "$threshold$ is a user-defined parameter to control how strong of a relationship between two tokens the model requires before accepting them as a phrase\n",
    "Once our phrase model has been trained on our corpus, we can apply it to new text. When our model encounters two tokens in new text that identifies as a phrase, it will merge the two into a single new token.\n",
    "\n",
    "Phrase modeling is superficially similar to named entity detection in that you would expect named entities to become phrases in the model (so new york would become new_york). But you would also expect multi-word expressions that represent common concepts, but aren't specifically named entities (such as happy hour) to also become phrases in the model.\n",
    "\n",
    "We turn to the indispensible gensim library to help us with phrase modeling — the Phrases class in particular.\n",
    "\n",
    "SOURCE: https://github.com/skipgram/modern-nlp-in-python/blob/master/executable/Modern_NLP_in_Python.ipynb "
   ]
  },
  {
   "cell_type": "code",
   "execution_count": 106,
   "metadata": {
    "collapsed": true
   },
   "outputs": [],
   "source": [
    "from gensim.models.phrases import Phrases\n",
    "from gensim.models.phrases import Phraser"
   ]
  },
  {
   "cell_type": "code",
   "execution_count": 107,
   "metadata": {},
   "outputs": [
    {
     "data": {
      "text/plain": [
       "[['southwest', 'airlines', 'co'], ['annual', 'report', 'to', 'shareholder']]"
      ]
     },
     "execution_count": 107,
     "metadata": {},
     "output_type": "execute_result"
    }
   ],
   "source": [
    "# Keep only words (no numbers, no punctuation).\n",
    "# Lemmatize tokens, remove punctuation\n",
    "\n",
    "phrase_doc = []\n",
    "for sent in doc.sents:\n",
    "    updated_sent = []\n",
    "    for token in sent:\n",
    "        if token.is_alpha:\n",
    "            updated_sent.append(str(token.lemma_))\n",
    "    phrase_doc.append(updated_sent)\n",
    "\n",
    "phrase_doc[0:2]"
   ]
  },
  {
   "cell_type": "code",
   "execution_count": 109,
   "metadata": {},
   "outputs": [
    {
     "name": "stdout",
     "output_type": "stream",
     "text": [
      "{'indicate_by_check', 'securities_and_exchange', 'compare_with_as_the_dollar', 'million_or_percent', 'note_to_the_consolidated', 'result_of_operations', 'fuel_and_oil', 'acquisition_and_integration', 'designate_as_hedge', 'accumulated_other_comprehensive', 'chairman_of_the_board', 'qualify_for_hedge', 'balance_at_december', 'incorporate_by_reference', 'form_for_the_quarter', 'interest_be_payable', 'letter_of_credit', 'condition_and_result', 'board_of_directors', 'mark_to_market', 'discuss_in_more_detail', 'purchase_call_option', 'value_of_goodwill', 'fix_to_float', 'wanna_get_away', 'depreciation_and_amortization', 'available_for_sale', 'nos_and_incorporate', 'exhibit_and_respectively', 'number_of_share', 'incorporate_herein_by_reference', 'pursuant_to_section', 'component_of_other_gain', 'gain_or_loss', 'amend_and_restate', 'statement_of_income', 'share_of_common', 'expense_for_increase', 'meeting_of_shareholders', 'form_for_the_year', 'file_no_supplemental', 'include_as_a_component', 'time_to_time', 'officer_and_chief', 'year_over_year', 'new_five_gate', 'course_of_business', 'result_of_operation', 'nominating_and_corporate', 'expense_for_decrease', 'payable_through_level', 'subject_to_the_risk', 'report_on_form', 'change_in_accounting', 'safety_and_compliance', 'gain_and_loss', 'use_of_non', 'exhibit_to_the_company', 'city_of_dallas', 'return_on_invest', 'compare_with_primarily', 'discussion_and_analysis', 'property_and_equipment', 'agreement_no_incorporate', 'dollar_and_per_asm', 'reference_to_exhibit', 'settle_in_future', 'oversee_and_manage', 'asset_and_liability', 'note_for_further_information', 'goodwill_and_indefinite', 'principal_and_interest', 'agreement_with_chase', 'expense_per_asm', 'statement_for_further_information', 'analysis_of_financial'}\n"
     ]
    }
   ],
   "source": [
    "common_terms = list(STOP_WORDS)\n",
    "phrases = Phrases(phrase_doc, common_terms=common_terms, min_count=5, threshold=5)"
   ]
  },
  {
   "cell_type": "markdown",
   "metadata": {},
   "source": [
    "### Phrases Params\n",
    "\n",
    "- **scoring:** specifies how potential phrases are scored for comparison to the threshold setting. scoring can be set with either a string that refers to a built-in scoring function, or with a function with the expected parameter names. Two built-in scoring functions are available by setting scoring to a string:\n",
    "\n",
    "    - ‘default’: from “Efficient Estimaton of Word Representations in Vector Space” by Mikolov, et. al.: \n",
    "$$\\frac{count(wordA followed by wordB) - count_{min}}{count(A) * count(B)} * N > threshold$$\n",
    "    - where N is the total vocabulary size.\n",
    "    - Thus, it is easier to exceed the threshold when the two words occur together often or when the two words are rare (i.e. small product)\n",
    "\n",
    "\n",
    "\n",
    "\n",
    "- **common_terms:** optionnal list of “stop words” that won’t affect frequency count of expressions containing them.\n",
    "    - The common_terms parameter add a way to give special treatment to common terms (aka stop words) such that their presence between two words won’t prevent bigram detection. It allows to detect expressions like “bank of america” or “eye of the beholder”.\n"
   ]
  },
  {
   "cell_type": "code",
   "execution_count": 155,
   "metadata": {
    "collapsed": true
   },
   "outputs": [],
   "source": [
    "bigram = Phraser(phrases)"
   ]
  },
  {
   "cell_type": "markdown",
   "metadata": {},
   "source": [
    "After the one-time initialization, a Phraser will be much smaller and somewhat faster than using the full Phrases model.\n",
    "\n",
    "Reflects the results of the source model’s min_count, threshold, and scoring settings. (You can tamper with those & create a new Phraser to try other values.)\n",
    "\n",
    "SOURCE: https://radimrehurek.com/gensim/models/phrases.html"
   ]
  },
  {
   "cell_type": "code",
   "execution_count": 108,
   "metadata": {},
   "outputs": [],
   "source": [
    "def print_phrases(phraser, text_stream, num_underscores=1):\n",
    "    phrases = []\n",
    "    for terms in phraser[text_stream]:\n",
    "        for term in terms:\n",
    "            if term.count('_') >= num_underscores:\n",
    "                phrases.append(term)\n",
    "    print(set(phrases))"
   ]
  },
  {
   "cell_type": "code",
   "execution_count": 154,
   "metadata": {},
   "outputs": [
    {
     "name": "stdout",
     "output_type": "stream",
     "text": [
      "{'indicate_by_check', 'securities_and_exchange', 'compare_with_as_the_dollar', 'million_or_percent', 'note_to_the_consolidated', 'result_of_operations', 'fuel_and_oil', 'acquisition_and_integration', 'designate_as_hedge', 'accumulated_other_comprehensive', 'chairman_of_the_board', 'qualify_for_hedge', 'balance_at_december', 'incorporate_by_reference', 'form_for_the_quarter', 'interest_be_payable', 'letter_of_credit', 'condition_and_result', 'board_of_directors', 'mark_to_market', 'discuss_in_more_detail', 'purchase_call_option', 'value_of_goodwill', 'fix_to_float', 'wanna_get_away', 'depreciation_and_amortization', 'available_for_sale', 'nos_and_incorporate', 'exhibit_and_respectively', 'number_of_share', 'incorporate_herein_by_reference', 'pursuant_to_section', 'component_of_other_gain', 'gain_or_loss', 'amend_and_restate', 'statement_of_income', 'share_of_common', 'expense_for_increase', 'meeting_of_shareholders', 'form_for_the_year', 'file_no_supplemental', 'include_as_a_component', 'time_to_time', 'officer_and_chief', 'year_over_year', 'new_five_gate', 'course_of_business', 'result_of_operation', 'nominating_and_corporate', 'expense_for_decrease', 'payable_through_level', 'subject_to_the_risk', 'report_on_form', 'change_in_accounting', 'safety_and_compliance', 'gain_and_loss', 'use_of_non', 'exhibit_to_the_company', 'city_of_dallas', 'return_on_invest', 'compare_with_primarily', 'discussion_and_analysis', 'property_and_equipment', 'agreement_no_incorporate', 'dollar_and_per_asm', 'reference_to_exhibit', 'settle_in_future', 'oversee_and_manage', 'asset_and_liability', 'note_for_further_information', 'goodwill_and_indefinite', 'principal_and_interest', 'agreement_with_chase', 'expense_per_asm', 'statement_for_further_information', 'analysis_of_financial'}\n"
     ]
    }
   ],
   "source": [
    "print_phrases(bigram, phrase_doc, num_underscores=2)"
   ]
  },
  {
   "cell_type": "code",
   "execution_count": 110,
   "metadata": {},
   "outputs": [
    {
     "name": "stdout",
     "output_type": "stream",
     "text": [
      "{'information_require_by_this_item', 'compare_with_as_the_dollar', 'reference_to_exhibit_and_respectively', 'prepaid_expense_and_other_current_asset', 'management_discussion_and_analysis_of_financial', 'chief_executive_officer_and_chief', 'set_forth_under_the_head', 'goodwill_and_indefinite_live_intangible', 'reference_to_exhibit_to_the_company_annual', 'agreements_nos_and_incorporate_by_reference', 'report_on_form_for_the_year_end', 'form_for_the_year_end_december', 'fiscal_year_and_interim_period', 'increase_be_more_than_offset', 'fair_value_of_fuel_derivative', 'condition_and_result_of_operations', 'annual_report_on_form_for_the_year', 'component_of_other_gain_loss_net', 'company_quarterly_report_on_form', 'note_regard_use_of_non', 'company_annual_report_on_form', 'exhibit_to_the_company_annual_report', 'form_for_the_quarter_end_june', 'quarterly_report_on_form_for_the_quarter', 'report_on_form_for_the_quarter_end', 'file_no_supplemental_agreement_no_incorporate', 'point_sell_to_business_partner', 'agreement_with_chase_and_the_result', 'agreement_no_incorporate_by_reference_to_exhibit', 'incorporate_by_reference_to_exhibit_to_the_company', 'supplemental_agreements_nos_and_incorporate', 'file_no_supplemental_agreements_nos', 'form_for_the_quarter_end_september', 'supplemental_agreement_no_incorporate_by_reference', 'million_or_percent_compare_with_primarily', 'dollar_and_per_asm_basis', 'end_september_file_no_supplemental', 'maintenance_material_and_repair_expense', 'current_report_on_form_file', 'exhibit_to_the_company_quarterly_report', 'reference_to_exhibit_to_the_company_quarterly', 'fix_to_float_interest_rate', 'internal_control_over_financial_reporting', 'net_income_per_share_dilute', 'note_to_the_consolidated_financial_statement', 'increase_by_million_or_percent', 'salary_wage_and_benefit_expense'}\n"
     ]
    }
   ],
   "source": [
    "phrases = Phrases(bigram[phrase_doc], common_terms=common_terms, min_count=5,threshold=5)\n",
    "trigram = Phraser(phrases)\n",
    "\n",
    "print_phrases(trigram, bigram[phrase_doc], num_underscores=4)"
   ]
  },
  {
   "cell_type": "code",
   "execution_count": 111,
   "metadata": {},
   "outputs": [
    {
     "name": "stdout",
     "output_type": "stream",
     "text": [
      "DOC NUMBER: 6\n",
      "ORIGINAL SENTENT: ['-PRON-', 'result', 'be', 'furth', 'boost', 'by', 'the', 'significant', 'reduction', 'in', 'energy', 'price', 'generally', 'range', 'bind', 'in', 'the', 'a', 'barrel', 'range', 'for', 'brent', 'crude', 'oil']\n",
      "\n",
      "BIGRAM: ['-PRON-', 'result', 'be', 'furth', 'boost', 'by', 'the', 'significant', 'reduction', 'in', 'energy_price', 'generally', 'range', 'bind', 'in', 'the', 'a', 'barrel', 'range', 'for', 'brent_crude', 'oil']\n",
      "\n",
      "TRIGRAM: ['-PRON-', 'result', 'be', 'furth', 'boost', 'by', 'the', 'significant', 'reduction', 'in', 'energy_price', 'generally', 'range', 'bind', 'in', 'the', 'a', 'barrel', 'range', 'for', 'brent_crude_oil']\n",
      "\n",
      "\n",
      "DOC NUMBER: 29\n",
      "ORIGINAL SENTENT: ['operate', 'expense', 'per', 'available', 'seat', 'mile', 'casm', 'increase', 'percent', 'year', 'over', 'year']\n",
      "\n",
      "BIGRAM: ['operate', 'expense', 'per', 'available_seat', 'mile', 'casm', 'increase_percent', 'year_over_year']\n",
      "\n",
      "TRIGRAM: ['operate', 'expense', 'per', 'available_seat_mile', 'casm', 'increase_percent', 'year_over_year']\n",
      "\n",
      "\n"
     ]
    }
   ],
   "source": [
    "for doc_num in [6,29]:\n",
    "    print('DOC NUMBER: {}'.format(doc_num))\n",
    "    print('ORIGINAL SENTENT: {}\\n'.format(phrase_doc[doc_num]))\n",
    "    print('BIGRAM: {}\\n'.format(bigram[phrase_doc[doc_num]]))\n",
    "    print('TRIGRAM: {}'.format(trigram[bigram[phrase_doc[doc_num]]]))\n",
    "    print('\\n')"
   ]
  },
  {
   "cell_type": "markdown",
   "metadata": {},
   "source": [
    "### Review Phrase Model"
   ]
  },
  {
   "cell_type": "code",
   "execution_count": 112,
   "metadata": {},
   "outputs": [
    {
     "name": "stdout",
     "output_type": "stream",
     "text": [
      "{'Plant_Health_Inspection_Service', 'Section_2_of_the_Sherman_Act', '13.9__Acquisition', 'the_Sherman_Act', 'the_U.S._Department', '938__Acquisition', 'Section_1', 'Consolidated_Amended_Complaint', 'The_Passenger_Protection_Rules'}\n"
     ]
    }
   ],
   "source": [
    "def clean_text(doc):\n",
    "    ents = nlp(doc.text).ents\n",
    "\n",
    "    # Add named entities, but only if they are a compound of more than word.\n",
    "    IGNORE_ENTS = ('QUANTITY','ORDINAL','CARDINAL','DATE'\n",
    "                   ,'PERCENT','MONEY','TIME')\n",
    "    ents = [ent for ent in ents if \n",
    "             (ent.label_ not in IGNORE_ENTS) and (len(ent) > 2)]\n",
    "    \n",
    "    # add underscores to combine words in entities\n",
    "    ents = [str(ent).strip().replace(' ','_') for ent in ents]\n",
    "    \n",
    "    # Keep only words (no numbers, no punctuation).\n",
    "    # Lemmatize tokens, remove punctuation and remove stopwords.\n",
    "    doc = [token.lemma_ for token in doc if \n",
    "           token.is_alpha and not token.is_stop]\n",
    "    \n",
    "    doc.extend([entity for entity in ents])\n",
    "    \n",
    "    return [str(term) for term in doc]\n",
    "\n",
    "    \n",
    "# combined terms before phrase_model (entities and/or noun chunks)\n",
    "before_phrase = []\n",
    "for sent in matched_sents:\n",
    "    text = clean_text(sent)\n",
    "    for term in text:\n",
    "        if '_' in term:\n",
    "            before_phrase.append(term)\n",
    "\n",
    "print(set(before_phrase))"
   ]
  },
  {
   "cell_type": "code",
   "execution_count": 113,
   "metadata": {},
   "outputs": [
    {
     "name": "stdout",
     "output_type": "stream",
     "text": [
      "{'compare_with_as_the_dollar', 'Section_2_of_the_Sherman_Act', 'acquisition_and_integration', 'operating_lease', 'flight_crew', 'flight_date', 'operating_expense', 'customer_service', 'dollar_basis', 'passenger_revenue', 'increase_be_more_than_offset', 'depreciation_and_amortization', 'the_U.S._Department', '938__Acquisition', 'aircraft_rental', 'air_travel', 'check_bag', 'passenger_protection', 'consolidated_statement_of_income', 'Plant_Health_Inspection_Service', 'total_operating', 'low_fare', 'straight_line', 'operating_income', 'Consolidated_Amended_Complaint', 'decrease_percent', 'company_currently_expect', 'future_travel', 'bag_fee', 'landing_fee', 'rental_expense', '13.9__Acquisition', 'the_Sherman_Act', 'percent_increase_in_capacity', 'expense_associate', 'credit_card', 'Section_1', 'asm_basis', 'The_Passenger_Protection_Rules', 'increase_by_million_or_percent'}\n"
     ]
    }
   ],
   "source": [
    "def clean_text(doc):\n",
    "    ents = nlp(doc.text).ents\n",
    "\n",
    "    # Add named entities, but only if they are a compound of more than word.\n",
    "    IGNORE_ENTS = ('QUANTITY','ORDINAL','CARDINAL','DATE'\n",
    "                   ,'PERCENT','MONEY','TIME')\n",
    "    ents = [ent for ent in ents if \n",
    "             (ent.label_ not in IGNORE_ENTS) and (len(ent) > 2)]\n",
    "    \n",
    "    # add underscores to combine words in entities\n",
    "    ents = [str(ent).strip().replace(' ','_') for ent in ents]\n",
    "    \n",
    "    # clean text for phrase model\n",
    "    # Keep only words (no numbers, no punctuation).\n",
    "    # Lemmatize tokens, remove punctuation and remove stopwords.\n",
    "    doc_ = [token.lemma_ for token in doc if token.is_alpha]\n",
    "    phrase_text = [str(term) for term in doc_]\n",
    "    sent = trigram[bigram[phrase_text]]\n",
    "    phrases = []\n",
    "    for term in sent:\n",
    "        if '_' in term:\n",
    "            phrases.append(term)\n",
    "\n",
    "    # remove stops words - \n",
    "    # separate step as they are needed for the phrase model\n",
    "    doc = [token.lemma_ for token in doc if token.is_alpha and not token.is_stop]\n",
    "\n",
    "    # add phrases and entities\n",
    "    doc.extend([entity for entity in ents])\n",
    "    clean_text = [str(term) for term in doc] + phrases\n",
    "\n",
    "    return clean_text\n",
    "\n",
    "# combined terms after phrase model\n",
    "after_phrase = []\n",
    "for sent in matched_sents:\n",
    "    text = clean_text(sent)\n",
    "    for term in text:\n",
    "        if '_' in term:\n",
    "            after_phrase.append(term)\n",
    "\n",
    "print(set(after_phrase))"
   ]
  },
  {
   "cell_type": "code",
   "execution_count": 114,
   "metadata": {},
   "outputs": [
    {
     "name": "stdout",
     "output_type": "stream",
     "text": [
      "[['no', 'show', 'policy', 'fund', 'apply', 'future', 'travel', 'southwest', 'change', 'fee', 'future_travel'], ['for', 'example', 'company', 'transfarencysm', 'campaign', 'emphasize', 'southwest', 'approach', 'treat', 'customer', 'fairly', 'honestly', 'respectfully', 'low', 'fare', 'unexpected', 'bag', 'fee', 'change', 'fee', 'hidden', 'fee', 'low_fare', 'bag_fee']]\n"
     ]
    }
   ],
   "source": [
    "cleaned_text = []\n",
    "for sent in matched_sents:\n",
    "    text = clean_text(sent)\n",
    "    cleaned_text.append(text)\n",
    "\n",
    "print(cleaned_text[0:2])"
   ]
  },
  {
   "cell_type": "markdown",
   "metadata": {},
   "source": [
    "# Text Vectorization (gensim)"
   ]
  },
  {
   "cell_type": "code",
   "execution_count": 116,
   "metadata": {
    "collapsed": true
   },
   "outputs": [],
   "source": [
    "from gensim import corpora, models\n",
    "from gensim.models.ldamodel import LdaModel\n",
    "import pandas as pd\n",
    "import scipy.sparse"
   ]
  },
  {
   "cell_type": "code",
   "execution_count": 118,
   "metadata": {},
   "outputs": [],
   "source": [
    "texts = cleaned_text\n",
    "\n",
    "text = texts[0]"
   ]
  },
  {
   "cell_type": "code",
   "execution_count": 119,
   "metadata": {
    "collapsed": true
   },
   "outputs": [],
   "source": [
    "# turn our tokenized documents into a id <-> term dictionary\n",
    "dictionary = corpora.Dictionary(texts)"
   ]
  },
  {
   "cell_type": "code",
   "execution_count": 120,
   "metadata": {
    "collapsed": true
   },
   "outputs": [],
   "source": [
    "dictionary.filter_extremes(no_below=2, no_above=0.4)"
   ]
  },
  {
   "cell_type": "markdown",
   "metadata": {},
   "source": [
    "Here we assigned a unique integer ID to all words appearing in the processed corpus with the gensim.corpora.dictionary.Dictionary class. This sweeps across the texts, collecting word counts and relevant statistics. In the end, we see there are twelve distinct words in the processed corpus, which means each document will be represented by twelve numbers (ie., by a 12-D vector). To see the mapping between words and their ids:"
   ]
  },
  {
   "cell_type": "code",
   "execution_count": 121,
   "metadata": {},
   "outputs": [
    {
     "name": "stdout",
     "output_type": "stream",
     "text": [
      "{'show': 0, 'apply': 1, 'travel': 2, 'southwest': 3, 'change': 4, 'for': 5, 'example': 6, 'company': 7, 'transfarencysm': 8, 'campaign': 9, 'emphasize': 10, 'approach': 11, 'treat': 12, 'customer': 13, 'fairly': 14, 'honestly': 15, 'respectfully': 16, 'low': 17, 'fare': 18, 'unexpected': 19, 'bag': 20, 'hidden': 21, 'low_fare': 22, 'bag_fee': 23, 'the': 24, 'service': 25, 'charge': 26, 'pay': 27, 'airfare': 28, 'passenger': 29, 'protection': 30, 'rules': 31, 'require': 32, 'airline': 33, 'compensation': 34, 'deny': 35, 'boarding': 36, 'involuntarily': 37, 'oversold': 38, 'flight': 39, 'ii': 40, 'refund': 41, 'check': 42, 'permanently': 43, 'lose': 44, 'luggage': 45, 'iii': 46, 'prominently': 47, 'disclose': 48, 'potential': 49, 'optional': 50, 'ancillary': 51, 'website': 52, 'iv': 53, 'cancel': 54, 'oversell': 55, 'unable': 56, 'advantage': 57, 'The_Passenger_Protection_Rules': 58, 'passenger_protection': 59, 'check_bag': 60, 'include': 61, 'increase': 62, 'baggage': 63, 'in': 64, 'december': 65, 'agriculture': 66, 'inspection': 67, 'under': 68, 'rule': 69, 'effective': 70, 'commercial': 71, 'aircraft': 72, 'airport': 73, 'cost': 74, 'total': 75, 'result': 76, 'landing': 77, 'landing_fee': 78, 'lease': 79, 'terminal': 80, 'complaint': 81, 'allege': 82, 'airtran': 83, 'section': 84, 'sherman': 85, 'act': 86, 'delta': 87, 'addition': 88, 'treble': 89, 'damage': 90, 'consolidated': 91, 'amended': 92, 'seek': 93, 'injunctive': 94, 'relief': 95, 'broad': 96, 'range': 97, 'anticompetitive': 98, 'activity': 99, 'Consolidated_Amended_Complaint': 100, 'on': 101, 'court': 102, 'capacity': 103, 'date': 104, 'expense': 105, 'generally': 106, 'rental': 107, 'depreciation': 108, 'amortization': 109, 'acquisition': 110, 'integration': 111, 'depreciation_and_amortization': 112, 'acquisition_and_integration': 113, 'million': 114, 'percent': 115, 'compare': 116, 'rental_expense': 117, 'increase_by_million_or_percent': 118, 'asm': 119, 'basis': 120, 'decrease': 121, 'dollar': 122, 'offset': 123, 'asm_basis': 124, 'decrease_percent': 125, 'compare_with_as_the_dollar': 126, 'increase_be_more_than_offset': 127, 'percent_increase_in_capacity': 128, 'aircraft_rental': 129, 'revenue': 130, 'other': 131, 'operating': 132, 'income': 133}\n"
     ]
    }
   ],
   "source": [
    "print(dictionary.token2id)"
   ]
  },
  {
   "cell_type": "code",
   "execution_count": 122,
   "metadata": {},
   "outputs": [
    {
     "name": "stdout",
     "output_type": "stream",
     "text": [
      "['no', 'show', 'policy', 'fund', 'apply', 'future', 'travel', 'southwest', 'change', 'fee', 'future_travel']\n"
     ]
    },
    {
     "data": {
      "text/plain": [
       "[(0, 1), (1, 1), (2, 1), (3, 1), (4, 1)]"
      ]
     },
     "execution_count": 122,
     "metadata": {},
     "output_type": "execute_result"
    }
   ],
   "source": [
    "print(text)\n",
    "\n",
    "dictionary.doc2bow(text)"
   ]
  },
  {
   "cell_type": "markdown",
   "metadata": {},
   "source": [
    "The function doc2bow() simply counts the number of occurrences of each distinct word, converts the word to its integer word id and returns the result as a bag-of-words--a sparse vector, in the form of [(word_id, word_count), ...].\n",
    "\n",
    "As the token_id is 0 for \"human\" and 2 for \"computer\", the new document “Human computer interaction” will be transformed to [(0, 1), (2, 1)]. The words \"computer\" and \"human\" exist in the dictionary and appear once. Thus, they become (0, 1), (2, 1) respectively in the sparse vector. The word \"interaction\" doesn't exist in the dictionary and, thus, will not show up in the sparse vector. The other ten dictionary words, that appear (implicitly) zero times, will not show up in the sparse vector and , ,there will never be a element in the sparse vector like (3, 0).\n",
    "\n",
    "For people familiar with scikit learn, doc2bow() has similar behaviors as calling transform() on CountVectorizer. doc2bow() can behave like fit_transform() as well. For more details, please look at gensim API Doc."
   ]
  },
  {
   "cell_type": "code",
   "execution_count": 123,
   "metadata": {
    "collapsed": true
   },
   "outputs": [],
   "source": [
    "# convert tokenized documents into a document-term matrix\n",
    "corpus = [dictionary.doc2bow(sent) for sent in texts]"
   ]
  },
  {
   "cell_type": "markdown",
   "metadata": {},
   "source": [
    "We used our old corpus from tutorial 1 to initialize (train) the transformation model. Different transformations may require different initialization parameters; in case of TfIdf, the “training” consists simply of going through the supplied corpus once and computing document frequencies of all its features. Training other models, such as Latent Semantic Analysis or Latent Dirichlet Allocation, is much more involved and, consequently, takes much more time."
   ]
  },
  {
   "cell_type": "code",
   "execution_count": 124,
   "metadata": {},
   "outputs": [
    {
     "data": {
      "text/plain": [
       "<gensim.models.tfidfmodel.TfidfModel at 0x1344b7fd0>"
      ]
     },
     "execution_count": 124,
     "metadata": {},
     "output_type": "execute_result"
    }
   ],
   "source": [
    "tfidf = models.TfidfModel(corpus) # step 1 -- initialize a model\n",
    "tfidf"
   ]
  },
  {
   "cell_type": "code",
   "execution_count": 127,
   "metadata": {},
   "outputs": [
    {
     "data": {
      "text/plain": [
       "[(0, 0.537680364152946),\n",
       " (1, 0.537680364152946),\n",
       " (2, 0.40326027311470947),\n",
       " (3, 0.35998666929218426),\n",
       " (4, 0.35998666929218426)]"
      ]
     },
     "execution_count": 127,
     "metadata": {},
     "output_type": "execute_result"
    }
   ],
   "source": [
    "tfidf_corpus = []\n",
    "tfidf_transform = tfidf[corpus]\n",
    "for doc in tfidf_transform:\n",
    "    tfidf_corpus.append(doc)\n",
    "\n",
    "tfidf_corpus[0]"
   ]
  },
  {
   "cell_type": "markdown",
   "metadata": {},
   "source": [
    "# Topic Models (Gensim)"
   ]
  },
  {
   "cell_type": "markdown",
   "metadata": {},
   "source": [
    "### Latent Semantic Indexing (LSI)\n",
    "Latent semantic indexing (LSI) is an indexing and retrieval method that uses a mathematical technique called singular value decomposition (SVD) to identify patterns in the relationships between the terms and concepts contained in an unstructured collection of text. LSI is based on the principle that words that are used in the same contexts tend to have similar meanings. A key feature of LSI is its ability to extract the conceptual content of a body of text by establishing associations between those terms that occur in similar contexts.[18]\n",
    "\n",
    "The method, also called latent semantic analysis (LSA), uncovers the underlying latent semantic structure in the usage of words in a body of text and how it can be used to extract the meaning of the text in response to user queries, commonly referred to as concept searches. Queries, or concept searches, against a set of documents that have undergone LSI will return results that are conceptually similar in meaning to the search criteria even if the results don’t share a specific word or words with the search criteria.\n",
    "\n",
    "### Overview\n",
    "LSA can use a term-document matrix which describes the occurrences of terms in documents; it is a sparse matrix whose rows correspond to terms and whose columns correspond to documents. A typical example of the weighting of the elements of the matrix is tf-idf (term frequency–inverse document frequency): the weight of an element of the matrix is proportional to the number of times the terms appear in each document, where rare terms are upweighted to reflect their relative importance.\n",
    "\n",
    "This matrix is also common to standard semantic models, though it is not necessarily explicitly expressed as a matrix, since the mathematical properties of matrices are not always used.\n",
    "\n",
    "### Rank Lowering\n",
    "After the construction of the occurrence matrix, LSA finds a low-rank approximation[4] to the term-document matrix. There could be various reasons for these approximations:\n",
    "\n",
    "The original term-document matrix is presumed too large for the computing resources; in this case, the approximated low rank matrix is interpreted as an approximation (a \"least and necessary evil\").\n",
    "The original term-document matrix is presumed noisy: for example, anecdotal instances of terms are to be eliminated. From this point of view, the approximated matrix is interpreted as a de-noisified matrix (a better matrix than the original).\n",
    "The original term-document matrix is presumed overly sparse relative to the \"true\" term-document matrix. That is, the original matrix lists only the words actually in each document, whereas we might be interested in all words related to each document—generally a much larger set due to synonymy.\n",
    "The consequence of the rank lowering is that some dimensions are combined and depend on more than one term:\n",
    "\n",
    "{(car), (truck), (flower)} --> {(1.3452 * car + 0.2828 * truck), (flower)}\n",
    "\n",
    "This mitigates the problem of identifying synonymy, as the rank lowering is expected to merge the dimensions associated with terms that have similar meanings. It also mitigates the problem with polysemy, since components of polysemous words that point in the \"right\" direction are added to the components of words that share a similar meaning. Conversely, components that point in other directions tend to either simply cancel out, or, at worst, to be smaller than components in the directions corresponding to the intended sense.\n",
    "\n",
    "\n",
    "### Use Cases\n",
    "- Compare the documents in the low-dimensional space (data clustering, document classification).\n",
    "- Find similar documents across languages, after analyzing a base set of translated documents (cross language retrieval).\n",
    "- Find relations between terms (synonymy and polysemy).\n",
    "- Given a query of terms, translate it into the low-dimensional space, and find matching documents (information retrieval).\n",
    "- Find the best similarity between small groups of terms, in a semantic way (i.e. in a context of a knowledge corpus), as for example in multi choice questions MCQ answering model.\n",
    "- Expand the feature space of machine learning / text mining systems \n",
    "- Analyze word association in text corpus \n",
    "\n",
    "Synonymy and polysemy are fundamental problems in natural language processing:\n",
    "* Synonymy is the phenomenon where different words describe the same idea. Thus, a query in a search engine may fail to retrieve a relevant document that does not contain the words which appeared in the query. For example, a search for \"doctors\" may not return a document containing the word \"physicians\", even though the words have the same meaning.\n",
    "\n",
    "* Polysemy is the phenomenon where the same word has multiple meanings. So a search may retrieve irrelevant documents containing the desired words in the wrong meaning. For example, a botanist and a computer scientist looking for the word \"tree\" probably desire different sets of documents.\n",
    "\n",
    "### Limitations\n",
    "LSA cannot capture polysemy (i.e., multiple meanings of a word) because each occurrence of a word is treated as having the same meaning due to the word being represented as a single point in space.[citation needed]. For example, the occurrence of \"chair\" in a document containing \"The Chair of the Board\" and in a separate document containing \"the chair maker\" are considered the same. The behavior results in the vector representation being an average of all the word's different meanings in the corpus, which can make it difficult for comparison. However, the effect is often lessened due to words having a predominant sense throughout a corpus (i.e. not all meanings are equally likely).\n",
    "\n",
    "SOURCE: https://en.wikipedia.org/wiki/Latent_semantic_analysis#cite_note-38"
   ]
  },
  {
   "cell_type": "code",
   "execution_count": 128,
   "metadata": {},
   "outputs": [],
   "source": [
    "# initialize an LSI transformation\n",
    "lsi = models.LsiModel(tfidf_corpus, id2word=dictionary, num_topics=2) "
   ]
  },
  {
   "cell_type": "code",
   "execution_count": 129,
   "metadata": {
    "collapsed": true
   },
   "outputs": [],
   "source": [
    "# create a double wrapper over the original corpus: bow->tfidf->fold-in-lsi\n",
    "corpus_lsi = lsi[tfidf_corpus] "
   ]
  },
  {
   "cell_type": "code",
   "execution_count": 130,
   "metadata": {},
   "outputs": [
    {
     "data": {
      "text/plain": [
       "[(0,\n",
       "  '-0.285*\"increase\" + -0.283*\"percent\" + -0.276*\"rental\" + -0.248*\"rental_expense\" + -0.236*\"expense\"'),\n",
       " (1,\n",
       "  '0.304*\"passenger\" + 0.237*\"service\" + 0.162*\"pay\" + -0.161*\"percent\" + 0.148*\"damage\"')]"
      ]
     },
     "execution_count": 130,
     "metadata": {},
     "output_type": "execute_result"
    }
   ],
   "source": [
    "lsi.print_topics(2, num_words=5)"
   ]
  },
  {
   "cell_type": "markdown",
   "metadata": {},
   "source": [
    "### LDA"
   ]
  },
  {
   "cell_type": "code",
   "execution_count": 131,
   "metadata": {},
   "outputs": [
    {
     "data": {
      "text/plain": [
       "[(0,\n",
       "  '0.023*\"passenger\" + 0.020*\"service\" + 0.018*\"southwest\" + 0.017*\"change\" + 0.016*\"inspection\"'),\n",
       " (1,\n",
       "  '0.019*\"rental\" + 0.017*\"increase\" + 0.017*\"expense\" + 0.016*\"landing\" + 0.016*\"landing_fee\"')]"
      ]
     },
     "execution_count": 131,
     "metadata": {},
     "output_type": "execute_result"
    }
   ],
   "source": [
    "ldamodel = LdaModel(\n",
    "        tfidf_corpus, num_topics=2, id2word=dictionary, passes=200)\n",
    "\n",
    "ldamodel.print_topics(num_topics=2, num_words=5)"
   ]
  },
  {
   "cell_type": "code",
   "execution_count": 132,
   "metadata": {},
   "outputs": [
    {
     "data": {
      "text/plain": [
       "[([(0.018974580317509881, 'rental'),\n",
       "   (0.017328061230754692, 'increase'),\n",
       "   (0.016996578265364378, 'expense'),\n",
       "   (0.01611641963098397, 'landing'),\n",
       "   (0.01611641963097742, 'landing_fee'),\n",
       "   (0.015348498895761549, 'percent'),\n",
       "   (0.014633059876339836, 'rental_expense'),\n",
       "   (0.01435251539191755, 'damage'),\n",
       "   (0.013658045675954951, 'cost'),\n",
       "   (0.013198770476051174, 'in'),\n",
       "   (0.013004984725550211, 'airtran'),\n",
       "   (0.012344643086849148, 'compare'),\n",
       "   (0.012303525281150068, 'seek'),\n",
       "   (0.012303525281149821, 'relief'),\n",
       "   (0.01230352528114676, 'injunctive'),\n",
       "   (0.01193330686936139, 'on'),\n",
       "   (0.011436652843529512, 'court'),\n",
       "   (0.011368825590748468, 'asm'),\n",
       "   (0.01128345481733793, 'delta'),\n",
       "   (0.011161364311113274, 'increase_by_million_or_percent')],\n",
       "  -13.726536223002389),\n",
       " ([(0.023297363064785311, 'passenger'),\n",
       "   (0.02030638240568073, 'service'),\n",
       "   (0.017851455879786128, 'southwest'),\n",
       "   (0.017125052016583774, 'change'),\n",
       "   (0.016391845591608657, 'inspection'),\n",
       "   (0.016391845591600909, 'agriculture'),\n",
       "   (0.014992436162969072, 'customer'),\n",
       "   (0.012505482837321774, 'show'),\n",
       "   (0.012470214428703288, 'airfare'),\n",
       "   (0.012051020250034464, 'ancillary'),\n",
       "   (0.011688353740694596, 'pay'),\n",
       "   (0.011576859560671414, 'flight'),\n",
       "   (0.0112921069730179, 'rule'),\n",
       "   (0.011292106973014951, 'commercial'),\n",
       "   (0.011292106973014342, 'effective'),\n",
       "   (0.011292106973012974, 'under'),\n",
       "   (0.010957696331470231, 'campaign'),\n",
       "   (0.010816772939082456, 'apply'),\n",
       "   (0.010507972530623846, 'charge'),\n",
       "   (0.010278048118851283, 'december')],\n",
       "  -14.983302321818663)]"
      ]
     },
     "execution_count": 132,
     "metadata": {},
     "output_type": "execute_result"
    }
   ],
   "source": [
    "ldamodel.top_topics(corpus)"
   ]
  },
  {
   "cell_type": "markdown",
   "metadata": {
    "collapsed": true
   },
   "source": [
    "## Visdom\n",
    "\n",
    "Install it with:\n",
    "\n",
    "`conda install visdom`\n",
    "\n",
    "Start the server:\n",
    "\n",
    "`python -m visdom.server`\n",
    "\n",
    "Visdom now can be accessed at http://localhost:8097 in the browser.\n",
    "\n",
    "\n",
    "# LDA Training Visualization\n",
    "\n",
    "Knowing about the progress and performance of a model, as we train them, could be very helpful in understanding it’s learning process and makes it easier to debug and optimize them. In this notebook, we will learn how to visualize training statistics for LDA topic model in gensim. To monitor the training, a list of Metrics is passed to the LDA function call for plotting their values live as the training progresses. \n",
    "\n",
    "\n",
    "<img src=\"../raw_data/images/visdom_graph.png\">\n",
    "\n",
    "\n",
    "SOURCE: https://github.com/RaRe-Technologies/gensim/blob/develop/docs/notebooks/Training_visualizations.ipynb\n",
    "Visdom SOURCE: https://github.com/facebookresearch/visdom"
   ]
  },
  {
   "cell_type": "code",
   "execution_count": 149,
   "metadata": {},
   "outputs": [
    {
     "ename": "ValueError",
     "evalue": "('%s coherence is not currently supported.', 10)",
     "output_type": "error",
     "traceback": [
      "\u001b[0;31m---------------------------------------------------------------------------\u001b[0m",
      "\u001b[0;31mValueError\u001b[0m                                Traceback (most recent call last)",
      "\u001b[0;32m<ipython-input-149-90ab8d594966>\u001b[0m in \u001b[0;36m<module>\u001b[0;34m()\u001b[0m\n\u001b[1;32m     18\u001b[0m \u001b[0;31m# training LDA model\u001b[0m\u001b[0;34m\u001b[0m\u001b[0;34m\u001b[0m\u001b[0m\n\u001b[1;32m     19\u001b[0m ldamodel = LdaModel(\n\u001b[0;32m---> 20\u001b[0;31m         tfidf_corpus, num_topics=20, id2word=dictionary, passes=200,  callbacks=callbacks)\n\u001b[0m\u001b[1;32m     21\u001b[0m \u001b[0;34m\u001b[0m\u001b[0m\n\u001b[1;32m     22\u001b[0m \u001b[0;31m#model = ldamodel.LdaModel(corpus=training_corpus, id2word=dictionary, num_topics=35, passes=50, chunksize=1500, iterations=200, alpha='auto', callbacks=callbacks)\u001b[0m\u001b[0;34m\u001b[0m\u001b[0;34m\u001b[0m\u001b[0m\n",
      "\u001b[0;32m~/anaconda3/envs/mlguild/lib/python3.6/site-packages/gensim/models/ldamodel.py\u001b[0m in \u001b[0;36m__init__\u001b[0;34m(self, corpus, num_topics, id2word, distributed, chunksize, passes, update_every, alpha, eta, decay, offset, eval_every, iterations, gamma_threshold, minimum_probability, random_state, ns_conf, minimum_phi_value, per_word_topics, callbacks)\u001b[0m\n\u001b[1;32m    338\u001b[0m         \u001b[0;32mif\u001b[0m \u001b[0mcorpus\u001b[0m \u001b[0;32mis\u001b[0m \u001b[0;32mnot\u001b[0m \u001b[0;32mNone\u001b[0m\u001b[0;34m:\u001b[0m\u001b[0;34m\u001b[0m\u001b[0m\n\u001b[1;32m    339\u001b[0m             \u001b[0muse_numpy\u001b[0m \u001b[0;34m=\u001b[0m \u001b[0mself\u001b[0m\u001b[0;34m.\u001b[0m\u001b[0mdispatcher\u001b[0m \u001b[0;32mis\u001b[0m \u001b[0;32mnot\u001b[0m \u001b[0;32mNone\u001b[0m\u001b[0;34m\u001b[0m\u001b[0m\n\u001b[0;32m--> 340\u001b[0;31m             \u001b[0mself\u001b[0m\u001b[0;34m.\u001b[0m\u001b[0mupdate\u001b[0m\u001b[0;34m(\u001b[0m\u001b[0mcorpus\u001b[0m\u001b[0;34m,\u001b[0m \u001b[0mchunks_as_numpy\u001b[0m\u001b[0;34m=\u001b[0m\u001b[0muse_numpy\u001b[0m\u001b[0;34m)\u001b[0m\u001b[0;34m\u001b[0m\u001b[0m\n\u001b[0m\u001b[1;32m    341\u001b[0m \u001b[0;34m\u001b[0m\u001b[0m\n\u001b[1;32m    342\u001b[0m     \u001b[0;32mdef\u001b[0m \u001b[0minit_dir_prior\u001b[0m\u001b[0;34m(\u001b[0m\u001b[0mself\u001b[0m\u001b[0;34m,\u001b[0m \u001b[0mprior\u001b[0m\u001b[0;34m,\u001b[0m \u001b[0mname\u001b[0m\u001b[0;34m)\u001b[0m\u001b[0;34m:\u001b[0m\u001b[0;34m\u001b[0m\u001b[0m\n",
      "\u001b[0;32m~/anaconda3/envs/mlguild/lib/python3.6/site-packages/gensim/models/ldamodel.py\u001b[0m in \u001b[0;36mupdate\u001b[0;34m(self, corpus, chunksize, decay, offset, passes, update_every, eval_every, iterations, gamma_threshold, chunks_as_numpy)\u001b[0m\n\u001b[1;32m    701\u001b[0m             \u001b[0;31m# append current epoch's metric values\u001b[0m\u001b[0;34m\u001b[0m\u001b[0;34m\u001b[0m\u001b[0m\n\u001b[1;32m    702\u001b[0m             \u001b[0;32mif\u001b[0m \u001b[0mself\u001b[0m\u001b[0;34m.\u001b[0m\u001b[0mcallbacks\u001b[0m\u001b[0;34m:\u001b[0m\u001b[0;34m\u001b[0m\u001b[0m\n\u001b[0;32m--> 703\u001b[0;31m                 \u001b[0mcurrent_metrics\u001b[0m \u001b[0;34m=\u001b[0m \u001b[0mcallback\u001b[0m\u001b[0;34m.\u001b[0m\u001b[0mon_epoch_end\u001b[0m\u001b[0;34m(\u001b[0m\u001b[0mpass_\u001b[0m\u001b[0;34m)\u001b[0m\u001b[0;34m\u001b[0m\u001b[0m\n\u001b[0m\u001b[1;32m    704\u001b[0m                 \u001b[0;32mfor\u001b[0m \u001b[0mmetric\u001b[0m\u001b[0;34m,\u001b[0m \u001b[0mvalue\u001b[0m \u001b[0;32min\u001b[0m \u001b[0mcurrent_metrics\u001b[0m\u001b[0;34m.\u001b[0m\u001b[0mitems\u001b[0m\u001b[0;34m(\u001b[0m\u001b[0;34m)\u001b[0m\u001b[0;34m:\u001b[0m\u001b[0;34m\u001b[0m\u001b[0m\n\u001b[1;32m    705\u001b[0m                     \u001b[0mself\u001b[0m\u001b[0;34m.\u001b[0m\u001b[0mmetrics\u001b[0m\u001b[0;34m[\u001b[0m\u001b[0mmetric\u001b[0m\u001b[0;34m]\u001b[0m\u001b[0;34m.\u001b[0m\u001b[0mappend\u001b[0m\u001b[0;34m(\u001b[0m\u001b[0mvalue\u001b[0m\u001b[0;34m)\u001b[0m\u001b[0;34m\u001b[0m\u001b[0m\n",
      "\u001b[0;32m~/anaconda3/envs/mlguild/lib/python3.6/site-packages/gensim/models/callbacks.py\u001b[0m in \u001b[0;36mon_epoch_end\u001b[0;34m(self, epoch, topics)\u001b[0m\n\u001b[1;32m    281\u001b[0m         \u001b[0;32mfor\u001b[0m \u001b[0mi\u001b[0m\u001b[0;34m,\u001b[0m \u001b[0mmetric\u001b[0m \u001b[0;32min\u001b[0m \u001b[0menumerate\u001b[0m\u001b[0;34m(\u001b[0m\u001b[0mself\u001b[0m\u001b[0;34m.\u001b[0m\u001b[0mmetrics\u001b[0m\u001b[0;34m)\u001b[0m\u001b[0;34m:\u001b[0m\u001b[0;34m\u001b[0m\u001b[0m\n\u001b[1;32m    282\u001b[0m             \u001b[0mlabel\u001b[0m \u001b[0;34m=\u001b[0m \u001b[0mstr\u001b[0m\u001b[0;34m(\u001b[0m\u001b[0mmetric\u001b[0m\u001b[0;34m)\u001b[0m\u001b[0;34m\u001b[0m\u001b[0m\n\u001b[0;32m--> 283\u001b[0;31m             \u001b[0mvalue\u001b[0m \u001b[0;34m=\u001b[0m \u001b[0mmetric\u001b[0m\u001b[0;34m.\u001b[0m\u001b[0mget_value\u001b[0m\u001b[0;34m(\u001b[0m\u001b[0mtopics\u001b[0m\u001b[0;34m=\u001b[0m\u001b[0mtopics\u001b[0m\u001b[0;34m,\u001b[0m \u001b[0mmodel\u001b[0m\u001b[0;34m=\u001b[0m\u001b[0mself\u001b[0m\u001b[0;34m.\u001b[0m\u001b[0mmodel\u001b[0m\u001b[0;34m,\u001b[0m \u001b[0mother_model\u001b[0m\u001b[0;34m=\u001b[0m\u001b[0mself\u001b[0m\u001b[0;34m.\u001b[0m\u001b[0mprevious\u001b[0m\u001b[0;34m)\u001b[0m\u001b[0;34m\u001b[0m\u001b[0m\n\u001b[0m\u001b[1;32m    284\u001b[0m \u001b[0;34m\u001b[0m\u001b[0m\n\u001b[1;32m    285\u001b[0m             \u001b[0mcurrent_metrics\u001b[0m\u001b[0;34m[\u001b[0m\u001b[0mlabel\u001b[0m\u001b[0;34m]\u001b[0m \u001b[0;34m=\u001b[0m \u001b[0mvalue\u001b[0m\u001b[0;34m\u001b[0m\u001b[0m\n",
      "\u001b[0;32m~/anaconda3/envs/mlguild/lib/python3.6/site-packages/gensim/models/callbacks.py\u001b[0m in \u001b[0;36mget_value\u001b[0;34m(self, **kwargs)\u001b[0m\n\u001b[1;32m    101\u001b[0m         cm = gensim.models.CoherenceModel(\n\u001b[1;32m    102\u001b[0m             \u001b[0mself\u001b[0m\u001b[0;34m.\u001b[0m\u001b[0mmodel\u001b[0m\u001b[0;34m,\u001b[0m \u001b[0mself\u001b[0m\u001b[0;34m.\u001b[0m\u001b[0mtopics\u001b[0m\u001b[0;34m,\u001b[0m \u001b[0mself\u001b[0m\u001b[0;34m.\u001b[0m\u001b[0mtexts\u001b[0m\u001b[0;34m,\u001b[0m \u001b[0mself\u001b[0m\u001b[0;34m.\u001b[0m\u001b[0mcorpus\u001b[0m\u001b[0;34m,\u001b[0m \u001b[0mself\u001b[0m\u001b[0;34m.\u001b[0m\u001b[0mdictionary\u001b[0m\u001b[0;34m,\u001b[0m\u001b[0;34m\u001b[0m\u001b[0m\n\u001b[0;32m--> 103\u001b[0;31m             \u001b[0mself\u001b[0m\u001b[0;34m.\u001b[0m\u001b[0mwindow_size\u001b[0m\u001b[0;34m,\u001b[0m \u001b[0mself\u001b[0m\u001b[0;34m.\u001b[0m\u001b[0mcoherence\u001b[0m\u001b[0;34m,\u001b[0m \u001b[0mself\u001b[0m\u001b[0;34m.\u001b[0m\u001b[0mtopn\u001b[0m\u001b[0;34m\u001b[0m\u001b[0m\n\u001b[0m\u001b[1;32m    104\u001b[0m         )\n\u001b[1;32m    105\u001b[0m         \u001b[0;32mreturn\u001b[0m \u001b[0mcm\u001b[0m\u001b[0;34m.\u001b[0m\u001b[0mget_coherence\u001b[0m\u001b[0;34m(\u001b[0m\u001b[0;34m)\u001b[0m\u001b[0;34m\u001b[0m\u001b[0m\n",
      "\u001b[0;32m~/anaconda3/envs/mlguild/lib/python3.6/site-packages/gensim/models/coherencemodel.py\u001b[0m in \u001b[0;36m__init__\u001b[0;34m(self, model, topics, texts, corpus, dictionary, window_size, keyed_vectors, coherence, topn, processes)\u001b[0m\n\u001b[1;32m    208\u001b[0m                 \u001b[0;32mraise\u001b[0m \u001b[0mValueError\u001b[0m\u001b[0;34m(\u001b[0m\u001b[0;34m\"'texts' should be provided for %s coherence.\"\u001b[0m\u001b[0;34m,\u001b[0m \u001b[0mcoherence\u001b[0m\u001b[0;34m)\u001b[0m\u001b[0;34m\u001b[0m\u001b[0m\n\u001b[1;32m    209\u001b[0m         \u001b[0;32melse\u001b[0m\u001b[0;34m:\u001b[0m\u001b[0;34m\u001b[0m\u001b[0m\n\u001b[0;32m--> 210\u001b[0;31m             \u001b[0;32mraise\u001b[0m \u001b[0mValueError\u001b[0m\u001b[0;34m(\u001b[0m\u001b[0;34m\"%s coherence is not currently supported.\"\u001b[0m\u001b[0;34m,\u001b[0m \u001b[0mcoherence\u001b[0m\u001b[0;34m)\u001b[0m\u001b[0;34m\u001b[0m\u001b[0m\n\u001b[0m\u001b[1;32m    211\u001b[0m \u001b[0;34m\u001b[0m\u001b[0m\n\u001b[1;32m    212\u001b[0m         \u001b[0mself\u001b[0m\u001b[0;34m.\u001b[0m\u001b[0m_topn\u001b[0m \u001b[0;34m=\u001b[0m \u001b[0mtopn\u001b[0m\u001b[0;34m\u001b[0m\u001b[0m\n",
      "\u001b[0;31mValueError\u001b[0m: ('%s coherence is not currently supported.', 10)"
     ]
    }
   ],
   "source": [
    "from gensim.models.callbacks import CoherenceMetric, DiffMetric, PerplexityMetric, ConvergenceMetric\n",
    "\n",
    "# define perplexity callback for hold_out and test corpus\n",
    "#pl_holdout = PerplexityMetric(corpus=holdout_corpus, logger=\"visdom\", title=\"Perplexity (hold_out)\")\n",
    "#pl_test = PerplexityMetric(corpus=test_corpus, logger=\"visdom\", title=\"Perplexity (test)\")\n",
    "\n",
    "\n",
    "# u_mass, c_v, c_uci, c_npmi.\n",
    "# define other remaining metrics available\n",
    "ch_umass = CoherenceMetric(corpus=tfidf_corpus, coherence=\"c_v\", logger=\"visdom\", title=\"Coherence (u_mass)\", window_size=110)\n",
    "#ch_cv = CoherenceMetric(corpus=tfidf_corpus, texts=texts, coherence=\"c_v\", logger=\"visdom\", title=\"Coherence (c_v)\")\n",
    "diff_kl = DiffMetric(distance=\"kullback_leibler\", logger=\"visdom\", title=\"Diff (kullback_leibler)\")\n",
    "convergence_kl = ConvergenceMetric(distance=\"jaccard\", logger=\"visdom\", title=\"Convergence (jaccard)\")\n",
    "\n",
    "callbacks = [#pl_holdout, pl_test,  ch_cv,\n",
    "    diff_kl, convergence_kl, ch_umass]\n",
    "\n",
    "# training LDA model\n",
    "ldamodel = LdaModel(\n",
    "        tfidf_corpus, num_topics=20, id2word=dictionary, passes=200,  callbacks=callbacks)\n",
    "\n",
    "#model = ldamodel.LdaModel(corpus=training_corpus, id2word=dictionary, num_topics=35, passes=50, chunksize=1500, iterations=200, alpha='auto', callbacks=callbacks)"
   ]
  },
  {
   "cell_type": "code",
   "execution_count": 152,
   "metadata": {},
   "outputs": [],
   "source": []
  },
  {
   "cell_type": "code",
   "execution_count": null,
   "metadata": {
    "collapsed": true
   },
   "outputs": [],
   "source": [
    "import logging\n",
    "logging.basicConfig(format='%(asctime)s : %(levelname)s : %(message)s', level=logging.INFO)\n",
    "\n",
    "def topic_model(text):\n",
    "\n",
    "    # turn our tokenized documents into a id <-> term dictionary\n",
    "    dictionary = corpora.Dictionary(text)\n",
    "    \n",
    "    dictionary.filter_extremes(no_below=2, no_above=0.4)\n",
    "\n",
    "    # convert tokenized documents into a document-term matrix\n",
    "    corpus = [dictionary.doc2bow(sent) for sent in text] # for text in texts]\n",
    "\n",
    "    tfidf = models.TfidfModel(corpus) # step 1 -- initialize a model\n",
    "\n",
    "    tfidf_corpus = []\n",
    "    tfidf_transform = tfidf[corpus]\n",
    "    for doc in tfidf_transform:\n",
    "        tfidf_corpus.append(doc)\n",
    "\n",
    "    ldamodel = LdaModel(\n",
    "            tfidf_corpus, num_topics=2, id2word = dictionary, passes=20)\n",
    "\n",
    "    print(ldamodel.top_topics(corpus))\n",
    "\n",
    "    for topic in ldamodel.print_topics(num_topics=2, num_words=5):\n",
    "#        print(topic)\n",
    "        print()\n",
    "\n",
    "topic_model(cleaned_text)\n",
    "\n",
    "def put_text_into_topics():\n",
    "    data = []\n",
    "    for ind, topics in enumerate(ldamodel.get_document_topics(corpus)):\n",
    "        d = {'text':' '.join(text[ind])}\n",
    "        for topic in topics:\n",
    "            d[topic[0]] = topic[1]\n",
    "        data.append(d)\n",
    "    \n",
    "    df = pd.DataFrame(data)\n",
    "    return df\n",
    "    #df.to_csv(r'dlete.csv', index=False)"
   ]
  }
 ],
 "metadata": {
  "kernelspec": {
   "display_name": "Python [conda env:mlguild]",
   "language": "python",
   "name": "conda-env-mlguild-py"
  },
  "language_info": {
   "codemirror_mode": {
    "name": "ipython",
    "version": 3
   },
   "file_extension": ".py",
   "mimetype": "text/x-python",
   "name": "python",
   "nbconvert_exporter": "python",
   "pygments_lexer": "ipython3",
   "version": "3.6.3"
  }
 },
 "nbformat": 4,
 "nbformat_minor": 2
}
