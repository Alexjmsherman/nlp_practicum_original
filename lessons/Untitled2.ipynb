{
 "cells": [
  {
   "cell_type": "code",
   "execution_count": 1,
   "metadata": {},
   "outputs": [
    {
     "name": "stdout",
     "output_type": "stream",
     "text": [
      "{'MillisBehindLatest': 0, 'NextShardIterator': 'AAAAAAAAAAEE0i00HO4eUe2yKURAMZE/rGGKVyVK6VEMUd57ak7t7f2v7VgP+FAV/oo9DKPBMcek6c6uBHhnNpgAzVwRyuHiguZQ0ziIXQ/gnSBdy3OxNaDrn9Q3GMe1/8Rp6VHhnV2moyzpcBL6eAq/MhLG4+j+yDX/wiGLpO/rQ66fvQy3Fk+fGCZpT2vqvIW5EjKQrJ7AtrOxbYRmYG+0f3YhekKp', 'Records': []}\n",
      "{'MillisBehindLatest': 0, 'NextShardIterator': 'AAAAAAAAAAGKWfEFIEWuOZ/HYpzzrSmQSd+r0sxhxzi/3JVsT3FYfafg0ed5Ikrc0h5ANLyl+Ym9t2cZyysWtYmzGwkdc/PJ4j5FWaGm+mIbjvmafruNamsRPj6JG9ccV+JVWqnVrB4JRsQtWX8Xa4Y9A5O5fy6nAfNY/EN3dC6ffgO/j/67TewhVX6wPUdUe4XfIZl/VS1JJqGWik0NSeAUOSM9IM+3', 'Records': []}\n",
      "{'MillisBehindLatest': 0, 'NextShardIterator': 'AAAAAAAAAAG3j8dUXyTEdgCpccIT4Wd+9foMg864xwWTGBiV5qtW996gx/5FFhAuVxIADb169adlS2Q0EWq4BLIJNalwf1xWE88Bez0KoCUbUVOyqgKRsodfOF335UQ+tetgjG4e6R7NnsIuqIoVN44lDTWKjYlCCe9UUb2iC7iuGjbrXw49xSIsZluGmTXwcQuMfHTeO/eHKdGuQWIj4MfhazkJcnmz', 'Records': []}\n",
      "{'MillisBehindLatest': 0, 'NextShardIterator': 'AAAAAAAAAAEzAN+lncoPJ5hKLoLeKwhqYb67JKESLu7DpK5BeP5ZIJoO43Ftz5EpvBip+uDt7R+vA9fCEfsWqjXDKuPs6shwU6VOPscoFIa6ZltvfuAc2Uyvxldr84+J8gegDJvycFfmrZvkonum0ePnmXAhXnaRv3hp02ULgkH5GmS2KkBPL+LfadTNy9JAIc6YGJQBjxWpM6dWQCSOUOMLKp5h6teC', 'Records': [{'ApproximateArrivalTimestamp': 1524808781.335, 'Data': '{\"firstname\": \"firstName\", \"lastname\": \"lastName\", \"age\": 55, \"gender\": \"male\"}', 'PartitionKey': 'partitionkey', 'SequenceNumber': '49583926831018273436038048237185373971836010103899684866'}]}\n",
      "{'MillisBehindLatest': 0, 'NextShardIterator': 'AAAAAAAAAAETEINLSd55MXMjqMTkiosbjDSBV7biWPDM1wRIlZi3YqevVQosflxHBr75oz2KcOqZWqXmT21euEndPTYoxA1Q6y3W1v6XBa43qPh5UWNIeu7xH+S8GylBxe0QuAaYSOL/Ff6a4+jj5mm3Muu0KSTmvfXjqFxXbbcW8RhlURgKPrVBOi+LBn9HyPupFjGR/4duT9wOS0CtZj8IKn8yKcgZ', 'Records': []}\n",
      "{'MillisBehindLatest': 0, 'NextShardIterator': 'AAAAAAAAAAFgG4npRcOnHtJ27glQSJ3l9Fp5pQZMbWgXyvN7lmsXm7vB1hQpBCHpiIvoPvWJ6jTlL00sGSrj13Y4VuaYqcy/MSyk1fPyBfa79AndANMEymCfDFMC+h6JN3yvUQhTFJ/a2jYFnUW9JzJ5GVk8AaZBXzoEkZUPBRs62AU3B9Y5gb5wnePiXqNgBYsDzoAaw9LdlX6cbxXbAQfBp/OHEoE5', 'Records': []}\n",
      "{'MillisBehindLatest': 0, 'NextShardIterator': 'AAAAAAAAAAGZK5J53/moktP+U9CODMwLpjl6eGoW4+TVaaa9DyQfbDCFTvSIv9NPGZpAY7TvHYdkejUjDkQMSIepqNd79QiwkmjhOUYeXB1SerQAvvxW9qpqr5i0txxGLuV2/G5SgYfeg6/AFq1jT8fBYzqFVnpfx4470dWXG35zX4v3NksZK3VJsnNNI52fD+MAgS5t7iNKft4zsvdSivJ7py9Kmzw4', 'Records': []}\n",
      "{'MillisBehindLatest': 0, 'NextShardIterator': 'AAAAAAAAAAHNsDTGLWIt6LaemUsRVKnqHwzohnDFWpQevcKfbmANYRCTzmqG67B/rFigv7k353ct5bqIaJshBanpPGUDsR2CrDWr/K1kZjzoqCb4IkOycRECCuRkZuZ7pgoGCy4sVCeO4ChV6XfTAyBWJt7vhFPpQ0xU7WOz7NllYPMreTVaHsedmbw34AKK+tRMBsZX596Wzlz81C0GgLRwlIPoM5c8', 'Records': []}\n",
      "{'MillisBehindLatest': 0, 'NextShardIterator': 'AAAAAAAAAAEMl4CxIOHoPaNLoKCKuq2bARq6PFscI+79a0jwomlRT7ihlyP/6gCWps0higltdghoSP+Ds6yWQiuDvzXC0lt2m+pJShMEc+jxVpinVBuRttXwASGcNDd4p9lfBVp28Vq8vmvbQtIqWoq7t1VaNnvTJk8RORfJ/zuajh8AiZKiZPSRnktMnjlNcMtOd65cKXUIU5GchMXqtA552nGlZ79U', 'Records': []}\n",
      "{'MillisBehindLatest': 0, 'NextShardIterator': 'AAAAAAAAAAFMSjcQDcqj14yEmRgz9x+WkdoTnjz6zXyuR115WEg8HxfU2PCa9X1ydSngvt+mHv2E8HVJGt076nN+Gb5wopn0AeckG1vvQ7f7I0fNZeHpUQR/xABm0JfUO3BmDLkl5lexhoMFk5Dgb0sDA8GAKnBYc7IAzP8sDm0Y3p5ain9SHc+fcSwN3iU2sA/1s/Lvbx+3l7m0mM7c+04+J7+VcsaN', 'Records': []}\n",
      "{'MillisBehindLatest': 2000, 'NextShardIterator': 'AAAAAAAAAAFaRe019bXt/0HOFm+hSyWqVE4EjAwu4ZRJ/oRF1FH9XxfvPCAYgEvPC5jQBdD/LZOe2ajliiPppY6edrB0iE4EWF7+lvdjirywPkL5m8OA5zDZcqekNsy2LD83c706xxvlf2DOGfDS/O4hACm+qXxxJrJq1lAQ9Ejos5HlBm4dYZ/v2IOsQNe9uhZONJnSsTn0bWNmGq2iZaOHH44fosR0', 'Records': [{'ApproximateArrivalTimestamp': 1524808816.044, 'Data': '{\"firstname\": \"firstName\", \"lastname\": \"lastName\", \"age\": 55, \"gender\": \"male\"}', 'PartitionKey': 'partitionkey', 'SequenceNumber': '49583926831018273436038048237186582897655627138256076802'}, {'ApproximateArrivalTimestamp': 1524808817.118, 'Data': '{\"firstname\": \"firstName\", \"lastname\": \"lastName\", \"age\": 55, \"gender\": \"male\"}', 'PartitionKey': 'partitionkey', 'SequenceNumber': '49583926831018273436038048237187791823475241836150259714'}]}\n",
      "{'MillisBehindLatest': 5000, 'NextShardIterator': 'AAAAAAAAAAGUmZHdHVpGAFosoG6qMBMr1MVEv8WRr+YaE4q9iZybBaq3WzDzkltFEny/X4el8szy3SMyQtLwz1tHWboI1YS1GqITSVtgCMO3hvFpbWAKQCaF3xwhrnkcebCnRw9qi/89XYlf7XkmVnfw9VGHWwO4Y2/BL19IjYnpLh80SsCHoJp17V4R5e/9KFwxST0HpOv29q+ptIg1Fpl/6B9uA+lJ', 'Records': [{'ApproximateArrivalTimestamp': 1524808818.283, 'Data': '{\"firstname\": \"firstName\", \"lastname\": \"lastName\", \"age\": 55, \"gender\": \"male\"}', 'PartitionKey': 'partitionkey', 'SequenceNumber': '49583926831018273436038048237189000749294856534044442626'}, {'ApproximateArrivalTimestamp': 1524808819.449, 'Data': '{\"firstname\": \"firstName\", \"lastname\": \"lastName\", \"age\": 55, \"gender\": \"male\"}', 'PartitionKey': 'partitionkey', 'SequenceNumber': '49583926831018273436038048237190209675114471231938625538'}]}\n",
      "{'MillisBehindLatest': 8000, 'NextShardIterator': 'AAAAAAAAAAHp4oDSMTBd+yqtwEA3RIcLBa55G7yyJlpuj73yMoaE5EbyUp2mpj+lAT8ELoeofvFC/QBVGSQUM7skKcx4j0MIOsUNLTuCwd5HDavmjoGfU8IXwT0ICo2wV5C6ueX72/snW4pi/QKxIQyOHwVZiPAaT/zv1GrYApGpavZLa77hxfZ7K3Rtp3o4VpzeTGbXC2vNoKVFRMiLojpLl34E1FUG', 'Records': [{'ApproximateArrivalTimestamp': 1524808820.635, 'Data': '{\"firstname\": \"firstName\", \"lastname\": \"lastName\", \"age\": 55, \"gender\": \"male\"}', 'PartitionKey': 'partitionkey', 'SequenceNumber': '49583926831018273436038048237191418600934085929832808450'}, {'ApproximateArrivalTimestamp': 1524808821.733, 'Data': '{\"firstname\": \"firstName\", \"lastname\": \"lastName\", \"age\": 55, \"gender\": \"male\"}', 'PartitionKey': 'partitionkey', 'SequenceNumber': '49583926831018273436038048237192627526753700627726991362'}]}\n",
      "{'MillisBehindLatest': 12000, 'NextShardIterator': 'AAAAAAAAAAFSQNjACXEyQiYZzUs9HWx+o2H6Bq9BfJvCKiKy535UWf4J8Q3gK4cGz0ME8Cs0X3tt17O1KJpsUpSJ/2CvqVu7pwhHUm9/tQk7aelw8/usVR+WUBvt6kSNnFy6k8doVKi6VtJy+a9GtK6qUVC4Ii3CkgZJkTz7hIsbBLdl9pU9K5hfT7NoQrCFdFWpp+T5XsFBrzRfFJ+8dhsBtXnL3Zkr', 'Records': [{'ApproximateArrivalTimestamp': 1524808823.01, 'Data': '{\"firstname\": \"firstName\", \"lastname\": \"lastName\", \"age\": 55, \"gender\": \"male\"}', 'PartitionKey': 'partitionkey', 'SequenceNumber': '49583926831018273436038048237193836452573315325621174274'}, {'ApproximateArrivalTimestamp': 1524808824.163, 'Data': '{\"firstname\": \"firstName\", \"lastname\": \"lastName\", \"age\": 55, \"gender\": \"male\"}', 'PartitionKey': 'partitionkey', 'SequenceNumber': '49583926831018273436038048237195045378392930023515357186'}]}\n",
      "{'MillisBehindLatest': 13000, 'NextShardIterator': 'AAAAAAAAAAF//LpNgk+rCd6L68mBdxefgTdAq0p7tZP/JoWo9oRds4nt0O2loDDk4Qt6oI23mje94mKcWAj5ftMUalU1dq9ixouhsYuO0yw9Jeo7NRJKv6r6a5pxeLyEytL9fF8CQ70fE+WoVmRpK8azFWt9FjNWqV7hlj8CrmBsxHmuRPBFdpKBq5GzAr5OUmT5XNAMktJkNP/HswK0eCWkCNDdbvym', 'Records': [{'ApproximateArrivalTimestamp': 1524808825.343, 'Data': '{\"firstname\": \"firstName\", \"lastname\": \"lastName\", \"age\": 55, \"gender\": \"male\"}', 'PartitionKey': 'partitionkey', 'SequenceNumber': '49583926831018273436038048237196254304212544790129016834'}, {'ApproximateArrivalTimestamp': 1524808826.47, 'Data': '{\"firstname\": \"firstName\", \"lastname\": \"lastName\", \"age\": 55, \"gender\": \"male\"}', 'PartitionKey': 'partitionkey', 'SequenceNumber': '49583926831018273436038048237197463230032159556742676482'}]}\n",
      "{'MillisBehindLatest': 16000, 'NextShardIterator': 'AAAAAAAAAAERm6XodM70Q3IVRWXVxlQbNiojp/RvuvWsm0MdsXt2sbOu1TmIGMZAxURUiYZH8AfM7VH63xsQouZ0wtXxfJrmJRL1QyFMweGGJGi7Wby3Aeg+znS3oRPWEq98IOMWRPGldlC3tT5Ilp1p07QyDRKvJpgShv/9M8gxbwANvpDYT48GaaR3lLK2s5AdL7eBY9pKm9KJGgc2tcM74dkO47aB', 'Records': [{'ApproximateArrivalTimestamp': 1524808827.548, 'Data': '{\"firstname\": \"firstName\", \"lastname\": \"lastName\", \"age\": 55, \"gender\": \"male\"}', 'PartitionKey': 'partitionkey', 'SequenceNumber': '49583926831018273436038048237198672155851774254636859394'}, {'ApproximateArrivalTimestamp': 1524808828.828, 'Data': '{\"firstname\": \"firstName\", \"lastname\": \"lastName\", \"age\": 55, \"gender\": \"male\"}', 'PartitionKey': 'partitionkey', 'SequenceNumber': '49583926831018273436038048237199881081671388952531042306'}]}\n",
      "{'MillisBehindLatest': 19000, 'NextShardIterator': 'AAAAAAAAAAHQRZk2mrbv0LSmHYYrgxPS4ZHL07GJpfZBXX/uS3YKmsVetA8k9klPzhhgLjkPXLRKBBZVczqaCLqep8dkDpCpJCtigZrw4pMGn9Uf8tlYSu3BvGN04GHDNnHHRrt9GzpuAxvr0CPGQsVrf59zMrZ132Y8acpKiN+3T0GM6CvbF0C+RMTkjX6Qk8MNVknz/FaqgCdlOXF+A0T7bOTiRY3Z', 'Records': [{'ApproximateArrivalTimestamp': 1524808829.963, 'Data': '{\"firstname\": \"firstName\", \"lastname\": \"lastName\", \"age\": 55, \"gender\": \"male\"}', 'PartitionKey': 'partitionkey', 'SequenceNumber': '49583926831018273436038048237201090007491003650425225218'}, {'ApproximateArrivalTimestamp': 1524808831.15, 'Data': '{\"firstname\": \"firstName\", \"lastname\": \"lastName\", \"age\": 55, \"gender\": \"male\"}', 'PartitionKey': 'partitionkey', 'SequenceNumber': '49583926831018273436038048237202298933310618348319408130'}]}\n"
     ]
    },
    {
     "ename": "KeyboardInterrupt",
     "evalue": "",
     "output_type": "error",
     "traceback": [
      "\u001b[1;31m---------------------------------------------------------------------------\u001b[0m",
      "\u001b[1;31mKeyboardInterrupt\u001b[0m                         Traceback (most recent call last)",
      "\u001b[1;32m<ipython-input-1-c1b0ddfaa4da>\u001b[0m in \u001b[0;36m<module>\u001b[1;34m()\u001b[0m\n\u001b[0;32m     12\u001b[0m     \u001b[0mshard_it\u001b[0m \u001b[1;33m=\u001b[0m \u001b[0mout\u001b[0m\u001b[1;33m[\u001b[0m\u001b[1;34m\"NextShardIterator\"\u001b[0m\u001b[1;33m]\u001b[0m\u001b[1;33m\u001b[0m\u001b[0m\n\u001b[0;32m     13\u001b[0m     \u001b[0mprint\u001b[0m\u001b[1;33m(\u001b[0m\u001b[0mout\u001b[0m\u001b[1;33m)\u001b[0m\u001b[1;33m\u001b[0m\u001b[0m\n\u001b[1;32m---> 14\u001b[1;33m     \u001b[0mtime\u001b[0m\u001b[1;33m.\u001b[0m\u001b[0msleep\u001b[0m\u001b[1;33m(\u001b[0m\u001b[1;36m5\u001b[0m\u001b[1;33m)\u001b[0m\u001b[1;33m\u001b[0m\u001b[0m\n\u001b[0m",
      "\u001b[1;31mKeyboardInterrupt\u001b[0m: "
     ]
    }
   ],
   "source": [
    "from boto import kinesis\n",
    "import time\n",
    "\n",
    "kinesis = kinesis.connect_to_region(\"us-east-1\")\n",
    "shard_id = 'shardId-000000000000' #we only have one shard!\n",
    "shard_it = kinesis.get_shard_iterator(\n",
    "    \"BotoDemo\", shard_id, \"LATEST\"\n",
    ")[\"ShardIterator\"]\n",
    "\n",
    "while 1==1:\n",
    "    out = kinesis.get_records(shard_it, limit=2)\n",
    "    shard_it = out[\"NextShardIterator\"]\n",
    "    print(out)\n",
    "    time.sleep(5)"
   ]
  },
  {
   "cell_type": "code",
   "execution_count": null,
   "metadata": {
    "collapsed": true
   },
   "outputs": [],
   "source": []
  }
 ],
 "metadata": {
  "kernelspec": {
   "display_name": "Python 3",
   "language": "python",
   "name": "python3"
  },
  "language_info": {
   "codemirror_mode": {
    "name": "ipython",
    "version": 3
   },
   "file_extension": ".py",
   "mimetype": "text/x-python",
   "name": "python",
   "nbconvert_exporter": "python",
   "pygments_lexer": "ipython3",
   "version": "3.6.3"
  }
 },
 "nbformat": 4,
 "nbformat_minor": 2
}
