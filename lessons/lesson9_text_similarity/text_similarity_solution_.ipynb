{
 "cells": [
  {
   "cell_type": "markdown",
   "metadata": {},
   "source": [
    "# Text Similarity\n",
    "\n",
    "\n",
    " A common reason for such a charade is that we want to determine **similarity between pairs of documents**, or the **similarity between a specific document** and a set of other documents (such as a user query vs. indexed documents).\n",
    " \n",
    "SOURCES: http://localhost:8888/notebooks/Similarity_Queries.ipynb\n",
    "\n",
    "https://radimrehurek.com/topic_modeling_tutorial/3%20-%20Indexing%20and%20Retrieval.html"
   ]
  },
  {
   "cell_type": "code",
   "execution_count": 5,
   "metadata": {},
   "outputs": [
    {
     "data": {
      "text/plain": [
       "'../../raw_data/gensim/airline.mm'"
      ]
     },
     "execution_count": 5,
     "metadata": {},
     "output_type": "execute_result"
    }
   ],
   "source": [
    "from IPython.core.display import display, HTML\n",
    "import configparser\n",
    "\n",
    "config = configparser.ConfigParser()\n",
    "config.read('../../config.ini')\n",
    "\n",
    "GENSIM_DICTIONARY_PATH = config['SIMILARITY']['GENSIM_DICTIONARY_PATH']\n",
    "GENSIM_CORPUS_PATH = config['SIMILARITY']['GENSIM_CORPUS_PATH']\n",
    "SIMILARITY_INDEX = config['SIMILARITY']['SIMILARITY_INDEX']\n",
    "AIRLINE_CLEANED_TEXT_PATH = config['SIMILARITY']['AIRLINE_CLEANED_TEXT_PATH']"
   ]
  },
  {
   "cell_type": "markdown",
   "metadata": {},
   "source": [
    "### Review Cleaned Text"
   ]
  },
  {
   "cell_type": "code",
   "execution_count": 60,
   "metadata": {},
   "outputs": [
    {
     "data": {
      "text/html": [
       "<div>\n",
       "<style>\n",
       "    .dataframe thead tr:only-child th {\n",
       "        text-align: right;\n",
       "    }\n",
       "\n",
       "    .dataframe thead th {\n",
       "        text-align: left;\n",
       "    }\n",
       "\n",
       "    .dataframe tbody tr th {\n",
       "        vertical-align: top;\n",
       "    }\n",
       "</style>\n",
       "<table border=\"1\" class=\"dataframe\">\n",
       "  <thead>\n",
       "    <tr style=\"text-align: right;\">\n",
       "      <th></th>\n",
       "      <th>0</th>\n",
       "    </tr>\n",
       "  </thead>\n",
       "  <tbody>\n",
       "    <tr>\n",
       "      <th>0</th>\n",
       "      <td>no show policy fund apply future travel southwest change fee future_travel</td>\n",
       "    </tr>\n",
       "    <tr>\n",
       "      <th>1</th>\n",
       "      <td>for example company transfarencysm campaign emphasize southwest approach treat customer fairly honestly respectfully low fare unexpected bag fee change fee hidden fee low_fare bag_fee</td>\n",
       "    </tr>\n",
       "    <tr>\n",
       "      <th>2</th>\n",
       "      <td>for example company transfarencysm campaign emphasize southwest approach treat customer fairly honestly respectfully low fare unexpected bag fee change fee hidden fee low_fare bag_fee</td>\n",
       "    </tr>\n",
       "    <tr>\n",
       "      <th>3</th>\n",
       "      <td>the campaign highlight importance southwest customer service show southwest understand plan change charge change fee customer_service</td>\n",
       "    </tr>\n",
       "    <tr>\n",
       "      <th>4</th>\n",
       "      <td>while customer pay difference airfare customer charge change fee difference airfare</td>\n",
       "    </tr>\n",
       "    <tr>\n",
       "      <th>5</th>\n",
       "      <td>the passenger protection rules require airline pay compensation passenger deny boarding involuntarily oversold flight ii refund check bag fee permanently lose luggage iii prominently disclose pote...</td>\n",
       "    </tr>\n",
       "    <tr>\n",
       "      <th>6</th>\n",
       "      <td>the passenger protection rules require airline pay compensation passenger deny boarding involuntarily oversold flight ii refund check bag fee permanently lose luggage iii prominently disclose pote...</td>\n",
       "    </tr>\n",
       "    <tr>\n",
       "      <th>7</th>\n",
       "      <td>the passenger protection rules require advertise airfare include governmentmandat tax fee ii passenger allow hold reservation hour make payment iii passenger allow cancel pay reservation penalty h...</td>\n",
       "    </tr>\n",
       "    <tr>\n",
       "      <th>8</th>\n",
       "      <td>in december congress enact statute index immigration custom fee inflation begin</td>\n",
       "    </tr>\n",
       "    <tr>\n",
       "      <th>9</th>\n",
       "      <td>finally department agriculture animal plant health inspection service publish final regulation october modify international agriculture inspection fee the_U.S._Department Plant_Health_Inspection_S...</td>\n",
       "    </tr>\n",
       "    <tr>\n",
       "      <th>10</th>\n",
       "      <td>under rule effective december passenger agriculture inspection fee commercial aircraft fee</td>\n",
       "    </tr>\n",
       "    <tr>\n",
       "      <th>11</th>\n",
       "      <td>under rule effective december passenger agriculture inspection fee commercial aircraft fee</td>\n",
       "    </tr>\n",
       "    <tr>\n",
       "      <th>12</th>\n",
       "      <td>when occur airport cost allocate few number total flight result increase landing fee cost company landing_fee</td>\n",
       "    </tr>\n",
       "    <tr>\n",
       "      <th>13</th>\n",
       "      <td>ground facilities services southwest lease pay usage fee terminal passenger service facility airport serve leasehold improvement</td>\n",
       "    </tr>\n",
       "    <tr>\n",
       "      <th>14</th>\n",
       "      <td>the complaint allege thing airtran attempt monopolize air travel violation section sherman act conspire delta impose bag fee item check luggage violation section sherman act the_Sherman_Act Sectio...</td>\n",
       "    </tr>\n",
       "    <tr>\n",
       "      <th>15</th>\n",
       "      <td>in addition treble damage baggage fee pay airtran delta consolidated amended complaint seek injunctive relief broad range allege anticompetitive activity fee Consolidated_Amended_Complaint</td>\n",
       "    </tr>\n",
       "    <tr>\n",
       "      <th>16</th>\n",
       "      <td>in addition treble damage baggage fee pay airtran delta consolidated amended complaint seek injunctive relief broad range allege anticompetitive activity fee Consolidated_Amended_Complaint</td>\n",
       "    </tr>\n",
       "    <tr>\n",
       "      <th>17</th>\n",
       "      <td>on august court dismiss claim airtran delta violate section sherman act court let stand claim conspiracy respect imposition bag fee capacity pricing decision Section_2_of_the_Sherman_Act bag_fee</td>\n",
       "    </tr>\n",
       "    <tr>\n",
       "      <th>18</th>\n",
       "      <td>on july court grant motion certify class person pay bag fee airtran delta december november date airtran stop charge bag fee bag_fee bag_fee</td>\n",
       "    </tr>\n",
       "    <tr>\n",
       "      <th>19</th>\n",
       "      <td>-PRON- seek treble damage injunctive relief fee expense</td>\n",
       "    </tr>\n",
       "    <tr>\n",
       "      <th>20</th>\n",
       "      <td>the plaintiff remain complaint generally seek damage include punitive damage certain case prejudgment interest disgorgement benefit accrue defendant result allegation injunctive relief fee cost</td>\n",
       "    </tr>\n",
       "    <tr>\n",
       "      <th>21</th>\n",
       "      <td>landing fee rental depreciation amortization acquisition integration 13.9__Acquisition landing_fee depreciation_and_amortization acquisition_and_integration</td>\n",
       "    </tr>\n",
       "    <tr>\n",
       "      <th>22</th>\n",
       "      <td>landing fee rental expense increase million percent compare landing_fee rental_expense increase_by_million_or_percent</td>\n",
       "    </tr>\n",
       "    <tr>\n",
       "      <th>23</th>\n",
       "      <td>on asm basis landing fee rental expense decrease percent compare dollar increase offset percent increase capacity asm_basis landing_fee rental_expense decrease_percent compare_with_as_the_dollar i...</td>\n",
       "    </tr>\n",
       "    <tr>\n",
       "      <th>24</th>\n",
       "      <td>the company currently expect landing fee rental expense asm quarter comparable quarter company_currently_expect landing_fee rental_expense</td>\n",
       "    </tr>\n",
       "    <tr>\n",
       "      <th>25</th>\n",
       "      <td>aircraft rental landing fee rental depreciation amortization acquisition integration aircraft_rental landing_fee depreciation_and_amortization acquisition_and_integration</td>\n",
       "    </tr>\n",
       "    <tr>\n",
       "      <th>26</th>\n",
       "      <td>landing fee rental expense increase million percent compare landing_fee rental_expense increase_by_million_or_percent</td>\n",
       "    </tr>\n",
       "    <tr>\n",
       "      <th>27</th>\n",
       "      <td>on asm basis landing fee rental expense decrease percent compare dollar increase offset percent increase capacity asm_basis landing_fee rental_expense decrease_percent compare_with_as_the_dollar i...</td>\n",
       "    </tr>\n",
       "    <tr>\n",
       "      <th>28</th>\n",
       "      <td>on dollar basis increase equally attributable high personnel expense associate travel cost company flight crew credit card fee pay party associate increase passenger revenue dollar_basis expense_a...</td>\n",
       "    </tr>\n",
       "    <tr>\n",
       "      <th>29</th>\n",
       "      <td>aircraft rental landing fee rental depreciation amortization acquisition integration other operating expense total operating expense operating income other expenses income 938__Acquisition aircraf...</td>\n",
       "    </tr>\n",
       "    <tr>\n",
       "      <th>30</th>\n",
       "      <td>amount collect passenger ancillary service fee generally recognize other revenue service provide typically flight date flight_date</td>\n",
       "    </tr>\n",
       "    <tr>\n",
       "      <th>31</th>\n",
       "      <td>for aircraft operating lease terminal operation lease expense record straight line basis include aircraft rental landing fee rental respectively consolidated statement income operating_lease strai...</td>\n",
       "    </tr>\n",
       "  </tbody>\n",
       "</table>\n",
       "</div>"
      ],
      "text/plain": [
       "                                                                                                                                                                                                          0\n",
       "0                                                                                                                                no show policy fund apply future travel southwest change fee future_travel\n",
       "1                   for example company transfarencysm campaign emphasize southwest approach treat customer fairly honestly respectfully low fare unexpected bag fee change fee hidden fee low_fare bag_fee\n",
       "2                   for example company transfarencysm campaign emphasize southwest approach treat customer fairly honestly respectfully low fare unexpected bag fee change fee hidden fee low_fare bag_fee\n",
       "3                                                                     the campaign highlight importance southwest customer service show southwest understand plan change charge change fee customer_service\n",
       "4                                                                                                                       while customer pay difference airfare customer charge change fee difference airfare\n",
       "5   the passenger protection rules require airline pay compensation passenger deny boarding involuntarily oversold flight ii refund check bag fee permanently lose luggage iii prominently disclose pote...\n",
       "6   the passenger protection rules require airline pay compensation passenger deny boarding involuntarily oversold flight ii refund check bag fee permanently lose luggage iii prominently disclose pote...\n",
       "7   the passenger protection rules require advertise airfare include governmentmandat tax fee ii passenger allow hold reservation hour make payment iii passenger allow cancel pay reservation penalty h...\n",
       "8                                                                                                                           in december congress enact statute index immigration custom fee inflation begin\n",
       "9   finally department agriculture animal plant health inspection service publish final regulation october modify international agriculture inspection fee the_U.S._Department Plant_Health_Inspection_S...\n",
       "10                                                                                                               under rule effective december passenger agriculture inspection fee commercial aircraft fee\n",
       "11                                                                                                               under rule effective december passenger agriculture inspection fee commercial aircraft fee\n",
       "12                                                                                            when occur airport cost allocate few number total flight result increase landing fee cost company landing_fee\n",
       "13                                                                         ground facilities services southwest lease pay usage fee terminal passenger service facility airport serve leasehold improvement\n",
       "14  the complaint allege thing airtran attempt monopolize air travel violation section sherman act conspire delta impose bag fee item check luggage violation section sherman act the_Sherman_Act Sectio...\n",
       "15             in addition treble damage baggage fee pay airtran delta consolidated amended complaint seek injunctive relief broad range allege anticompetitive activity fee Consolidated_Amended_Complaint\n",
       "16             in addition treble damage baggage fee pay airtran delta consolidated amended complaint seek injunctive relief broad range allege anticompetitive activity fee Consolidated_Amended_Complaint\n",
       "17       on august court dismiss claim airtran delta violate section sherman act court let stand claim conspiracy respect imposition bag fee capacity pricing decision Section_2_of_the_Sherman_Act bag_fee\n",
       "18                                                             on july court grant motion certify class person pay bag fee airtran delta december november date airtran stop charge bag fee bag_fee bag_fee\n",
       "19                                                                                                                                                  -PRON- seek treble damage injunctive relief fee expense\n",
       "20        the plaintiff remain complaint generally seek damage include punitive damage certain case prejudgment interest disgorgement benefit accrue defendant result allegation injunctive relief fee cost\n",
       "21                                             landing fee rental depreciation amortization acquisition integration 13.9__Acquisition landing_fee depreciation_and_amortization acquisition_and_integration\n",
       "22                                                                                    landing fee rental expense increase million percent compare landing_fee rental_expense increase_by_million_or_percent\n",
       "23  on asm basis landing fee rental expense decrease percent compare dollar increase offset percent increase capacity asm_basis landing_fee rental_expense decrease_percent compare_with_as_the_dollar i...\n",
       "24                                                               the company currently expect landing fee rental expense asm quarter comparable quarter company_currently_expect landing_fee rental_expense\n",
       "25                               aircraft rental landing fee rental depreciation amortization acquisition integration aircraft_rental landing_fee depreciation_and_amortization acquisition_and_integration\n",
       "26                                                                                    landing fee rental expense increase million percent compare landing_fee rental_expense increase_by_million_or_percent\n",
       "27  on asm basis landing fee rental expense decrease percent compare dollar increase offset percent increase capacity asm_basis landing_fee rental_expense decrease_percent compare_with_as_the_dollar i...\n",
       "28  on dollar basis increase equally attributable high personnel expense associate travel cost company flight crew credit card fee pay party associate increase passenger revenue dollar_basis expense_a...\n",
       "29  aircraft rental landing fee rental depreciation amortization acquisition integration other operating expense total operating expense operating income other expenses income 938__Acquisition aircraf...\n",
       "30                                                                       amount collect passenger ancillary service fee generally recognize other revenue service provide typically flight date flight_date\n",
       "31  for aircraft operating lease terminal operation lease expense record straight line basis include aircraft rental landing fee rental respectively consolidated statement income operating_lease strai..."
      ]
     },
     "execution_count": 60,
     "metadata": {},
     "output_type": "execute_result"
    }
   ],
   "source": [
    "with open(AIRLINE_CLEANED_TEXT_PATH, 'rb') as f:\n",
    "    cleaned_text = [line.decode('utf-8').strip() for line in f.readlines()]\n",
    "    \n",
    "import pandas as pd\n",
    "pd.set_option('display.max_colwidth',200)\n",
    "pd.DataFrame(cleaned_text)"
   ]
  },
  {
   "cell_type": "markdown",
   "metadata": {},
   "source": [
    "### Index Documents"
   ]
  },
  {
   "cell_type": "code",
   "execution_count": 6,
   "metadata": {},
   "outputs": [
    {
     "ename": "ModuleNotFoundError",
     "evalue": "No module named 'gensim'",
     "output_type": "error",
     "traceback": [
      "\u001b[1;31m---------------------------------------------------------------------------\u001b[0m",
      "\u001b[1;31mModuleNotFoundError\u001b[0m                       Traceback (most recent call last)",
      "\u001b[1;32m<ipython-input-6-68cfc0f0da74>\u001b[0m in \u001b[0;36m<module>\u001b[1;34m()\u001b[0m\n\u001b[1;32m----> 1\u001b[1;33m \u001b[1;32mfrom\u001b[0m \u001b[0mgensim\u001b[0m \u001b[1;32mimport\u001b[0m \u001b[0mcorpora\u001b[0m\u001b[1;33m,\u001b[0m \u001b[0mmodels\u001b[0m\u001b[1;33m,\u001b[0m \u001b[0msimilarities\u001b[0m\u001b[1;33m\u001b[0m\u001b[0m\n\u001b[0m",
      "\u001b[1;31mModuleNotFoundError\u001b[0m: No module named 'gensim'"
     ]
    }
   ],
   "source": [
    "from gensim import corpora, models, similarities"
   ]
  },
  {
   "cell_type": "code",
   "execution_count": 13,
   "metadata": {
    "collapsed": true
   },
   "outputs": [],
   "source": [
    "dictionary = corpora.Dictionary.load(GENSIM_DICTIONARY_PATH)\n",
    "corpus = corpora.MmCorpus(GENSIM_CORPUS_PATH)"
   ]
  },
  {
   "cell_type": "code",
   "execution_count": 15,
   "metadata": {},
   "outputs": [
    {
     "name": "stdout",
     "output_type": "stream",
     "text": [
      "Dictionary(134 unique tokens: ['show', 'apply', 'travel', 'southwest', 'change']...)\n",
      "MmCorpus(32 documents, 134 features, 419 non-zero entries)\n"
     ]
    }
   ],
   "source": [
    "print(dictionary)\n",
    "print(corpus)"
   ]
  },
  {
   "cell_type": "code",
   "execution_count": 26,
   "metadata": {
    "collapsed": true
   },
   "outputs": [],
   "source": [
    "lsi = models.LsiModel(corpus, id2word=dictionary, num_topics=2)\n",
    "lsi_corpus = lsi[corpus]"
   ]
  },
  {
   "cell_type": "code",
   "execution_count": null,
   "metadata": {
    "collapsed": true
   },
   "outputs": [],
   "source": [
    "# index all the documents"
   ]
  },
  {
   "cell_type": "code",
   "execution_count": 32,
   "metadata": {
    "collapsed": true
   },
   "outputs": [],
   "source": [
    "from gensim.similarities import MatrixSimilarity, SparseMatrixSimilarity, Similarity\n",
    "\n",
    "# transform corpus to LSI space and index it\n",
    "index = similarities.MatrixSimilarity(lsi[corpus]) \n",
    "\n",
    "\n",
    "index.save(SIMILARITY_INDEX)\n",
    "#index = similarities.MatrixSimilarity.load(SIMILARITY_INDEX)"
   ]
  },
  {
   "cell_type": "code",
   "execution_count": null,
   "metadata": {
    "collapsed": true
   },
   "outputs": [],
   "source": [
    "# add new documents to the index\n",
    "# useful to continually add new documents to search against\n",
    "index.add_documents(lsi_corpus)"
   ]
  },
  {
   "cell_type": "code",
   "execution_count": 33,
   "metadata": {
    "collapsed": true
   },
   "outputs": [],
   "source": [
    "# initialize the index\n",
    "#%time index_dense = MatrixSimilarity(lsi_corpus, num_features=lsi_corpus.num_terms)\n",
    "#index = similarities.Similarity(SIMILARITY_INDEX,lsi_corpus, num_features=lsi_corpus.num_terms) # transform corpus to LSI space and index it"
   ]
  },
  {
   "cell_type": "markdown",
   "metadata": {},
   "source": [
    "### Similarity Query"
   ]
  },
  {
   "cell_type": "code",
   "execution_count": 38,
   "metadata": {},
   "outputs": [
    {
     "name": "stdout",
     "output_type": "stream",
     "text": [
      "[(0, -0.10312934054394524), (1, 0.34198630506276362)]\n"
     ]
    }
   ],
   "source": [
    "doc = \"Airline fee for landing_fee\"\n",
    "vec_bow = dictionary.doc2bow(doc.lower().split())\n",
    "vec_lsi = lsi[vec_bow] # convert the query to LSI space\n",
    "print(vec_lsi)"
   ]
  },
  {
   "cell_type": "code",
   "execution_count": 63,
   "metadata": {},
   "outputs": [
    {
     "data": {
      "text/plain": [
       "array([ 0.59441066,  0.83202821,  0.83202821,  0.31721264,  0.37263808,\n",
       "        0.22230884,  0.22230884,  0.33240592,  0.78784192,  0.21768281,\n",
       "        0.5102374 ,  0.5102374 ,  0.99999094,  0.35403904,  0.45829552,\n",
       "        0.62159282,  0.62159282,  0.95994979,  0.61456001,  0.98673123,\n",
       "        0.8169539 ,  0.9634344 ,  0.97074395,  0.97286832,  0.9840433 ,\n",
       "        0.9642309 ,  0.97074395,  0.97286832,  0.90252972,  0.96595037,\n",
       "        0.29459408,  0.97178912], dtype=float32)"
      ]
     },
     "execution_count": 63,
     "metadata": {},
     "output_type": "execute_result"
    }
   ],
   "source": [
    "sims = index[vec_lsi] # perform a similarity query against the corpus\n",
    "sims"
   ]
  },
  {
   "cell_type": "code",
   "execution_count": 67,
   "metadata": {},
   "outputs": [
    {
     "name": "stdout",
     "output_type": "stream",
     "text": [
      "[(12, 0.99999094009399414), (19, 0.98673123121261597), (24, 0.98404330015182495)]\n"
     ]
    }
   ],
   "source": [
    "# set the number of matches to return (sorted by most relevant)\n",
    "index.num_best = 3\n",
    "print(index[vec_lsi])"
   ]
  },
  {
   "cell_type": "markdown",
   "metadata": {},
   "source": [
    "### The Norm"
   ]
  },
  {
   "cell_type": "code",
   "execution_count": null,
   "metadata": {
    "collapsed": true
   },
   "outputs": [],
   "source": []
  },
  {
   "cell_type": "markdown",
   "metadata": {},
   "source": [
    "### Cosine Similarity"
   ]
  },
  {
   "cell_type": "code",
   "execution_count": 1,
   "metadata": {},
   "outputs": [
    {
     "data": {
      "text/html": [
       "<iframe src=http://blog.christianperone.com/2013/09/machine-learning-cosine-similarity-for-vector-space-models-part-iii/ width=1100 height=300></iframe>"
      ],
      "text/plain": [
       "<IPython.core.display.HTML object>"
      ]
     },
     "execution_count": 1,
     "metadata": {},
     "output_type": "execute_result"
    }
   ],
   "source": [
    "sqlalchemy_url = 'http://blog.christianperone.com/2013/09/machine-learning-cosine-similarity-for-vector-space-models-part-iii/'\n",
    "iframe = '<iframe src={} width=1100 height=300></iframe>'.format(sqlalchemy_url)\n",
    "HTML(iframe)"
   ]
  },
  {
   "cell_type": "markdown",
   "metadata": {
    "collapsed": true
   },
   "source": [
    "The similarity in vector space models is determined by using associative coefficients based on the inner product of the document vector and query vector, where word overlap indicates similarity. The inner product is usually normalized. The most popular similarity measure is the cosine coefficient, which measures the angle between the a document vector and the query vector.\n",
    "\n",
    "SOURCE: http://cogsys.imm.dtu.dk/thor/projects/multimedia/textmining/node5.html\n",
    "\n",
    "Think about it this way. In the numerator of cosine similarity, only terms that exist in both documents contribute to the dot product. If both of the term have high tfidf values, then they add a lot to the numerator. If a term does not exist in either documents, then it adds nothing to the numerator. On the other hand, the deonominator normalizes the documents, so that a document with many terms is punished with a larger denominator. "
   ]
  },
  {
   "cell_type": "code",
   "execution_count": null,
   "metadata": {
    "collapsed": true
   },
   "outputs": [],
   "source": []
  }
 ],
 "metadata": {
  "kernelspec": {
   "display_name": "Python 3",
   "language": "python",
   "name": "python3"
  },
  "language_info": {
   "codemirror_mode": {
    "name": "ipython",
    "version": 3
   },
   "file_extension": ".py",
   "mimetype": "text/x-python",
   "name": "python",
   "nbconvert_exporter": "python",
   "pygments_lexer": "ipython3",
   "version": "3.6.2"
  }
 },
 "nbformat": 4,
 "nbformat_minor": 2
}
